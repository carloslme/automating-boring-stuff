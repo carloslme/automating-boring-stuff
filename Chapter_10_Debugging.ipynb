{
  "nbformat": 4,
  "nbformat_minor": 0,
  "metadata": {
    "colab": {
      "name": "Chapter_10_Debugging.ipynb",
      "provenance": [],
      "authorship_tag": "ABX9TyPnkyXWaxamhfXgRQBjhS7n",
      "include_colab_link": true
    },
    "kernelspec": {
      "name": "python3",
      "display_name": "Python 3"
    }
  },
  "cells": [
    {
      "cell_type": "markdown",
      "metadata": {
        "id": "view-in-github",
        "colab_type": "text"
      },
      "source": [
        "<a href=\"https://colab.research.google.com/github/carloslme/automating-boring-stuff/blob/main/Chapter_10_Debugging.ipynb\" target=\"_parent\"><img src=\"https://colab.research.google.com/assets/colab-badge.svg\" alt=\"Open In Colab\"/></a>"
      ]
    },
    {
      "cell_type": "markdown",
      "metadata": {
        "id": "uYUUg7TUrfwK"
      },
      "source": [
        "There are a few tools and techniques to identify what exactly your code is doing and where it’s going wrong. First, you will look at logging and assertions, two features that can help you detect bugs early. In general, the earlier you catch bugs, the easier they will be to fix.\r\n",
        "\r\n",
        "Second, you will look at how to use the debugger. The debugger is a feature of IDLE that executes a program one instruction at a time, giving you a chance to inspect the values in variables while your code runs, and track how the values change over the course of your program. This is much slower than running the deducing what the values might be from the source code."
      ]
    },
    {
      "cell_type": "markdown",
      "metadata": {
        "id": "JuJg1VoqtTXE"
      },
      "source": [
        "# Raising Exceptions\r\n",
        "Python raises an exception whenever it tries to execute invalid code.\r\n",
        "\r\n",
        "Raising an exception is a way of saying, “Stop running the code in this function and move the program execution to the except statement.”\r\n",
        "\r\n",
        "Exceptions are raised with a raise statement. In code, a raise statement consists of the following: \r\n",
        "* The raise keyword \r\n",
        "* A call to the `Exception()` function \r\n",
        "* A string with a helpful error message passed to the `Exception()` function"
      ]
    },
    {
      "cell_type": "code",
      "metadata": {
        "colab": {
          "base_uri": "https://localhost:8080/",
          "height": 167
        },
        "id": "WlJ6WrqbqFqt",
        "outputId": "4fec652b-ab7f-47db-d754-579ef421d7e4"
      },
      "source": [
        "raise Exception('This is the error message')"
      ],
      "execution_count": 1,
      "outputs": [
        {
          "output_type": "error",
          "ename": "Exception",
          "evalue": "ignored",
          "traceback": [
            "\u001b[0;31m---------------------------------------------------------------------------\u001b[0m",
            "\u001b[0;31mException\u001b[0m                                 Traceback (most recent call last)",
            "\u001b[0;32m<ipython-input-1-a5c46413ac92>\u001b[0m in \u001b[0;36m<module>\u001b[0;34m()\u001b[0m\n\u001b[0;32m----> 1\u001b[0;31m \u001b[0;32mraise\u001b[0m \u001b[0mException\u001b[0m\u001b[0;34m(\u001b[0m\u001b[0;34m'This is the error message'\u001b[0m\u001b[0;34m)\u001b[0m\u001b[0;34m\u001b[0m\u001b[0;34m\u001b[0m\u001b[0m\n\u001b[0m",
            "\u001b[0;31mException\u001b[0m: This is the error message"
          ]
        }
      ]
    },
    {
      "cell_type": "markdown",
      "metadata": {
        "id": "KeDKDWQ9uPru"
      },
      "source": [
        "If there are no `try` and `except` statements covering the raise statement that raised the exception, the program simply crashes and displays the exception’s error message.\r\n",
        "\r\n",
        "Often it’s the code that calls the function, not the fuction itself, that knows how to handle an expection. So you will commonly see a raise statement inside a function and the try and except statements in the code calling the function."
      ]
    },
    {
      "cell_type": "code",
      "metadata": {
        "colab": {
          "base_uri": "https://localhost:8080/"
        },
        "id": "zqwk5OtxuJvQ",
        "outputId": "80466a49-d1f6-4785-eb5b-ab45381ca000"
      },
      "source": [
        "def boxPrint(symbol, width, height): \r\n",
        "  if len(symbol) != 1: \r\n",
        "    raise Exception('Symbol must be a single character string.') \r\n",
        "  if width <= 2: \r\n",
        "    raise Exception('Width must be greater than 2.') \r\n",
        "  if height <= 2: \r\n",
        "    raise Exception('Height must be greater than 2.') \r\n",
        "  print(symbol * width) \r\n",
        "  for i in range(height - 2): \r\n",
        "    print(symbol + (' ' * (width - 2)) + symbol) \r\n",
        "    print(symbol * width) \r\n",
        "\r\n",
        "for sym, w, h in (('*', 4, 4), ('O', 20, 5), ('x', 1, 3), ('ZZ', 3, 3)): \r\n",
        "  try: \r\n",
        "    boxPrint(sym, w, h) \r\n",
        "  except Exception as err: \r\n",
        "    print('An exception happened: ' + str(err))"
      ],
      "execution_count": 2,
      "outputs": [
        {
          "output_type": "stream",
          "text": [
            "****\n",
            "*  *\n",
            "****\n",
            "*  *\n",
            "****\n",
            "OOOOOOOOOOOOOOOOOOOO\n",
            "O                  O\n",
            "OOOOOOOOOOOOOOOOOOOO\n",
            "O                  O\n",
            "OOOOOOOOOOOOOOOOOOOO\n",
            "O                  O\n",
            "OOOOOOOOOOOOOOOOOOOO\n",
            "An exception happened: Width must be greater than 2.\n",
            "An exception happened: Symbol must be a single character string.\n"
          ],
          "name": "stdout"
        }
      ]
    },
    {
      "cell_type": "markdown",
      "metadata": {
        "id": "lrzGx_3jxwHm"
      },
      "source": [
        "Using the `try` and `except` statements, you can handle errors more gracefully instead of letting the entire program crash."
      ]
    },
    {
      "cell_type": "code",
      "metadata": {
        "id": "tFjk4ZiSxQaA"
      },
      "source": [
        ""
      ],
      "execution_count": null,
      "outputs": []
    }
  ]
}