{
  "nbformat": 4,
  "nbformat_minor": 0,
  "metadata": {
    "colab": {
      "name": "Chapter_10_Debugging.ipynb",
      "provenance": [],
      "authorship_tag": "ABX9TyPwaoS2CfB4ZArGn8dfWo1F",
      "include_colab_link": true
    },
    "kernelspec": {
      "name": "python3",
      "display_name": "Python 3"
    }
  },
  "cells": [
    {
      "cell_type": "markdown",
      "metadata": {
        "id": "view-in-github",
        "colab_type": "text"
      },
      "source": [
        "<a href=\"https://colab.research.google.com/github/carloslme/automating-boring-stuff/blob/main/Chapter_10_Debugging.ipynb\" target=\"_parent\"><img src=\"https://colab.research.google.com/assets/colab-badge.svg\" alt=\"Open In Colab\"/></a>"
      ]
    },
    {
      "cell_type": "markdown",
      "metadata": {
        "id": "uYUUg7TUrfwK"
      },
      "source": [
        "There are a few tools and techniques to identify what exactly your code is doing and where it’s going wrong. First, you will look at logging and assertions, two features that can help you detect bugs early. In general, the earlier you catch bugs, the easier they will be to fix.\r\n",
        "\r\n",
        "Second, you will look at how to use the debugger. The debugger is a feature of IDLE that executes a program one instruction at a time, giving you a chance to inspect the values in variables while your code runs, and track how the values change over the course of your program. This is much slower than running the deducing what the values might be from the source code."
      ]
    },
    {
      "cell_type": "markdown",
      "metadata": {
        "id": "JuJg1VoqtTXE"
      },
      "source": [
        "# Raising Exceptions\r\n",
        "Python raises an exception whenever it tries to execute invalid code.\r\n",
        "\r\n",
        "Raising an exception is a way of saying, “Stop running the code in this function and move the program execution to the except statement.”\r\n",
        "\r\n",
        "Exceptions are raised with a raise statement. In code, a raise statement consists of the following: \r\n",
        "* The raise keyword \r\n",
        "* A call to the `Exception()` function \r\n",
        "* A string with a helpful error message passed to the `Exception()` function"
      ]
    },
    {
      "cell_type": "code",
      "metadata": {
        "colab": {
          "base_uri": "https://localhost:8080/",
          "height": 167
        },
        "id": "WlJ6WrqbqFqt",
        "outputId": "4fec652b-ab7f-47db-d754-579ef421d7e4"
      },
      "source": [
        "raise Exception('This is the error message')"
      ],
      "execution_count": null,
      "outputs": [
        {
          "output_type": "error",
          "ename": "Exception",
          "evalue": "ignored",
          "traceback": [
            "\u001b[0;31m---------------------------------------------------------------------------\u001b[0m",
            "\u001b[0;31mException\u001b[0m                                 Traceback (most recent call last)",
            "\u001b[0;32m<ipython-input-1-a5c46413ac92>\u001b[0m in \u001b[0;36m<module>\u001b[0;34m()\u001b[0m\n\u001b[0;32m----> 1\u001b[0;31m \u001b[0;32mraise\u001b[0m \u001b[0mException\u001b[0m\u001b[0;34m(\u001b[0m\u001b[0;34m'This is the error message'\u001b[0m\u001b[0;34m)\u001b[0m\u001b[0;34m\u001b[0m\u001b[0;34m\u001b[0m\u001b[0m\n\u001b[0m",
            "\u001b[0;31mException\u001b[0m: This is the error message"
          ]
        }
      ]
    },
    {
      "cell_type": "markdown",
      "metadata": {
        "id": "KeDKDWQ9uPru"
      },
      "source": [
        "If there are no `try` and `except` statements covering the raise statement that raised the exception, the program simply crashes and displays the exception’s error message.\r\n",
        "\r\n",
        "Often it’s the code that calls the function, not the fuction itself, that knows how to handle an expection. So you will commonly see a raise statement inside a function and the try and except statements in the code calling the function."
      ]
    },
    {
      "cell_type": "code",
      "metadata": {
        "colab": {
          "base_uri": "https://localhost:8080/"
        },
        "id": "zqwk5OtxuJvQ",
        "outputId": "80466a49-d1f6-4785-eb5b-ab45381ca000"
      },
      "source": [
        "def boxPrint(symbol, width, height): \r\n",
        "  if len(symbol) != 1: \r\n",
        "    raise Exception('Symbol must be a single character string.') \r\n",
        "  if width <= 2: \r\n",
        "    raise Exception('Width must be greater than 2.') \r\n",
        "  if height <= 2: \r\n",
        "    raise Exception('Height must be greater than 2.') \r\n",
        "  print(symbol * width) \r\n",
        "  for i in range(height - 2): \r\n",
        "    print(symbol + (' ' * (width - 2)) + symbol) \r\n",
        "    print(symbol * width) \r\n",
        "\r\n",
        "for sym, w, h in (('*', 4, 4), ('O', 20, 5), ('x', 1, 3), ('ZZ', 3, 3)): \r\n",
        "  try: \r\n",
        "    boxPrint(sym, w, h) \r\n",
        "  except Exception as err: \r\n",
        "    print('An exception happened: ' + str(err))"
      ],
      "execution_count": null,
      "outputs": [
        {
          "output_type": "stream",
          "text": [
            "****\n",
            "*  *\n",
            "****\n",
            "*  *\n",
            "****\n",
            "OOOOOOOOOOOOOOOOOOOO\n",
            "O                  O\n",
            "OOOOOOOOOOOOOOOOOOOO\n",
            "O                  O\n",
            "OOOOOOOOOOOOOOOOOOOO\n",
            "O                  O\n",
            "OOOOOOOOOOOOOOOOOOOO\n",
            "An exception happened: Width must be greater than 2.\n",
            "An exception happened: Symbol must be a single character string.\n"
          ],
          "name": "stdout"
        }
      ]
    },
    {
      "cell_type": "markdown",
      "metadata": {
        "id": "lrzGx_3jxwHm"
      },
      "source": [
        "Using the `try` and `except` statements, you can handle errors more gracefully instead of letting the entire program crash."
      ]
    },
    {
      "cell_type": "markdown",
      "metadata": {
        "id": "j41tqG7f07GJ"
      },
      "source": [
        "# Getting the Traceback as String\r\n",
        "When Python encounters an error, it produces a treasure trove of error information called the `traceback` . The traceback includes the error message, the line number of the line that caused the error, and the sequence of the function calls that led to the error. This sequence of calls is called the `call stack`.\r\n"
      ]
    },
    {
      "cell_type": "code",
      "metadata": {
        "id": "tFjk4ZiSxQaA",
        "colab": {
          "base_uri": "https://localhost:8080/",
          "height": 454
        },
        "outputId": "51b8275e-9366-423f-b6c6-927c807916e2"
      },
      "source": [
        "def spam(): \r\n",
        "  bacon() \r\n",
        "def bacon(): \r\n",
        "  raise Exception('This is the error message.') \r\n",
        "spam()"
      ],
      "execution_count": null,
      "outputs": [
        {
          "output_type": "error",
          "ename": "Exception",
          "evalue": "ignored",
          "traceback": [
            "\u001b[0;31m---------------------------------------------------------------------------\u001b[0m",
            "\u001b[0;31mException\u001b[0m                                 Traceback (most recent call last)",
            "\u001b[0;32m<ipython-input-1-64b50ec26d5a>\u001b[0m in \u001b[0;36m<module>\u001b[0;34m()\u001b[0m\n\u001b[1;32m      3\u001b[0m \u001b[0;32mdef\u001b[0m \u001b[0mbacon\u001b[0m\u001b[0;34m(\u001b[0m\u001b[0;34m)\u001b[0m\u001b[0;34m:\u001b[0m\u001b[0;34m\u001b[0m\u001b[0;34m\u001b[0m\u001b[0m\n\u001b[1;32m      4\u001b[0m   \u001b[0;32mraise\u001b[0m \u001b[0mException\u001b[0m\u001b[0;34m(\u001b[0m\u001b[0;34m'This is the error message.'\u001b[0m\u001b[0;34m)\u001b[0m\u001b[0;34m\u001b[0m\u001b[0;34m\u001b[0m\u001b[0m\n\u001b[0;32m----> 5\u001b[0;31m \u001b[0mspam\u001b[0m\u001b[0;34m(\u001b[0m\u001b[0;34m)\u001b[0m\u001b[0;34m\u001b[0m\u001b[0;34m\u001b[0m\u001b[0m\n\u001b[0m",
            "\u001b[0;32m<ipython-input-1-64b50ec26d5a>\u001b[0m in \u001b[0;36mspam\u001b[0;34m()\u001b[0m\n\u001b[1;32m      1\u001b[0m \u001b[0;32mdef\u001b[0m \u001b[0mspam\u001b[0m\u001b[0;34m(\u001b[0m\u001b[0;34m)\u001b[0m\u001b[0;34m:\u001b[0m\u001b[0;34m\u001b[0m\u001b[0;34m\u001b[0m\u001b[0m\n\u001b[0;32m----> 2\u001b[0;31m   \u001b[0mbacon\u001b[0m\u001b[0;34m(\u001b[0m\u001b[0;34m)\u001b[0m\u001b[0;34m\u001b[0m\u001b[0;34m\u001b[0m\u001b[0m\n\u001b[0m\u001b[1;32m      3\u001b[0m \u001b[0;32mdef\u001b[0m \u001b[0mbacon\u001b[0m\u001b[0;34m(\u001b[0m\u001b[0;34m)\u001b[0m\u001b[0;34m:\u001b[0m\u001b[0;34m\u001b[0m\u001b[0;34m\u001b[0m\u001b[0m\n\u001b[1;32m      4\u001b[0m   \u001b[0;32mraise\u001b[0m \u001b[0mException\u001b[0m\u001b[0;34m(\u001b[0m\u001b[0;34m'This is the error message.'\u001b[0m\u001b[0;34m)\u001b[0m\u001b[0;34m\u001b[0m\u001b[0;34m\u001b[0m\u001b[0m\n\u001b[1;32m      5\u001b[0m \u001b[0mspam\u001b[0m\u001b[0;34m(\u001b[0m\u001b[0;34m)\u001b[0m\u001b[0;34m\u001b[0m\u001b[0;34m\u001b[0m\u001b[0m\n",
            "\u001b[0;32m<ipython-input-1-64b50ec26d5a>\u001b[0m in \u001b[0;36mbacon\u001b[0;34m()\u001b[0m\n\u001b[1;32m      2\u001b[0m   \u001b[0mbacon\u001b[0m\u001b[0;34m(\u001b[0m\u001b[0;34m)\u001b[0m\u001b[0;34m\u001b[0m\u001b[0;34m\u001b[0m\u001b[0m\n\u001b[1;32m      3\u001b[0m \u001b[0;32mdef\u001b[0m \u001b[0mbacon\u001b[0m\u001b[0;34m(\u001b[0m\u001b[0;34m)\u001b[0m\u001b[0;34m:\u001b[0m\u001b[0;34m\u001b[0m\u001b[0;34m\u001b[0m\u001b[0m\n\u001b[0;32m----> 4\u001b[0;31m   \u001b[0;32mraise\u001b[0m \u001b[0mException\u001b[0m\u001b[0;34m(\u001b[0m\u001b[0;34m'This is the error message.'\u001b[0m\u001b[0;34m)\u001b[0m\u001b[0;34m\u001b[0m\u001b[0;34m\u001b[0m\u001b[0m\n\u001b[0m\u001b[1;32m      5\u001b[0m \u001b[0mspam\u001b[0m\u001b[0;34m(\u001b[0m\u001b[0;34m)\u001b[0m\u001b[0;34m\u001b[0m\u001b[0;34m\u001b[0m\u001b[0m\n",
            "\u001b[0;31mException\u001b[0m: This is the error message."
          ]
        }
      ]
    },
    {
      "cell_type": "markdown",
      "metadata": {
        "id": "CZNuLWZg2zUk"
      },
      "source": [
        "The traceback is displayed by Python whenever a raised exception goes unhandled. But you can also obtain it as a string by calling `traceback.format_exc()`. This function is useful if you want the information from an exception’s traceback but also want an except statement to gracefully handle the exception. You will need to import Python’s traceback module before calling this function."
      ]
    },
    {
      "cell_type": "code",
      "metadata": {
        "colab": {
          "base_uri": "https://localhost:8080/"
        },
        "id": "hlrjQR2N2lYA",
        "outputId": "6334784d-74bc-41b7-d6bf-1239b27c52fb"
      },
      "source": [
        "import traceback\r\n",
        "try: \r\n",
        "  raise Exception('This is the error message.')\r\n",
        "except:\r\n",
        "  errorFile = open('errorInfo.txt', 'w')\r\n",
        "  errorFile.write(traceback.format_exc())\r\n",
        "  errorFile.close()\r\n",
        "  print('The traceback info was written to errorInfo.txt')"
      ],
      "execution_count": null,
      "outputs": [
        {
          "output_type": "stream",
          "text": [
            "The traceback info was written to errorInfo.txt\n"
          ],
          "name": "stdout"
        }
      ]
    },
    {
      "cell_type": "code",
      "metadata": {
        "colab": {
          "base_uri": "https://localhost:8080/",
          "height": 53
        },
        "id": "e_TNBcOn3dzY",
        "outputId": "3b69da6c-7cd4-47d3-beac-4994afceb515"
      },
      "source": [
        "errorFile = open('/content/errorInfo.txt')\r\n",
        "errorFile.read()"
      ],
      "execution_count": null,
      "outputs": [
        {
          "output_type": "execute_result",
          "data": {
            "application/vnd.google.colaboratory.intrinsic+json": {
              "type": "string"
            },
            "text/plain": [
              "'Traceback (most recent call last):\\n  File \"<ipython-input-3-612ad60e6918>\", line 3, in <module>\\n    raise Exception(\\'This is the error message.\\')\\nException: This is the error message.\\n'"
            ]
          },
          "metadata": {
            "tags": []
          },
          "execution_count": 5
        }
      ]
    },
    {
      "cell_type": "markdown",
      "metadata": {
        "id": "KNmLlWjS4cpq"
      },
      "source": [
        "# Assertions\r\n",
        "An assertion is a sanity check to make sure your code isn’t doing something obviously wrong. These sanity checks are performed by `assert` statements. If the sanity check fails, then an `AssertionError` exception is raised. In code, an assert statement consists of the following: \r\n",
        "* The `assert` keyword \r\n",
        "* A condition (that is, an expression that evaluates to `True` or `False`) \r\n",
        "* A comma \r\n",
        "* A string to display when the condition is `False`"
      ]
    },
    {
      "cell_type": "code",
      "metadata": {
        "id": "yVeYaYBq3oAn"
      },
      "source": [
        "door = 'open'\r\n",
        "assert door == 'open', 'The door need to be \"open\".'"
      ],
      "execution_count": null,
      "outputs": []
    },
    {
      "cell_type": "code",
      "metadata": {
        "colab": {
          "base_uri": "https://localhost:8080/",
          "height": 185
        },
        "id": "C3ERR7NH5tRO",
        "outputId": "a7dcfffa-eb4c-4f03-9c86-cca002bf464b"
      },
      "source": [
        "door = 'close'\r\n",
        "assert door == 'open', 'The door need to be \"open\".'"
      ],
      "execution_count": null,
      "outputs": [
        {
          "output_type": "error",
          "ename": "AssertionError",
          "evalue": "ignored",
          "traceback": [
            "\u001b[0;31m---------------------------------------------------------------------------\u001b[0m",
            "\u001b[0;31mAssertionError\u001b[0m                            Traceback (most recent call last)",
            "\u001b[0;32m<ipython-input-7-dccb82f0386a>\u001b[0m in \u001b[0;36m<module>\u001b[0;34m()\u001b[0m\n\u001b[1;32m      1\u001b[0m \u001b[0mdoor\u001b[0m \u001b[0;34m=\u001b[0m \u001b[0;34m'close'\u001b[0m\u001b[0;34m\u001b[0m\u001b[0;34m\u001b[0m\u001b[0m\n\u001b[0;32m----> 2\u001b[0;31m \u001b[0;32massert\u001b[0m \u001b[0mdoor\u001b[0m \u001b[0;34m==\u001b[0m \u001b[0;34m'open'\u001b[0m\u001b[0;34m,\u001b[0m \u001b[0;34m'The door need to be \"open\".'\u001b[0m\u001b[0;34m\u001b[0m\u001b[0;34m\u001b[0m\u001b[0m\n\u001b[0m",
            "\u001b[0;31mAssertionError\u001b[0m: The door need to be \"open\"."
          ]
        }
      ]
    },
    {
      "cell_type": "markdown",
      "metadata": {
        "id": "HJJEOOU36AGI"
      },
      "source": [
        "In plain English, an assert statement says, “I assert that this condition holds true, and if not, there is a bug somewhere in the program.” Unlike exceptions, your code should not handle `assert` statements with `try` and `except` ; if an assert fails, your program should crash.\r\n",
        "\r\n",
        "**Assertions are for programmer errors, not user errors.** For errors that can be recovered from (such as a file not being found or the user entering invalid data), raise an exception instead of detecting it with an assert statement."
      ]
    },
    {
      "cell_type": "markdown",
      "metadata": {
        "id": "pHqR-ICJ6jR8"
      },
      "source": [
        "# Disabling Assertions\r\n",
        "Assertions can be disabled by passing the -O option when running Python. This is good for when you have finished writing and testing your program and don’t want it to be slowed down by performing sanity checks (although most of the time `assert` statements do not cause a noticeable speed difference). Assertions are for development, not the final product."
      ]
    },
    {
      "cell_type": "markdown",
      "metadata": {
        "id": "4Mh1Zj2A8laC"
      },
      "source": [
        "# Logging - using the logging module\r\n",
        "Logging is a great way to understand what’s happening in your program and in what order its happening. Python’s logging module makes it easy to create a record of custom messages that you write. These log messages will describe when the program execution has reached the `logging` function call and list any variables you have specified at that point in time. On the other hand, a missing log message indicates a part of the code was skipped and never executed."
      ]
    },
    {
      "cell_type": "code",
      "metadata": {
        "colab": {
          "base_uri": "https://localhost:8080/"
        },
        "id": "2uJ8FRrn51V5",
        "outputId": "6112c45c-d0f6-4b56-8cb6-ce49155bd57f"
      },
      "source": [
        "# Enabling the logging\r\n",
        "import logging \r\n",
        "logging.basicConfig(level=logging.DEBUG, format=' %(asctime)s - %(levelname)s - %(message)s')\r\n",
        "logging.debug('Start of program')"
      ],
      "execution_count": null,
      "outputs": [
        {
          "output_type": "stream",
          "text": [
            " 2021-02-13 05:59:54,084 - DEBUG - Start of program\n"
          ],
          "name": "stderr"
        }
      ]
    },
    {
      "cell_type": "markdown",
      "metadata": {
        "id": "Bam_5KnG9R4q"
      },
      "source": [
        "When Python logs an event, it creates a `LogRecord` object that holds information about that event. The `logging` module’s `basicConfig()` function lets you specify what details about the `LogRecord` object you want to see and how you want those details displayed."
      ]
    },
    {
      "cell_type": "code",
      "metadata": {
        "colab": {
          "base_uri": "https://localhost:8080/"
        },
        "id": "-QN9nX7S76_g",
        "outputId": "93ee658d-4fa4-4c16-dd2f-5679218a3ebf"
      },
      "source": [
        "def factorial(n): \r\n",
        "  logging.debug('Start of factorial(%s%%)' % (n)) \r\n",
        "  total = 1 \r\n",
        "  for i in range(n + 1): \r\n",
        "    total *= i\r\n",
        "    logging.debug('i is ' + str(i) + ', total is ' + str(total)) \r\n",
        "    logging.debug('End of factorial(%s%%)' % (n)) \r\n",
        "  \r\n",
        "  return total\r\n",
        "\r\n",
        "print(factorial(5)) \r\n",
        "logging.debug('End of program')"
      ],
      "execution_count": null,
      "outputs": [
        {
          "output_type": "stream",
          "text": [
            " 2021-02-13 06:01:12,129 - DEBUG - Start of factorial(5%)\n",
            " 2021-02-13 06:01:12,131 - DEBUG - i is 0, total is 0\n",
            " 2021-02-13 06:01:12,132 - DEBUG - End of factorial(5%)\n",
            " 2021-02-13 06:01:12,134 - DEBUG - i is 1, total is 0\n",
            " 2021-02-13 06:01:12,135 - DEBUG - End of factorial(5%)\n",
            " 2021-02-13 06:01:12,137 - DEBUG - i is 2, total is 0\n",
            " 2021-02-13 06:01:12,138 - DEBUG - End of factorial(5%)\n",
            " 2021-02-13 06:01:12,141 - DEBUG - i is 3, total is 0\n",
            " 2021-02-13 06:01:12,143 - DEBUG - End of factorial(5%)\n",
            " 2021-02-13 06:01:12,143 - DEBUG - i is 4, total is 0\n",
            " 2021-02-13 06:01:12,145 - DEBUG - End of factorial(5%)\n",
            " 2021-02-13 06:01:12,146 - DEBUG - i is 5, total is 0\n",
            " 2021-02-13 06:01:12,148 - DEBUG - End of factorial(5%)\n",
            " 2021-02-13 06:01:12,149 - DEBUG - End of program\n"
          ],
          "name": "stderr"
        },
        {
          "output_type": "stream",
          "text": [
            "0\n"
          ],
          "name": "stdout"
        }
      ]
    },
    {
      "cell_type": "code",
      "metadata": {
        "colab": {
          "base_uri": "https://localhost:8080/"
        },
        "id": "9UZm5AjO8dqw",
        "outputId": "d14e15a4-f692-4749-ecb4-36f71faf843e"
      },
      "source": [
        "def factorial(n): \r\n",
        "  logging.debug('Start of factorial(%s%%)' % (n)) \r\n",
        "  total = 1 \r\n",
        "  for i in range(1,n + 1): \r\n",
        "    total *= i\r\n",
        "    logging.debug('i is ' + str(i) + ', total is ' + str(total)) \r\n",
        "    logging.debug('End of factorial(%s%%)' % (n)) \r\n",
        "  return total\r\n",
        "\r\n",
        "print(factorial(5)) \r\n",
        "logging.debug('End of program')"
      ],
      "execution_count": null,
      "outputs": [
        {
          "output_type": "stream",
          "text": [
            " 2021-02-13 06:01:21,597 - DEBUG - Start of factorial(5%)\n",
            " 2021-02-13 06:01:21,601 - DEBUG - i is 1, total is 1\n",
            " 2021-02-13 06:01:21,603 - DEBUG - End of factorial(5%)\n",
            " 2021-02-13 06:01:21,604 - DEBUG - i is 2, total is 2\n",
            " 2021-02-13 06:01:21,605 - DEBUG - End of factorial(5%)\n",
            " 2021-02-13 06:01:21,608 - DEBUG - i is 3, total is 6\n",
            " 2021-02-13 06:01:21,609 - DEBUG - End of factorial(5%)\n",
            " 2021-02-13 06:01:21,610 - DEBUG - i is 4, total is 24\n",
            " 2021-02-13 06:01:21,610 - DEBUG - End of factorial(5%)\n",
            " 2021-02-13 06:01:21,613 - DEBUG - i is 5, total is 120\n",
            " 2021-02-13 06:01:21,614 - DEBUG - End of factorial(5%)\n",
            " 2021-02-13 06:01:21,615 - DEBUG - End of program\n"
          ],
          "name": "stderr"
        },
        {
          "output_type": "stream",
          "text": [
            "120\n"
          ],
          "name": "stdout"
        }
      ]
    },
    {
      "cell_type": "markdown",
      "metadata": {
        "id": "3gks7DHGzu8e"
      },
      "source": [
        "# Logging Levels\r\n",
        "There are five logging levels. Messages can be logged at each level using a different logging function.\r\n",
        "\r\n",
        "|Level|Logging|Function Description|\r\n",
        "|-----|-------|--------------------|\r\n",
        "|DEBUG| logging.debug() |The lowest level. Used for small details. Usually you care about these messages only when diagnosing problems.|\r\n",
        "|INFO| logging.info()| Used to record information on general events in your program or confirm that things are working at their point in the program.|\r\n",
        "|WARNING |logging.warning()| Used to indicate a potential problem that doesn’t prevent the program from working but might do so in the future.|\r\n",
        "|ERROR| logging.error()| Used to record an error that caused the program to fail to do something.|\r\n",
        "|CRITICAL| logging.critical()| The highest level. Used to indicate a fatal error that has caused or is about to cause the program to stop running entirely.|}\r\n"
      ]
    },
    {
      "cell_type": "code",
      "metadata": {
        "id": "YIvBqvZi9-fX",
        "colab": {
          "base_uri": "https://localhost:8080/"
        },
        "outputId": "ddbcd32f-af48-45f6-f982-fb4b48c32a61"
      },
      "source": [
        "import logging \r\n",
        "logging.basicConfig(level=logging.DEBUG, format=' %(asctime)s - %(levelname)s - %(message)s')"
      ],
      "execution_count": null,
      "outputs": [
        {
          "output_type": "stream",
          "text": [
            " 2021-02-14 04:32:08,771 - DEBUG - Loaded backend module://ipykernel.pylab.backend_inline version unknown.\n"
          ],
          "name": "stderr"
        }
      ]
    },
    {
      "cell_type": "code",
      "metadata": {
        "colab": {
          "base_uri": "https://localhost:8080/"
        },
        "id": "xLApRQZPz1Cl",
        "outputId": "ec03bef0-05cc-42a1-c783-9ac285be18a2"
      },
      "source": [
        "logging.debug('Some debugging details.')"
      ],
      "execution_count": null,
      "outputs": [
        {
          "output_type": "stream",
          "text": [
            " 2021-02-14 04:32:27,882 - DEBUG - Some debugging details.\n"
          ],
          "name": "stderr"
        }
      ]
    },
    {
      "cell_type": "code",
      "metadata": {
        "colab": {
          "base_uri": "https://localhost:8080/"
        },
        "id": "Wt1FQ0BWz7Pc",
        "outputId": "cbad8eeb-6072-4a4c-8f28-0028fb690f07"
      },
      "source": [
        "logging.info('The logging module is working.')"
      ],
      "execution_count": null,
      "outputs": [
        {
          "output_type": "stream",
          "text": [
            " 2021-02-14 04:33:03,582 - INFO - The logging module is working.\n"
          ],
          "name": "stderr"
        }
      ]
    },
    {
      "cell_type": "code",
      "metadata": {
        "colab": {
          "base_uri": "https://localhost:8080/"
        },
        "id": "cD51SYQJ0D-n",
        "outputId": "42907f08-bc18-4107-b518-9f21bbb32b66"
      },
      "source": [
        "logging.warning('An error message is about to be logged')"
      ],
      "execution_count": null,
      "outputs": [
        {
          "output_type": "stream",
          "text": [
            " 2021-02-14 04:33:52,152 - WARNING - An error message is about to be logged\n"
          ],
          "name": "stderr"
        }
      ]
    },
    {
      "cell_type": "code",
      "metadata": {
        "colab": {
          "base_uri": "https://localhost:8080/"
        },
        "id": "gnJJdv300P1o",
        "outputId": "407ddb45-ff71-43c7-bde3-ffec465bb19d"
      },
      "source": [
        "logging.error('AN error has occurred.')"
      ],
      "execution_count": null,
      "outputs": [
        {
          "output_type": "stream",
          "text": [
            " 2021-02-14 04:34:14,749 - ERROR - AN error has occurred.\n"
          ],
          "name": "stderr"
        }
      ]
    },
    {
      "cell_type": "code",
      "metadata": {
        "colab": {
          "base_uri": "https://localhost:8080/"
        },
        "id": "Z2xBTyVH0VW-",
        "outputId": "94e7ca38-aed0-425d-98ae-29bb16f532f2"
      },
      "source": [
        "logging.critical('The program is unable to recover.')"
      ],
      "execution_count": null,
      "outputs": [
        {
          "output_type": "stream",
          "text": [
            " 2021-02-14 04:34:33,319 - CRITICAL - The program is unable to recover.\n"
          ],
          "name": "stderr"
        }
      ]
    },
    {
      "cell_type": "markdown",
      "metadata": {
        "id": "n9dHvWj10oo3"
      },
      "source": [
        "You can set `basicConfig()`’s level argument to `logging.ERROR` . This will show only `ERROR` and and `CRITICAL` messages and skip the `DEBUG`, `INFO`, and `WARNING` messages."
      ]
    },
    {
      "cell_type": "markdown",
      "metadata": {
        "id": "yI7_qwUx1PQW"
      },
      "source": [
        "# Disabling Logging\r\n",
        "The `logging.disable()` function disables these so that you don’t have to go into your program and remove all the logging calls by hand. You simply pass `logging.disable()` a logging level, and it will suppress all log messages at that level or lower. So if you want to disable logging entirely, just add logging.disable(logging.CRITICAL) to your program."
      ]
    },
    {
      "cell_type": "code",
      "metadata": {
        "colab": {
          "base_uri": "https://localhost:8080/"
        },
        "id": "II5BVlTL0Z40",
        "outputId": "7b020450-06d1-4809-ac14-29150e9ef36f"
      },
      "source": [
        "import logging\r\n",
        "logging.basicConfig(level=logging.INFO, format=' %(asctime)s - %(levelname)s - %(message)s')\r\n",
        "logging.critical('Critical error! Critical error!')"
      ],
      "execution_count": null,
      "outputs": [
        {
          "output_type": "stream",
          "text": [
            " 2021-02-14 04:40:09,523 - CRITICAL - Critical error! Critical error!\n"
          ],
          "name": "stderr"
        }
      ]
    },
    {
      "cell_type": "code",
      "metadata": {
        "id": "QjsD4WM81r9h"
      },
      "source": [
        "logging.disable(logging.CRITICAL)"
      ],
      "execution_count": null,
      "outputs": []
    },
    {
      "cell_type": "code",
      "metadata": {
        "id": "N_wlELrh1wBX"
      },
      "source": [
        "logging.critical('Critical error! Critical error!')"
      ],
      "execution_count": null,
      "outputs": []
    },
    {
      "cell_type": "code",
      "metadata": {
        "id": "jLYaBdTa19Bb"
      },
      "source": [
        "logging.error('Error! Error!')"
      ],
      "execution_count": null,
      "outputs": []
    },
    {
      "cell_type": "markdown",
      "metadata": {
        "id": "fAY5IG8R2KNG"
      },
      "source": [
        "# Logging to a file\r\n",
        "Instead of displaying the log messages to the screen, you can write them to a text file."
      ]
    },
    {
      "cell_type": "code",
      "metadata": {
        "id": "g2LpnNeH2Bed"
      },
      "source": [
        "import logging \r\n",
        "logging.basicConfig(filename='/content/myProgramLog.txt' , level=logging.DEBUG, format=' %(asctime)s - %(levelname)s - %(message)s')"
      ],
      "execution_count": null,
      "outputs": []
    },
    {
      "cell_type": "code",
      "metadata": {
        "id": "xuLqt7xc8RLp"
      },
      "source": [
        "logging.debug('First debug')\r\n",
        "logging.debug('Second debug')"
      ],
      "execution_count": null,
      "outputs": []
    },
    {
      "cell_type": "code",
      "metadata": {
        "colab": {
          "base_uri": "https://localhost:8080/",
          "height": 70
        },
        "id": "s_9kq9I_8YOs",
        "outputId": "17604336-b041-4a96-a231-6becd6f68896"
      },
      "source": [
        "f = open('/content/myProgramLog.txt', 'r')\r\n",
        "f.read()"
      ],
      "execution_count": null,
      "outputs": [
        {
          "output_type": "execute_result",
          "data": {
            "application/vnd.google.colaboratory.intrinsic+json": {
              "type": "string"
            },
            "text/plain": [
              "' 2021-02-14 05:12:19,634 - DEBUG - Loaded backend module://ipykernel.pylab.backend_inline version unknown.\\n 2021-02-14 05:12:22,422 - DEBUG - First debug\\n 2021-02-14 05:12:22,423 - DEBUG - Second debug\\n'"
            ]
          },
          "metadata": {
            "tags": []
          },
          "execution_count": 3
        }
      ]
    },
    {
      "cell_type": "markdown",
      "metadata": {
        "id": "jikKeUBsNkF0"
      },
      "source": [
        "# IDLE's Google Colab Debugger\r\n"
      ]
    },
    {
      "cell_type": "markdown",
      "metadata": {
        "id": "4kQHhYydLjrO"
      },
      "source": [
        "The standard Python tool for interactive debugging is ``pdb``, the Python debugger.\n",
        "This debugger lets the user step through the code line by line in order to see what might be causing a more difficult error.\n",
        "The IPython-enhanced version of this is ``ipdb``, the IPython debugger.\n",
        "\n",
        "There are many ways to launch and use both these debuggers; we won't cover them fully here.\n",
        "Refer to the online documentation of these two utilities to learn more.\n",
        "\n",
        "In IPython, perhaps the most convenient interface to debugging is the ``%debug`` magic command.\n",
        "If you call it after hitting an exception, it will automatically open an interactive debugging prompt at the point of the exception.\n",
        "The ``ipdb`` prompt lets you explore the current state of the stack, explore the available variables, and even run Python commands!\n",
        "\n",
        "Let's look at the most recent exception, then do some basic tasks–print the values of ``a`` and ``b``, and type ``quit`` to quit the debugging session:"
      ]
    },
    {
      "cell_type": "code",
      "metadata": {
        "id": "cbSnmLECL4gN"
      },
      "source": [
        "def func1(a, b):\r\n",
        "    return a / b\r\n",
        "\r\n",
        "def func2(x):\r\n",
        "    a = x\r\n",
        "    b = x - 1\r\n",
        "    return func1(a, b)"
      ],
      "execution_count": 6,
      "outputs": []
    },
    {
      "cell_type": "code",
      "metadata": {
        "id": "4GodWGlKMUMW",
        "outputId": "6d8a2f35-288e-4508-d13b-1c08bee409ae",
        "colab": {
          "base_uri": "https://localhost:8080/",
          "height": 167
        }
      },
      "source": [
        "func1(1)"
      ],
      "execution_count": 7,
      "outputs": [
        {
          "output_type": "error",
          "ename": "TypeError",
          "evalue": "ignored",
          "traceback": [
            "\u001b[0;31m---------------------------------------------------------------------------\u001b[0m",
            "\u001b[0;31mTypeError\u001b[0m                                 Traceback (most recent call last)",
            "\u001b[0;32m<ipython-input-7-4725712fc3b5>\u001b[0m in \u001b[0;36m<module>\u001b[0;34m()\u001b[0m\n\u001b[0;32m----> 1\u001b[0;31m \u001b[0mfunc1\u001b[0m\u001b[0;34m(\u001b[0m\u001b[0;36m1\u001b[0m\u001b[0;34m)\u001b[0m\u001b[0;34m\u001b[0m\u001b[0;34m\u001b[0m\u001b[0m\n\u001b[0m",
            "\u001b[0;31mTypeError\u001b[0m: func1() missing 1 required positional argument: 'b'"
          ]
        }
      ]
    },
    {
      "cell_type": "code",
      "metadata": {
        "id": "TxbrzGDpMTdh",
        "outputId": "8d9a6f30-f181-4fe8-9b11-8badff9ac331",
        "colab": {
          "base_uri": "https://localhost:8080/",
          "height": 314
        }
      },
      "source": [
        "func2(1)"
      ],
      "execution_count": 8,
      "outputs": [
        {
          "output_type": "error",
          "ename": "ZeroDivisionError",
          "evalue": "ignored",
          "traceback": [
            "\u001b[0;31m---------------------------------------------------------------------------\u001b[0m",
            "\u001b[0;31mZeroDivisionError\u001b[0m                         Traceback (most recent call last)",
            "\u001b[0;32m<ipython-input-8-7cb498ea7ed1>\u001b[0m in \u001b[0;36m<module>\u001b[0;34m()\u001b[0m\n\u001b[0;32m----> 1\u001b[0;31m \u001b[0mfunc2\u001b[0m\u001b[0;34m(\u001b[0m\u001b[0;36m1\u001b[0m\u001b[0;34m)\u001b[0m\u001b[0;34m\u001b[0m\u001b[0;34m\u001b[0m\u001b[0m\n\u001b[0m",
            "\u001b[0;32m<ipython-input-6-586ccabd0db3>\u001b[0m in \u001b[0;36mfunc2\u001b[0;34m(x)\u001b[0m\n\u001b[1;32m      5\u001b[0m     \u001b[0ma\u001b[0m \u001b[0;34m=\u001b[0m \u001b[0mx\u001b[0m\u001b[0;34m\u001b[0m\u001b[0;34m\u001b[0m\u001b[0m\n\u001b[1;32m      6\u001b[0m     \u001b[0mb\u001b[0m \u001b[0;34m=\u001b[0m \u001b[0mx\u001b[0m \u001b[0;34m-\u001b[0m \u001b[0;36m1\u001b[0m\u001b[0;34m\u001b[0m\u001b[0;34m\u001b[0m\u001b[0m\n\u001b[0;32m----> 7\u001b[0;31m     \u001b[0;32mreturn\u001b[0m \u001b[0mfunc1\u001b[0m\u001b[0;34m(\u001b[0m\u001b[0ma\u001b[0m\u001b[0;34m,\u001b[0m \u001b[0mb\u001b[0m\u001b[0;34m)\u001b[0m\u001b[0;34m\u001b[0m\u001b[0;34m\u001b[0m\u001b[0m\n\u001b[0m",
            "\u001b[0;32m<ipython-input-6-586ccabd0db3>\u001b[0m in \u001b[0;36mfunc1\u001b[0;34m(a, b)\u001b[0m\n\u001b[1;32m      1\u001b[0m \u001b[0;32mdef\u001b[0m \u001b[0mfunc1\u001b[0m\u001b[0;34m(\u001b[0m\u001b[0ma\u001b[0m\u001b[0;34m,\u001b[0m \u001b[0mb\u001b[0m\u001b[0;34m)\u001b[0m\u001b[0;34m:\u001b[0m\u001b[0;34m\u001b[0m\u001b[0;34m\u001b[0m\u001b[0m\n\u001b[0;32m----> 2\u001b[0;31m     \u001b[0;32mreturn\u001b[0m \u001b[0ma\u001b[0m \u001b[0;34m/\u001b[0m \u001b[0mb\u001b[0m\u001b[0;34m\u001b[0m\u001b[0;34m\u001b[0m\u001b[0m\n\u001b[0m\u001b[1;32m      3\u001b[0m \u001b[0;34m\u001b[0m\u001b[0m\n\u001b[1;32m      4\u001b[0m \u001b[0;32mdef\u001b[0m \u001b[0mfunc2\u001b[0m\u001b[0;34m(\u001b[0m\u001b[0mx\u001b[0m\u001b[0;34m)\u001b[0m\u001b[0;34m:\u001b[0m\u001b[0;34m\u001b[0m\u001b[0;34m\u001b[0m\u001b[0m\n\u001b[1;32m      5\u001b[0m     \u001b[0ma\u001b[0m \u001b[0;34m=\u001b[0m \u001b[0mx\u001b[0m\u001b[0;34m\u001b[0m\u001b[0;34m\u001b[0m\u001b[0m\n",
            "\u001b[0;31mZeroDivisionError\u001b[0m: division by zero"
          ]
        }
      ]
    },
    {
      "cell_type": "code",
      "metadata": {
        "id": "83hdN4nYLvoe",
        "outputId": "eb678a47-b9e2-4c94-d6ad-f3a163eff36c",
        "colab": {
          "base_uri": "https://localhost:8080/"
        }
      },
      "source": [
        "%xmode Plain\r\n",
        "%pdb on"
      ],
      "execution_count": 10,
      "outputs": [
        {
          "output_type": "stream",
          "text": [
            "Exception reporting mode: Plain\n",
            "Automatic pdb calling has been turned ON\n"
          ],
          "name": "stdout"
        }
      ]
    },
    {
      "cell_type": "code",
      "metadata": {
        "id": "NrCNx-nr9Wcu",
        "outputId": "40566834-7c10-4034-a5bf-4392858341fe",
        "colab": {
          "base_uri": "https://localhost:8080/"
        }
      },
      "source": [
        "%debug"
      ],
      "execution_count": 11,
      "outputs": [
        {
          "output_type": "stream",
          "text": [
            "> \u001b[0;32m<ipython-input-6-586ccabd0db3>\u001b[0m(2)\u001b[0;36mfunc1\u001b[0;34m()\u001b[0m\n",
            "\u001b[0;32m      1 \u001b[0;31m\u001b[0;32mdef\u001b[0m \u001b[0mfunc1\u001b[0m\u001b[0;34m(\u001b[0m\u001b[0ma\u001b[0m\u001b[0;34m,\u001b[0m \u001b[0mb\u001b[0m\u001b[0;34m)\u001b[0m\u001b[0;34m:\u001b[0m\u001b[0;34m\u001b[0m\u001b[0;34m\u001b[0m\u001b[0m\n",
            "\u001b[0m\u001b[0;32m----> 2 \u001b[0;31m    \u001b[0;32mreturn\u001b[0m \u001b[0ma\u001b[0m \u001b[0;34m/\u001b[0m \u001b[0mb\u001b[0m\u001b[0;34m\u001b[0m\u001b[0;34m\u001b[0m\u001b[0m\n",
            "\u001b[0m\u001b[0;32m      3 \u001b[0;31m\u001b[0;34m\u001b[0m\u001b[0m\n",
            "\u001b[0m\u001b[0;32m      4 \u001b[0;31m\u001b[0;32mdef\u001b[0m \u001b[0mfunc2\u001b[0m\u001b[0;34m(\u001b[0m\u001b[0mx\u001b[0m\u001b[0;34m)\u001b[0m\u001b[0;34m:\u001b[0m\u001b[0;34m\u001b[0m\u001b[0;34m\u001b[0m\u001b[0m\n",
            "\u001b[0m\u001b[0;32m      5 \u001b[0;31m    \u001b[0ma\u001b[0m \u001b[0;34m=\u001b[0m \u001b[0mx\u001b[0m\u001b[0;34m\u001b[0m\u001b[0;34m\u001b[0m\u001b[0m\n",
            "\u001b[0m\n",
            "ipdb> print(a,b)\n",
            "1 0\n",
            "ipdb> quit\n"
          ],
          "name": "stdout"
        }
      ]
    },
    {
      "cell_type": "markdown",
      "metadata": {
        "id": "8UYriqHzNdQt"
      },
      "source": [
        "Finally, if you have a script that you'd like to run from the beginning in interactive mode, you can run it with the command `%run -d`, and use the `next` command to step through the lines of code interactively."
      ]
    },
    {
      "cell_type": "code",
      "metadata": {
        "id": "iqMbcU1gNGwk"
      },
      "source": [
        ""
      ],
      "execution_count": null,
      "outputs": []
    }
  ]
}