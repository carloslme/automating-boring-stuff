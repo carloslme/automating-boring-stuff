{
  "nbformat": 4,
  "nbformat_minor": 0,
  "metadata": {
    "colab": {
      "name": "Chapter_10_Debugging.ipynb",
      "provenance": [],
      "authorship_tag": "ABX9TyNFW8oHbeRWfwawA24nzrZJ",
      "include_colab_link": true
    },
    "kernelspec": {
      "name": "python3",
      "display_name": "Python 3"
    }
  },
  "cells": [
    {
      "cell_type": "markdown",
      "metadata": {
        "id": "view-in-github",
        "colab_type": "text"
      },
      "source": [
        "<a href=\"https://colab.research.google.com/github/carloslme/automating-boring-stuff/blob/main/Chapter_10_Debugging.ipynb\" target=\"_parent\"><img src=\"https://colab.research.google.com/assets/colab-badge.svg\" alt=\"Open In Colab\"/></a>"
      ]
    },
    {
      "cell_type": "markdown",
      "metadata": {
        "id": "uYUUg7TUrfwK"
      },
      "source": [
        "There are a few tools and techniques to identify what exactly your code is doing and where it’s going wrong. First, you will look at logging and assertions, two features that can help you detect bugs early. In general, the earlier you catch bugs, the easier they will be to fix.\r\n",
        "\r\n",
        "Second, you will look at how to use the debugger. The debugger is a feature of IDLE that executes a program one instruction at a time, giving you a chance to inspect the values in variables while your code runs, and track how the values change over the course of your program. This is much slower than running the deducing what the values might be from the source code."
      ]
    },
    {
      "cell_type": "markdown",
      "metadata": {
        "id": "JuJg1VoqtTXE"
      },
      "source": [
        "# Raising Exceptions\r\n",
        "Python raises an exception whenever it tries to execute invalid code.\r\n",
        "\r\n",
        "Raising an exception is a way of saying, “Stop running the code in this function and move the program execution to the except statement.”\r\n",
        "\r\n",
        "Exceptions are raised with a raise statement. In code, a raise statement consists of the following: \r\n",
        "* The raise keyword \r\n",
        "* A call to the `Exception()` function \r\n",
        "* A string with a helpful error message passed to the `Exception()` function"
      ]
    },
    {
      "cell_type": "code",
      "metadata": {
        "colab": {
          "base_uri": "https://localhost:8080/",
          "height": 167
        },
        "id": "WlJ6WrqbqFqt",
        "outputId": "4fec652b-ab7f-47db-d754-579ef421d7e4"
      },
      "source": [
        "raise Exception('This is the error message')"
      ],
      "execution_count": null,
      "outputs": [
        {
          "output_type": "error",
          "ename": "Exception",
          "evalue": "ignored",
          "traceback": [
            "\u001b[0;31m---------------------------------------------------------------------------\u001b[0m",
            "\u001b[0;31mException\u001b[0m                                 Traceback (most recent call last)",
            "\u001b[0;32m<ipython-input-1-a5c46413ac92>\u001b[0m in \u001b[0;36m<module>\u001b[0;34m()\u001b[0m\n\u001b[0;32m----> 1\u001b[0;31m \u001b[0;32mraise\u001b[0m \u001b[0mException\u001b[0m\u001b[0;34m(\u001b[0m\u001b[0;34m'This is the error message'\u001b[0m\u001b[0;34m)\u001b[0m\u001b[0;34m\u001b[0m\u001b[0;34m\u001b[0m\u001b[0m\n\u001b[0m",
            "\u001b[0;31mException\u001b[0m: This is the error message"
          ]
        }
      ]
    },
    {
      "cell_type": "markdown",
      "metadata": {
        "id": "KeDKDWQ9uPru"
      },
      "source": [
        "If there are no `try` and `except` statements covering the raise statement that raised the exception, the program simply crashes and displays the exception’s error message.\r\n",
        "\r\n",
        "Often it’s the code that calls the function, not the fuction itself, that knows how to handle an expection. So you will commonly see a raise statement inside a function and the try and except statements in the code calling the function."
      ]
    },
    {
      "cell_type": "code",
      "metadata": {
        "colab": {
          "base_uri": "https://localhost:8080/"
        },
        "id": "zqwk5OtxuJvQ",
        "outputId": "80466a49-d1f6-4785-eb5b-ab45381ca000"
      },
      "source": [
        "def boxPrint(symbol, width, height): \r\n",
        "  if len(symbol) != 1: \r\n",
        "    raise Exception('Symbol must be a single character string.') \r\n",
        "  if width <= 2: \r\n",
        "    raise Exception('Width must be greater than 2.') \r\n",
        "  if height <= 2: \r\n",
        "    raise Exception('Height must be greater than 2.') \r\n",
        "  print(symbol * width) \r\n",
        "  for i in range(height - 2): \r\n",
        "    print(symbol + (' ' * (width - 2)) + symbol) \r\n",
        "    print(symbol * width) \r\n",
        "\r\n",
        "for sym, w, h in (('*', 4, 4), ('O', 20, 5), ('x', 1, 3), ('ZZ', 3, 3)): \r\n",
        "  try: \r\n",
        "    boxPrint(sym, w, h) \r\n",
        "  except Exception as err: \r\n",
        "    print('An exception happened: ' + str(err))"
      ],
      "execution_count": null,
      "outputs": [
        {
          "output_type": "stream",
          "text": [
            "****\n",
            "*  *\n",
            "****\n",
            "*  *\n",
            "****\n",
            "OOOOOOOOOOOOOOOOOOOO\n",
            "O                  O\n",
            "OOOOOOOOOOOOOOOOOOOO\n",
            "O                  O\n",
            "OOOOOOOOOOOOOOOOOOOO\n",
            "O                  O\n",
            "OOOOOOOOOOOOOOOOOOOO\n",
            "An exception happened: Width must be greater than 2.\n",
            "An exception happened: Symbol must be a single character string.\n"
          ],
          "name": "stdout"
        }
      ]
    },
    {
      "cell_type": "markdown",
      "metadata": {
        "id": "lrzGx_3jxwHm"
      },
      "source": [
        "Using the `try` and `except` statements, you can handle errors more gracefully instead of letting the entire program crash."
      ]
    },
    {
      "cell_type": "markdown",
      "metadata": {
        "id": "j41tqG7f07GJ"
      },
      "source": [
        "# Getting the Traceback as String\r\n",
        "When Python encounters an error, it produces a treasure trove of error information called the `traceback` . The traceback includes the error message, the line number of the line that caused the error, and the sequence of the function calls that led to the error. This sequence of calls is called the `call stack`.\r\n"
      ]
    },
    {
      "cell_type": "code",
      "metadata": {
        "id": "tFjk4ZiSxQaA",
        "colab": {
          "base_uri": "https://localhost:8080/",
          "height": 454
        },
        "outputId": "51b8275e-9366-423f-b6c6-927c807916e2"
      },
      "source": [
        "def spam(): \r\n",
        "  bacon() \r\n",
        "def bacon(): \r\n",
        "  raise Exception('This is the error message.') \r\n",
        "spam()"
      ],
      "execution_count": 1,
      "outputs": [
        {
          "output_type": "error",
          "ename": "Exception",
          "evalue": "ignored",
          "traceback": [
            "\u001b[0;31m---------------------------------------------------------------------------\u001b[0m",
            "\u001b[0;31mException\u001b[0m                                 Traceback (most recent call last)",
            "\u001b[0;32m<ipython-input-1-64b50ec26d5a>\u001b[0m in \u001b[0;36m<module>\u001b[0;34m()\u001b[0m\n\u001b[1;32m      3\u001b[0m \u001b[0;32mdef\u001b[0m \u001b[0mbacon\u001b[0m\u001b[0;34m(\u001b[0m\u001b[0;34m)\u001b[0m\u001b[0;34m:\u001b[0m\u001b[0;34m\u001b[0m\u001b[0;34m\u001b[0m\u001b[0m\n\u001b[1;32m      4\u001b[0m   \u001b[0;32mraise\u001b[0m \u001b[0mException\u001b[0m\u001b[0;34m(\u001b[0m\u001b[0;34m'This is the error message.'\u001b[0m\u001b[0;34m)\u001b[0m\u001b[0;34m\u001b[0m\u001b[0;34m\u001b[0m\u001b[0m\n\u001b[0;32m----> 5\u001b[0;31m \u001b[0mspam\u001b[0m\u001b[0;34m(\u001b[0m\u001b[0;34m)\u001b[0m\u001b[0;34m\u001b[0m\u001b[0;34m\u001b[0m\u001b[0m\n\u001b[0m",
            "\u001b[0;32m<ipython-input-1-64b50ec26d5a>\u001b[0m in \u001b[0;36mspam\u001b[0;34m()\u001b[0m\n\u001b[1;32m      1\u001b[0m \u001b[0;32mdef\u001b[0m \u001b[0mspam\u001b[0m\u001b[0;34m(\u001b[0m\u001b[0;34m)\u001b[0m\u001b[0;34m:\u001b[0m\u001b[0;34m\u001b[0m\u001b[0;34m\u001b[0m\u001b[0m\n\u001b[0;32m----> 2\u001b[0;31m   \u001b[0mbacon\u001b[0m\u001b[0;34m(\u001b[0m\u001b[0;34m)\u001b[0m\u001b[0;34m\u001b[0m\u001b[0;34m\u001b[0m\u001b[0m\n\u001b[0m\u001b[1;32m      3\u001b[0m \u001b[0;32mdef\u001b[0m \u001b[0mbacon\u001b[0m\u001b[0;34m(\u001b[0m\u001b[0;34m)\u001b[0m\u001b[0;34m:\u001b[0m\u001b[0;34m\u001b[0m\u001b[0;34m\u001b[0m\u001b[0m\n\u001b[1;32m      4\u001b[0m   \u001b[0;32mraise\u001b[0m \u001b[0mException\u001b[0m\u001b[0;34m(\u001b[0m\u001b[0;34m'This is the error message.'\u001b[0m\u001b[0;34m)\u001b[0m\u001b[0;34m\u001b[0m\u001b[0;34m\u001b[0m\u001b[0m\n\u001b[1;32m      5\u001b[0m \u001b[0mspam\u001b[0m\u001b[0;34m(\u001b[0m\u001b[0;34m)\u001b[0m\u001b[0;34m\u001b[0m\u001b[0;34m\u001b[0m\u001b[0m\n",
            "\u001b[0;32m<ipython-input-1-64b50ec26d5a>\u001b[0m in \u001b[0;36mbacon\u001b[0;34m()\u001b[0m\n\u001b[1;32m      2\u001b[0m   \u001b[0mbacon\u001b[0m\u001b[0;34m(\u001b[0m\u001b[0;34m)\u001b[0m\u001b[0;34m\u001b[0m\u001b[0;34m\u001b[0m\u001b[0m\n\u001b[1;32m      3\u001b[0m \u001b[0;32mdef\u001b[0m \u001b[0mbacon\u001b[0m\u001b[0;34m(\u001b[0m\u001b[0;34m)\u001b[0m\u001b[0;34m:\u001b[0m\u001b[0;34m\u001b[0m\u001b[0;34m\u001b[0m\u001b[0m\n\u001b[0;32m----> 4\u001b[0;31m   \u001b[0;32mraise\u001b[0m \u001b[0mException\u001b[0m\u001b[0;34m(\u001b[0m\u001b[0;34m'This is the error message.'\u001b[0m\u001b[0;34m)\u001b[0m\u001b[0;34m\u001b[0m\u001b[0;34m\u001b[0m\u001b[0m\n\u001b[0m\u001b[1;32m      5\u001b[0m \u001b[0mspam\u001b[0m\u001b[0;34m(\u001b[0m\u001b[0;34m)\u001b[0m\u001b[0;34m\u001b[0m\u001b[0;34m\u001b[0m\u001b[0m\n",
            "\u001b[0;31mException\u001b[0m: This is the error message."
          ]
        }
      ]
    },
    {
      "cell_type": "markdown",
      "metadata": {
        "id": "CZNuLWZg2zUk"
      },
      "source": [
        "The traceback is displayed by Python whenever a raised exception goes unhandled. But you can also obtain it as a string by calling `traceback.format_exc()`. This function is useful if you want the information from an exception’s traceback but also want an except statement to gracefully handle the exception. You will need to import Python’s traceback module before calling this function."
      ]
    },
    {
      "cell_type": "code",
      "metadata": {
        "colab": {
          "base_uri": "https://localhost:8080/"
        },
        "id": "hlrjQR2N2lYA",
        "outputId": "6334784d-74bc-41b7-d6bf-1239b27c52fb"
      },
      "source": [
        "import traceback\r\n",
        "try: \r\n",
        "  raise Exception('This is the error message.')\r\n",
        "except:\r\n",
        "  errorFile = open('errorInfo.txt', 'w')\r\n",
        "  errorFile.write(traceback.format_exc())\r\n",
        "  errorFile.close()\r\n",
        "  print('The traceback info was written to errorInfo.txt')"
      ],
      "execution_count": 3,
      "outputs": [
        {
          "output_type": "stream",
          "text": [
            "The traceback info was written to errorInfo.txt\n"
          ],
          "name": "stdout"
        }
      ]
    },
    {
      "cell_type": "code",
      "metadata": {
        "colab": {
          "base_uri": "https://localhost:8080/",
          "height": 53
        },
        "id": "e_TNBcOn3dzY",
        "outputId": "3b69da6c-7cd4-47d3-beac-4994afceb515"
      },
      "source": [
        "errorFile = open('/content/errorInfo.txt')\r\n",
        "errorFile.read()"
      ],
      "execution_count": 5,
      "outputs": [
        {
          "output_type": "execute_result",
          "data": {
            "application/vnd.google.colaboratory.intrinsic+json": {
              "type": "string"
            },
            "text/plain": [
              "'Traceback (most recent call last):\\n  File \"<ipython-input-3-612ad60e6918>\", line 3, in <module>\\n    raise Exception(\\'This is the error message.\\')\\nException: This is the error message.\\n'"
            ]
          },
          "metadata": {
            "tags": []
          },
          "execution_count": 5
        }
      ]
    },
    {
      "cell_type": "markdown",
      "metadata": {
        "id": "KNmLlWjS4cpq"
      },
      "source": [
        "# Assertions\r\n",
        "An assertion is a sanity check to make sure your code isn’t doing something obviously wrong. These sanity checks are performed by `assert` statements. If the sanity check fails, then an `AssertionError` exception is raised. In code, an assert statement consists of the following: \r\n",
        "* The `assert` keyword \r\n",
        "* A condition (that is, an expression that evaluates to `True` or `False`) \r\n",
        "* A comma \r\n",
        "* A string to display when the condition is `False`"
      ]
    },
    {
      "cell_type": "code",
      "metadata": {
        "id": "yVeYaYBq3oAn"
      },
      "source": [
        "door = 'open'\r\n",
        "assert door == 'open', 'The door need to be \"open\".'"
      ],
      "execution_count": 6,
      "outputs": []
    },
    {
      "cell_type": "code",
      "metadata": {
        "colab": {
          "base_uri": "https://localhost:8080/",
          "height": 185
        },
        "id": "C3ERR7NH5tRO",
        "outputId": "a7dcfffa-eb4c-4f03-9c86-cca002bf464b"
      },
      "source": [
        "door = 'close'\r\n",
        "assert door == 'open', 'The door need to be \"open\".'"
      ],
      "execution_count": 7,
      "outputs": [
        {
          "output_type": "error",
          "ename": "AssertionError",
          "evalue": "ignored",
          "traceback": [
            "\u001b[0;31m---------------------------------------------------------------------------\u001b[0m",
            "\u001b[0;31mAssertionError\u001b[0m                            Traceback (most recent call last)",
            "\u001b[0;32m<ipython-input-7-dccb82f0386a>\u001b[0m in \u001b[0;36m<module>\u001b[0;34m()\u001b[0m\n\u001b[1;32m      1\u001b[0m \u001b[0mdoor\u001b[0m \u001b[0;34m=\u001b[0m \u001b[0;34m'close'\u001b[0m\u001b[0;34m\u001b[0m\u001b[0;34m\u001b[0m\u001b[0m\n\u001b[0;32m----> 2\u001b[0;31m \u001b[0;32massert\u001b[0m \u001b[0mdoor\u001b[0m \u001b[0;34m==\u001b[0m \u001b[0;34m'open'\u001b[0m\u001b[0;34m,\u001b[0m \u001b[0;34m'The door need to be \"open\".'\u001b[0m\u001b[0;34m\u001b[0m\u001b[0;34m\u001b[0m\u001b[0m\n\u001b[0m",
            "\u001b[0;31mAssertionError\u001b[0m: The door need to be \"open\"."
          ]
        }
      ]
    },
    {
      "cell_type": "markdown",
      "metadata": {
        "id": "HJJEOOU36AGI"
      },
      "source": [
        "In plain English, an assert statement says, “I assert that this condition holds true, and if not, there is a bug somewhere in the program.” Unlike exceptions, your code should not handle `assert` statements with `try` and `except` ; if an assert fails, your program should crash.\r\n",
        "\r\n",
        "**Assertions are for programmer errors, not user errors.** For errors that can be recovered from (such as a file not being found or the user entering invalid data), raise an exception instead of detecting it with an assert statement."
      ]
    },
    {
      "cell_type": "markdown",
      "metadata": {
        "id": "pHqR-ICJ6jR8"
      },
      "source": [
        "# Disabling Assertions\r\n",
        "Assertions can be disabled by passing the -O option when running Python. This is good for when you have finished writing and testing your program and don’t want it to be slowed down by performing sanity checks (although most of the time `assert` statements do not cause a noticeable speed difference). Assertions are for development, not the final product."
      ]
    },
    {
      "cell_type": "code",
      "metadata": {
        "id": "2uJ8FRrn51V5"
      },
      "source": [
        ""
      ],
      "execution_count": null,
      "outputs": []
    }
  ]
}