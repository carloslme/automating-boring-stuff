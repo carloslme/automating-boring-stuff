{
  "nbformat": 4,
  "nbformat_minor": 0,
  "metadata": {
    "colab": {
      "name": "Chapter_7_Project_Phone_Number_and_Address_Extractor.ipynb",
      "provenance": [],
      "collapsed_sections": [],
      "toc_visible": true,
      "mount_file_id": "16-vXYQ8BJ_ud0FO5WGatNmvNIq6arupi",
      "authorship_tag": "ABX9TyMPLBw6eYKy+a4rwTQQHv8r",
      "include_colab_link": true
    },
    "kernelspec": {
      "name": "python3",
      "display_name": "Python 3"
    }
  },
  "cells": [
    {
      "cell_type": "markdown",
      "metadata": {
        "id": "view-in-github",
        "colab_type": "text"
      },
      "source": [
        "<a href=\"https://colab.research.google.com/github/carloslme/automating-boring-stuff/blob/main/Chapter_7_Project_Phone_Number_and_Address_Extractor.ipynb\" target=\"_parent\"><img src=\"https://colab.research.google.com/assets/colab-badge.svg\" alt=\"Open In Colab\"/></a>"
      ]
    },
    {
      "cell_type": "markdown",
      "metadata": {
        "id": "CLLRg5t4XBK4"
      },
      "source": [
        "# Summary\r\n",
        "Find every phone number and email address in a long web page or document.\r\n",
        "\r\n",
        "The code will need to to the following:\r\n",
        "* Use the `pyperclip` module to copy and paste strings.\r\n",
        "* Create two regexes, one for matching phone numbers and the other for matching email addresses.\r\n",
        "* Find all matches, not just the first match, of both regexes.\r\n",
        "* Neatly format the matches strings into a single string to paste.\r\n",
        "* Display some king of message if no matches were found in the text.\r\n"
      ]
    },
    {
      "cell_type": "markdown",
      "metadata": {
        "id": "YPfYdZBFX-2L"
      },
      "source": [
        "# Step 1: Create a Regex for Phone"
      ]
    },
    {
      "cell_type": "markdown",
      "metadata": {
        "id": "R0-KCgT_YFYu"
      },
      "source": [
        "## Numbers\r\n",
        "Create a regular expression to search for phone numbers"
      ]
    },
    {
      "cell_type": "code",
      "metadata": {
        "colab": {
          "base_uri": "https://localhost:8080/"
        },
        "id": "DPSvt0r5hwL3",
        "outputId": "a3e0888b-0101-46a3-a304-f975e8c1f673"
      },
      "source": [
        "# !pip install pyperclip"
      ],
      "execution_count": null,
      "outputs": [
        {
          "output_type": "stream",
          "text": [
            "Collecting pyperclip\n",
            "  Downloading https://files.pythonhosted.org/packages/6f/4c/0b1d507ad7e8bc31d690d04b4f475e74c2002d060f7994ce8c09612df707/pyperclip-1.8.1.tar.gz\n",
            "Building wheels for collected packages: pyperclip\n",
            "  Building wheel for pyperclip (setup.py) ... \u001b[?25l\u001b[?25hdone\n",
            "  Created wheel for pyperclip: filename=pyperclip-1.8.1-cp36-none-any.whl size=11120 sha256=f3491dac3ccd456adea724e638cb30545af205fd79a6834fd20f4a8d9e5b1f0e\n",
            "  Stored in directory: /root/.cache/pip/wheels/44/10/3a/c830e9bb3db2c93274ea1f213a41fabde0d8cf3794251fad0c\n",
            "Successfully built pyperclip\n",
            "Installing collected packages: pyperclip\n",
            "Successfully installed pyperclip-1.8.1\n"
          ],
          "name": "stdout"
        }
      ]
    },
    {
      "cell_type": "code",
      "metadata": {
        "id": "F2LXC8sUaEB0"
      },
      "source": [
        "# %cd /content/drive/MyDrive/Colab\\ Notebooks"
      ],
      "execution_count": null,
      "outputs": []
    },
    {
      "cell_type": "code",
      "metadata": {
        "colab": {
          "base_uri": "https://localhost:8080/"
        },
        "id": "ZlW3idajhITM",
        "outputId": "41545ed7-7a2b-41f2-e286-bcca8a13e5e2"
      },
      "source": [
        "# !ls"
      ],
      "execution_count": null,
      "outputs": [
        {
          "output_type": "stream",
          "text": [
            "Chapter_1_Exploratory_Data_Analysis.ipynb\n",
            "Chapter_2_Introduction_to_TensorFlow_Extended.ipynb\n",
            "Chapter_7_Project_Phone_Number_and_Address_Extractor.ipynb\n",
            "phoneAndEmail.py\n",
            "Portfolio_and_projects\n",
            "testing_data_on_google_colab.ipynb\n",
            "ThinkStats2\n",
            "ThinkStats2_Exercises\n"
          ],
          "name": "stdout"
        }
      ]
    },
    {
      "cell_type": "code",
      "metadata": {
        "id": "gYrR2y5BhJRs"
      },
      "source": [
        "import pyperclip, re\r\n",
        "\r\n",
        "phoneRegex = re.compile(r'''(\r\n",
        "    (\\d{3}|\\(\\d{3}\\))? # area code \r\n",
        "    (\\s|-|\\.)? # separator \r\n",
        "    (\\d{3}) # first 3 digits \r\n",
        "    (\\s|-|\\.) # separator \r\n",
        "    (\\d{4}) # last 4 digits\r\n",
        "    (\\s*(ext|x|ext.)\\s*(\\d{2,5}))? # extension\r\n",
        "  )''', re.VERBOSE)"
      ],
      "execution_count": 30,
      "outputs": []
    },
    {
      "cell_type": "markdown",
      "metadata": {
        "id": "I1SkduVArE4r"
      },
      "source": [
        "# Step 2: Create a Regex for Email Addresses"
      ]
    },
    {
      "cell_type": "code",
      "metadata": {
        "id": "fJvk5R2Jhqud"
      },
      "source": [
        "emailRegex = re.compile(r'''(\r\n",
        "  [a-zA-Z0-9._%+-]+ # username \r\n",
        "  @ # @ symbol \r\n",
        "  [a-zA-Z0-9.-]+ # domain name \r\n",
        "  (\\.[a-zA-Z]{2,4}) # dot-something \r\n",
        "  )''', re.VERBOSE)"
      ],
      "execution_count": 31,
      "outputs": []
    },
    {
      "cell_type": "markdown",
      "metadata": {
        "id": "W2CIsb5crMki"
      },
      "source": [
        "# Step 3: Find All Matches in the Clipboard Text"
      ]
    },
    {
      "cell_type": "code",
      "metadata": {
        "id": "n5mNndMFt9_t"
      },
      "source": [
        "text = str(pyperclip.paste()) \r\n",
        "matches = [] \r\n",
        "for groups in phoneRegex.findall(text): \r\n",
        "  # These groups are the area code, first three digits, last four digits, and extension.\r\n",
        "  phoneNum = '-'.join([groups[1], groups[3], groups[5]]) \r\n",
        "  if groups[8] != '':\r\n",
        "    phoneNum += ' x' + groups[8] \r\n",
        "  matches.append(phoneNum)\r\n",
        "for groups in emailRegex.findall(text):\r\n",
        "  matches.append(groups[0])"
      ],
      "execution_count": null,
      "outputs": []
    },
    {
      "cell_type": "markdown",
      "metadata": {
        "id": "InkIYIycrVnD"
      },
      "source": [
        "# Step 4: Join the Matches into a String for the Clipboard"
      ]
    },
    {
      "cell_type": "code",
      "metadata": {
        "id": "WsE3LFT0rT-w",
        "colab": {
          "base_uri": "https://localhost:8080/"
        },
        "outputId": "f35d34c0-9c66-4053-a975-f65404889def"
      },
      "source": [
        "# Copy results to the clipboard. \r\n",
        "if len(matches) > 0: \r\n",
        "  pyperclip.copy('\\n'.join(matches)) \r\n",
        "  print('Copied to clipboard:') \r\n",
        "  print('\\n'.join(matches)) \r\n",
        "else: \r\n",
        "  print('No phone numbers or email addresses found.')"
      ],
      "execution_count": 33,
      "outputs": [
        {
          "output_type": "stream",
          "text": [
            "No phone numbers or email addresses found.\n"
          ],
          "name": "stdout"
        }
      ]
    },
    {
      "cell_type": "markdown",
      "metadata": {
        "id": "hazPlImx4uSR"
      },
      "source": [
        "# Running\r\n",
        "* Just download the Google Colab notebook as *.py\r\n",
        "* Then install pyperclip with the command: `pip install pyperclip`\r\n",
        "* Open any webpage and copy, press Ctrl+A, Ctrl-C\r\n",
        "* Open Command Prompt (assuming you already have Python installed) and execute the script downloaded: `python /Chapter_7_Project_Phone_Number_and_Address_Extractor.py`"
      ]
    },
    {
      "cell_type": "markdown",
      "metadata": {
        "id": "DuOkJ2525wn_"
      },
      "source": [
        "# Example\r\n",
        "* Access this webpage: https://www.banxico.org.mx/contacto/contacto.html\r\n",
        "* Press Ctrl+A, Ctrl+C\r\n",
        "* Execute the python script\r\n",
        "* Get the results\r\n",
        "\r\n",
        "```\r\n",
        "D:\\Downloads> python Chapter_7_Project_Phone_Number_and_Address_Extractor.py\r\n",
        "Copied to clipboard:\r\n",
        "800-767-7734\r\n",
        "800-226-9426\r\n",
        "dinero@banxico.org.mx\r\n",
        "```\r\n",
        "\r\n"
      ]
    },
    {
      "cell_type": "code",
      "metadata": {
        "id": "JeRdzImty_Ix"
      },
      "source": [
        ""
      ],
      "execution_count": null,
      "outputs": []
    }
  ]
}