{
  "nbformat": 4,
  "nbformat_minor": 0,
  "metadata": {
    "colab": {
      "name": "Chapter_7_Project_Phone_Number_and_Address_Extractor.ipynb",
      "provenance": [],
      "mount_file_id": "16-vXYQ8BJ_ud0FO5WGatNmvNIq6arupi",
      "authorship_tag": "ABX9TyOUsJy6aaEvZf5Nj6NBRSun",
      "include_colab_link": true
    },
    "kernelspec": {
      "name": "python3",
      "display_name": "Python 3"
    }
  },
  "cells": [
    {
      "cell_type": "markdown",
      "metadata": {
        "id": "view-in-github",
        "colab_type": "text"
      },
      "source": [
        "<a href=\"https://colab.research.google.com/github/carloslme/automating-boring-stuff/blob/main/Chapter_7_Project_Phone_Number_and_Address_Extractor.ipynb\" target=\"_parent\"><img src=\"https://colab.research.google.com/assets/colab-badge.svg\" alt=\"Open In Colab\"/></a>"
      ]
    },
    {
      "cell_type": "markdown",
      "metadata": {
        "id": "CLLRg5t4XBK4"
      },
      "source": [
        "# Summary\r\n",
        "Find every phone number and email address in a long web page or document.\r\n",
        "\r\n",
        "The code will need to to the following:\r\n",
        "* Use the `pyperclip` module to copy and paste strings.\r\n",
        "* Create two regexes, one for matching phone numbers and the other for matching email addresses.\r\n",
        "* Find all matches, not just the first match, of both regexes.\r\n",
        "* Neatly format the matches strings into a single string to paste.\r\n",
        "* Display some king of message if no matches were found in the text.\r\n"
      ]
    },
    {
      "cell_type": "markdown",
      "metadata": {
        "id": "YPfYdZBFX-2L"
      },
      "source": [
        "# Step 1: Create a Regex for Phone"
      ]
    },
    {
      "cell_type": "markdown",
      "metadata": {
        "id": "R0-KCgT_YFYu"
      },
      "source": [
        "## Numbers\r\n",
        "Create a regular expression to search for phone numbers"
      ]
    },
    {
      "cell_type": "code",
      "metadata": {
        "colab": {
          "base_uri": "https://localhost:8080/"
        },
        "id": "DPSvt0r5hwL3",
        "outputId": "a3e0888b-0101-46a3-a304-f975e8c1f673"
      },
      "source": [
        "!pip install pyperclip"
      ],
      "execution_count": 12,
      "outputs": [
        {
          "output_type": "stream",
          "text": [
            "Collecting pyperclip\n",
            "  Downloading https://files.pythonhosted.org/packages/6f/4c/0b1d507ad7e8bc31d690d04b4f475e74c2002d060f7994ce8c09612df707/pyperclip-1.8.1.tar.gz\n",
            "Building wheels for collected packages: pyperclip\n",
            "  Building wheel for pyperclip (setup.py) ... \u001b[?25l\u001b[?25hdone\n",
            "  Created wheel for pyperclip: filename=pyperclip-1.8.1-cp36-none-any.whl size=11120 sha256=f3491dac3ccd456adea724e638cb30545af205fd79a6834fd20f4a8d9e5b1f0e\n",
            "  Stored in directory: /root/.cache/pip/wheels/44/10/3a/c830e9bb3db2c93274ea1f213a41fabde0d8cf3794251fad0c\n",
            "Successfully built pyperclip\n",
            "Installing collected packages: pyperclip\n",
            "Successfully installed pyperclip-1.8.1\n"
          ],
          "name": "stdout"
        }
      ]
    },
    {
      "cell_type": "code",
      "metadata": {
        "id": "F2LXC8sUaEB0"
      },
      "source": [
        "%cd /content/drive/MyDrive/Colab\\ Notebooks"
      ],
      "execution_count": 7,
      "outputs": []
    },
    {
      "cell_type": "code",
      "metadata": {
        "colab": {
          "base_uri": "https://localhost:8080/"
        },
        "id": "ZlW3idajhITM",
        "outputId": "41545ed7-7a2b-41f2-e286-bcca8a13e5e2"
      },
      "source": [
        "!ls"
      ],
      "execution_count": 10,
      "outputs": [
        {
          "output_type": "stream",
          "text": [
            "Chapter_1_Exploratory_Data_Analysis.ipynb\n",
            "Chapter_2_Introduction_to_TensorFlow_Extended.ipynb\n",
            "Chapter_7_Project_Phone_Number_and_Address_Extractor.ipynb\n",
            "phoneAndEmail.py\n",
            "Portfolio_and_projects\n",
            "testing_data_on_google_colab.ipynb\n",
            "ThinkStats2\n",
            "ThinkStats2_Exercises\n"
          ],
          "name": "stdout"
        }
      ]
    },
    {
      "cell_type": "code",
      "metadata": {
        "colab": {
          "base_uri": "https://localhost:8080/"
        },
        "id": "gYrR2y5BhJRs",
        "outputId": "df041c5c-bce9-4dec-e168-144fa50ee2ca"
      },
      "source": [
        "!python phoneAndEmail.py"
      ],
      "execution_count": 14,
      "outputs": [
        {
          "output_type": "stream",
          "text": [
            "aaaa\n"
          ],
          "name": "stdout"
        }
      ]
    },
    {
      "cell_type": "markdown",
      "metadata": {
        "id": "I1SkduVArE4r"
      },
      "source": [
        "# Step 2: Create a Regex for Email Addresses"
      ]
    },
    {
      "cell_type": "code",
      "metadata": {
        "id": "fJvk5R2Jhqud"
      },
      "source": [
        ""
      ],
      "execution_count": 13,
      "outputs": []
    },
    {
      "cell_type": "markdown",
      "metadata": {
        "id": "W2CIsb5crMki"
      },
      "source": [
        "# Step 3: Find All Matches in the Clipboard Text"
      ]
    },
    {
      "cell_type": "markdown",
      "metadata": {
        "id": "InkIYIycrVnD"
      },
      "source": [
        "# Step 4: Join the Matches into a String for the Clipboard"
      ]
    },
    {
      "cell_type": "code",
      "metadata": {
        "id": "WsE3LFT0rT-w"
      },
      "source": [
        ""
      ],
      "execution_count": null,
      "outputs": []
    }
  ]
}