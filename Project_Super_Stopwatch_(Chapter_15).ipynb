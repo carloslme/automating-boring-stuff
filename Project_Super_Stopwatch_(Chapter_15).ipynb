{
  "nbformat": 4,
  "nbformat_minor": 0,
  "metadata": {
    "colab": {
      "name": "Project: Super Stopwatch (Chapter 15).ipynb",
      "provenance": [],
      "authorship_tag": "ABX9TyPun1T/elQRiTtJGQLExJfx",
      "include_colab_link": true
    },
    "kernelspec": {
      "name": "python3",
      "display_name": "Python 3"
    }
  },
  "cells": [
    {
      "cell_type": "markdown",
      "metadata": {
        "id": "view-in-github",
        "colab_type": "text"
      },
      "source": [
        "<a href=\"https://colab.research.google.com/github/carloslme/automating-boring-stuff/blob/main/Project_Super_Stopwatch_(Chapter_15).ipynb\" target=\"_parent\"><img src=\"https://colab.research.google.com/assets/colab-badge.svg\" alt=\"Open In Colab\"/></a>"
      ]
    },
    {
      "cell_type": "markdown",
      "metadata": {
        "id": "6hp2kZh2Yu1A"
      },
      "source": [
        "At a high level, here’s what your program will do: \r\n",
        "* Track the amount of time elapsed between presses of the ENTER key, with each key press starting a new “lap” on the timer. \r\n",
        "* Print the lap number, total time, and lap time. This means your code will need to do the following: \r\n",
        "* Find the current time by calling time.time() and store it as a timestamp at the start of the program, as well as at the start of each lap. \r\n",
        "* Keep a lap counter and increment it every time the user presses ENTER . \r\n",
        "* Calculate the elapsed time by subtracting timestamps. \r\n",
        "* Handle the KeyboardInterrupt exception so the user can press CTRL -C to quit."
      ]
    },
    {
      "cell_type": "markdown",
      "metadata": {
        "id": "8VHUPuTiY_D5"
      },
      "source": [
        "# Step 1: Set up the program to track times\r\n",
        "The stopwatch program will need to use the current time, so you’ll want to import the time module. Your program should also print some brief instructions to the user before calling `input() `, so the timer can begin after the user presses ENTER"
      ]
    },
    {
      "cell_type": "code",
      "metadata": {
        "id": "VU9zGt5yYelM"
      },
      "source": [
        "script = open('stopwatch.py', 'w')"
      ],
      "execution_count": 1,
      "outputs": []
    },
    {
      "cell_type": "code",
      "metadata": {
        "colab": {
          "base_uri": "https://localhost:8080/"
        },
        "id": "SSqTCVN3ZWRe",
        "outputId": "aa0ccaf2-5499-4556-db8c-c412325a2655"
      },
      "source": [
        "script.write(\r\n",
        "    \"\"\"\r\n",
        "    #! python3 \r\n",
        "    # stopwatch.py - A simple stopwatch program.    \r\n",
        "    \"\"\"\r\n",
        ")"
      ],
      "execution_count": 2,
      "outputs": [
        {
          "output_type": "execute_result",
          "data": {
            "text/plain": [
              "74"
            ]
          },
          "metadata": {
            "tags": []
          },
          "execution_count": 2
        }
      ]
    },
    {
      "cell_type": "code",
      "metadata": {
        "id": "o8W6-HFKZqBW"
      },
      "source": [
        "script.close()"
      ],
      "execution_count": 4,
      "outputs": []
    },
    {
      "cell_type": "code",
      "metadata": {
        "colab": {
          "base_uri": "https://localhost:8080/",
          "height": 35
        },
        "id": "MmcI0Tg4Zs-O",
        "outputId": "3f2a9281-990a-4a47-8312-d88c5f60777c"
      },
      "source": [
        "open('stopwatch.py','r').read()"
      ],
      "execution_count": 5,
      "outputs": [
        {
          "output_type": "execute_result",
          "data": {
            "application/vnd.google.colaboratory.intrinsic+json": {
              "type": "string"
            },
            "text/plain": [
              "'\\n    #! python3 \\n    # stopwatch.py - A simple stopwatch program.    \\n    '"
            ]
          },
          "metadata": {
            "tags": []
          },
          "execution_count": 5
        }
      ]
    },
    {
      "cell_type": "code",
      "metadata": {
        "colab": {
          "base_uri": "https://localhost:8080/"
        },
        "id": "76T2tvR7Z0MN",
        "outputId": "5b718215-58f9-4113-ea04-c61191e7b5c8"
      },
      "source": [
        "# Here starts the program without script execution\r\n",
        "\r\n",
        "#! python3 \r\n",
        "# stopwatch.py - A simple stopwatch program.    \r\n",
        "\r\n",
        "\r\n",
        "import time \r\n",
        "# Display the program's instructions. \r\n",
        "print('Press ENTER to begin. Afterwards, press ENTER to \"click\" the stopwatch. Press Ctrl-C to quit.') \r\n",
        "input() # press Enter to begin \r\n",
        "print('Started.') \r\n",
        "startTime = time.time() # get the first lap's start time \r\n",
        "lastTime = startTime \r\n",
        "lapNum = 1\r\n",
        "\r\n",
        "# TODO: Start tracking the lap times."
      ],
      "execution_count": 6,
      "outputs": [
        {
          "output_type": "stream",
          "text": [
            "Press ENTER to begin. Afterwards, press ENTER to \"click\" the stopwatch. Press Ctrl-C to quit.\n",
            "ENTER\n",
            "Started.\n"
          ],
          "name": "stdout"
        }
      ]
    },
    {
      "cell_type": "code",
      "metadata": {
        "colab": {
          "base_uri": "https://localhost:8080/"
        },
        "id": "2QV4W2WOahP_",
        "outputId": "671dccc3-bf7c-4f97-ac15-04d196891c01"
      },
      "source": [
        "# Start tracking the lap times. \r\n",
        "try: \r\n",
        "  while True: \r\n",
        "    input() \r\n",
        "    lapTime = round(time.time() - lastTime, 2) \r\n",
        "    totalTime = round(time.time() - startTime, 2) \r\n",
        "    print('Lap #%s: %s (%s)' % (lapNum, totalTime, lapTime), end='') \r\n",
        "    lapNum += 1 \r\n",
        "    lastTime = time.time() #reset the last lap time\r\n",
        "except KeyboardInterrupt: # Handle the Ctrl-C exception to keep its error message from displaying. \r\n",
        "  print('\\nDone.')"
      ],
      "execution_count": 7,
      "outputs": [
        {
          "output_type": "stream",
          "text": [
            "ENTER\n",
            "Lap #1: 227.42 (227.42)ENTER\n",
            "Lap #2: 233.39 (5.97)ENTER\n",
            "Lap #3: 237.64 (4.25)ENTER\n",
            "Lap #4: 244.51 (6.87)ENTER\n",
            "Lap #5: 246.78 (2.27)ENTER\n",
            "Lap #6: 247.56 (0.78)\n",
            "Lap #7: 247.84 (0.27)ENTER\n",
            "Lap #8: 248.57 (0.74)ENTER\n",
            "Lap #9: 248.99 (0.42)ENTER\n",
            "Lap #10: 249.48 (0.48)ENTER\n",
            "Lap #11: 250.14 (0.66)ENTER\n",
            "Lap #12: 252.27 (2.13)ENTER\n",
            "Lap #13: 252.71 (0.44)ENTER\n",
            "Lap #14: 254.94 (2.23)\n",
            "Done.\n",
            "ENTER\n"
          ],
          "name": "stdout"
        }
      ]
    }
  ]
}