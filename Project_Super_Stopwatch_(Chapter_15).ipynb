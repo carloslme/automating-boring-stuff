{
  "nbformat": 4,
  "nbformat_minor": 0,
  "metadata": {
    "colab": {
      "name": "Project: Super Stopwatch (Chapter 15).ipynb",
      "provenance": [],
      "toc_visible": true,
      "authorship_tag": "ABX9TyP30qMHp6LkCWrsNyO0A55W",
      "include_colab_link": true
    },
    "kernelspec": {
      "name": "python3",
      "display_name": "Python 3"
    }
  },
  "cells": [
    {
      "cell_type": "markdown",
      "metadata": {
        "id": "view-in-github",
        "colab_type": "text"
      },
      "source": [
        "<a href=\"https://colab.research.google.com/github/carloslme/automating-boring-stuff/blob/main/Project_Super_Stopwatch_(Chapter_15).ipynb\" target=\"_parent\"><img src=\"https://colab.research.google.com/assets/colab-badge.svg\" alt=\"Open In Colab\"/></a>"
      ]
    },
    {
      "cell_type": "markdown",
      "metadata": {
        "id": "6hp2kZh2Yu1A"
      },
      "source": [
        "At a high level, here’s what your program will do: \r\n",
        "* Track the amount of time elapsed between presses of the ENTER key, with each key press starting a new “lap” on the timer. \r\n",
        "* Print the lap number, total time, and lap time. This means your code will need to do the following: \r\n",
        "* Find the current time by calling time.time() and store it as a timestamp at the start of the program, as well as at the start of each lap. \r\n",
        "* Keep a lap counter and increment it every time the user presses ENTER . \r\n",
        "* Calculate the elapsed time by subtracting timestamps. \r\n",
        "* Handle the KeyboardInterrupt exception so the user can press CTRL -C to quit."
      ]
    },
    {
      "cell_type": "markdown",
      "metadata": {
        "id": "8VHUPuTiY_D5"
      },
      "source": [
        "# Step 1: Set up the program to track times\r\n",
        "The stopwatch program will need to use the current time, so you’ll want to import the time module. Your program should also print some brief instructions to the user before calling `input() `, so the timer can begin after the user presses ENTER"
      ]
    },
    {
      "cell_type": "code",
      "metadata": {
        "id": "VU9zGt5yYelM"
      },
      "source": [
        "script = open('stopwatch.py', 'w')"
      ],
      "execution_count": 1,
      "outputs": []
    },
    {
      "cell_type": "code",
      "metadata": {
        "colab": {
          "base_uri": "https://localhost:8080/"
        },
        "id": "SSqTCVN3ZWRe",
        "outputId": "aa0ccaf2-5499-4556-db8c-c412325a2655"
      },
      "source": [
        "script.write(\r\n",
        "    \"\"\"\r\n",
        "    #! python3 \r\n",
        "    # stopwatch.py - A simple stopwatch program.    \r\n",
        "    \"\"\"\r\n",
        ")"
      ],
      "execution_count": 2,
      "outputs": [
        {
          "output_type": "execute_result",
          "data": {
            "text/plain": [
              "74"
            ]
          },
          "metadata": {
            "tags": []
          },
          "execution_count": 2
        }
      ]
    },
    {
      "cell_type": "code",
      "metadata": {
        "id": "o8W6-HFKZqBW"
      },
      "source": [
        "script.close()"
      ],
      "execution_count": 4,
      "outputs": []
    },
    {
      "cell_type": "code",
      "metadata": {
        "colab": {
          "base_uri": "https://localhost:8080/",
          "height": 35
        },
        "id": "MmcI0Tg4Zs-O",
        "outputId": "3f2a9281-990a-4a47-8312-d88c5f60777c"
      },
      "source": [
        "open('stopwatch.py','r').read()"
      ],
      "execution_count": 5,
      "outputs": [
        {
          "output_type": "execute_result",
          "data": {
            "application/vnd.google.colaboratory.intrinsic+json": {
              "type": "string"
            },
            "text/plain": [
              "'\\n    #! python3 \\n    # stopwatch.py - A simple stopwatch program.    \\n    '"
            ]
          },
          "metadata": {
            "tags": []
          },
          "execution_count": 5
        }
      ]
    },
    {
      "cell_type": "code",
      "metadata": {
        "id": "76T2tvR7Z0MN"
      },
      "source": [
        ""
      ],
      "execution_count": null,
      "outputs": []
    }
  ]
}