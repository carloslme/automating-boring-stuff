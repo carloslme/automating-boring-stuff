{
  "nbformat": 4,
  "nbformat_minor": 0,
  "metadata": {
    "colab": {
      "name": "Chapter 7 Pattern Matching with Regular Expressions.ipynb",
      "provenance": [],
      "collapsed_sections": [],
      "toc_visible": true,
      "include_colab_link": true
    },
    "kernelspec": {
      "name": "python3",
      "display_name": "Python 3"
    }
  },
  "cells": [
    {
      "cell_type": "markdown",
      "metadata": {
        "id": "view-in-github",
        "colab_type": "text"
      },
      "source": [
        "<a href=\"https://colab.research.google.com/github/carloslme/automating-boring-stuff/blob/main/Chapter_7_Pattern_Matching_with_Regular_Expressions.ipynb\" target=\"_parent\"><img src=\"https://colab.research.google.com/assets/colab-badge.svg\" alt=\"Open In Colab\"/></a>"
      ]
    },
    {
      "cell_type": "markdown",
      "metadata": {
        "id": "3fPEB7DJElRB"
      },
      "source": [
        "##Finding Patterns of Text Without Regular Expressions\r\n",
        "Create a function that evaluate a phone number with the next format: 415-555-*1234*"
      ]
    },
    {
      "cell_type": "code",
      "metadata": {
        "id": "9nLCh-LPBGVu"
      },
      "source": [
        "def isPhoneNumber(text):\r\n",
        "  \r\n",
        "  # Checks if the text given is exactly 12 characters\r\n",
        "  if len(text) != 12:\r\n",
        "    return False\r\n",
        "\r\n",
        "  # Checks if the first three numbers are only numeric characters\r\n",
        "  for i in range(0,3):\r\n",
        "    if not text[i].isdecimal():\r\n",
        "      return False\r\n",
        "    # Checks if the fourth character is '-'\r\n",
        "    if text[3] != '-':\r\n",
        "      return False \r\n",
        "\r\n",
        "  # Checks if the next three numbers are only numeric characters\r\n",
        "  for i in range(4, 7):\r\n",
        "    if not text[i].isdecimal():\r\n",
        "      return False \r\n",
        "    # Checks if the eighth character is '-'\r\n",
        "    if text[7] != '-': \r\n",
        "      return False \r\n",
        "\r\n",
        "  # Checks if the next three numbers are only numeric characters\r\n",
        "  for i in range(8, 12):\r\n",
        "    if not text[i].isdecimal():\r\n",
        "      return False \r\n",
        "  return True"
      ],
      "execution_count": null,
      "outputs": []
    },
    {
      "cell_type": "code",
      "metadata": {
        "colab": {
          "base_uri": "https://localhost:8080/"
        },
        "id": "JoDdPGFVBcpN",
        "outputId": "786f089a-7c19-4e64-f079-db7f8c02e500"
      },
      "source": [
        "print(isPhoneNumber('415-555-4242'))\r\n",
        "print(isPhoneNumber('Hello world!'))"
      ],
      "execution_count": null,
      "outputs": [
        {
          "output_type": "stream",
          "text": [
            "True\n",
            "False\n"
          ],
          "name": "stdout"
        }
      ]
    },
    {
      "cell_type": "code",
      "metadata": {
        "colab": {
          "base_uri": "https://localhost:8080/"
        },
        "id": "lYFbTmSmBwFi",
        "outputId": "78a0b01e-1388-4596-bec9-8cf07b03d23c"
      },
      "source": [
        "# Find the pattern of text in a larger string\r\n",
        "message = 'Call me at 415-555-1011 tomorrow. 411-555-9999 is my office.'\r\n",
        "for i in range(len(message)):\r\n",
        "  chunk = message[i:i+12]\r\n",
        "  if isPhoneNumber(chunk):\r\n",
        "    print('Phone number found: ' + chunk)\r\n",
        "print('Done')"
      ],
      "execution_count": null,
      "outputs": [
        {
          "output_type": "stream",
          "text": [
            "Phone number found: 415-555-1011\n",
            "Phone number found: 411-555-9999\n",
            "Done\n"
          ],
          "name": "stdout"
        }
      ]
    },
    {
      "cell_type": "markdown",
      "metadata": {
        "id": "6nFnF8_LPbn0"
      },
      "source": [
        "##Finding Patterns of Text With Regular Expressions"
      ]
    },
    {
      "cell_type": "markdown",
      "metadata": {
        "id": "ATtxoyqbT3uU"
      },
      "source": [
        "### *Matching Regex Objects*"
      ]
    },
    {
      "cell_type": "code",
      "metadata": {
        "id": "6f37RI2eCeX7"
      },
      "source": [
        "import re\r\n",
        "# For this example, \\d means any number 0-9\r\n",
        "phoneNumRegex = re.compile(r'\\d\\d\\d-\\d\\d\\d-\\d\\d\\d\\d') #r' means raw string"
      ],
      "execution_count": null,
      "outputs": []
    },
    {
      "cell_type": "code",
      "metadata": {
        "id": "Q6T90kW6CfR0"
      },
      "source": [
        "mo = phoneNumRegex.search('My number is 415-555-4242')"
      ],
      "execution_count": null,
      "outputs": []
    },
    {
      "cell_type": "code",
      "metadata": {
        "colab": {
          "base_uri": "https://localhost:8080/"
        },
        "id": "kQj7oeL8CgLL",
        "outputId": "8299d252-5126-4760-9952-806fd3a44ebb"
      },
      "source": [
        "print('Phone number found: ' + mo.group())"
      ],
      "execution_count": null,
      "outputs": [
        {
          "output_type": "stream",
          "text": [
            "Phone number found: 415-555-4242\n"
          ],
          "name": "stdout"
        }
      ]
    },
    {
      "cell_type": "markdown",
      "metadata": {
        "id": "8qsIZOAQUf5L"
      },
      "source": [
        "### *Grouping with Parentheses*"
      ]
    },
    {
      "cell_type": "code",
      "metadata": {
        "colab": {
          "base_uri": "https://localhost:8080/",
          "height": 35
        },
        "id": "BTXDeGdNTkO9",
        "outputId": "1eed91b6-9839-469c-b43e-1c90d534f7a1"
      },
      "source": [
        "import re\r\n",
        "\r\n",
        "''' \r\n",
        "Adding () -> (\\d\\d\\d) group the numbers that contains the expression\r\n",
        "group() match object method to grab the matching text from just one group. \r\n",
        "'''\r\n",
        "\r\n",
        "phoneNumRegex = re.compile(r'(\\d\\d\\d)-(\\d\\d\\d-\\d\\d\\d\\d)')\r\n",
        "mo = phoneNumRegex.search('My number is 415-555-4242.')\r\n",
        "mo.group(1)"
      ],
      "execution_count": null,
      "outputs": [
        {
          "output_type": "execute_result",
          "data": {
            "application/vnd.google.colaboratory.intrinsic+json": {
              "type": "string"
            },
            "text/plain": [
              "'415'"
            ]
          },
          "metadata": {
            "tags": []
          },
          "execution_count": 23
        }
      ]
    },
    {
      "cell_type": "code",
      "metadata": {
        "colab": {
          "base_uri": "https://localhost:8080/",
          "height": 35
        },
        "id": "-eQ2lDyJVN8V",
        "outputId": "6a247775-8268-437a-8e94-17328aa7cdbf"
      },
      "source": [
        "mo.group(2)"
      ],
      "execution_count": null,
      "outputs": [
        {
          "output_type": "execute_result",
          "data": {
            "application/vnd.google.colaboratory.intrinsic+json": {
              "type": "string"
            },
            "text/plain": [
              "'555-4242'"
            ]
          },
          "metadata": {
            "tags": []
          },
          "execution_count": 24
        }
      ]
    },
    {
      "cell_type": "code",
      "metadata": {
        "colab": {
          "base_uri": "https://localhost:8080/",
          "height": 35
        },
        "id": "S7K40cxlVykX",
        "outputId": "5c3317a3-e726-4d7a-bd9d-85e05178b1e1"
      },
      "source": [
        "mo.group(0)"
      ],
      "execution_count": null,
      "outputs": [
        {
          "output_type": "execute_result",
          "data": {
            "application/vnd.google.colaboratory.intrinsic+json": {
              "type": "string"
            },
            "text/plain": [
              "'415-555-4242'"
            ]
          },
          "metadata": {
            "tags": []
          },
          "execution_count": 25
        }
      ]
    },
    {
      "cell_type": "code",
      "metadata": {
        "colab": {
          "base_uri": "https://localhost:8080/",
          "height": 35
        },
        "id": "PnktPv6cV4km",
        "outputId": "b90213fb-d464-474f-aaa9-2fdc8fc6ab6d"
      },
      "source": [
        "mo.group()"
      ],
      "execution_count": null,
      "outputs": [
        {
          "output_type": "execute_result",
          "data": {
            "application/vnd.google.colaboratory.intrinsic+json": {
              "type": "string"
            },
            "text/plain": [
              "'415-555-4242'"
            ]
          },
          "metadata": {
            "tags": []
          },
          "execution_count": 26
        }
      ]
    },
    {
      "cell_type": "code",
      "metadata": {
        "colab": {
          "base_uri": "https://localhost:8080/"
        },
        "id": "ETXiJC4HV6kX",
        "outputId": "0529db4d-bff4-41e9-ecce-9c60fadc1305"
      },
      "source": [
        "'''\r\n",
        "If you would like to retrieve all the groups at once, use the groups() method.\r\n",
        "'''\r\n",
        "mo.groups()"
      ],
      "execution_count": null,
      "outputs": [
        {
          "output_type": "execute_result",
          "data": {
            "text/plain": [
              "('415', '555-4242')"
            ]
          },
          "metadata": {
            "tags": []
          },
          "execution_count": 30
        }
      ]
    },
    {
      "cell_type": "code",
      "metadata": {
        "colab": {
          "base_uri": "https://localhost:8080/"
        },
        "id": "B-ZJ1AH1WMh3",
        "outputId": "8ed2a56e-760c-4bca-c42e-1a935c21a55a"
      },
      "source": [
        "areaCode, mainNumber = mo.groups()\r\n",
        "print(areaCode)\r\n",
        "print(mainNumber)"
      ],
      "execution_count": null,
      "outputs": [
        {
          "output_type": "stream",
          "text": [
            "415\n",
            "555-4242\n"
          ],
          "name": "stdout"
        }
      ]
    },
    {
      "cell_type": "code",
      "metadata": {
        "id": "sfhUJhnUWSCx"
      },
      "source": [
        "''' \r\n",
        "To escape the ( and ) characters the next code can be added\r\n",
        "'''\r\n",
        "\r\n",
        "phoneNumRegex = re.compile(r'(\\(\\d\\d\\d\\)) (\\d\\d\\d-\\d\\d\\d\\d)')"
      ],
      "execution_count": null,
      "outputs": []
    },
    {
      "cell_type": "code",
      "metadata": {
        "id": "Y-LukQBXXE10"
      },
      "source": [
        "mo = phoneNumRegex.search('My phone number is (415) 555-4242.')"
      ],
      "execution_count": null,
      "outputs": []
    },
    {
      "cell_type": "code",
      "metadata": {
        "colab": {
          "base_uri": "https://localhost:8080/",
          "height": 35
        },
        "id": "G2XexLZ4XOyR",
        "outputId": "c6d4fd7f-5bdb-4bb9-c197-aa0add887769"
      },
      "source": [
        "mo.group(1)"
      ],
      "execution_count": null,
      "outputs": [
        {
          "output_type": "execute_result",
          "data": {
            "application/vnd.google.colaboratory.intrinsic+json": {
              "type": "string"
            },
            "text/plain": [
              "'(415)'"
            ]
          },
          "metadata": {
            "tags": []
          },
          "execution_count": 44
        }
      ]
    },
    {
      "cell_type": "code",
      "metadata": {
        "colab": {
          "base_uri": "https://localhost:8080/",
          "height": 35
        },
        "id": "njgOew3NXRQC",
        "outputId": "c402ad9b-615c-455c-c6a2-7df30b9f0abf"
      },
      "source": [
        "mo.group(2)"
      ],
      "execution_count": null,
      "outputs": [
        {
          "output_type": "execute_result",
          "data": {
            "application/vnd.google.colaboratory.intrinsic+json": {
              "type": "string"
            },
            "text/plain": [
              "'555-4242'"
            ]
          },
          "metadata": {
            "tags": []
          },
          "execution_count": 45
        }
      ]
    },
    {
      "cell_type": "markdown",
      "metadata": {
        "id": "itxKkQMceWa4"
      },
      "source": [
        ""
      ]
    },
    {
      "cell_type": "markdown",
      "metadata": {
        "id": "GoQ4inHHeXb4"
      },
      "source": [
        "### *Matching Multiple Groups with the Pipe*\r\n",
        "The | character is called a pipe . You can use it anywhere you want to match one of many expressions. For example, the regular expression r'Batman|Tina Fey' will match either 'Batman' or 'Tina Fey'"
      ]
    },
    {
      "cell_type": "code",
      "metadata": {
        "id": "polFpRsZXTsO"
      },
      "source": [
        "'''\r\n",
        "When both Batman and Tina Fey occur in the searched string, the first occurrence of matching text will be returned as the Match object.\r\n",
        "'''"
      ],
      "execution_count": null,
      "outputs": []
    },
    {
      "cell_type": "code",
      "metadata": {
        "colab": {
          "base_uri": "https://localhost:8080/",
          "height": 35
        },
        "id": "oYOEWPpbe1rr",
        "outputId": "8a86ba41-b4c6-426f-a177-11f6875ba2aa"
      },
      "source": [
        "import re\r\n",
        "heroRegex = re.compile(r'Batman|Tina Fey')\r\n",
        "mo1 = heroRegex.search('Batman and Tina Fey')\r\n",
        "mo1.group()"
      ],
      "execution_count": null,
      "outputs": [
        {
          "output_type": "execute_result",
          "data": {
            "application/vnd.google.colaboratory.intrinsic+json": {
              "type": "string"
            },
            "text/plain": [
              "'Batman'"
            ]
          },
          "metadata": {
            "tags": []
          },
          "execution_count": 1
        }
      ]
    },
    {
      "cell_type": "code",
      "metadata": {
        "colab": {
          "base_uri": "https://localhost:8080/",
          "height": 35
        },
        "id": "nmhZ3qzEfltp",
        "outputId": "fa96460e-cf88-4869-d3a8-f460e416c462"
      },
      "source": [
        "mo2 = heroRegex.search('Tina Fey and Batman.')\r\n",
        "mo2.group()"
      ],
      "execution_count": null,
      "outputs": [
        {
          "output_type": "execute_result",
          "data": {
            "application/vnd.google.colaboratory.intrinsic+json": {
              "type": "string"
            },
            "text/plain": [
              "'Tina Fey'"
            ]
          },
          "metadata": {
            "tags": []
          },
          "execution_count": 2
        }
      ]
    },
    {
      "cell_type": "code",
      "metadata": {
        "colab": {
          "base_uri": "https://localhost:8080/",
          "height": 35
        },
        "id": "S4V9PMzJf0Po",
        "outputId": "2a297e3d-d6a1-481f-8937-11d82cc8acb8"
      },
      "source": [
        "''' \r\n",
        "Specifying one prefix \r\n",
        "'''\r\n",
        "batRegex = re.compile(r'Bat(man|mobile|copter|bat)')\r\n",
        "mo = batRegex.search('Batmobile lost a wheel')\r\n",
        "\r\n",
        "# Return the full matched word\r\n",
        "mo.group() "
      ],
      "execution_count": null,
      "outputs": [
        {
          "output_type": "execute_result",
          "data": {
            "application/vnd.google.colaboratory.intrinsic+json": {
              "type": "string"
            },
            "text/plain": [
              "'Batmobile'"
            ]
          },
          "metadata": {
            "tags": []
          },
          "execution_count": 6
        }
      ]
    },
    {
      "cell_type": "code",
      "metadata": {
        "colab": {
          "base_uri": "https://localhost:8080/",
          "height": 35
        },
        "id": "kCUQZbjrf9j5",
        "outputId": "76d44c75-02dc-46d3-d5fb-5771661b73ed"
      },
      "source": [
        "# Return just the part of the matched text inside the first parentheses\r\n",
        "mo.group(1)"
      ],
      "execution_count": null,
      "outputs": [
        {
          "output_type": "execute_result",
          "data": {
            "application/vnd.google.colaboratory.intrinsic+json": {
              "type": "string"
            },
            "text/plain": [
              "'mobile'"
            ]
          },
          "metadata": {
            "tags": []
          },
          "execution_count": 7
        }
      ]
    },
    {
      "cell_type": "markdown",
      "metadata": {
        "id": "JQdHSezdi-bV"
      },
      "source": [
        "### *Optional Matching with the Question Mark*\r\n",
        "Sometimes there is a pattern that you want to match only optionally. That is, the regex should find a match whether or not that bit of text is there. The ? character flags the group that precedes it as an optional part of the pattern."
      ]
    },
    {
      "cell_type": "code",
      "metadata": {
        "colab": {
          "base_uri": "https://localhost:8080/",
          "height": 35
        },
        "id": "NiopQbPjiJQg",
        "outputId": "cd11a28b-11a5-40db-c4b1-b59a504dcaf0"
      },
      "source": [
        "batRegex = re.compile(r'Bat(wo)?man')\r\n",
        "mo1 = batRegex.search('The adventure of Batman')\r\n",
        "mo1.group()"
      ],
      "execution_count": null,
      "outputs": [
        {
          "output_type": "execute_result",
          "data": {
            "application/vnd.google.colaboratory.intrinsic+json": {
              "type": "string"
            },
            "text/plain": [
              "'Batman'"
            ]
          },
          "metadata": {
            "tags": []
          },
          "execution_count": 13
        }
      ]
    },
    {
      "cell_type": "code",
      "metadata": {
        "colab": {
          "base_uri": "https://localhost:8080/",
          "height": 35
        },
        "id": "suJsDJtzje2R",
        "outputId": "bd55a978-a5a3-4135-ebd9-f64373ddafa0"
      },
      "source": [
        "mo2 = batRegex.search('The adventures of Batwoman')\r\n",
        "mo2.group()"
      ],
      "execution_count": null,
      "outputs": [
        {
          "output_type": "execute_result",
          "data": {
            "application/vnd.google.colaboratory.intrinsic+json": {
              "type": "string"
            },
            "text/plain": [
              "'Batwoman'"
            ]
          },
          "metadata": {
            "tags": []
          },
          "execution_count": 14
        }
      ]
    },
    {
      "cell_type": "code",
      "metadata": {
        "colab": {
          "base_uri": "https://localhost:8080/",
          "height": 53
        },
        "id": "XuuJ3mTBjr3p",
        "outputId": "d151a5ed-5eb0-48d7-ef36-97d621a11e8d"
      },
      "source": [
        "'''\r\n",
        "The (wo)? part of the regular expression means that the pattern wo is an optional group. The regex will match text that has zero instances or one instance of wo in it. This is why the regex matches both 'Batwoman' and 'Batman'\r\n",
        "'''"
      ],
      "execution_count": null,
      "outputs": [
        {
          "output_type": "execute_result",
          "data": {
            "application/vnd.google.colaboratory.intrinsic+json": {
              "type": "string"
            },
            "text/plain": [
              "\"\\nThe (wo)? part of the regular expression means that the pattern wo is an optional group. The regex will match text that has zero instances or one instance of wo in it. This is why the regex matches both 'Batwoman' and 'Batman'\\n\""
            ]
          },
          "metadata": {
            "tags": []
          },
          "execution_count": 15
        }
      ]
    },
    {
      "cell_type": "code",
      "metadata": {
        "colab": {
          "base_uri": "https://localhost:8080/",
          "height": 35
        },
        "id": "rUZ-gG_Bj7AK",
        "outputId": "523ce217-a939-495a-ee7b-9d2d1fedba6c"
      },
      "source": [
        "# Using it in the previous phone number examples\r\n",
        "phoneRegex = re.compile(r'(\\d\\d\\d-)?\\d\\d\\d-\\d\\d\\d\\d')\r\n",
        "mo1 = phoneRegex.search('My number is 415-555-4242')\r\n",
        "mo1.group()"
      ],
      "execution_count": null,
      "outputs": [
        {
          "output_type": "execute_result",
          "data": {
            "application/vnd.google.colaboratory.intrinsic+json": {
              "type": "string"
            },
            "text/plain": [
              "'415-555-4242'"
            ]
          },
          "metadata": {
            "tags": []
          },
          "execution_count": 18
        }
      ]
    },
    {
      "cell_type": "code",
      "metadata": {
        "colab": {
          "base_uri": "https://localhost:8080/",
          "height": 35
        },
        "id": "NmjSKT3PkBMZ",
        "outputId": "dd03efc7-c954-4126-c8e4-93dd32aa0f27"
      },
      "source": [
        "mo2 = phoneRegex.search('My number is 649-5490')\r\n",
        "mo2.group()"
      ],
      "execution_count": null,
      "outputs": [
        {
          "output_type": "execute_result",
          "data": {
            "application/vnd.google.colaboratory.intrinsic+json": {
              "type": "string"
            },
            "text/plain": [
              "'649-5490'"
            ]
          },
          "metadata": {
            "tags": []
          },
          "execution_count": 20
        }
      ]
    },
    {
      "cell_type": "markdown",
      "metadata": {
        "id": "Bu-TnK0Ck3nU"
      },
      "source": [
        "### *Matching Zero or More with the Star*\r\n",
        "The * (called the star or asterisk ) means “match zero or more”—the group that precedes the star can occur any number of times in the text. It can "
      ]
    },
    {
      "cell_type": "code",
      "metadata": {
        "colab": {
          "base_uri": "https://localhost:8080/",
          "height": 35
        },
        "id": "V7xsW_jnkm1I",
        "outputId": "786d0afa-9161-4b9e-cffe-cb4aedf88220"
      },
      "source": [
        "batRegex = re.compile(r'Bat(wo)*man')\r\n",
        "mo1 = batRegex.search('My name is Batman.')\r\n",
        "mo1.group()"
      ],
      "execution_count": null,
      "outputs": [
        {
          "output_type": "execute_result",
          "data": {
            "application/vnd.google.colaboratory.intrinsic+json": {
              "type": "string"
            },
            "text/plain": [
              "'Batman'"
            ]
          },
          "metadata": {
            "tags": []
          },
          "execution_count": 21
        }
      ]
    },
    {
      "cell_type": "code",
      "metadata": {
        "colab": {
          "base_uri": "https://localhost:8080/",
          "height": 35
        },
        "id": "Bw3Yh-edlQcy",
        "outputId": "be9877bc-f494-4ae2-ae29-65f81e2fb57f"
      },
      "source": [
        "mo2 = batRegex.search('She is is Batwoman.')\r\n",
        "mo2.group()"
      ],
      "execution_count": null,
      "outputs": [
        {
          "output_type": "execute_result",
          "data": {
            "application/vnd.google.colaboratory.intrinsic+json": {
              "type": "string"
            },
            "text/plain": [
              "'Batwoman'"
            ]
          },
          "metadata": {
            "tags": []
          },
          "execution_count": 26
        }
      ]
    },
    {
      "cell_type": "code",
      "metadata": {
        "colab": {
          "base_uri": "https://localhost:8080/",
          "height": 35
        },
        "id": "QoKoLJUflVzB",
        "outputId": "c3941fd6-3f72-4e1d-db1e-bfe4ee764135"
      },
      "source": [
        "mo3 = batRegex.search('The Adventures of Batwowowowoman')\r\n",
        "mo3.group()"
      ],
      "execution_count": null,
      "outputs": [
        {
          "output_type": "execute_result",
          "data": {
            "application/vnd.google.colaboratory.intrinsic+json": {
              "type": "string"
            },
            "text/plain": [
              "'Batwowowowoman'"
            ]
          },
          "metadata": {
            "tags": []
          },
          "execution_count": 31
        }
      ]
    },
    {
      "cell_type": "markdown",
      "metadata": {
        "id": "LIK3j7MpmYq2"
      },
      "source": [
        "### *Matching One or More with the Plus*\r\n",
        "While * means “match zero or more,” the + (or plus ) means “match one or more.” Unlike the star, which does not require its group to appear in the matched string, the group preceding a plus must appear at least once . It is not optional."
      ]
    },
    {
      "cell_type": "code",
      "metadata": {
        "colab": {
          "base_uri": "https://localhost:8080/",
          "height": 35
        },
        "id": "hift0McjmhbI",
        "outputId": "06891ab3-32ae-4284-d9e5-a3f1ecac5a96"
      },
      "source": [
        "batRegex = re.compile(r'Bat(wo)+man')\r\n",
        "mo1 = batRegex.search('The Adventures of Batwoman')\r\n",
        "mo1.group()"
      ],
      "execution_count": null,
      "outputs": [
        {
          "output_type": "execute_result",
          "data": {
            "application/vnd.google.colaboratory.intrinsic+json": {
              "type": "string"
            },
            "text/plain": [
              "'Batwoman'"
            ]
          },
          "metadata": {
            "tags": []
          },
          "execution_count": 36
        }
      ]
    },
    {
      "cell_type": "code",
      "metadata": {
        "colab": {
          "base_uri": "https://localhost:8080/",
          "height": 35
        },
        "id": "mKPMTU8Rmtrb",
        "outputId": "9e0eab08-3af8-4611-c018-0002efb3118c"
      },
      "source": [
        "mo2 = batRegex.search('The Adventures of Batwowowowoman')\r\n",
        "mo2.group()"
      ],
      "execution_count": null,
      "outputs": [
        {
          "output_type": "execute_result",
          "data": {
            "application/vnd.google.colaboratory.intrinsic+json": {
              "type": "string"
            },
            "text/plain": [
              "'Batwowowowoman'"
            ]
          },
          "metadata": {
            "tags": []
          },
          "execution_count": 38
        }
      ]
    },
    {
      "cell_type": "code",
      "metadata": {
        "colab": {
          "base_uri": "https://localhost:8080/"
        },
        "id": "B-f_8Q6rnW0f",
        "outputId": "a0c7fa3e-e7fa-4fb4-9f36-4e78a9fbf093"
      },
      "source": [
        "mo3 = batRegex.search('Batman')\r\n",
        "mo3 == None"
      ],
      "execution_count": null,
      "outputs": [
        {
          "output_type": "execute_result",
          "data": {
            "text/plain": [
              "True"
            ]
          },
          "metadata": {
            "tags": []
          },
          "execution_count": 39
        }
      ]
    },
    {
      "cell_type": "markdown",
      "metadata": {
        "id": "6MRTWv5-vHpO"
      },
      "source": [
        "# Matching Specific Repetitions with Curly Brackets\r\n",
        "If you have a group that you want to repeat a specific number of times, follow the group in your regex with a number in curly brackets. For example, the regex (Ha){3} will match the string 'HaHaHa' , but it will not match 'HaHa' , since the latter has only two repeats of the (Ha) group.\r\n",
        "\r\n",
        "If you have a group that you want to repeat a specific number of times, follow the group in your regex with a number in curly brackets. For example, the regex (Ha){3} will match the string 'HaHaHa' , but it will not match 'HaHa' , since the latter has only two repeats of the (Ha) group.\r\n",
        "\r\n",
        "You can also leave out the first or second number in the curly brackets to leave the minimum or maximum unbounded. For example, (Ha){3,} will match three or more instances of the (Ha) group, while (Ha){,5} will match zero to five instances. Curly brackets can help make your regular expressions shorter."
      ]
    },
    {
      "cell_type": "code",
      "metadata": {
        "colab": {
          "base_uri": "https://localhost:8080/",
          "height": 35
        },
        "id": "ST2kG7d9njOW",
        "outputId": "c9b9e051-ff9e-4ac3-c1f4-fe34e5dd9bd1"
      },
      "source": [
        "haRegex = re.compile(r'(Ha){3}')\r\n",
        "mo1 = haRegex.search('HaHaHa')\r\n",
        "mo1.group()"
      ],
      "execution_count": null,
      "outputs": [
        {
          "output_type": "execute_result",
          "data": {
            "application/vnd.google.colaboratory.intrinsic+json": {
              "type": "string"
            },
            "text/plain": [
              "'HaHaHa'"
            ]
          },
          "metadata": {
            "tags": []
          },
          "execution_count": 40
        }
      ]
    },
    {
      "cell_type": "code",
      "metadata": {
        "id": "iLVvt9D1v0FR",
        "colab": {
          "base_uri": "https://localhost:8080/"
        },
        "outputId": "11583ae4-bb37-49ee-c273-712d7f8ace32"
      },
      "source": [
        "mo2 = haRegex.search('Ha')\r\n",
        "mo2 == None"
      ],
      "execution_count": null,
      "outputs": [
        {
          "output_type": "execute_result",
          "data": {
            "text/plain": [
              "True"
            ]
          },
          "metadata": {
            "tags": []
          },
          "execution_count": 41
        }
      ]
    },
    {
      "cell_type": "code",
      "metadata": {
        "id": "8EKt9xGVv6p2"
      },
      "source": [
        ""
      ],
      "execution_count": null,
      "outputs": []
    },
    {
      "cell_type": "markdown",
      "metadata": {
        "id": "H0LCB4yqCbgh"
      },
      "source": [
        "##Greedy and Nongreedy Matching\r\n",
        "Python’s regular expressions are greedy by default, which means that in ambiguous situations they will match the longest string possible. The non-greedy version of the curly brackets, which matches the shortest string possible, has the closing curly bracket followed by a question mark.\r\n",
        "\r\n",
        "\r\n"
      ]
    },
    {
      "cell_type": "code",
      "metadata": {
        "colab": {
          "base_uri": "https://localhost:8080/",
          "height": 35
        },
        "id": "SD-sCCULClwl",
        "outputId": "0c0e669c-1f48-4397-d30c-8a800d6b731a"
      },
      "source": [
        "import re\r\n",
        "\r\n",
        "greedyHaRegex = re.compile(r'(Ha){3,5}')\r\n",
        "mo1 = greedyHaRegex.search('HaHaHaHaHa')\r\n",
        "mo1.group()"
      ],
      "execution_count": null,
      "outputs": [
        {
          "output_type": "execute_result",
          "data": {
            "application/vnd.google.colaboratory.intrinsic+json": {
              "type": "string"
            },
            "text/plain": [
              "'HaHaHaHaHa'"
            ]
          },
          "metadata": {
            "tags": []
          },
          "execution_count": 15
        }
      ]
    },
    {
      "cell_type": "code",
      "metadata": {
        "colab": {
          "base_uri": "https://localhost:8080/",
          "height": 35
        },
        "id": "dUTX1nltDR2E",
        "outputId": "aec12bbb-960a-44b3-fb7a-9537c08f7110"
      },
      "source": [
        "nongreedyHaRegex = re.compile(r'(Ha){3,5}?')\r\n",
        "mo2 = nongreedyHaRegex.search('HaHaHaHaHa')\r\n",
        "mo2.group()"
      ],
      "execution_count": null,
      "outputs": [
        {
          "output_type": "execute_result",
          "data": {
            "application/vnd.google.colaboratory.intrinsic+json": {
              "type": "string"
            },
            "text/plain": [
              "'HaHaHa'"
            ]
          },
          "metadata": {
            "tags": []
          },
          "execution_count": 16
        }
      ]
    },
    {
      "cell_type": "markdown",
      "metadata": {
        "id": "81KGALQIDjsX"
      },
      "source": [
        "Note that the question mark can have two meanings in regular expressions: declaring a nongreedy match or flagging an optional group. These meanings are entirely unrelated."
      ]
    },
    {
      "cell_type": "markdown",
      "metadata": {
        "id": "nwJbb0TzE2g1"
      },
      "source": [
        "##The findall() Method\r\n",
        "In addition to the search() method, Regex objects also have a findall() method. While search() will return a Match object of the first matched text in the searched string, the findall() method will return the strings of every match in the searched string. *as long as there are no groups in the regular expression .*"
      ]
    },
    {
      "cell_type": "code",
      "metadata": {
        "colab": {
          "base_uri": "https://localhost:8080/",
          "height": 35
        },
        "id": "jNIg38GHDd5k",
        "outputId": "75eba0cd-8d58-4953-8011-90ef57a7a502"
      },
      "source": [
        "phoneNumRegex = re.compile(r'\\d\\d\\d-\\d\\d\\d-\\d\\d\\d\\d')\r\n",
        "mo = phoneNumRegex.search('Cell: 415-555-9999 Work: 212-555-0000')\r\n",
        "mo.group()"
      ],
      "execution_count": null,
      "outputs": [
        {
          "output_type": "execute_result",
          "data": {
            "application/vnd.google.colaboratory.intrinsic+json": {
              "type": "string"
            },
            "text/plain": [
              "'415-555-9999'"
            ]
          },
          "metadata": {
            "tags": []
          },
          "execution_count": 8
        }
      ]
    },
    {
      "cell_type": "code",
      "metadata": {
        "id": "jAkIqJ_vGq0X",
        "colab": {
          "base_uri": "https://localhost:8080/"
        },
        "outputId": "167c2867-e6d3-488c-c324-a0560cdcf1f4"
      },
      "source": [
        "phoneNumRegex = re.compile(r'\\d\\d\\d-\\d\\d\\d-\\d\\d\\d\\d') # has no groups\r\n",
        "phoneNumRegex.findall('Cell: 415-555-9999 Work: 212-555-0000')"
      ],
      "execution_count": null,
      "outputs": [
        {
          "output_type": "execute_result",
          "data": {
            "text/plain": [
              "['415-555-9999', '212-555-0000']"
            ]
          },
          "metadata": {
            "tags": []
          },
          "execution_count": 9
        }
      ]
    },
    {
      "cell_type": "markdown",
      "metadata": {
        "id": "ZJi4KKKTMsSK"
      },
      "source": [
        "If there are groups in the regular expression, then findall() will return a list of tuples. Each tuple represents a found match, and its items are the matched strings for each group in the regex."
      ]
    },
    {
      "cell_type": "code",
      "metadata": {
        "id": "hflDPjXXHBCZ",
        "colab": {
          "base_uri": "https://localhost:8080/"
        },
        "outputId": "7e4b03bd-7ef1-4629-e1d1-aa768a585cad"
      },
      "source": [
        "phoneNumRegex = re.compile(r'(\\d\\d\\d)-(\\d\\d\\d)-(\\d\\d\\d\\d)') # has groups\r\n",
        "phoneNumRegex.findall('Cell: 415-555-9999 Work: 212-555-0000')"
      ],
      "execution_count": null,
      "outputs": [
        {
          "output_type": "execute_result",
          "data": {
            "text/plain": [
              "[('415', '555', '9999'), ('212', '555', '0000')]"
            ]
          },
          "metadata": {
            "tags": []
          },
          "execution_count": 10
        }
      ]
    },
    {
      "cell_type": "markdown",
      "metadata": {
        "id": "ak_lVHLWHkPe"
      },
      "source": [
        "## Shorthand character class\r\n",
        "* \\d -> Any numeric digit from 0-9\r\n",
        "* \\D -> Any character that is NOT a numeric digit from 0-9\r\n",
        "* \\w Any letter, numeric digit, or the underscore character. (This is a matchin \"word\" characters)\r\n",
        "* \\W Any character that is NOT a letter, numeric digit, or the underscore character. (This is a matchin \"word\" characters)\r\n",
        "* \\s Any space, tab, or newline character. (Think of this as matching “space” characters.)\r\n",
        "* \\S Any character that is not a space, tab, or newline."
      ]
    },
    {
      "cell_type": "code",
      "metadata": {
        "id": "00u52y1-Muuc",
        "colab": {
          "base_uri": "https://localhost:8080/"
        },
        "outputId": "2bf7fa4e-d8d6-400a-a3a1-b6318c319c15"
      },
      "source": [
        "import re\r\n",
        "\r\n",
        "xmasRegex = re.compile(r'\\d+\\s\\w+')\r\n",
        "xmasRegex.findall('12 drummers, 11 pipers, 10 lords, 9 ladies, 8 maids, 7 swans, 6 geese, 5 rings, 4 birds, 3 hens, 2 doves, 1 partridge')"
      ],
      "execution_count": null,
      "outputs": [
        {
          "output_type": "execute_result",
          "data": {
            "text/plain": [
              "['12 drummers',\n",
              " '11 pipers',\n",
              " '10 lords',\n",
              " '9 ladies',\n",
              " '8 maids',\n",
              " '7 swans',\n",
              " '6 geese',\n",
              " '5 rings',\n",
              " '4 birds',\n",
              " '3 hens',\n",
              " '2 doves',\n",
              " '1 partridge']"
            ]
          },
          "metadata": {
            "tags": []
          },
          "execution_count": 1
        }
      ]
    },
    {
      "cell_type": "markdown",
      "metadata": {
        "id": "MS18qrZzIVpQ"
      },
      "source": [
        "## Making Your Own Character Classes\r\n",
        "You can define your own character class using square brackets. [ ]"
      ]
    },
    {
      "cell_type": "code",
      "metadata": {
        "id": "OUdgYf_iHqEQ",
        "colab": {
          "base_uri": "https://localhost:8080/"
        },
        "outputId": "258cd35f-4232-49ce-e62f-922cd4a5ffa2"
      },
      "source": [
        "vowelRegex = re.compile(r'[aeiouA EIOU]')\r\n",
        "vowelRegex.findall('RoboCop eats baby food. BABY FOOD.')"
      ],
      "execution_count": null,
      "outputs": [
        {
          "output_type": "execute_result",
          "data": {
            "text/plain": [
              "['o',\n",
              " 'o',\n",
              " 'o',\n",
              " ' ',\n",
              " 'e',\n",
              " 'a',\n",
              " ' ',\n",
              " 'a',\n",
              " ' ',\n",
              " 'o',\n",
              " 'o',\n",
              " ' ',\n",
              " 'A',\n",
              " ' ',\n",
              " 'O',\n",
              " 'O']"
            ]
          },
          "metadata": {
            "tags": []
          },
          "execution_count": 3
        }
      ]
    },
    {
      "cell_type": "markdown",
      "metadata": {
        "id": "pr1eVU8iIx3X"
      },
      "source": [
        "You can also include ranges of letters or numbers by using a hyphen. For example, the character class [a-zA-Z0-9] will match all lowercase letters, uppercase letters, and numbers.\r\n",
        "\r\n",
        "By placing a caret character ( ^ ) just after the character class’s opening bracket, you can make a negative character class . A negative character class will match all the characters that are not in the character class."
      ]
    },
    {
      "cell_type": "code",
      "metadata": {
        "id": "xMizyVPeIrzC",
        "colab": {
          "base_uri": "https://localhost:8080/"
        },
        "outputId": "fad52705-d41c-47ac-a42c-270f98a8eeeb"
      },
      "source": [
        "consonantRegex = re.compile(r'[^aeiouAEIOU]')\r\n",
        "consonantRegex.findall('RoboCop eats baby food. BABY FOOD.')"
      ],
      "execution_count": null,
      "outputs": [
        {
          "output_type": "execute_result",
          "data": {
            "text/plain": [
              "['R',\n",
              " 'b',\n",
              " 'C',\n",
              " 'p',\n",
              " ' ',\n",
              " 't',\n",
              " 's',\n",
              " ' ',\n",
              " 'b',\n",
              " 'b',\n",
              " 'y',\n",
              " ' ',\n",
              " 'f',\n",
              " 'd',\n",
              " '.',\n",
              " ' ',\n",
              " 'B',\n",
              " 'B',\n",
              " 'Y',\n",
              " ' ',\n",
              " 'F',\n",
              " 'D',\n",
              " '.']"
            ]
          },
          "metadata": {
            "tags": []
          },
          "execution_count": 4
        }
      ]
    },
    {
      "cell_type": "markdown",
      "metadata": {
        "id": "F1TFQcY0JGqn"
      },
      "source": [
        "## The Caret and Dollar Sign Characters\r\n",
        "You can also use the caret symbol ( ^ ) at the start of a regex to indicate that a match must occur at the beginning of the searched text. Likewise, you can put a dollar sign ( \\$ ) at the end of the regex to indicate the string must end with this regex pattern. And you can use the ^ and $ together to indicate that the entire string must match the regex—that is, it’s not enough for a match to be made on some subset of the string."
      ]
    },
    {
      "cell_type": "code",
      "metadata": {
        "id": "OcwKXsMiJDiA",
        "colab": {
          "base_uri": "https://localhost:8080/"
        },
        "outputId": "ce2efaef-3dde-4007-afac-e494cec21576"
      },
      "source": [
        "beginsWithHello = re.compile(r'^Hello')\r\n",
        "beginsWithHello.search('Hello world!')"
      ],
      "execution_count": null,
      "outputs": [
        {
          "output_type": "execute_result",
          "data": {
            "text/plain": [
              "<_sre.SRE_Match object; span=(0, 5), match='Hello'>"
            ]
          },
          "metadata": {
            "tags": []
          },
          "execution_count": 5
        }
      ]
    },
    {
      "cell_type": "code",
      "metadata": {
        "id": "1SYG14PWJqcw",
        "colab": {
          "base_uri": "https://localhost:8080/"
        },
        "outputId": "31c8c88e-c745-4a6b-8a89-0c4e09415e12"
      },
      "source": [
        "beginsWithHello.search('He said hello.') == None"
      ],
      "execution_count": null,
      "outputs": [
        {
          "output_type": "execute_result",
          "data": {
            "text/plain": [
              "True"
            ]
          },
          "metadata": {
            "tags": []
          },
          "execution_count": 7
        }
      ]
    },
    {
      "cell_type": "markdown",
      "metadata": {
        "id": "P1ZbZYiqJ71z"
      },
      "source": [
        "The r'\\d$' regular expression string matches strings that end with a numeric character from 0 to 9."
      ]
    },
    {
      "cell_type": "code",
      "metadata": {
        "id": "gLavu9ocJth1",
        "colab": {
          "base_uri": "https://localhost:8080/"
        },
        "outputId": "3767dbac-048b-4c5e-b514-557195727e65"
      },
      "source": [
        "import re\r\n",
        "\r\n",
        "endsWithNumber = re.compile(r'\\d$')\r\n",
        "endsWithNumber.search('Your number is 89')"
      ],
      "execution_count": null,
      "outputs": [
        {
          "output_type": "execute_result",
          "data": {
            "text/plain": [
              "<_sre.SRE_Match object; span=(16, 17), match='9'>"
            ]
          },
          "metadata": {
            "tags": []
          },
          "execution_count": 13
        }
      ]
    },
    {
      "cell_type": "code",
      "metadata": {
        "id": "A5dKQ1erKMC1",
        "colab": {
          "base_uri": "https://localhost:8080/"
        },
        "outputId": "56f9c7df-6bbe-46da-c82d-01932ca16129"
      },
      "source": [
        "endsWithNumber.search('Your number is forty two.') == None"
      ],
      "execution_count": null,
      "outputs": [
        {
          "output_type": "execute_result",
          "data": {
            "text/plain": [
              "True"
            ]
          },
          "metadata": {
            "tags": []
          },
          "execution_count": 14
        }
      ]
    },
    {
      "cell_type": "markdown",
      "metadata": {
        "id": "pxyOaHt7VDon"
      },
      "source": [
        "The r'^\\d+$' regular expression string matches strings that both begin and end with one or more numeric characters."
      ]
    },
    {
      "cell_type": "code",
      "metadata": {
        "id": "fJGJ8dfzTcuu",
        "colab": {
          "base_uri": "https://localhost:8080/"
        },
        "outputId": "a8661f01-a42e-46d4-da95-747eb98eacaf"
      },
      "source": [
        "wholeStringIsNum = re.compile(r'^\\d+$')\r\n",
        "wholeStringIsNum.search('1234567890')"
      ],
      "execution_count": null,
      "outputs": [
        {
          "output_type": "execute_result",
          "data": {
            "text/plain": [
              "<_sre.SRE_Match object; span=(0, 10), match='1234567890'>"
            ]
          },
          "metadata": {
            "tags": []
          },
          "execution_count": 20
        }
      ]
    },
    {
      "cell_type": "code",
      "metadata": {
        "id": "XUDOll1oT08H",
        "colab": {
          "base_uri": "https://localhost:8080/"
        },
        "outputId": "fbffa053-62ed-44a6-9e06-695f18c029dc"
      },
      "source": [
        "wholeStringIsNum.search('12345xyz67890') == None"
      ],
      "execution_count": null,
      "outputs": [
        {
          "output_type": "execute_result",
          "data": {
            "text/plain": [
              "True"
            ]
          },
          "metadata": {
            "tags": []
          },
          "execution_count": 22
        }
      ]
    },
    {
      "cell_type": "markdown",
      "metadata": {
        "id": "hgNTKFzsNxaB"
      },
      "source": [
        "## The Wildcard Character \r\n",
        "The . (or dot ) character in a regular expression is called a wildcard and will match any character except for a newline."
      ]
    },
    {
      "cell_type": "code",
      "metadata": {
        "id": "DJ4Xq4NiU5VW",
        "colab": {
          "base_uri": "https://localhost:8080/"
        },
        "outputId": "1cb5948c-e027-48c1-8a05-f6167d72d95c"
      },
      "source": [
        "import re\r\n",
        "atRegex = re.compile(r'.at')\r\n",
        "atRegex.findall('The cat in the hat sat on the flat mat.')"
      ],
      "execution_count": null,
      "outputs": [
        {
          "output_type": "execute_result",
          "data": {
            "text/plain": [
              "['cat', 'hat', 'sat', 'lat', 'mat']"
            ]
          },
          "metadata": {
            "tags": []
          },
          "execution_count": 2
        }
      ]
    },
    {
      "cell_type": "markdown",
      "metadata": {
        "id": "H9BKD5OYOOmJ"
      },
      "source": [
        "Remember that the dot character will match just one character, which is why the match for the text flat in the previous example matched only lat . To match an actual dot, escape the dot with a backslash."
      ]
    },
    {
      "cell_type": "markdown",
      "metadata": {
        "id": "ZJYWN3QMO8wf"
      },
      "source": [
        "# Matching Everything with Dot-Star\r\n",
        "Sometimes you will want to match everything and anything. For example, say you want to match the string 'First Name:' , followed by any and all text, followed by 'Last Name:' , and then followed by anything again. You can use the dot-star ( .* ) to stand in for that “anything.”"
      ]
    },
    {
      "cell_type": "code",
      "metadata": {
        "colab": {
          "base_uri": "https://localhost:8080/",
          "height": 35
        },
        "id": "NUWfXJvmN7B8",
        "outputId": "70b48405-424f-45e6-94ce-23065688f504"
      },
      "source": [
        "nameRegex =  re.compile(r'First name: (.*) Last name: (.*)')\r\n",
        "fn = nameRegex.search('First name: Carlos Last name: Lopez')\r\n",
        "\r\n",
        "fn.group(1)\r\n"
      ],
      "execution_count": null,
      "outputs": [
        {
          "output_type": "execute_result",
          "data": {
            "application/vnd.google.colaboratory.intrinsic+json": {
              "type": "string"
            },
            "text/plain": [
              "'Carlos'"
            ]
          },
          "metadata": {
            "tags": []
          },
          "execution_count": 7
        }
      ]
    },
    {
      "cell_type": "code",
      "metadata": {
        "id": "YbzXLFmmPZr-",
        "colab": {
          "base_uri": "https://localhost:8080/",
          "height": 35
        },
        "outputId": "b884049b-5804-407f-8069-f7ce08ab205e"
      },
      "source": [
        "fn.group(2)"
      ],
      "execution_count": null,
      "outputs": [
        {
          "output_type": "execute_result",
          "data": {
            "application/vnd.google.colaboratory.intrinsic+json": {
              "type": "string"
            },
            "text/plain": [
              "'Lopez'"
            ]
          },
          "metadata": {
            "tags": []
          },
          "execution_count": 8
        }
      ]
    },
    {
      "cell_type": "markdown",
      "metadata": {
        "id": "ftbKqyxHQBhK"
      },
      "source": [
        "The dot-star uses greedy mode: It will always try to match as much text as possible. To match any and all text in a nongreedy fashion, use the dot, star, and question mark ( .*? ). Like with curly brackets, the question mark tells Python to match in a nongreedy way."
      ]
    },
    {
      "cell_type": "code",
      "metadata": {
        "id": "G2Mwl6yIP2qu",
        "colab": {
          "base_uri": "https://localhost:8080/",
          "height": 35
        },
        "outputId": "2464c0bb-b4f2-4279-e185-ac544db30f23"
      },
      "source": [
        "nonGreedyRegex = re.compile(r'<.*?>')\r\n",
        "ng = nonGreedyRegex.search('<My cat is handsome> and you know it!>')\r\n",
        "ng.group()"
      ],
      "execution_count": null,
      "outputs": [
        {
          "output_type": "execute_result",
          "data": {
            "application/vnd.google.colaboratory.intrinsic+json": {
              "type": "string"
            },
            "text/plain": [
              "'<My cat is handsome>'"
            ]
          },
          "metadata": {
            "tags": []
          },
          "execution_count": 19
        }
      ]
    },
    {
      "cell_type": "code",
      "metadata": {
        "id": "0SmRv1aRQYCh",
        "colab": {
          "base_uri": "https://localhost:8080/",
          "height": 35
        },
        "outputId": "3272cb33-692e-4890-aded-7b45de47f406"
      },
      "source": [
        "greedyRegex = re.compile(r'<.*>')\r\n",
        "gr = greedyRegex.search('<My cat is handsome> and you know it!>')\r\n",
        "gr.group()"
      ],
      "execution_count": null,
      "outputs": [
        {
          "output_type": "execute_result",
          "data": {
            "application/vnd.google.colaboratory.intrinsic+json": {
              "type": "string"
            },
            "text/plain": [
              "'<My cat is handsome> and you know it!>'"
            ]
          },
          "metadata": {
            "tags": []
          },
          "execution_count": 20
        }
      ]
    },
    {
      "cell_type": "markdown",
      "metadata": {
        "id": "_lYsZYuGRg1k"
      },
      "source": [
        "# Matching Newlines with the Dot Character\r\n",
        "The dot-star will match everything except a newline. By passing re.DOTALL as the second argument to re.compile() , you can make the dot character match all characters, including the newline character."
      ]
    },
    {
      "cell_type": "code",
      "metadata": {
        "id": "XsEZ0gALROxp",
        "colab": {
          "base_uri": "https://localhost:8080/",
          "height": 35
        },
        "outputId": "2cfc667a-6e94-4aac-e970-e3ff6a6349cc"
      },
      "source": [
        "import re\r\n",
        "noNewLineRegex = re.compile(r'.*')\r\n",
        "noNewLineRegex.search('Serve the public trust. \\n Protect the innocent. \\nUphold the law.').group()"
      ],
      "execution_count": null,
      "outputs": [
        {
          "output_type": "execute_result",
          "data": {
            "application/vnd.google.colaboratory.intrinsic+json": {
              "type": "string"
            },
            "text/plain": [
              "'Serve the public trust. '"
            ]
          },
          "metadata": {
            "tags": []
          },
          "execution_count": 21
        }
      ]
    },
    {
      "cell_type": "code",
      "metadata": {
        "id": "veCGctwiSnJ5",
        "colab": {
          "base_uri": "https://localhost:8080/",
          "height": 35
        },
        "outputId": "b11983a1-c99a-4615-f847-0eb3cf072005"
      },
      "source": [
        "noNewLineRegex = re.compile(r'.*',re.DOTALL)\r\n",
        "noNewLineRegex.search('Serve the public trust. \\n Protect the innocent. \\nUphold the law.').group()"
      ],
      "execution_count": null,
      "outputs": [
        {
          "output_type": "execute_result",
          "data": {
            "application/vnd.google.colaboratory.intrinsic+json": {
              "type": "string"
            },
            "text/plain": [
              "'Serve the public trust. \\n Protect the innocent. \\nUphold the law.'"
            ]
          },
          "metadata": {
            "tags": []
          },
          "execution_count": 22
        }
      ]
    },
    {
      "cell_type": "markdown",
      "metadata": {
        "id": "Do3ysOsMSzg7"
      },
      "source": [
        "# Review\r\n",
        "* The ? matches zero or one of the preceding group. \r\n",
        "* The * matches zero or more of the preceding group. \r\n",
        "* The + matches one or more of the preceding group. \r\n",
        "* The {n} matches exactly n of the preceding group. \r\n",
        "* The {n,} matches n or more of the preceding group. \r\n",
        "* The {,m} matches 0 to m of the preceding group. \r\n",
        "* The {n,m} matches at least n and at most m of the preceding group. \r\n",
        "* {n,m}? or *? or +? performs a nongreedy match of the preceding group. \r\n",
        "* ^spam means the string must begin with spam.\r\n",
        "* spam$ means the string must end with spam. \r\n",
        "* The . (dot) matches any character, except newline characters.\r\n",
        "* \\d , \\w , and \\s match a digit, word, or space character, respectively. \r\n",
        "* \\D , \\W , and \\S match anything except a digit, word, or space character, respectively. \r\n",
        "* [abc] matches any character between the brackets (such as a , b , or c ). \r\n",
        "* [^abc] matches any character that isn’t between the brackets."
      ]
    },
    {
      "cell_type": "code",
      "metadata": {
        "id": "0xz0QzyxSuAM"
      },
      "source": [
        ""
      ],
      "execution_count": null,
      "outputs": []
    },
    {
      "cell_type": "markdown",
      "metadata": {
        "id": "ciaUojOvYg2P"
      },
      "source": [
        "# Case-Insensitive Matching\r\n",
        "When you care only about matching the letters without worrying whether they’re uppercase or lowercase. To make your regex case-insensitive, you can pass re.IGNORECASE or re.I as a second argument to re.compile() ."
      ]
    },
    {
      "cell_type": "code",
      "metadata": {
        "id": "tXbbr7yNYlyp",
        "colab": {
          "base_uri": "https://localhost:8080/",
          "height": 35
        },
        "outputId": "bcf9c6dd-fb4c-444d-dcea-aefb898102de"
      },
      "source": [
        "robocop = re.compile(r'robocop',re.IGNORECASE)\r\n",
        "robocop.search('RoBoCop is part man, part machine, all cop.').group()"
      ],
      "execution_count": null,
      "outputs": [
        {
          "output_type": "execute_result",
          "data": {
            "application/vnd.google.colaboratory.intrinsic+json": {
              "type": "string"
            },
            "text/plain": [
              "'RoBoCop'"
            ]
          },
          "metadata": {
            "tags": []
          },
          "execution_count": 23
        }
      ]
    },
    {
      "cell_type": "code",
      "metadata": {
        "id": "zmXWocr-Y1wk",
        "colab": {
          "base_uri": "https://localhost:8080/",
          "height": 35
        },
        "outputId": "0100af38-e2c2-4e3f-bc0e-44d2f4843208"
      },
      "source": [
        "robocop.search('ROBOCOP protects the innocents.').group()"
      ],
      "execution_count": null,
      "outputs": [
        {
          "output_type": "execute_result",
          "data": {
            "application/vnd.google.colaboratory.intrinsic+json": {
              "type": "string"
            },
            "text/plain": [
              "'ROBOCOP'"
            ]
          },
          "metadata": {
            "tags": []
          },
          "execution_count": 24
        }
      ]
    },
    {
      "cell_type": "code",
      "metadata": {
        "id": "REk4VvLeY_iP"
      },
      "source": [
        ""
      ],
      "execution_count": null,
      "outputs": []
    },
    {
      "cell_type": "markdown",
      "metadata": {
        "id": "8CAVgivMGGh3"
      },
      "source": [
        "# Substituting Strings with the sub() Method\r\n",
        "Regular expressions can not only find text patterns but can also substitute new text in place of those patterns. The sub() method for Regex objects is passed two arguments. The first argument is a string to replace any matches. The second is the string for the regular expression. The sub() method returns a string with the substitutions applied."
      ]
    },
    {
      "cell_type": "code",
      "metadata": {
        "id": "mQSNku16GSCR",
        "colab": {
          "base_uri": "https://localhost:8080/",
          "height": 35
        },
        "outputId": "9f520489-4c11-4f2e-a3ac-bfe37510d9e7"
      },
      "source": [
        "import re \r\n",
        "namesRegex = re.compile(r'Agent \\w+')\r\n",
        "namesRegex.sub('CENSORED', 'Agent Alice gave the secret documents to Agent Bob.')\r\n"
      ],
      "execution_count": null,
      "outputs": [
        {
          "output_type": "execute_result",
          "data": {
            "application/vnd.google.colaboratory.intrinsic+json": {
              "type": "string"
            },
            "text/plain": [
              "'CENSORED gave the secret documents to CENSORED.'"
            ]
          },
          "metadata": {
            "tags": []
          },
          "execution_count": 3
        }
      ]
    },
    {
      "cell_type": "markdown",
      "metadata": {
        "id": "47AMPIh-HGNw"
      },
      "source": [
        "Sometimes you may need to use the matched text itself as part of the substitution. In the first argument to sub() , you can type \\1 , \\2 , \\3 , and so on, to mean “Enter the text of group 1 , 2 , 3 , and so on, in the substitution.” For example, say you want to censor the names of the secret agents by showing just the first letters of their names. To do this, you could use the regex Agent (\\w)\\w* and pass r'\\1****' as the first argument to sub() . The \\1 in that string will be replaced by whatever text was matched by group 1 —that is, the (\\w) group of the regular expression."
      ]
    },
    {
      "cell_type": "code",
      "metadata": {
        "id": "FGyNNY5-Gtga",
        "colab": {
          "base_uri": "https://localhost:8080/",
          "height": 35
        },
        "outputId": "4f94c94a-c167-432c-eced-aa6e40abaa5a"
      },
      "source": [
        "agentNamesRegex = re.compile(r'Agent (\\w)\\w*')\r\n",
        "agentNamesRegex.sub(r'\\1****', 'Agent Alice told Agent Carol that Agent Eve knew Agent Bob was a double agent')"
      ],
      "execution_count": null,
      "outputs": [
        {
          "output_type": "execute_result",
          "data": {
            "application/vnd.google.colaboratory.intrinsic+json": {
              "type": "string"
            },
            "text/plain": [
              "'A**** told C**** that E**** knew B**** was a double agent'"
            ]
          },
          "metadata": {
            "tags": []
          },
          "execution_count": 9
        }
      ]
    },
    {
      "cell_type": "code",
      "metadata": {
        "id": "55wpghPvHsYj"
      },
      "source": [
        ""
      ],
      "execution_count": null,
      "outputs": []
    },
    {
      "cell_type": "markdown",
      "metadata": {
        "id": "ds1lBAonRShn"
      },
      "source": [
        "# Managing Complex Regexes\r\n",
        "The “verbose mode” can be enabled by passing the variable re.VERBOSE as the second argument to re.compile(), it will ignore whitespace and comments inside the regular expression string.\r\n",
        "* ' ' ' create a multiline string for spreading \r\n",
        "* \\# are comments"
      ]
    },
    {
      "cell_type": "code",
      "metadata": {
        "id": "MATi6cwoRwM3"
      },
      "source": [
        "import re\r\n",
        "# Instead of this hard-to-read regular expression...\r\n",
        "phoneRegex = re.compile(r'((\\d{3}|\\(\\d{3}\\))?(\\s|-|\\.)?\\d{3}(\\s|-|\\.)\\d{4} (\\s*(ext|x|ext.)\\s*\\d{2,5})?)')"
      ],
      "execution_count": 2,
      "outputs": []
    },
    {
      "cell_type": "code",
      "metadata": {
        "id": "Zoawe4qHSDjx"
      },
      "source": [
        "# ... something like this\r\n",
        "phoneRegex = re.compile(r'''(\r\n",
        "    (\\d{3}|\\(\\d{3}\\))? # area code \r\n",
        "    (\\s|-|\\.)? # separator \\d{3} # first 3 digits \r\n",
        "    (\\s|-|\\.) # separator \\d{4} # last 4 digits \r\n",
        "    (\\s*(ext|x|ext.)\\s*\\d{2,5})? # extension \r\n",
        "    )''', re.VERBOSE)"
      ],
      "execution_count": 3,
      "outputs": []
    },
    {
      "cell_type": "code",
      "metadata": {
        "id": "W7Uw_9IASS5v"
      },
      "source": [
        ""
      ],
      "execution_count": null,
      "outputs": []
    }
  ]
}