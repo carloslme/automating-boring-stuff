{
  "nbformat": 4,
  "nbformat_minor": 0,
  "metadata": {
    "colab": {
      "name": "Chapter 7 Pattern Matching with Regular Expressions.ipynb",
      "provenance": [],
      "collapsed_sections": [],
      "include_colab_link": true
    },
    "kernelspec": {
      "name": "python3",
      "display_name": "Python 3"
    }
  },
  "cells": [
    {
      "cell_type": "markdown",
      "metadata": {
        "id": "view-in-github",
        "colab_type": "text"
      },
      "source": [
        "<a href=\"https://colab.research.google.com/github/carloslme/automating-boring-stuff/blob/main/Chapter_7_Pattern_Matching_with_Regular_Expressions.ipynb\" target=\"_parent\"><img src=\"https://colab.research.google.com/assets/colab-badge.svg\" alt=\"Open In Colab\"/></a>"
      ]
    },
    {
      "cell_type": "markdown",
      "metadata": {
        "id": "3fPEB7DJElRB"
      },
      "source": [
        "##Finding Patterns of Text Without Regular Expressions\r\n",
        "Create a function that evaluate a phone number with the next format: 415-555-*1234*"
      ]
    },
    {
      "cell_type": "code",
      "metadata": {
        "id": "9nLCh-LPBGVu"
      },
      "source": [
        "def isPhoneNumber(text):\r\n",
        "  \r\n",
        "  # Checks if the text given is exactly 12 characters\r\n",
        "  if len(text) != 12:\r\n",
        "    return False\r\n",
        "\r\n",
        "  # Checks if the first three numbers are only numeric characters\r\n",
        "  for i in range(0,3):\r\n",
        "    if not text[i].isdecimal():\r\n",
        "      return False\r\n",
        "    # Checks if the fourth character is '-'\r\n",
        "    if text[3] != '-':\r\n",
        "      return False \r\n",
        "\r\n",
        "  # Checks if the next three numbers are only numeric characters\r\n",
        "  for i in range(4, 7):\r\n",
        "    if not text[i].isdecimal():\r\n",
        "      return False \r\n",
        "    # Checks if the eighth character is '-'\r\n",
        "    if text[7] != '-': \r\n",
        "      return False \r\n",
        "\r\n",
        "  # Checks if the next three numbers are only numeric characters\r\n",
        "  for i in range(8, 12):\r\n",
        "    if not text[i].isdecimal():\r\n",
        "      return False \r\n",
        "  return True"
      ],
      "execution_count": null,
      "outputs": []
    },
    {
      "cell_type": "code",
      "metadata": {
        "colab": {
          "base_uri": "https://localhost:8080/"
        },
        "id": "JoDdPGFVBcpN",
        "outputId": "786f089a-7c19-4e64-f079-db7f8c02e500"
      },
      "source": [
        "print(isPhoneNumber('415-555-4242'))\r\n",
        "print(isPhoneNumber('Hello world!'))"
      ],
      "execution_count": null,
      "outputs": [
        {
          "output_type": "stream",
          "text": [
            "True\n",
            "False\n"
          ],
          "name": "stdout"
        }
      ]
    },
    {
      "cell_type": "code",
      "metadata": {
        "colab": {
          "base_uri": "https://localhost:8080/"
        },
        "id": "lYFbTmSmBwFi",
        "outputId": "78a0b01e-1388-4596-bec9-8cf07b03d23c"
      },
      "source": [
        "# Find the pattern of text in a larger string\r\n",
        "message = 'Call me at 415-555-1011 tomorrow. 411-555-9999 is my office.'\r\n",
        "for i in range(len(message)):\r\n",
        "  chunk = message[i:i+12]\r\n",
        "  if isPhoneNumber(chunk):\r\n",
        "    print('Phone number found: ' + chunk)\r\n",
        "print('Done')"
      ],
      "execution_count": null,
      "outputs": [
        {
          "output_type": "stream",
          "text": [
            "Phone number found: 415-555-1011\n",
            "Phone number found: 411-555-9999\n",
            "Done\n"
          ],
          "name": "stdout"
        }
      ]
    },
    {
      "cell_type": "markdown",
      "metadata": {
        "id": "6nFnF8_LPbn0"
      },
      "source": [
        "##Finding Patterns of Text With Regular Expressions"
      ]
    },
    {
      "cell_type": "markdown",
      "metadata": {
        "id": "ATtxoyqbT3uU"
      },
      "source": [
        "### *Matching Regex Objects*"
      ]
    },
    {
      "cell_type": "code",
      "metadata": {
        "id": "6f37RI2eCeX7"
      },
      "source": [
        "import re\r\n",
        "# For this example, \\d means any number 0-9\r\n",
        "phoneNumRegex = re.compile(r'\\d\\d\\d-\\d\\d\\d-\\d\\d\\d\\d') #r' means raw string"
      ],
      "execution_count": null,
      "outputs": []
    },
    {
      "cell_type": "code",
      "metadata": {
        "id": "Q6T90kW6CfR0"
      },
      "source": [
        "mo = phoneNumRegex.search('My number is 415-555-4242')"
      ],
      "execution_count": null,
      "outputs": []
    },
    {
      "cell_type": "code",
      "metadata": {
        "colab": {
          "base_uri": "https://localhost:8080/"
        },
        "id": "kQj7oeL8CgLL",
        "outputId": "8299d252-5126-4760-9952-806fd3a44ebb"
      },
      "source": [
        "print('Phone number found: ' + mo.group())"
      ],
      "execution_count": null,
      "outputs": [
        {
          "output_type": "stream",
          "text": [
            "Phone number found: 415-555-4242\n"
          ],
          "name": "stdout"
        }
      ]
    },
    {
      "cell_type": "markdown",
      "metadata": {
        "id": "8qsIZOAQUf5L"
      },
      "source": [
        "### *Grouping with Parentheses*"
      ]
    },
    {
      "cell_type": "code",
      "metadata": {
        "colab": {
          "base_uri": "https://localhost:8080/",
          "height": 35
        },
        "id": "BTXDeGdNTkO9",
        "outputId": "1eed91b6-9839-469c-b43e-1c90d534f7a1"
      },
      "source": [
        "import re\r\n",
        "\r\n",
        "''' \r\n",
        "Adding () -> (\\d\\d\\d) group the numbers that contains the expression\r\n",
        "group() match object method to grab the matching text from just one group. \r\n",
        "'''\r\n",
        "\r\n",
        "phoneNumRegex = re.compile(r'(\\d\\d\\d)-(\\d\\d\\d-\\d\\d\\d\\d)')\r\n",
        "mo = phoneNumRegex.search('My number is 415-555-4242.')\r\n",
        "mo.group(1)"
      ],
      "execution_count": null,
      "outputs": [
        {
          "output_type": "execute_result",
          "data": {
            "application/vnd.google.colaboratory.intrinsic+json": {
              "type": "string"
            },
            "text/plain": [
              "'415'"
            ]
          },
          "metadata": {
            "tags": []
          },
          "execution_count": 23
        }
      ]
    },
    {
      "cell_type": "code",
      "metadata": {
        "colab": {
          "base_uri": "https://localhost:8080/",
          "height": 35
        },
        "id": "-eQ2lDyJVN8V",
        "outputId": "6a247775-8268-437a-8e94-17328aa7cdbf"
      },
      "source": [
        "mo.group(2)"
      ],
      "execution_count": null,
      "outputs": [
        {
          "output_type": "execute_result",
          "data": {
            "application/vnd.google.colaboratory.intrinsic+json": {
              "type": "string"
            },
            "text/plain": [
              "'555-4242'"
            ]
          },
          "metadata": {
            "tags": []
          },
          "execution_count": 24
        }
      ]
    },
    {
      "cell_type": "code",
      "metadata": {
        "colab": {
          "base_uri": "https://localhost:8080/",
          "height": 35
        },
        "id": "S7K40cxlVykX",
        "outputId": "5c3317a3-e726-4d7a-bd9d-85e05178b1e1"
      },
      "source": [
        "mo.group(0)"
      ],
      "execution_count": null,
      "outputs": [
        {
          "output_type": "execute_result",
          "data": {
            "application/vnd.google.colaboratory.intrinsic+json": {
              "type": "string"
            },
            "text/plain": [
              "'415-555-4242'"
            ]
          },
          "metadata": {
            "tags": []
          },
          "execution_count": 25
        }
      ]
    },
    {
      "cell_type": "code",
      "metadata": {
        "colab": {
          "base_uri": "https://localhost:8080/",
          "height": 35
        },
        "id": "PnktPv6cV4km",
        "outputId": "b90213fb-d464-474f-aaa9-2fdc8fc6ab6d"
      },
      "source": [
        "mo.group()"
      ],
      "execution_count": null,
      "outputs": [
        {
          "output_type": "execute_result",
          "data": {
            "application/vnd.google.colaboratory.intrinsic+json": {
              "type": "string"
            },
            "text/plain": [
              "'415-555-4242'"
            ]
          },
          "metadata": {
            "tags": []
          },
          "execution_count": 26
        }
      ]
    },
    {
      "cell_type": "code",
      "metadata": {
        "colab": {
          "base_uri": "https://localhost:8080/"
        },
        "id": "ETXiJC4HV6kX",
        "outputId": "0529db4d-bff4-41e9-ecce-9c60fadc1305"
      },
      "source": [
        "'''\r\n",
        "If you would like to retrieve all the groups at once, use the groups() method.\r\n",
        "'''\r\n",
        "mo.groups()"
      ],
      "execution_count": null,
      "outputs": [
        {
          "output_type": "execute_result",
          "data": {
            "text/plain": [
              "('415', '555-4242')"
            ]
          },
          "metadata": {
            "tags": []
          },
          "execution_count": 30
        }
      ]
    },
    {
      "cell_type": "code",
      "metadata": {
        "colab": {
          "base_uri": "https://localhost:8080/"
        },
        "id": "B-ZJ1AH1WMh3",
        "outputId": "8ed2a56e-760c-4bca-c42e-1a935c21a55a"
      },
      "source": [
        "areaCode, mainNumber = mo.groups()\r\n",
        "print(areaCode)\r\n",
        "print(mainNumber)"
      ],
      "execution_count": null,
      "outputs": [
        {
          "output_type": "stream",
          "text": [
            "415\n",
            "555-4242\n"
          ],
          "name": "stdout"
        }
      ]
    },
    {
      "cell_type": "code",
      "metadata": {
        "id": "sfhUJhnUWSCx"
      },
      "source": [
        "''' \r\n",
        "To escape the ( and ) characters the next code can be added\r\n",
        "'''\r\n",
        "\r\n",
        "phoneNumRegex = re.compile(r'(\\(\\d\\d\\d\\)) (\\d\\d\\d-\\d\\d\\d\\d)')"
      ],
      "execution_count": null,
      "outputs": []
    },
    {
      "cell_type": "code",
      "metadata": {
        "id": "Y-LukQBXXE10"
      },
      "source": [
        "mo = phoneNumRegex.search('My phone number is (415) 555-4242.')"
      ],
      "execution_count": null,
      "outputs": []
    },
    {
      "cell_type": "code",
      "metadata": {
        "colab": {
          "base_uri": "https://localhost:8080/",
          "height": 35
        },
        "id": "G2XexLZ4XOyR",
        "outputId": "c6d4fd7f-5bdb-4bb9-c197-aa0add887769"
      },
      "source": [
        "mo.group(1)"
      ],
      "execution_count": null,
      "outputs": [
        {
          "output_type": "execute_result",
          "data": {
            "application/vnd.google.colaboratory.intrinsic+json": {
              "type": "string"
            },
            "text/plain": [
              "'(415)'"
            ]
          },
          "metadata": {
            "tags": []
          },
          "execution_count": 44
        }
      ]
    },
    {
      "cell_type": "code",
      "metadata": {
        "colab": {
          "base_uri": "https://localhost:8080/",
          "height": 35
        },
        "id": "njgOew3NXRQC",
        "outputId": "c402ad9b-615c-455c-c6a2-7df30b9f0abf"
      },
      "source": [
        "mo.group(2)"
      ],
      "execution_count": null,
      "outputs": [
        {
          "output_type": "execute_result",
          "data": {
            "application/vnd.google.colaboratory.intrinsic+json": {
              "type": "string"
            },
            "text/plain": [
              "'555-4242'"
            ]
          },
          "metadata": {
            "tags": []
          },
          "execution_count": 45
        }
      ]
    },
    {
      "cell_type": "markdown",
      "metadata": {
        "id": "itxKkQMceWa4"
      },
      "source": [
        ""
      ]
    },
    {
      "cell_type": "markdown",
      "metadata": {
        "id": "GoQ4inHHeXb4"
      },
      "source": [
        "### *Matching Multiple Groups with the Pipe*\r\n",
        "The | character is called a pipe . You can use it anywhere you want to match one of many expressions. For example, the regular expression r'Batman|Tina Fey' will match either 'Batman' or 'Tina Fey'"
      ]
    },
    {
      "cell_type": "code",
      "metadata": {
        "id": "polFpRsZXTsO"
      },
      "source": [
        "'''\r\n",
        "When both Batman and Tina Fey occur in the searched string, the first occurrence of matching text will be returned as the Match object.\r\n",
        "'''"
      ],
      "execution_count": null,
      "outputs": []
    },
    {
      "cell_type": "code",
      "metadata": {
        "colab": {
          "base_uri": "https://localhost:8080/",
          "height": 35
        },
        "id": "oYOEWPpbe1rr",
        "outputId": "8a86ba41-b4c6-426f-a177-11f6875ba2aa"
      },
      "source": [
        "import re\r\n",
        "heroRegex = re.compile(r'Batman|Tina Fey')\r\n",
        "mo1 = heroRegex.search('Batman and Tina Fey')\r\n",
        "mo1.group()"
      ],
      "execution_count": 1,
      "outputs": [
        {
          "output_type": "execute_result",
          "data": {
            "application/vnd.google.colaboratory.intrinsic+json": {
              "type": "string"
            },
            "text/plain": [
              "'Batman'"
            ]
          },
          "metadata": {
            "tags": []
          },
          "execution_count": 1
        }
      ]
    },
    {
      "cell_type": "code",
      "metadata": {
        "colab": {
          "base_uri": "https://localhost:8080/",
          "height": 35
        },
        "id": "nmhZ3qzEfltp",
        "outputId": "fa96460e-cf88-4869-d3a8-f460e416c462"
      },
      "source": [
        "mo2 = heroRegex.search('Tina Fey and Batman.')\r\n",
        "mo2.group()"
      ],
      "execution_count": 2,
      "outputs": [
        {
          "output_type": "execute_result",
          "data": {
            "application/vnd.google.colaboratory.intrinsic+json": {
              "type": "string"
            },
            "text/plain": [
              "'Tina Fey'"
            ]
          },
          "metadata": {
            "tags": []
          },
          "execution_count": 2
        }
      ]
    },
    {
      "cell_type": "code",
      "metadata": {
        "colab": {
          "base_uri": "https://localhost:8080/",
          "height": 35
        },
        "id": "S4V9PMzJf0Po",
        "outputId": "2a297e3d-d6a1-481f-8937-11d82cc8acb8"
      },
      "source": [
        "''' \r\n",
        "Specifying one prefix \r\n",
        "'''\r\n",
        "batRegex = re.compile(r'Bat(man|mobile|copter|bat)')\r\n",
        "mo = batRegex.search('Batmobile lost a wheel')\r\n",
        "\r\n",
        "# Return the full matched word\r\n",
        "mo.group() "
      ],
      "execution_count": 6,
      "outputs": [
        {
          "output_type": "execute_result",
          "data": {
            "application/vnd.google.colaboratory.intrinsic+json": {
              "type": "string"
            },
            "text/plain": [
              "'Batmobile'"
            ]
          },
          "metadata": {
            "tags": []
          },
          "execution_count": 6
        }
      ]
    },
    {
      "cell_type": "code",
      "metadata": {
        "colab": {
          "base_uri": "https://localhost:8080/",
          "height": 35
        },
        "id": "kCUQZbjrf9j5",
        "outputId": "76d44c75-02dc-46d3-d5fb-5771661b73ed"
      },
      "source": [
        "# Return just the part of the matched text inside the first parentheses\r\n",
        "mo.group(1)"
      ],
      "execution_count": 7,
      "outputs": [
        {
          "output_type": "execute_result",
          "data": {
            "application/vnd.google.colaboratory.intrinsic+json": {
              "type": "string"
            },
            "text/plain": [
              "'mobile'"
            ]
          },
          "metadata": {
            "tags": []
          },
          "execution_count": 7
        }
      ]
    },
    {
      "cell_type": "markdown",
      "metadata": {
        "id": "JQdHSezdi-bV"
      },
      "source": [
        "### *Optional Matching with the Question Mark*\r\n",
        "Sometimes there is a pattern that you want to match only optionally. That is, the regex should find a match whether or not that bit of text is there. The ? character flags the group that precedes it as an optional part of the pattern."
      ]
    },
    {
      "cell_type": "code",
      "metadata": {
        "colab": {
          "base_uri": "https://localhost:8080/",
          "height": 35
        },
        "id": "NiopQbPjiJQg",
        "outputId": "cd11a28b-11a5-40db-c4b1-b59a504dcaf0"
      },
      "source": [
        "batRegex = re.compile(r'Bat(wo)?man')\r\n",
        "mo1 = batRegex.search('The adventure of Batman')\r\n",
        "mo1.group()"
      ],
      "execution_count": 13,
      "outputs": [
        {
          "output_type": "execute_result",
          "data": {
            "application/vnd.google.colaboratory.intrinsic+json": {
              "type": "string"
            },
            "text/plain": [
              "'Batman'"
            ]
          },
          "metadata": {
            "tags": []
          },
          "execution_count": 13
        }
      ]
    },
    {
      "cell_type": "code",
      "metadata": {
        "colab": {
          "base_uri": "https://localhost:8080/",
          "height": 35
        },
        "id": "suJsDJtzje2R",
        "outputId": "bd55a978-a5a3-4135-ebd9-f64373ddafa0"
      },
      "source": [
        "mo2 = batRegex.search('The adventures of Batwoman')\r\n",
        "mo2.group()"
      ],
      "execution_count": 14,
      "outputs": [
        {
          "output_type": "execute_result",
          "data": {
            "application/vnd.google.colaboratory.intrinsic+json": {
              "type": "string"
            },
            "text/plain": [
              "'Batwoman'"
            ]
          },
          "metadata": {
            "tags": []
          },
          "execution_count": 14
        }
      ]
    },
    {
      "cell_type": "code",
      "metadata": {
        "colab": {
          "base_uri": "https://localhost:8080/",
          "height": 53
        },
        "id": "XuuJ3mTBjr3p",
        "outputId": "d151a5ed-5eb0-48d7-ef36-97d621a11e8d"
      },
      "source": [
        "'''\r\n",
        "The (wo)? part of the regular expression means that the pattern wo is an optional group. The regex will match text that has zero instances or one instance of wo in it. This is why the regex matches both 'Batwoman' and 'Batman'\r\n",
        "'''"
      ],
      "execution_count": 15,
      "outputs": [
        {
          "output_type": "execute_result",
          "data": {
            "application/vnd.google.colaboratory.intrinsic+json": {
              "type": "string"
            },
            "text/plain": [
              "\"\\nThe (wo)? part of the regular expression means that the pattern wo is an optional group. The regex will match text that has zero instances or one instance of wo in it. This is why the regex matches both 'Batwoman' and 'Batman'\\n\""
            ]
          },
          "metadata": {
            "tags": []
          },
          "execution_count": 15
        }
      ]
    },
    {
      "cell_type": "code",
      "metadata": {
        "colab": {
          "base_uri": "https://localhost:8080/",
          "height": 35
        },
        "id": "rUZ-gG_Bj7AK",
        "outputId": "523ce217-a939-495a-ee7b-9d2d1fedba6c"
      },
      "source": [
        "# Using it in the previous phone number examples\r\n",
        "phoneRegex = re.compile(r'(\\d\\d\\d-)?\\d\\d\\d-\\d\\d\\d\\d')\r\n",
        "mo1 = phoneRegex.search('My number is 415-555-4242')\r\n",
        "mo1.group()"
      ],
      "execution_count": 18,
      "outputs": [
        {
          "output_type": "execute_result",
          "data": {
            "application/vnd.google.colaboratory.intrinsic+json": {
              "type": "string"
            },
            "text/plain": [
              "'415-555-4242'"
            ]
          },
          "metadata": {
            "tags": []
          },
          "execution_count": 18
        }
      ]
    },
    {
      "cell_type": "code",
      "metadata": {
        "colab": {
          "base_uri": "https://localhost:8080/",
          "height": 35
        },
        "id": "NmjSKT3PkBMZ",
        "outputId": "dd03efc7-c954-4126-c8e4-93dd32aa0f27"
      },
      "source": [
        "mo2 = phoneRegex.search('My number is 649-5490')\r\n",
        "mo2.group()"
      ],
      "execution_count": 20,
      "outputs": [
        {
          "output_type": "execute_result",
          "data": {
            "application/vnd.google.colaboratory.intrinsic+json": {
              "type": "string"
            },
            "text/plain": [
              "'649-5490'"
            ]
          },
          "metadata": {
            "tags": []
          },
          "execution_count": 20
        }
      ]
    },
    {
      "cell_type": "markdown",
      "metadata": {
        "id": "Bu-TnK0Ck3nU"
      },
      "source": [
        "### *Matching Zero or More with the Star*\r\n",
        "The * (called the star or asterisk ) means “match zero or more”—the group that precedes the star can occur any number of times in the text. It can "
      ]
    },
    {
      "cell_type": "code",
      "metadata": {
        "colab": {
          "base_uri": "https://localhost:8080/",
          "height": 35
        },
        "id": "V7xsW_jnkm1I",
        "outputId": "786d0afa-9161-4b9e-cffe-cb4aedf88220"
      },
      "source": [
        "batRegex = re.compile(r'Bat(wo)*man')\r\n",
        "mo1 = batRegex.search('My name is Batman.')\r\n",
        "mo1.group()"
      ],
      "execution_count": 21,
      "outputs": [
        {
          "output_type": "execute_result",
          "data": {
            "application/vnd.google.colaboratory.intrinsic+json": {
              "type": "string"
            },
            "text/plain": [
              "'Batman'"
            ]
          },
          "metadata": {
            "tags": []
          },
          "execution_count": 21
        }
      ]
    },
    {
      "cell_type": "code",
      "metadata": {
        "id": "Bw3Yh-edlQcy",
        "outputId": "be9877bc-f494-4ae2-ae29-65f81e2fb57f",
        "colab": {
          "base_uri": "https://localhost:8080/",
          "height": 35
        }
      },
      "source": [
        "mo2 = batRegex.search('She is is Batwoman.')\r\n",
        "mo2.group()"
      ],
      "execution_count": 26,
      "outputs": [
        {
          "output_type": "execute_result",
          "data": {
            "application/vnd.google.colaboratory.intrinsic+json": {
              "type": "string"
            },
            "text/plain": [
              "'Batwoman'"
            ]
          },
          "metadata": {
            "tags": []
          },
          "execution_count": 26
        }
      ]
    },
    {
      "cell_type": "code",
      "metadata": {
        "id": "QoKoLJUflVzB",
        "outputId": "c3941fd6-3f72-4e1d-db1e-bfe4ee764135",
        "colab": {
          "base_uri": "https://localhost:8080/",
          "height": 35
        }
      },
      "source": [
        "mo3 = batRegex.search('The Adventures of Batwowowowoman')\r\n",
        "mo3.group()"
      ],
      "execution_count": 31,
      "outputs": [
        {
          "output_type": "execute_result",
          "data": {
            "application/vnd.google.colaboratory.intrinsic+json": {
              "type": "string"
            },
            "text/plain": [
              "'Batwowowowoman'"
            ]
          },
          "metadata": {
            "tags": []
          },
          "execution_count": 31
        }
      ]
    }
  ]
}