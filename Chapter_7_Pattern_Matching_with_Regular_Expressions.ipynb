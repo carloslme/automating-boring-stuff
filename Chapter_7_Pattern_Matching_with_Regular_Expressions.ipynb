{
  "nbformat": 4,
  "nbformat_minor": 0,
  "metadata": {
    "colab": {
      "name": "Chapter 7 Pattern Matching with Regular Expressions.ipynb",
      "provenance": [],
      "collapsed_sections": [],
      "authorship_tag": "ABX9TyPZr0HmzFZde+0KpyD6cYW5",
      "include_colab_link": true
    },
    "kernelspec": {
      "name": "python3",
      "display_name": "Python 3"
    }
  },
  "cells": [
    {
      "cell_type": "markdown",
      "metadata": {
        "id": "view-in-github",
        "colab_type": "text"
      },
      "source": [
        "<a href=\"https://colab.research.google.com/github/carloslme/automating-boring-stuff/blob/main/Chapter_7_Pattern_Matching_with_Regular_Expressions.ipynb\" target=\"_parent\"><img src=\"https://colab.research.google.com/assets/colab-badge.svg\" alt=\"Open In Colab\"/></a>"
      ]
    },
    {
      "cell_type": "markdown",
      "metadata": {
        "id": "3fPEB7DJElRB"
      },
      "source": [
        "##Finding Patterns of Text Without Regular Expressions\r\n",
        "Create a function that evaluate a phone number with the next format: 415-555-*1234*"
      ]
    },
    {
      "cell_type": "code",
      "metadata": {
        "id": "9nLCh-LPBGVu"
      },
      "source": [
        "def isPhoneNumber(text):\r\n",
        "  \r\n",
        "  # Checks if the text given is exactly 12 characters\r\n",
        "  if len(text) != 12:\r\n",
        "    return False\r\n",
        "\r\n",
        "  # Checks if the first three numbers are only numeric characters\r\n",
        "  for i in range(0,3):\r\n",
        "    if not text[i].isdecimal():\r\n",
        "      return False\r\n",
        "    # Checks if the fourth character is '-'\r\n",
        "    if text[3] != '-':\r\n",
        "      return False \r\n",
        "\r\n",
        "  # Checks if the next three numbers are only numeric characters\r\n",
        "  for i in range(4, 7):\r\n",
        "    if not text[i].isdecimal():\r\n",
        "      return False \r\n",
        "    # Checks if the eighth character is '-'\r\n",
        "    if text[7] != '-': \r\n",
        "      return False \r\n",
        "\r\n",
        "  # Checks if the next three numbers are only numeric characters\r\n",
        "  for i in range(8, 12):\r\n",
        "    if not text[i].isdecimal():\r\n",
        "      return False \r\n",
        "  return True"
      ],
      "execution_count": 6,
      "outputs": []
    },
    {
      "cell_type": "code",
      "metadata": {
        "colab": {
          "base_uri": "https://localhost:8080/"
        },
        "id": "JoDdPGFVBcpN",
        "outputId": "786f089a-7c19-4e64-f079-db7f8c02e500"
      },
      "source": [
        "print(isPhoneNumber('415-555-4242'))\r\n",
        "print(isPhoneNumber('Hello world!'))"
      ],
      "execution_count": 9,
      "outputs": [
        {
          "output_type": "stream",
          "text": [
            "True\n",
            "False\n"
          ],
          "name": "stdout"
        }
      ]
    },
    {
      "cell_type": "code",
      "metadata": {
        "colab": {
          "base_uri": "https://localhost:8080/"
        },
        "id": "lYFbTmSmBwFi",
        "outputId": "78a0b01e-1388-4596-bec9-8cf07b03d23c"
      },
      "source": [
        "# Find the pattern of text in a larger string\r\n",
        "message = 'Call me at 415-555-1011 tomorrow. 411-555-9999 is my office.'\r\n",
        "for i in range(len(message)):\r\n",
        "  chunk = message[i:i+12]\r\n",
        "  if isPhoneNumber(chunk):\r\n",
        "    print('Phone number found: ' + chunk)\r\n",
        "print('Done')"
      ],
      "execution_count": 11,
      "outputs": [
        {
          "output_type": "stream",
          "text": [
            "Phone number found: 415-555-1011\n",
            "Phone number found: 411-555-9999\n",
            "Done\n"
          ],
          "name": "stdout"
        }
      ]
    },
    {
      "cell_type": "markdown",
      "metadata": {
        "id": "6nFnF8_LPbn0"
      },
      "source": [
        "##Finding Patterns of Text With Regular Expressions"
      ]
    },
    {
      "cell_type": "markdown",
      "metadata": {
        "id": "ATtxoyqbT3uU"
      },
      "source": [
        "### *Matching Regex Objects*"
      ]
    },
    {
      "cell_type": "code",
      "metadata": {
        "id": "6f37RI2eCeX7"
      },
      "source": [
        "import re\r\n",
        "# For this example, \\d means any number 0-9\r\n",
        "phoneNumRegex = re.compile(r'\\d\\d\\d-\\d\\d\\d-\\d\\d\\d\\d') #r' means raw string"
      ],
      "execution_count": 13,
      "outputs": []
    },
    {
      "cell_type": "code",
      "metadata": {
        "id": "Q6T90kW6CfR0"
      },
      "source": [
        "mo = phoneNumRegex.search('My number is 415-555-4242')"
      ],
      "execution_count": 15,
      "outputs": []
    },
    {
      "cell_type": "code",
      "metadata": {
        "colab": {
          "base_uri": "https://localhost:8080/"
        },
        "id": "kQj7oeL8CgLL",
        "outputId": "8299d252-5126-4760-9952-806fd3a44ebb"
      },
      "source": [
        "print('Phone number found: ' + mo.group())"
      ],
      "execution_count": 18,
      "outputs": [
        {
          "output_type": "stream",
          "text": [
            "Phone number found: 415-555-4242\n"
          ],
          "name": "stdout"
        }
      ]
    },
    {
      "cell_type": "markdown",
      "metadata": {
        "id": "8qsIZOAQUf5L"
      },
      "source": [
        "### *Grouping with Parentheses*"
      ]
    },
    {
      "cell_type": "code",
      "metadata": {
        "colab": {
          "base_uri": "https://localhost:8080/",
          "height": 35
        },
        "id": "BTXDeGdNTkO9",
        "outputId": "1eed91b6-9839-469c-b43e-1c90d534f7a1"
      },
      "source": [
        "import re\r\n",
        "\r\n",
        "''' \r\n",
        "Adding () -> (\\d\\d\\d) group the numbers that contains the expression\r\n",
        "group() match object method to grab the matching text from just one group. \r\n",
        "'''\r\n",
        "\r\n",
        "phoneNumRegex = re.compile(r'(\\d\\d\\d)-(\\d\\d\\d-\\d\\d\\d\\d)')\r\n",
        "mo = phoneNumRegex.search('My number is 415-555-4242.')\r\n",
        "mo.group(1)"
      ],
      "execution_count": 23,
      "outputs": [
        {
          "output_type": "execute_result",
          "data": {
            "application/vnd.google.colaboratory.intrinsic+json": {
              "type": "string"
            },
            "text/plain": [
              "'415'"
            ]
          },
          "metadata": {
            "tags": []
          },
          "execution_count": 23
        }
      ]
    },
    {
      "cell_type": "code",
      "metadata": {
        "colab": {
          "base_uri": "https://localhost:8080/",
          "height": 35
        },
        "id": "-eQ2lDyJVN8V",
        "outputId": "6a247775-8268-437a-8e94-17328aa7cdbf"
      },
      "source": [
        "mo.group(2)"
      ],
      "execution_count": 24,
      "outputs": [
        {
          "output_type": "execute_result",
          "data": {
            "application/vnd.google.colaboratory.intrinsic+json": {
              "type": "string"
            },
            "text/plain": [
              "'555-4242'"
            ]
          },
          "metadata": {
            "tags": []
          },
          "execution_count": 24
        }
      ]
    },
    {
      "cell_type": "code",
      "metadata": {
        "colab": {
          "base_uri": "https://localhost:8080/",
          "height": 35
        },
        "id": "S7K40cxlVykX",
        "outputId": "5c3317a3-e726-4d7a-bd9d-85e05178b1e1"
      },
      "source": [
        "mo.group(0)"
      ],
      "execution_count": 25,
      "outputs": [
        {
          "output_type": "execute_result",
          "data": {
            "application/vnd.google.colaboratory.intrinsic+json": {
              "type": "string"
            },
            "text/plain": [
              "'415-555-4242'"
            ]
          },
          "metadata": {
            "tags": []
          },
          "execution_count": 25
        }
      ]
    },
    {
      "cell_type": "code",
      "metadata": {
        "colab": {
          "base_uri": "https://localhost:8080/",
          "height": 35
        },
        "id": "PnktPv6cV4km",
        "outputId": "b90213fb-d464-474f-aaa9-2fdc8fc6ab6d"
      },
      "source": [
        "mo.group()"
      ],
      "execution_count": 26,
      "outputs": [
        {
          "output_type": "execute_result",
          "data": {
            "application/vnd.google.colaboratory.intrinsic+json": {
              "type": "string"
            },
            "text/plain": [
              "'415-555-4242'"
            ]
          },
          "metadata": {
            "tags": []
          },
          "execution_count": 26
        }
      ]
    },
    {
      "cell_type": "code",
      "metadata": {
        "colab": {
          "base_uri": "https://localhost:8080/"
        },
        "id": "ETXiJC4HV6kX",
        "outputId": "0529db4d-bff4-41e9-ecce-9c60fadc1305"
      },
      "source": [
        "'''\r\n",
        "If you would like to retrieve all the groups at once, use the groups() method.\r\n",
        "'''\r\n",
        "mo.groups()"
      ],
      "execution_count": 30,
      "outputs": [
        {
          "output_type": "execute_result",
          "data": {
            "text/plain": [
              "('415', '555-4242')"
            ]
          },
          "metadata": {
            "tags": []
          },
          "execution_count": 30
        }
      ]
    },
    {
      "cell_type": "code",
      "metadata": {
        "colab": {
          "base_uri": "https://localhost:8080/"
        },
        "id": "B-ZJ1AH1WMh3",
        "outputId": "8ed2a56e-760c-4bca-c42e-1a935c21a55a"
      },
      "source": [
        "areaCode, mainNumber = mo.groups()\r\n",
        "print(areaCode)\r\n",
        "print(mainNumber)"
      ],
      "execution_count": 29,
      "outputs": [
        {
          "output_type": "stream",
          "text": [
            "415\n",
            "555-4242\n"
          ],
          "name": "stdout"
        }
      ]
    },
    {
      "cell_type": "code",
      "metadata": {
        "id": "sfhUJhnUWSCx"
      },
      "source": [
        "''' \r\n",
        "To escape the ( and ) characters the next code can be added\r\n",
        "'''\r\n",
        "\r\n",
        "phoneNumRegex = re.compile(r'(\\(\\d\\d\\d\\)) (\\d\\d\\d-\\d\\d\\d\\d)')"
      ],
      "execution_count": 42,
      "outputs": []
    },
    {
      "cell_type": "code",
      "metadata": {
        "id": "Y-LukQBXXE10"
      },
      "source": [
        "mo = phoneNumRegex.search('My phone number is (415) 555-4242.')"
      ],
      "execution_count": 43,
      "outputs": []
    },
    {
      "cell_type": "code",
      "metadata": {
        "colab": {
          "base_uri": "https://localhost:8080/",
          "height": 35
        },
        "id": "G2XexLZ4XOyR",
        "outputId": "c6d4fd7f-5bdb-4bb9-c197-aa0add887769"
      },
      "source": [
        "mo.group(1)"
      ],
      "execution_count": 44,
      "outputs": [
        {
          "output_type": "execute_result",
          "data": {
            "application/vnd.google.colaboratory.intrinsic+json": {
              "type": "string"
            },
            "text/plain": [
              "'(415)'"
            ]
          },
          "metadata": {
            "tags": []
          },
          "execution_count": 44
        }
      ]
    },
    {
      "cell_type": "code",
      "metadata": {
        "colab": {
          "base_uri": "https://localhost:8080/",
          "height": 35
        },
        "id": "njgOew3NXRQC",
        "outputId": "c402ad9b-615c-455c-c6a2-7df30b9f0abf"
      },
      "source": [
        "mo.group(2)"
      ],
      "execution_count": 45,
      "outputs": [
        {
          "output_type": "execute_result",
          "data": {
            "application/vnd.google.colaboratory.intrinsic+json": {
              "type": "string"
            },
            "text/plain": [
              "'555-4242'"
            ]
          },
          "metadata": {
            "tags": []
          },
          "execution_count": 45
        }
      ]
    },
    {
      "cell_type": "code",
      "metadata": {
        "id": "polFpRsZXTsO"
      },
      "source": [
        ""
      ],
      "execution_count": null,
      "outputs": []
    }
  ]
}