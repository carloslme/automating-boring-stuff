{
  "nbformat": 4,
  "nbformat_minor": 0,
  "metadata": {
    "colab": {
      "name": "Chapter_11_Web_Scraping.ipynb",
      "provenance": [],
      "authorship_tag": "ABX9TyN0Brz7KqnPIiIiG2ZETxu8",
      "include_colab_link": true
    },
    "kernelspec": {
      "name": "python3",
      "display_name": "Python 3"
    }
  },
  "cells": [
    {
      "cell_type": "markdown",
      "metadata": {
        "id": "view-in-github",
        "colab_type": "text"
      },
      "source": [
        "<a href=\"https://colab.research.google.com/github/carloslme/automating-boring-stuff/blob/main/Chapter_11_Web_Scraping.ipynb\" target=\"_parent\"><img src=\"https://colab.research.google.com/assets/colab-badge.svg\" alt=\"Open In Colab\"/></a>"
      ]
    },
    {
      "cell_type": "markdown",
      "metadata": {
        "id": "HGQKlzPYr9CL"
      },
      "source": [
        "Web scraping is the term for using a program to download and process content from the Web.\r\n",
        "\r\n",
        "In this chapter, you will learn about several modules that make it easy to scrape web pages in Python. \r\n",
        "* webbrowser . Comes with Python and opens a browser to a specific page. \r\n",
        "* Requests . Downloads files and web pages from the Internet. \r\n",
        "* Beautiful Soup . Parses HTML, the format that web pages are written in. \r\n",
        "* Selenium . Launches and controls a web browser. Selenium is able to fill in forms and simulate mouse clicks in this browser."
      ]
    },
    {
      "cell_type": "code",
      "metadata": {
        "colab": {
          "base_uri": "https://localhost:8080/"
        },
        "id": "6Fu76hpEr0aK",
        "outputId": "3de7e34a-2bf5-47f3-f3b3-bb0cfe5f6528"
      },
      "source": [
        "!pip install requests"
      ],
      "execution_count": null,
      "outputs": [
        {
          "output_type": "stream",
          "text": [
            "Requirement already satisfied: requests in /usr/local/lib/python3.6/dist-packages (2.23.0)\n",
            "Requirement already satisfied: chardet<4,>=3.0.2 in /usr/local/lib/python3.6/dist-packages (from requests) (3.0.4)\n",
            "Requirement already satisfied: urllib3!=1.25.0,!=1.25.1,<1.26,>=1.21.1 in /usr/local/lib/python3.6/dist-packages (from requests) (1.24.3)\n",
            "Requirement already satisfied: certifi>=2017.4.17 in /usr/local/lib/python3.6/dist-packages (from requests) (2020.12.5)\n",
            "Requirement already satisfied: idna<3,>=2.5 in /usr/local/lib/python3.6/dist-packages (from requests) (2.10)\n"
          ],
          "name": "stdout"
        }
      ]
    },
    {
      "cell_type": "code",
      "metadata": {
        "id": "_RdY5bZosLuL"
      },
      "source": [
        "import requests"
      ],
      "execution_count": null,
      "outputs": []
    },
    {
      "cell_type": "code",
      "metadata": {
        "id": "VAm-C9NCsNyC"
      },
      "source": [
        "res = requests.get('https://automatetheboringstuff.com/files/rj.txt')"
      ],
      "execution_count": null,
      "outputs": []
    },
    {
      "cell_type": "code",
      "metadata": {
        "colab": {
          "base_uri": "https://localhost:8080/"
        },
        "id": "sy7VuBpGsTXD",
        "outputId": "23eee086-e961-49b7-dcf9-3f41ab7221f3"
      },
      "source": [
        "type(res)"
      ],
      "execution_count": null,
      "outputs": [
        {
          "output_type": "execute_result",
          "data": {
            "text/plain": [
              "requests.models.Response"
            ]
          },
          "metadata": {
            "tags": []
          },
          "execution_count": 4
        }
      ]
    },
    {
      "cell_type": "code",
      "metadata": {
        "colab": {
          "base_uri": "https://localhost:8080/"
        },
        "id": "1e7bsYussVAi",
        "outputId": "3bdf4531-bf8c-4500-b619-659845214953"
      },
      "source": [
        "res.status_code == requests.codes.ok"
      ],
      "execution_count": null,
      "outputs": [
        {
          "output_type": "execute_result",
          "data": {
            "text/plain": [
              "True"
            ]
          },
          "metadata": {
            "tags": []
          },
          "execution_count": 5
        }
      ]
    },
    {
      "cell_type": "code",
      "metadata": {
        "colab": {
          "base_uri": "https://localhost:8080/"
        },
        "id": "fR80kOQnsZqU",
        "outputId": "6575b1f9-b9a7-4396-caae-7a96450e3942"
      },
      "source": [
        "len(res.text)"
      ],
      "execution_count": null,
      "outputs": [
        {
          "output_type": "execute_result",
          "data": {
            "text/plain": [
              "178978"
            ]
          },
          "metadata": {
            "tags": []
          },
          "execution_count": 6
        }
      ]
    },
    {
      "cell_type": "code",
      "metadata": {
        "colab": {
          "base_uri": "https://localhost:8080/"
        },
        "id": "9RdijKaXsboa",
        "outputId": "2b66af13-5b3b-4a3b-8eaa-d4bcafbe7f83"
      },
      "source": [
        "print(res.text[:250])"
      ],
      "execution_count": null,
      "outputs": [
        {
          "output_type": "stream",
          "text": [
            "The Project Gutenberg EBook of Romeo and Juliet, by William Shakespeare\r\n",
            "\r\n",
            "This eBook is for the use of anyone anywhere at no cost and with\r\n",
            "almost no restrictions whatsoever.  You may copy it, give it away or\r\n",
            "re-use it under the terms of the Projec\n"
          ],
          "name": "stdout"
        }
      ]
    },
    {
      "cell_type": "markdown",
      "metadata": {
        "id": "ipff5gBtsv-0"
      },
      "source": [
        "# Checking for Errors\r\n",
        "the Response object has a status_code attribute that can be checked against requests.codes.ok to see whether the download succeeded. A simpler way to check for success is to call the raise_for_status() method on the Response object. This will raise an exception if there was an error downloading the file and will do nothing if the download succeeded."
      ]
    },
    {
      "cell_type": "code",
      "metadata": {
        "colab": {
          "base_uri": "https://localhost:8080/",
          "height": 308
        },
        "id": "zr-w-fnvsgDw",
        "outputId": "692ef6b3-763e-4c3a-f330-da4383209f9d"
      },
      "source": [
        "res = requests.get('http://inventwithpython.com/page_that_does_not_exist') \r\n",
        "res.raise_for_status()"
      ],
      "execution_count": null,
      "outputs": [
        {
          "output_type": "error",
          "ename": "HTTPError",
          "evalue": "ignored",
          "traceback": [
            "\u001b[0;31m---------------------------------------------------------------------------\u001b[0m",
            "\u001b[0;31mHTTPError\u001b[0m                                 Traceback (most recent call last)",
            "\u001b[0;32m<ipython-input-9-6e99d78ad49e>\u001b[0m in \u001b[0;36m<module>\u001b[0;34m()\u001b[0m\n\u001b[1;32m      1\u001b[0m \u001b[0mres\u001b[0m \u001b[0;34m=\u001b[0m \u001b[0mrequests\u001b[0m\u001b[0;34m.\u001b[0m\u001b[0mget\u001b[0m\u001b[0;34m(\u001b[0m\u001b[0;34m'http://inventwithpython.com/page_that_does_not_exist'\u001b[0m\u001b[0;34m)\u001b[0m\u001b[0;34m\u001b[0m\u001b[0;34m\u001b[0m\u001b[0m\n\u001b[0;32m----> 2\u001b[0;31m \u001b[0mres\u001b[0m\u001b[0;34m.\u001b[0m\u001b[0mraise_for_status\u001b[0m\u001b[0;34m(\u001b[0m\u001b[0;34m)\u001b[0m\u001b[0;34m\u001b[0m\u001b[0;34m\u001b[0m\u001b[0m\n\u001b[0m",
            "\u001b[0;32m/usr/local/lib/python3.6/dist-packages/requests/models.py\u001b[0m in \u001b[0;36mraise_for_status\u001b[0;34m(self)\u001b[0m\n\u001b[1;32m    939\u001b[0m \u001b[0;34m\u001b[0m\u001b[0m\n\u001b[1;32m    940\u001b[0m         \u001b[0;32mif\u001b[0m \u001b[0mhttp_error_msg\u001b[0m\u001b[0;34m:\u001b[0m\u001b[0;34m\u001b[0m\u001b[0;34m\u001b[0m\u001b[0m\n\u001b[0;32m--> 941\u001b[0;31m             \u001b[0;32mraise\u001b[0m \u001b[0mHTTPError\u001b[0m\u001b[0;34m(\u001b[0m\u001b[0mhttp_error_msg\u001b[0m\u001b[0;34m,\u001b[0m \u001b[0mresponse\u001b[0m\u001b[0;34m=\u001b[0m\u001b[0mself\u001b[0m\u001b[0;34m)\u001b[0m\u001b[0;34m\u001b[0m\u001b[0;34m\u001b[0m\u001b[0m\n\u001b[0m\u001b[1;32m    942\u001b[0m \u001b[0;34m\u001b[0m\u001b[0m\n\u001b[1;32m    943\u001b[0m     \u001b[0;32mdef\u001b[0m \u001b[0mclose\u001b[0m\u001b[0;34m(\u001b[0m\u001b[0mself\u001b[0m\u001b[0;34m)\u001b[0m\u001b[0;34m:\u001b[0m\u001b[0;34m\u001b[0m\u001b[0;34m\u001b[0m\u001b[0m\n",
            "\u001b[0;31mHTTPError\u001b[0m: 404 Client Error: Not Found for url: http://inventwithpython.com/page_that_does_not_exist"
          ]
        }
      ]
    },
    {
      "cell_type": "markdown",
      "metadata": {
        "id": "k6GGTQMntGuO"
      },
      "source": [
        "The raise_for_status() method is a good way to ensure that a program halts if a bad download occurs. This is a good thing: You want your program to stop as soon as some unexpected error happens. If a failed download isn’t a deal breaker for your program, you can wrap the raise_for_status() line with try and except statements to handle this error case without crashing."
      ]
    },
    {
      "cell_type": "code",
      "metadata": {
        "colab": {
          "base_uri": "https://localhost:8080/"
        },
        "id": "m00wLPLds8si",
        "outputId": "2d054549-f2c9-4a14-b380-cb0e31ed8dc2"
      },
      "source": [
        "import requests\r\n",
        "res = requests.get('http://inventwithpython.com/page_that_does_not_exist') \r\n",
        "try: \r\n",
        "  res.raise_for_status() \r\n",
        "except Exception as exc: \r\n",
        "  print('There was a problem: %s' % (exc))"
      ],
      "execution_count": null,
      "outputs": [
        {
          "output_type": "stream",
          "text": [
            "There was a problem: 404 Client Error: Not Found for url: http://inventwithpython.com/page_that_does_not_exist\n"
          ],
          "name": "stdout"
        }
      ]
    },
    {
      "cell_type": "markdown",
      "metadata": {
        "id": "VcfVhWk0tZAP"
      },
      "source": [
        "# Saving Downloaded Files to the Hard Drive\r\n",
        "You can save the web page to a file on your hard drive with the standard `open()` function and `write()` method. There are some slight differences, though. First, you must open the file in write binary mode by passing the string `'wb'` as the second argument to `open()`. Even if the page is in plaintext (such as the Romeo and Juliet text you downloaded earlier), you need to write binary data instead of text data in order to maintain the Unicode encoding of the text.\r\n",
        "\r\n",
        "To write the web page to a file, you can use a for loop with the Response object’s `iter_content()` method."
      ]
    },
    {
      "cell_type": "code",
      "metadata": {
        "id": "15T1s21otOwK"
      },
      "source": [
        "import requests \r\n",
        "\r\n",
        "res = requests.get('https://automatetheboringstuff.com/files/rj.txt') # get to download the file\r\n",
        "res.raise_for_status() # ensure that the program stops if a bad download occurs\r\n",
        "playFile = open('RomeoAndJuliet.txt', 'wb') # 'wb' to create a file in write binary mode\r\n",
        "\r\n",
        "for chunk in res.iter_content(100000): # chunks of 100Kb to be written\r\n",
        "  playFile.write(chunk) \r\n",
        "\r\n",
        "playFile.close()"
      ],
      "execution_count": null,
      "outputs": []
    },
    {
      "cell_type": "code",
      "metadata": {
        "id": "nC2Q185-tt1q"
      },
      "source": [
        "text = open('RomeoAndJuliet.txt', 'r')\r\n",
        "print(text.read())"
      ],
      "execution_count": null,
      "outputs": []
    },
    {
      "cell_type": "markdown",
      "metadata": {
        "id": "tlYoff16ZTp7"
      },
      "source": [
        "# HTML\r\n",
        "Hypertext Markup Language (HTML) is the format that web pages are written in.\r\n",
        "\r\n",
        "An HTML file is a plaintext file with the .html file extension. The text in these files is surrounded by tags , which are words enclosed in angle brackets. The tags tell the browser how to format the web page. A starting tag and closing tag can enclose some text to form an element . The text (or inner HTML ) is the content between the starting and closing tags.\r\n",
        "\r\n",
        "There are many different tags in HTML. Some of these tags have extra properties in the form of attributes within the angle brackets.\r\n",
        "\r\n",
        "Some elements have an id attribute that is used to uniquely identify the element in the page. You will often instruct your programs to seek out an element by its id attribute, so figuring out an element’s id attribute using the browser’s developer tools is a common task in writing web scraping programs."
      ]
    },
    {
      "cell_type": "markdown",
      "metadata": {
        "id": "9lolCpmNdQ8c"
      },
      "source": [
        "# Parsing HTML with the BeautifulSoup Module\r\n",
        "Beautiful Soup is a module for extracting information from an HTML page (and is much better for this purpose than regular expressions). The BeautifulSoup module’s name is bs4 (for Beautiful Soup, version 4)."
      ]
    },
    {
      "cell_type": "code",
      "metadata": {
        "id": "bvH0mZcKt1t7",
        "colab": {
          "base_uri": "https://localhost:8080/"
        },
        "outputId": "436050fb-991b-4a7e-c2d2-cf3e0819105d"
      },
      "source": [
        "!pip install beautifulsoup4"
      ],
      "execution_count": 1,
      "outputs": [
        {
          "output_type": "stream",
          "text": [
            "Requirement already satisfied: beautifulsoup4 in /usr/local/lib/python3.6/dist-packages (4.6.3)\n"
          ],
          "name": "stdout"
        }
      ]
    },
    {
      "cell_type": "code",
      "metadata": {
        "id": "TeWGGTcveGIj"
      },
      "source": [
        "import bs4\r\n",
        "import requests"
      ],
      "execution_count": 3,
      "outputs": []
    },
    {
      "cell_type": "code",
      "metadata": {
        "id": "cpHk8sCzeLJJ"
      },
      "source": [
        "res = requests.get('http://nostarch.com/automatestuff/')\r\n",
        "res.raise_for_status()"
      ],
      "execution_count": 4,
      "outputs": []
    },
    {
      "cell_type": "code",
      "metadata": {
        "id": "Nx1sRhSVerwP"
      },
      "source": [
        "htmlFile = open('htmlFile.html', 'wb')\r\n",
        "\r\n",
        "for chunk in res.iter_content(100000):\r\n",
        "  htmlFile.write(chunk)\r\n",
        "\r\n",
        "htmlFile.close()\r\n"
      ],
      "execution_count": 9,
      "outputs": []
    },
    {
      "cell_type": "code",
      "metadata": {
        "colab": {
          "base_uri": "https://localhost:8080/",
          "height": 188
        },
        "id": "ahouxq-ZfMgj",
        "outputId": "51768469-f312-4c10-db76-124333c38b14"
      },
      "source": [
        "open('htmlFile.html','r').read()"
      ],
      "execution_count": 11,
      "outputs": [
        {
          "output_type": "execute_result",
          "data": {
            "application/vnd.google.colaboratory.intrinsic+json": {
              "type": "string"
            },
            "text/plain": [
              "'<!DOCTYPE html>\\n<html lang=\"en\" dir=\"ltr\" xmlns:og=\"http://ogp.me/ns#\">\\n<head>\\n<script src=\"/cdn-cgi/apps/head/j5v88GAcO1Pymf91CQYvgLZqNao.js\"></script><link rel=\"profile\" href=\"https://www.w3.org/1999/xhtml/vocab\" />\\n<meta name=\"viewport\" content=\"width=device-width, initial-scale=1.0\">\\n<meta http-equiv=\"Content-Type\" content=\"text/html; charset=utf-8\" />\\n<link rel=\"shortcut icon\" href=\"https://nostarch.com/sites/default/files/favicon.ico\" type=\"image/vnd.microsoft.icon\" />\\n<meta name=\"description\" content=\"The second edition of the best-selling Python book, Automate the Boring Stuff with Python, 2nd Edition (100,000+ copies sold in print alone) uses Python 3 to teach even the technically uninclined how to write programs that do in minutes what would take hours to do by hand.\" />\\n<meta name=\"generator\" content=\"Drupal 7 (http://drupal.org)\" />\\n<link rel=\"image_src\" href=\"https://nostarch.com/sites/default/files/Automate_coversmall_0.png\" />\\n<link rel=\"canonical\" href=\"https://nostarch.com/automatestuff2\" />\\n<link rel=\"shortlink\" href=\"https://nostarch.com/node/527\" />\\n<meta property=\"og:type\" content=\"article\" />\\n<meta property=\"og:url\" content=\"https://nostarch.com/automatestuff2\" />\\n<meta property=\"og:title\" content=\"Automate the Boring Stuff with Python, 2nd Edition\" />\\n<meta property=\"og:description\" content=\"The second edition of the best-selling Python book, Automate the Boring Stuff with Python, 2nd Edition (100,000+ copies sold in print alone) uses Python 3 to teach even the technically uninclined how to write programs that do in minutes what would take hours to do by hand.\" />\\n<meta property=\"og:updated_time\" content=\"2021-02-17T08:57:47-08:00\" />\\n<meta property=\"og:image:url\" content=\"https://nostarch.com/sites/default/files/Automate_coversmall_0.png\" />\\n<meta property=\"og:image:secure_url\" content=\"https://nostarch.com/sites/default/files/Automate_coversmall_0.png\" />\\n<meta name=\"twitter:card\" content=\"summary\" />\\n<meta name=\"twitter:site\" content=\"@nostarch\" />\\n<meta name=\"twitter:url\" content=\"https://nostarch.com/automatestuff2\" />\\n<meta name=\"twitter:title\" content=\"Automate the Boring Stuff with Python, 2nd Edition\" />\\n<meta name=\"twitter:description\" content=\"The second edition of the best-selling Python book, Automate the Boring Stuff with Python, 2nd Edition (100,000+ copies sold in print alone) uses Python 3 to teach even the technically uninclined how\" />\\n<meta name=\"twitter:image\" content=\"https://nostarch.com/sites/default/files/Automate_coversmall_0.png\" />\\n<meta property=\"product:price:amount\" content=\"39.95\" />\\n<meta property=\"product:price:currency\" content=\"USD\" />\\n<meta property=\"product:isbn\" content=\"9781593279929\" />\\n<meta property=\"article:published_time\" content=\"2019-04-05T14:57:29-07:00\" />\\n<meta property=\"article:modified_time\" content=\"2021-02-17T08:57:47-08:00\" />\\n<meta property=\"product:retailer_part_no\" content=\"automatestuff2-combo\" />\\n<meta property=\"product:mfr_part_no\" content=\"automatestuff2-combo\" />\\n<title>Automate the Boring Stuff with Python, 2nd Edition | No Starch Press</title>\\n<link type=\"text/css\" rel=\"stylesheet\" href=\"https://nostarch.com/sites/default/files/css/css_lQaZfjVpwP_oGNqdtWCSpJT1EMqXdMiU84ekLLxQnc4.css\" media=\"all\" />\\n<link type=\"text/css\" rel=\"stylesheet\" href=\"https://nostarch.com/sites/default/files/css/css_cB6OXw_Opj15QIgT41NyjOYTofTdQ6xaaKVZFiwaFxA.css\" media=\"all\" />\\n<link type=\"text/css\" rel=\"stylesheet\" href=\"https://nostarch.com/sites/default/files/css/css_BJ5zHbAea-HWw-_w0lT6nVVAT7fqo0WF8BAXmG7LOnE.css\" media=\"all\" />\\n<link type=\"text/css\" rel=\"stylesheet\" href=\"https://nostarch.com/sites/default/files/css/css_iPZidYcsPpGHgkD7i0MEzFw4QcxLaU7Tp7x_mV5_e-A.css\" media=\"all\" />\\n\\n<!--[if lt IE 9]>\\n    <script src=\"https://cdn.jsdelivr.net/html5shiv/3.7.3/html5shiv-printshiv.min.js\"></script>\\n  <![endif]-->\\n<script>window.google_analytics_uacct = \"UA-5027625-1\";</script>\\n<script src=\"//ajax.googleapis.com/ajax/libs/jquery/1.10.2/jquery.min.js\"></script>\\n<script>window.jQuery || document.write(\"<script src=\\'/sites/all/modules/contrib/jquery_update/replace/jquery/1.10/jquery.min.js\\'>\\\\x3C/script>\")</script>\\n<script src=\"https://nostarch.com/misc/jquery-extend-3.4.0.js?v=1.10.2\"></script>\\n<script src=\"https://nostarch.com/misc/jquery-html-prefilter-3.5.0-backport.js?v=1.10.2\"></script>\\n<script src=\"https://nostarch.com/misc/jquery.once.js?v=1.2\"></script>\\n<script src=\"https://nostarch.com/misc/drupal.js?qom46y\"></script>\\n<script src=\"https://nostarch.com/sites/all/modules/contrib/ubercart/uc_file/uc_file.js?qom46y\"></script>\\n<script src=\"https://nostarch.com/sites/all/libraries/colorbox/jquery.colorbox-min.js?qom46y\"></script>\\n<script src=\"https://nostarch.com/sites/all/modules/contrib/colorbox/js/colorbox.js?qom46y\"></script>\\n<script src=\"https://nostarch.com/sites/all/modules/contrib/colorbox/styles/plain/colorbox_style.js?qom46y\"></script>\\n<script src=\"https://nostarch.com/sites/all/modules/contrib/colorbox/js/colorbox_load.js?qom46y\"></script>\\n<script src=\"https://nostarch.com/sites/all/modules/contrib/colorbox/js/colorbox_inline.js?qom46y\"></script>\\n<script src=\"https://nostarch.com/sites/all/modules/contrib/ubercart/uc_cart/uc_cart_block.js?qom46y\"></script>\\n<script src=\"https://nostarch.com/sites/all/modules/contrib/google_analytics/googleanalytics.js?qom46y\"></script>\\n<script>(function(i,s,o,g,r,a,m){i[\"GoogleAnalyticsObject\"]=r;i[r]=i[r]||function(){(i[r].q=i[r].q||[]).push(arguments)},i[r].l=1*new Date();a=s.createElement(o),m=s.getElementsByTagName(o)[0];a.async=1;a.src=g;m.parentNode.insertBefore(a,m)})(window,document,\"script\",\"https://www.google-analytics.com/analytics.js\",\"ga\");ga(\"create\", \"UA-5027625-1\", {\"cookieDomain\":\"auto\"});ga(\"set\", \"anonymizeIp\", true);ga(\"send\", \"pageview\");</script>\\n<script src=\"https://nostarch.com/sites/all/themes/nostarch/js/bootstrap.min.js?qom46y\"></script>\\n<script src=\"https://nostarch.com/sites/all/themes/nostarch/js/main.js?qom46y\"></script>\\n<script src=\"https://nostarch.com/sites/all/themes/nostarch/js/front_grid_height.js?qom46y\"></script>\\n<script>jQuery.extend(Drupal.settings, {\"basePath\":\"\\\\/\",\"pathPrefix\":\"\",\"ajaxPageState\":{\"theme\":\"nostarch\",\"theme_token\":\"DmSV2uOr8ngwDCQ7jxkamNvh_vuz1zOwu-KyhVMTyNs\",\"js\":{\"sites\\\\/all\\\\/modules\\\\/contrib\\\\/addthis\\\\/addthis.js\":1,\"sites\\\\/all\\\\/themes\\\\/contrib\\\\/bootstrap\\\\/js\\\\/bootstrap.js\":1,\"0\":1,\"\\\\/\\\\/ajax.googleapis.com\\\\/ajax\\\\/libs\\\\/jquery\\\\/1.10.2\\\\/jquery.min.js\":1,\"1\":1,\"misc\\\\/jquery-extend-3.4.0.js\":1,\"misc\\\\/jquery-html-prefilter-3.5.0-backport.js\":1,\"misc\\\\/jquery.once.js\":1,\"misc\\\\/drupal.js\":1,\"sites\\\\/all\\\\/modules\\\\/contrib\\\\/ubercart\\\\/uc_file\\\\/uc_file.js\":1,\"sites\\\\/all\\\\/libraries\\\\/colorbox\\\\/jquery.colorbox-min.js\":1,\"sites\\\\/all\\\\/modules\\\\/contrib\\\\/colorbox\\\\/js\\\\/colorbox.js\":1,\"sites\\\\/all\\\\/modules\\\\/contrib\\\\/colorbox\\\\/styles\\\\/plain\\\\/colorbox_style.js\":1,\"sites\\\\/all\\\\/modules\\\\/contrib\\\\/colorbox\\\\/js\\\\/colorbox_load.js\":1,\"sites\\\\/all\\\\/modules\\\\/contrib\\\\/colorbox\\\\/js\\\\/colorbox_inline.js\":1,\"sites\\\\/all\\\\/modules\\\\/contrib\\\\/ubercart\\\\/uc_cart\\\\/uc_cart_block.js\":1,\"sites\\\\/all\\\\/modules\\\\/contrib\\\\/google_analytics\\\\/googleanalytics.js\":1,\"2\":1,\"sites\\\\/all\\\\/themes\\\\/nostarch\\\\/js\\\\/bootstrap.min.js\":1,\"sites\\\\/all\\\\/themes\\\\/nostarch\\\\/js\\\\/main.js\":1,\"sites\\\\/all\\\\/themes\\\\/nostarch\\\\/js\\\\/front_grid_height.js\":1},\"css\":{\"modules\\\\/system\\\\/system.base.css\":1,\"sites\\\\/all\\\\/modules\\\\/contrib\\\\/date\\\\/date_api\\\\/date.css\":1,\"sites\\\\/all\\\\/modules\\\\/contrib\\\\/date\\\\/date_popup\\\\/themes\\\\/datepicker.1.7.css\":1,\"modules\\\\/field\\\\/theme\\\\/field.css\":1,\"sites\\\\/all\\\\/modules\\\\/contrib\\\\/logintoboggan\\\\/logintoboggan.css\":1,\"modules\\\\/node\\\\/node.css\":1,\"sites\\\\/all\\\\/modules\\\\/contrib\\\\/uc_fedex\\\\/uc_fedex.css\":1,\"sites\\\\/all\\\\/modules\\\\/contrib\\\\/ubercart\\\\/uc_file\\\\/uc_file.css\":1,\"sites\\\\/all\\\\/modules\\\\/contrib\\\\/ubercart\\\\/uc_order\\\\/uc_order.css\":1,\"sites\\\\/all\\\\/modules\\\\/contrib\\\\/ubercart\\\\/uc_product\\\\/uc_product.css\":1,\"sites\\\\/all\\\\/modules\\\\/contrib\\\\/ubercart\\\\/uc_store\\\\/uc_store.css\":1,\"sites\\\\/all\\\\/modules\\\\/contrib\\\\/views\\\\/css\\\\/views.css\":1,\"sites\\\\/all\\\\/modules\\\\/contrib\\\\/uc_discounts_alt\\\\/uc_discounts\\\\/uc_discounts.css\":1,\"sites\\\\/all\\\\/modules\\\\/contrib\\\\/colorbox\\\\/styles\\\\/plain\\\\/colorbox_style.css\":1,\"sites\\\\/all\\\\/modules\\\\/contrib\\\\/ctools\\\\/css\\\\/ctools.css\":1,\"sites\\\\/all\\\\/modules\\\\/contrib\\\\/ubercart\\\\/uc_cart\\\\/uc_cart_block.css\":1,\"sites\\\\/all\\\\/themes\\\\/nostarch\\\\/css\\\\/en_styles.css\":1,\"sites\\\\/all\\\\/themes\\\\/nostarch\\\\/css\\\\/custom.css\":1,\"sites\\\\/all\\\\/themes\\\\/nostarch\\\\/css\\\\/bootstrap-3-vert-offset.css\":1,\"sites\\\\/all\\\\/themes\\\\/nostarch\\\\/css\\\\/bootstrap-3-autoclear.css\":1,\"sites\\\\/all\\\\/themes\\\\/nostarch\\\\/css\\\\/glyphicons.css\":1}},\"colorbox\":{\"opacity\":\"0.85\",\"current\":\"{current} of {total}\",\"previous\":\"\\\\u00ab Prev\",\"next\":\"Next \\\\u00bb\",\"close\":\"Close\",\"maxWidth\":\"98%\",\"maxHeight\":\"98%\",\"fixed\":true,\"mobiledetect\":true,\"mobiledevicewidth\":\"480px\",\"specificPagesDefaultValue\":\"admin*\\\\nimagebrowser*\\\\nimg_assist*\\\\nimce*\\\\nnode\\\\/add\\\\/*\\\\nnode\\\\/*\\\\/edit\\\\nprint\\\\/*\\\\nprintpdf\\\\/*\\\\nsystem\\\\/ajax\\\\nsystem\\\\/ajax\\\\/*\"},\"better_exposed_filters\":{\"views\":{\"topics\":{\"displays\":{\"block\":{\"filters\":[]}}},\"related_products\":{\"displays\":{\"block\":{\"filters\":[]}}}}},\"googleanalytics\":{\"trackOutbound\":1,\"trackMailto\":1,\"trackDownload\":1,\"trackDownloadExtensions\":\"7z|aac|arc|arj|asf|asx|avi|bin|csv|doc(x|m)?|dot(x|m)?|exe|flv|gif|gz|gzip|hqx|jar|jpe?g|js|mp(2|3|4|e?g)|mov(ie)?|msi|msp|pdf|phps|png|ppt(x|m)?|pot(x|m)?|pps(x|m)?|ppam|sld(x|m)?|thmx|qtm?|ra(m|r)?|sea|sit|tar|tgz|torrent|txt|wav|wma|wmv|wpd|xls(x|m|b)?|xlt(x|m)|xlam|xml|z|zip\",\"trackColorbox\":1},\"urlIsAjaxTrusted\":{\"\\\\/automatestuff2\":true},\"bootstrap\":{\"anchorsFix\":\"0\",\"anchorsSmoothScrolling\":\"0\",\"formHasError\":1,\"popoverEnabled\":1,\"popoverOptions\":{\"animation\":1,\"html\":0,\"placement\":\"right\",\"selector\":\"\",\"trigger\":\"click\",\"triggerAutoclose\":1,\"title\":\"\",\"content\":\"\",\"delay\":0,\"container\":\"body\"},\"tooltipEnabled\":1,\"tooltipOptions\":{\"animation\":1,\"html\":0,\"placement\":\"auto left\",\"selector\":\"\",\"trigger\":\"hover focus\",\"delay\":0,\"container\":\"body\"}}});</script>\\n</head>\\n<body class=\"html not-front not-logged-in two-sidebars page-node page-node- page-node-527 node-type-product uc-product-node\">\\n<div id=\"skip-link\">\\n<a href=\"#main-content\" class=\"element-invisible element-focusable\">Skip to main content</a>\\n</div>\\n<header id=\"\" class=\"header\" role=\"banner\" class=\"navbar navbar-default\">\\n<div class=\"container\">\\n<div class=\"row\">\\n<nav role=\"navigation\" class=\"navbar navbar-default visible-xs\">\\n<div class=\"navbar-header\">\\n<button type=\"button\" class=\"navbar-toggle collapsed\" data-toggle=\"collapse\" data-target=\"#navbar\" aria-expanded=\"false\" aria-controls=\"navbar\">\\n<span class=\"sr-only\">Toggle navigation</span>\\n<span class=\"icon-bar\"></span>\\n<span class=\"icon-bar\"></span>\\n<span class=\"icon-bar\"></span>\\n</button>\\n<a class=\"navbar-brand text-uppercase\" href=\"/\"><img src=\"https://nostarch.com/sites/all/themes/nostarch/logo.png\" alt=\"Home\" class=\"img-responsive\" /></a>\\n</div>\\n<div id=\"navbar\" class=\"navbar-collapse collapse text-center\">\\n<ul class=\"menu nav navbar-nav\"><li class=\"first leaf\"><a href=\"/catalog.htm\" title=\"Explore our catalog\">Catalog</a></li>\\n<li class=\"leaf\"><a href=\"https://nostarch.com/no-starch-death-metal-t-shirt-new\" title=\"Merchandise\">Merch</a></li>\\n<li class=\"leaf\"><a href=\"/blog\" title=\"The No Starch Press blog\">Blog</a></li>\\n<li class=\"leaf\"><a href=\"/media.htm\" title=\"Media contact\">Media</a></li>\\n<li class=\"leaf\"><a href=\"/writeforus\" title=\"Submit a book proposal\">Write for Us</a></li>\\n<li class=\"leaf\"><a href=\"/about\" title=\"About No Starch Press\">About Us</a></li>\\n<li class=\"last leaf\"><a href=\"/contactus\" title=\"Contact Us\">Contact Us</a></li>\\n</ul> <div class=\"region region-navigation\">\\n<section id=\"block-search-form\" class=\"block block-search clearfix\">\\n<form class=\"form-search content-search\" action=\"/automatestuff2\" method=\"post\" id=\"search-block-form\" accept-charset=\"UTF-8\"><div><div>\\n<h2 class=\"element-invisible\">Search form</h2>\\n<div class=\"input-group\"><input title=\"Enter the terms you wish to search for.\" placeholder=\"Search\" class=\"form-control form-text\" type=\"text\" id=\"edit-search-block-form--2\" name=\"search_block_form\" value=\"\" size=\"15\" maxlength=\"128\" /><span class=\"input-group-btn\"><button type=\"submit\" class=\"btn btn-primary\"><span class=\"icon glyphicon glyphicon-search\" aria-hidden=\"true\"></span>\\n</button></span></div><div class=\"form-actions form-wrapper form-group\" id=\"edit-actions--2\"><button class=\"element-invisible btn btn-default form-submit\" type=\"submit\" id=\"edit-submit\" name=\"op\" value=\"GO!\">GO!</button>\\n</div><input type=\"hidden\" name=\"form_build_id\" value=\"form-05_OhqbBVYIZXgg0LAn5isGM1n5ZSWtK35NVKt1g0SM\" />\\n<input type=\"hidden\" name=\"form_id\" value=\"search_block_form\" />\\n</div>\\n</div></form>\\n</section>\\n</div>\\n</div>\\n</nav>\\n<div class=\"navbar-header\">\\n<div class=\"logo-wrapper col-sm-6 hidden-xs\">\\n<a class=\"logo navbar-btn pull-left\" href=\"/\" title=\"Home\">\\n<img src=\"https://nostarch.com/sites/all/themes/nostarch/logo.png\" alt=\"Home\" class=\"img-responsive\" />\\n</a>\\n</div>\\n<div class=\"logo-wrapper col-sm-6 hidden-xs\">\\n<div class=\"region region-navigation\">\\n<div class=\"region region-navigation\">\\n<section id=\"block-search-form\" class=\"block block-search clearfix\">\\n<form class=\"form-search content-search\" action=\"/automatestuff2\" method=\"post\" id=\"search-block-form\" accept-charset=\"UTF-8\"><div><div>\\n<h2 class=\"element-invisible\">Search form</h2>\\n<div class=\"input-group\"><input title=\"Enter the terms you wish to search for.\" placeholder=\"Search\" class=\"form-control form-text\" type=\"text\" id=\"edit-search-block-form--2\" name=\"search_block_form\" value=\"\" size=\"15\" maxlength=\"128\" /><span class=\"input-group-btn\"><button type=\"submit\" class=\"btn btn-primary\"><span class=\"icon glyphicon glyphicon-search\" aria-hidden=\"true\"></span>\\n</button></span></div><div class=\"form-actions form-wrapper form-group\" id=\"edit-actions--2\"><button class=\"element-invisible btn btn-default form-submit\" type=\"submit\" id=\"edit-submit\" name=\"op\" value=\"GO!\">GO!</button>\\n</div><input type=\"hidden\" name=\"form_build_id\" value=\"form-05_OhqbBVYIZXgg0LAn5isGM1n5ZSWtK35NVKt1g0SM\" />\\n<input type=\"hidden\" name=\"form_id\" value=\"search_block_form\" />\\n</div>\\n</div></form>\\n</section>\\n</div>\\n</div>\\n</div>\\n</div>\\n</div>\\n</div>\\n<div class=\"container\">\\n<div class=\"row\">\\n<div class=\"navbar-collapse collapse\">\\n<nav role=\"navigation\">\\n<ul class=\"menu nav navbar-nav\"><ul class=\"menu nav navbar-nav\"><li class=\"first leaf\"><a href=\"/catalog.htm\" title=\"Explore our catalog\">Catalog</a></li>\\n<li class=\"leaf\"><a href=\"https://nostarch.com/no-starch-death-metal-t-shirt-new\" title=\"Merchandise\">Merch</a></li>\\n<li class=\"leaf\"><a href=\"/blog\" title=\"The No Starch Press blog\">Blog</a></li>\\n<li class=\"leaf\"><a href=\"/media.htm\" title=\"Media contact\">Media</a></li>\\n<li class=\"leaf\"><a href=\"/writeforus\" title=\"Submit a book proposal\">Write for Us</a></li>\\n<li class=\"leaf\"><a href=\"/about\" title=\"About No Starch Press\">About Us</a></li>\\n<li class=\"last leaf\"><a href=\"/contactus\" title=\"Contact Us\">Contact Us</a></li>\\n</ul></ul> </nav>\\n</div>\\n</div>\\n</div>\\n</header>\\n<div class=\"main-container container\">\\n<header role=\"banner\" id=\"page-header\">\\n</header> \\n<div class=\"row\">\\n<aside class=\"col-sm-3\" role=\"complementary\">\\n<div class=\"region region-sidebar-first well\">\\n<section id=\"block-block-65\" class=\"block block-block clearfix\">\\n<div style=\"border-radius:8px;border:4px solid;padding: 20px; font-weight: bold; font-size: .938em; background:rgb(255,250,192);margin:20px 0 20px 0;\">\\n<center>\\n<p>We are currently shipping with some delays. Please see our <a href=\"/orderfaq.htm\" target=\"_blank\" style=\"text-decoration:underline;\">FAQ.</a></p>\\n<p></p></center>\\n</div>\\n</section>\\n<section id=\"block-views-topics-block\" class=\"block block-views clearfix\">\\n<button class=\"btn btn-primary btn-block visible-xs vert-offset-top-2\" data-toggle=\"collapse\" data-target=\"#topics\"><span class=\"glyphicon glyphicon-menu-down pull-left\"></span>\\n<span class=\"btn-text\">Topics</span><span class=\"glyphicon glyphicon-menu-down pull-right\"></span></button>\\n<h2 class=\"block-title hidden-xs\">Topics</h2>\\n<div id=\"topics\" class=\"view-content collapse dont-collapse animateCollapse\">\\n<div class=\"view view-topics view-id-topics view-display-id-block view-dom-id-3704f43a6ae15d472cd89fc90898a531\">\\n<div class=\"view-content\">\\n<div class=\"item-list\"> <ul> <li class=\"views-row views-row-1 views-row-odd views-row-first\">\\n<div class=\"views-field views-field-name\"> <span class=\"field-content\"><a href=\"/catalog/art-photography-design\">Art &amp; Design</a></span> </div></li>\\n<li class=\"views-row views-row-2 views-row-even\">\\n<div class=\"views-field views-field-name\"> <span class=\"field-content\"><a href=\"/catalog/general-computing\">General Computing</a></span> </div></li>\\n<li class=\"views-row views-row-3 views-row-odd\">\\n<div class=\"views-field views-field-name\"> <span class=\"field-content\"><a href=\"/catalog/security\">Hacking &amp; Computer Security</a></span> </div></li>\\n<li class=\"views-row views-row-4 views-row-even\">\\n<div class=\"views-field views-field-name\"> <span class=\"field-content\"><a href=\"/catalog/hardware-and-diy\">Hardware / DIY</a></span> </div></li>\\n<li class=\"views-row views-row-5 views-row-odd\">\\n<div class=\"views-field views-field-name\"> <span class=\"field-content\"><a href=\"/catalog/kids\">Kids</a></span> </div></li>\\n<li class=\"views-row views-row-6 views-row-even\">\\n<div class=\"views-field views-field-name\"> <span class=\"field-content\"><a href=\"/catalog/lego\">LEGO®</a></span> </div></li>\\n<li class=\"views-row views-row-7 views-row-odd\">\\n<div class=\"views-field views-field-name\"> <span class=\"field-content\"><a href=\"/catalog/linux-bsd-unix\">Linux &amp; BSD</a></span> </div></li>\\n<li class=\"views-row views-row-8 views-row-even\">\\n<div class=\"views-field views-field-name\"> <span class=\"field-content\"><a href=\"/catalog/manga\">Manga</a></span> </div></li>\\n<li class=\"views-row views-row-9 views-row-odd\">\\n<div class=\"views-field views-field-name\"> <span class=\"field-content\"><a href=\"/catalog/programming\">Programming</a></span> </div></li>\\n<li class=\"views-row views-row-10 views-row-even\">\\n<div class=\"views-field views-field-name\"> <span class=\"field-content\"><a href=\"/catalog/python\">Python</a></span> </div></li>\\n<li class=\"views-row views-row-11 views-row-odd\">\\n<div class=\"views-field views-field-name\"> <span class=\"field-content\"><a href=\"/catalog/science-math\">Science &amp; Math</a></span> </div></li>\\n<li class=\"views-row views-row-12 views-row-even\">\\n<div class=\"views-field views-field-name\"> <span class=\"field-content\"><a href=\"/catalog/scratch\">Scratch</a></span> </div></li>\\n<li class=\"views-row views-row-13 views-row-odd\">\\n<div class=\"views-field views-field-name\"> <span class=\"field-content\"><a href=\"/catalog/system-administration\">System Administration</a></span> </div></li>\\n<li class=\"views-row views-row-14 views-row-even views-row-last\">\\n<div class=\"views-field views-field-name\"> <span class=\"field-content\"><a href=\"/catalog/early-access\">Early Access</a></span> </div></li>\\n</ul></div> </div>\\n<div class=\"view-footer\">\\n<style>\\n<!--/*--><![CDATA[/* ><!--*/\\n\\n.view-topics .item-list a {font-weight: bold;}\\n.view-topics  ul {padding-left: 20px;}\\n\\n/*--><!]]>*/\\n</style> </div>\\n</div> </div>\\n</section><section id=\"block-block-12\" class=\"block block-block clearfix\">\\n<div class=\"rounded_border_block\"><a href=\"/about_ebooks.htm\" style=\"color: red1;\">Free ebook edition with every print book purchased from nostarch.com!</a></div>\\n</section>\\n<section id=\"block-uc-cart-cart\" class=\"block block-uc-cart clearfix\">\\n<h2 class=\"block-title\"><a href=\"/cart\"><span class=\"cart-block-icon-empty\" title=\"View your shopping cart.\"></span></a><span class=\"cart-block-title-bar\" title=\"Show/hide shopping cart contents.\">Shopping cart<span class=\"cart-block-arrow arrow-down\"></span></span></h2>\\n<p class=\"cart-block-items collapsed uc-cart-empty\">There are no products in your shopping cart.</p><table class=\"cart-block-summary\"><tbody><tr><td class=\"cart-block-summary-items\"><span class=\"num-items\">0</span> Items</td><td class=\"cart-block-summary-total\"><label>Total:</label> <span class=\"uc-price\">$0.00</span></td></tr></tbody></table>\\n</section>\\n<section id=\"block-nostarch-custom-login-block\" class=\"block block-nostarch-customclearfix\">\\n<h2 class=\"block-title\">User login</h2>\\n<ul>\\n<li><a href=\"/user\">Log in</a></a></li>\\n<li><a href=\"/user/register\">Create account</a></a></li>\\n</ul>\\n</section>\\n<section id=\"block-block-78\" class=\"block block-block clearfix\">\\n<script data-account=\"eeqOpWOUyZ\" src=\"https://cdn.userway.org/widget.js\"></script>\\n</section>\\n</div>\\n</aside> \\n<section class=\"col-sm-6\" style=\"\">\\n<a id=\"main-content\"></a>\\n<div class=\"region region-content\">\\n<section id=\"block-system-main\" class=\"block block-system clearfix\">\\n<div class=\"ds-1col node node-product node-promoted view-mode-full clearfix\">\\n<div class=\"\">\\n<div class=\"field field-name-field-image-cache field-type-image field-label-hidden\"><div class=\"field-items\"><div class=\"field-item even\"><div class=\"product-image\"><div class=\"main-product-image\"><a href=\"https://nostarch.com/sites/default/files/styles/uc_product_full/public/Automate_coversmall_0.png?itok=czHAqDjw\" title=\"Automate the Boring Stuff with Python, 2nd Edition\" class=\"colorbox\" rel=\"uc_image_0\"><img class=\"img-responsive\" src=\"https://nostarch.com/sites/default/files/styles/uc_product/public/Automate_coversmall_0.png?itok=BI-omPX6\" alt=\"Automate the Boring Stuff with Python, 2nd Edition\" title=\"Automate the Boring Stuff with Python, 2nd Edition\" /></a></div></div></div></div></div><div class=\"field field-name-entity-title field-type-ds field-label-hidden\"><div class=\"field-items\"><div class=\"field-item even\"><h1 class=\"page-header\">Automate the Boring Stuff with Python, 2nd Edition</h1></div></div></div><div class=\"field field-name-field-subtitle field-type-text field-label-hidden\"><div class=\"field-items\"><div class=\"field-item even\">Practical Programming for Total Beginners</div></div></div><div class=\"field field-name-field-author field-type-text field-label-hidden\"><div class=\"field-items\"><div class=\"field-item even\">by Al Sweigart</div></div></div><div class=\"field field-name-released-date field-type-ds field-label-hidden\"><div class=\"field-items\"><div class=\"field-item even\">November 2019, 592 pp.</div></div></div><div class=\"field field-name-field-isbn13 field-type-text field-label-inline clearfix clearfix\"><div class=\"field-label\">ISBN-13:&nbsp;</div><div class=\"field-items\"><div class=\"field-item even\">9781593279929</div></div></div><div class=\"add-to-cart\"><form action=\"/automatestuff2\" method=\"post\" id=\"uc-product-add-to-cart-form-527\" accept-charset=\"UTF-8\"><div><div id=\"uc_product_add_to_cart_form-527-attributes\" class=\"attributes\"><div class=\"attribute attribute-1 odd\"><div class=\"form-item form-item-attributes-1 form-type-radios form-group\"><div id=\"edit-attributes-1\" class=\"form-radios\"><div class=\"form-item form-item-attributes-1 form-type-radio radio\"> <label class=\"control-label\" for=\"edit-attributes-1-3\"><input type=\"radio\" id=\"edit-attributes-1-3\" name=\"attributes[1]\" value=\"3\" checked=\"checked\" class=\"form-radio\" />Print Book and FREE Ebook, $39.95</label>\\n</div><div class=\"form-item form-item-attributes-1 form-type-radio radio\"> <label class=\"control-label\" for=\"edit-attributes-1-2\"><input type=\"radio\" id=\"edit-attributes-1-2\" name=\"attributes[1]\" value=\"2\" class=\"form-radio\" />Ebook (PDF, Mobi, and ePub), $31.95</label>\\n</div></div></div></div></div><input type=\"hidden\" name=\"qty\" value=\"1\" />\\n<input type=\"hidden\" name=\"form_build_id\" value=\"form-JCMuiwKu-9TzWniv2LidWwPj6Rymuwwg5na6t6cOoqk\" />\\n<input type=\"hidden\" name=\"form_id\" value=\"uc_product_add_to_cart_form_527\" />\\n<div class=\"form-actions form-wrapper form-group\" id=\"edit-actions\"><button class=\"node-add-to-cart btn btn-success form-submit icon-before\" type=\"submit\" id=\"edit-submit-527\" name=\"op\" value=\"Add to cart\"><span class=\"icon glyphicon glyphicon-plus\" aria-hidden=\"true\"></span>\\nAdd to cart</button>\\n</div></div></form></div><div class=\"field field-name-product-menu field-type-ds field-label-hidden\"><div class=\"field-items\"><div class=\"field-item even\"><div class=\"menu-wrapper\"><ul class=\"menu nav\"><li><a href=\"#content\">Contents</a></li><li><a href=\"#reviews\">Reviews</a></li><li><a href=\"#updates\">Updates</a></li></ul></div></div></div></div><div class=\"field field-name-body field-type-text-with-summary field-label-hidden\"><div class=\"field-items\"><div class=\"field-item even\"><p><b>Look Inside!</b></p>\\n<div class=\"lookinside\" style=\"clear:none;\">\\n<a href=\"/images/AutomateTheBoringStuff_back.jpg\" class=\"colorbox\"><img src=\"/images/AutomateTheBoringStuff_back_thumb.jpg\" title=\"Back Cover\" alt=\"Automate the Boring Stuff with Python, 2nd Edition\" style=\"border:1px solid; margin:5px; width:78px; height:102px;\" /></a>&gt;<a href=\"/images/AutomatetheBoringStuff2e_ch.8.jpg\" class=\"colorbox\"><img src=\"/images/AutomatetheBoringStuff2e_ch.8.jpg\" title=\"Chapter 8\" alt=\"Input Validation\" style=\"border:1px solid; margin:5px; height:102px;\" /></a><a href=\"/images/AutomatetheBoringStuff2e_ch.14.jpg\" class=\"colorbox\"><img src=\"/images/AutomatetheBoringStuff2e_ch.14.jpg\" title=\"Working with Google Sheets\" alt=\"Working with Google Sheets\" style=\"border:1px solid; margin:5px; width:78px; height:102px; object-fit:cover;\" /></a><a href=\"/images/AutomatetheBoringStuff2e_p.196.jpg\" class=\"colorbox\"><img src=\"/images/AutomatetheBoringStuff2e_p.196.jpg\" title=\"Project: Multiplications Quiz\" alt=\"Project: Multiplications Quiz\" style=\"border:1px solid; margin:5px; height:102px;\" /></a><a href=\"/images/AutomatetheBoringStuff2e_p.333.jpg\" class=\"colorbox\"><img src=\"/images/AutomatetheBoringStuff2e_p.333.jpg\" title=\"Page 333\" alt=\"Automate2e\" style=\"border:1px solid; margin:5px; width:78px; height:102px; object-fit:cover;\" /></a>\\n</div>\\n<style>\\n<!--/*--><![CDATA[/* ><!--*/\\n\\n  @media (max-width: 767px) {\\n    .downloadbutton{\\n      width: 100%;\\n    }\\n  }\\n\\n\\n/*--><!]]>*/\\n</style><ul class=\"resources\">\\n<li><u><a href=\"/download/automate2e_SampleCh7.pdf\" target=\"new\"><font color=\"blue\">Download Chapter 7: PATTERN MATCHING WITH REGULAR EXPRESSIONS</font></a></u> (PDF)</li>\\n<li><u><a href=\"/download/Automate_the_Boring_Stuff_2e_onlinematerials.zip\"><font color=\"blue\">Download the files used in the book</font></a></u>\\n</li></ul>\\n<p>If you’ve ever spent hours renaming files or updating hundreds of spreadsheet cells, you know how tedious tasks like these can be. But what if you could have your computer do them for you?</p>\\n<p>In this fully revised second edition of the best-selling classic <i>Automate the Boring Stuff with Python</i>, you’ll learn how to use Python to write programs that do in minutes what would take you hours to do by hand—no prior programming experience required. You\\'ll learn the basics of Python and explore Python’s rich library of modules for performing specific tasks, like scraping data off websites, reading PDF and Word documents, and automating clicking and typing tasks.</p>\\n<p>The second edition of this international fan favorite includes a brand-new chapter on input validation, as well as tutorials on automating Gmail and Google Sheets, plus tips on automatically updating CSV files. You’ll learn how to create programs that effortlessly perform useful feats of automation to:</p>\\n<ul>\\n<li>Search for text in a file or across multiple files\\n</li><li>Create, update, move, and rename files and folders\\n</li><li>Search the Web and download online content\\n</li><li>Update and format data in Excel spreadsheets of any size\\n</li><li>Split, merge, watermark, and encrypt PDFs\\n</li><li>Send email responses and text notifications\\n</li><li>Fill out online forms\\n</li></ul>\\n<p>Step-by-step instructions walk you through each program, and updated practice projects at the end of each chapter challenge you to improve those programs and use your newfound skills to automate similar tasks. </p>\\n<p>Don\\'t spend your time doing work a well-trained monkey could do. Even if you\\'ve never written a line of code, you can make your computer do the grunt work. Learn how in <i>Automate the Boring Stuff with Python, 2nd Edition</i>.</p>\\n</div></div></div><div class=\"field field-name-field-author-bio field-type-text-long field-label-abovec\"><div class=\"field-label\">Author Bio&nbsp;</div><div class=\"field-items\"><div class=\"field-item even\"><p><b>Al Sweigart</b> is a professional software developer who teaches programming to kids and adults. Sweigart has written several bestselling programming books for beginners, including <i>Automate the Boring Stuff with Python</i>, <i>Invent Your Own Computer Games with Python</i>, <i>Cracking Codes with Python</i>, and <i>Coding with Minecraft</i> (all from No Starch Press).</p>\\n</div></div></div><div class=\"field field-name-field-toc field-type-text-long field-label-abovec\" id=\"content\"><div class=\"field-label\">Table of contents&nbsp;</div><div class=\"field-items\"><div class=\"field-item even\"><p><b>Acknowledgments</b><br />\\n<b>Introduction</b></p>\\n<p><b>Part I: Python Programming Basics</b><br />\\n<b>Chapter 1: Python Basics</b><br />\\n<b>Chapter 2: Flow Control</b><br />\\n<b>Chapter 3: Functions</b><br />\\n<b>Chapter 4: Lists</b><br />\\n<b>Chapter 5: Dictionaries and Structuring Data</b><br />\\n<b>Chapter 6: Manipulating Strings</b></p>\\n<p><br /><b>Part II: Automating Tasks</b></p>\\n<p><b>Chapter 7: Pattern Matching with Regular Expressions</b><br />\\n<b>Chapter 8: Input Validation</b><br />\\n<b>Chapter 9: Reading and Writing Files</b><br />\\n<b>Chapter 10: Organizing Files</b><br />\\n<b>Chapter 11: Debugging</b><br />\\n<b>Chapter 12: Web Scraping</b><br />\\n<b>Chapter 13: Working with Excel Spreadsheets</b><br />\\n<b>Chapter 14: Working with Google Sheets</b><br />\\n<b>Chapter 15: Working with PDF and Word Documents</b><br />\\n<b>Chapter 16: Working with CSV Files and JSON Data</b><br />\\n<b>Chapter 17: Keeping Time, Scheduling Tasks, and Launching Programs</b><br />\\n<b>Chapter 18: Sending Email and Text Messages</b><br />\\n<b>Chapter 19: Manipulating Images</b><br />\\n<b>Chapter 20: Controlling the Keyboard and Mouse with GUI Automation</b></p>\\n<p><b>Appendix A: Installing Third-Party Modules</b><br />\\n<b>Appendix B: Running Programs</b><br />\\n<b>Appendix C: Answers to the Practice\\xa0Questions</b></p>\\n<p><a href=\"/download/automate2e_toc.pdf\" target=\"_blank\" style=\"text-decoration:underline;\"><b>View the detailed Table of Contents</b></a><br />\\n<a href=\"/download/automate2e_index.pdf\" target=\"_blank\" style=\"text-decoration:underline;\"><b>View the Index</b></a></p>\\n</div></div></div><div class=\"field field-name-field-reviews field-type-text-long field-label-abovec\" id=\"reviews\"><div class=\"field-label\">Reviews&nbsp;</div><div class=\"field-items\"><div class=\"field-item even\"><p>“If you are new to Python, get this book. ... If you lie in the category of experienced Pythonistas and haven’t read this book, you should also take out some time and read it.”<br />\\n—<b><a href=\"https://medium.com/swlh/why-every-pythonista-must-read-automate-the-boring-stuff-with-python-2ba31e8843df \" target=\"new\">The Startup, Medium</a></b></p>\\n<p>\"The best part of programming is the triumph of seeing the machine do something useful. <i>Automate the Boring Stuff with Python</i> frames all of programming as these small triumphs; it makes the boring fun.” <br />\\n—<b>Hilary Mason, Founder of Fast Forward Labs and Data Scientist in Residence at Accel</b></p>\\n<p><b><a href=\"http://wilwheaton.net/2015/09/hello-world/\" target=\"new\">Wil Wheaton</a></b> on reading <i>Automate the Boring Stuff with Python</i>: “I’m having a lot of fun breaking things and then putting them back together, and just remembering the joy of turning a set of instructions into something useful and fun, like I did when I was a kid.”</p>\\n<p>“Do you need <i>Automate the Boring Stuff with Python</i>? Yes, if you want to enhance your workflow by using automation, this is an excellent place to start. Highly recommended.” br&gt;<br />\\n<b>—<a href=\"http://www.networkworld.com/article/2994492/it-skills-training/automating-your-workflow-with-python.html\" target=\"new\">Network World</a></b></p>\\n<p>Listen to an interview with Al Sweigart about <i>Automate the Boring Stuff with Python</i> on the <b><a href=\"http://talkpython.fm/episodes/show/19/automate-the-boring-stuff-with-python\" target=\"new\">Talk Python to Me</a></b> podcast!</p>\\n<p>“Valuable to have on your shelf...an extremely useful book.” br&gt;<br />\\n—<b><a href=\"https://www.kidscodecs.com/book-review-automate-with-python/\" target=\"new\">Kids, Code, and Computer Science Magazine</a></b></p>\\n<p>“Written in easy to understand language with a gentle approach...<i>Automate the Boring Stuff with Python</i> is the perfect manual to get your computer doing the busywork.” br&gt;<br />\\n—<b><a href=\"http://gamesfiends.com/book/automate-the-boring-stuff-with-python-book-review/\" target=\"new\">Games Fiends</a></b></p>\\n<p>Read an interview with Al Sweigart on the <b><a href=\"&lt;http://importpython.com/blog/post/conversation-albert-sweigart-author-automate-boring-stuff-python\" target=\"new\">Import Python</a></b> blog!</p>\\n<p>Al Sweigart was interviewed about practical programming on the <b><a href=\"&lt;http://joecolantonio.com/testtalks/54-al-sweigart-automate-the-boring-stuff-with-python/\" target=\"new\">Test Talks</a></b> podcast with Joe Colantonio.</p>\\n<p>Al Sweigart offers tips on <b><a href=\"https://opensource.com/life/15/5/practical-python-programming-non-engineers\" target=\"new\">Practical Programming for Non-Engineers</a></b> on Opensource.com.</p>\\n<p>Read Al Sweigart\\'s advice on <b><a href=\"https://opensource.com/life/15/6/6-tips-teaching-kids-code\" target=\"new\">Opensource.com</a></b> for teaching kids how to code.</p>\\n<p>Al Sweigart chronicles <b><a href=\"https://opensource.com/business/15/6/automate-time-consuming-tasks\" target=\"new\">6 time-consuming tasks you can automate with code</a></b>, on Opensource.com.</p>\\n<p>\"<i>Automate the Boring Stuff with Python</i> is perfect for anyone who has menial tasks they don\\'t want to spend hours doing.\"<br />\\n—<b><a href=\"http://geekmom.com/2015/08/back-to-school-2015-books/\" target=\"new\">GeekMom</a></b></p>\\n<p>\"Whether you prefer working through a book, or learning by watching, or both together, Automate the Boring Stuff will have you productive in Python in no time.\"<br />\\n<b>—Serdar Yegulalp, <a href=\"https://www.infoworld.com/article/3583889/learn-python-5-great-python-courses-for-beginners-and-beyond.html\" target=\"_blank\" style=\"text-decoration:underline;\">Info World</a></b></p>\\n<p>\"If you seriously want to know how much Python helps with automation, my favorite place is the Automate Boring Stuff with Python book, a simply awesome book.\"<br />\\n<b>—Javin Paul, <a href=\"https://hackernoon.com/10-reasons-to-learn-python-in-2018-f473dc35e2ee\" target=\"_blank\" style=\"text-decoration:underline;\">Hacker Noon</a></b></p>\\n<p>\"One of the best books for learning Python.\"<br />\\n—<b><a href=\"https://www.youtube.com/watch?v=aFfDDdAPCbA&amp;feature=youtu.be\" target=\"new\">Giles McMullen-Klein, FlickThrough Reviews</a></b></p>\\n<p>\"With lessons on how to use Python to program Excel spreadsheets, crawl websites, parse PDFs and Word documents, send emails, and other productivity-boosting task automation, it\\'s a stellar resource for office workers, academics, and administrators.\"<br />\\n<b>—<a href=\"https://mashable.com/roundup/best-python-courses/\" target=\"_blank\" style=\"text-decoration:underline;\">Mashable</a></b></p>\\n</div></div></div><div class=\"field field-name-field-extra-stuff field-type-text-long field-label-abovec\"><div class=\"field-label\">Extra Stuff&nbsp;</div><div class=\"field-items\"><div class=\"field-item even\"><p><a href=\"/download/Automate_the_Boring_Stuff_onlinematerials_v.2.zip\"><font color=\"blue\">Download the files used in the 1st Edition of this book</font></a><br />\\n<a href=\"/automatestuffresources\" target=\"new\"><font color=\"blue\">Additional Online Resources from 1st Edition</font></a></p>\\n</div></div></div><div class=\"field field-name-field-updates field-type-text-long field-label-abovec\" id=\"updates\"><div class=\"field-label\">Updates&nbsp;</div><div class=\"field-items\"><div class=\"field-item even\"><p><b>Page 482:</b> The line that reads:<br />\\nIf you’ve been skipping around in this book, you’ll want to read Chapter 17 and install the pillow module before continuing with this section.</p>\\n<p>Should read:<br />\\nIf you’ve been skipping around in this book, you’ll want to read Chapter 19 and install the pillow module before continuing with this section.</p>\\n</div></div></div> </div>\\n</div>\\n</section>\\n</div>\\n</section>\\n<aside class=\"col-sm-3\" role=\"complementary\">\\n<div class=\"region region-sidebar-second\">\\n<section id=\"block-system-navigation\" class=\"block block-system block-menu clearfix\">\\n<h2 class=\"block-title\">Navigation</h2>\\n<ul class=\"menu nav\"><li class=\"first last leaf\"><a href=\"/user\" title=\"\">My account</a></li>\\n</ul>\\n</section>\\n<section id=\"block-block-52\" class=\"block block-block clearfix\">\\n<p><a href=\"/mailchimp/subscribe\">Want sweet deals? <br />Sign up for our newsletter.</a></p>\\n</section>\\n<section id=\"block-views-related-products-block\" class=\"block block-views clearfix\">\\n<h2 class=\"block-title\">You might also like...</h2>\\n<div class=\"view view-related-products view-id-related_products view-display-id-block auto-clear view-dom-id-fba6650d39eb8dea7e0996fd805a05d0\">\\n<div class=\"view-content\">\\n<div class=\"views-row views-row-1 views-row-odd views-row-first col-xs-6 col-sm-6 col-md-12\">\\n<div class=\"views-field views-field-field-image-cache\"> <div class=\"field-content\"><a href=\"/datavisualization\"><img class=\"img-responsive\" src=\"https://nostarch.com/sites/default/files/styles/product/public/datavis_cover-front_new.png?itok=86F3yoN_\" width=\"90\" height=\"119\" alt=\"Data Visualization with JavaScript\" title=\"Data Visualization with JavaScript\" /></a></div> </div> </div>\\n<div class=\"views-row views-row-2 views-row-even col-xs-6 col-sm-6 col-md-12\">\\n<div class=\"views-field views-field-field-image-cache\"> <div class=\"field-content\"><a href=\"/learnjava\"><img class=\"img-responsive\" src=\"https://nostarch.com/sites/default/files/styles/product/public/LearnJavatheEasyWay_cover.png?itok=XcwSPnZi\" width=\"90\" height=\"119\" alt=\"Learn Java the Easy Way\" title=\"Learn Java the Easy Way\" /></a></div> </div> </div>\\n<div class=\"views-row views-row-3 views-row-odd col-xs-6 col-sm-6 col-md-12\">\\n<div class=\"views-field views-field-field-image-cache\"> <div class=\"field-content\"><a href=\"/impracticalpythonprojects\"><img class=\"img-responsive\" src=\"https://nostarch.com/sites/default/files/styles/product/public/impracticalpython_cover03_front.png?itok=8jdsa5re\" width=\"90\" height=\"119\" alt=\"Impractical Python Projects\" title=\"Impractical Python Projects\" /></a></div> </div> </div>\\n<div class=\"views-row views-row-4 views-row-even col-xs-6 col-sm-6 col-md-12\">\\n<div class=\"views-field views-field-field-image-cache\"> <div class=\"field-content\"><a href=\"/wcss2\"><img class=\"img-responsive\" src=\"https://nostarch.com/sites/default/files/styles/product/public/WickedCoolShell2E_cover.png?itok=VGbWsK91\" width=\"90\" height=\"119\" alt=\"Wicked Cool Shell Scripts, 2nd Edition\" title=\"Wicked Cool Shell Scripts, 2nd Edition\" /></a></div> </div> </div>\\n<div class=\"views-row views-row-5 views-row-odd col-xs-6 col-sm-6 col-md-12\">\\n<div class=\"views-field views-field-field-image-cache\"> <div class=\"field-content\"><a href=\"/Effective_C\"><img class=\"img-responsive\" src=\"https://nostarch.com/sites/default/files/styles/product/public/effectiveC_front_v02.png?itok=BWfLcdk1\" width=\"90\" height=\"119\" alt=\"Effective C Cover\" title=\"Effective C\" /></a></div> </div> </div>\\n<div class=\"views-row views-row-6 views-row-even views-row-last col-xs-6 col-sm-6 col-md-12\">\\n<div class=\"views-field views-field-field-image-cache\"> <div class=\"field-content\"><a href=\"/codingwithminecraft\"><img class=\"img-responsive\" src=\"https://nostarch.com/sites/default/files/styles/product/public/minecraftstuff_cover-front-final.png?itok=DvPmLRXn\" width=\"90\" height=\"119\" alt=\"Coding with Minecraft\" title=\"Coding with Minecraft\" /></a></div> </div> </div>\\n</div>\\n</div>\\n</section>\\n</div>\\n</aside> \\n</div>\\n</div>\\n<footer class=\"footer container\">\\n<div class=\"region region-footer\">\\n<section id=\"block-block-16\" class=\"block block-block clearfix\">\\n<div id=\"footer-links\">\\n<br>\\n<a class=\"footer-links\" href=\"/about.htm\">About Us</a>\\n&nbsp;<span class=\"footer-divider\">|</span>&nbsp;\\n<a class=\"footer-links\" href=\"/Jobs.htm\">Jobs!</a>\\n&nbsp;<span class=\"footer-divider\">|</span>&nbsp;\\n<a class=\"footer-links\" href=\"/distribution.htm\">Sales and Distribution</a>\\n&nbsp;<span class=\"footer-divider\">|</span>&nbsp;\\n<a class=\"footer-links\" href=\"/rights\">Rights</a>\\n&nbsp;<span class=\"footer-divider\">|</span>&nbsp;\\n<a class=\"footer-links\" href=\"/media.htm\">Media</a>\\n&nbsp;<span class=\"footer-divider\">|</span>&nbsp;\\n<a class=\"footer-links\" href=\"/academic.htm\">Academic Requests</a>\\n&nbsp;<span class=\"footer-divider\">|</span>&nbsp;\\n<a class=\"footer-links\" href=\"/conferences.htm\">Conferences</a>\\n&nbsp;<span class=\"footer-divider\">|</span>&nbsp;\\n<a class=\"footer-links\" href=\"/orderfaq.htm\">FAQ</a>\\n&nbsp;<span class=\"footer-divider\">|</span>&nbsp;\\n<a class=\"footer-links\" href=\"/contactus\">Contact Us</a>\\n&nbsp;<span class=\"footer-divider\">|</span>&nbsp;\\n<a class=\"footer-links\" href=\"/writeforus\">Write for Us</a>\\n&nbsp;<span class=\"footer-divider\">|</span>&nbsp;\\n<a class=\"footer-links\" href=\"/privacypolicy.htm\">Privacy</a>\\n</div>\\n</section>\\n<section id=\"block-nostarch-custom-custom-footer-copyright\" class=\"block block-nostarch-custom clearfix\">\\n<div class=\"block-block\">\\n<p>Copyright 2021. No Starch Press, Inc</p>\\n</div>\\n</section>\\n</div>\\n</footer>\\n<script src=\"https://nostarch.com/sites/all/modules/contrib/addthis/addthis.js?qom46y\"></script>\\n<script src=\"https://nostarch.com/sites/all/themes/contrib/bootstrap/js/bootstrap.js?qom46y\"></script>\\n</body>\\n</html>\\n'"
            ]
          },
          "metadata": {
            "tags": []
          },
          "execution_count": 11
        }
      ]
    },
    {
      "cell_type": "markdown",
      "metadata": {
        "id": "ubwH5GuAfg8b"
      },
      "source": [
        "## Creating a BeautifulSoup Object HTML\r\n",
        "The `bs4.BeautifulSoup()` function needs to be called with a string containing the HTML it will parse. The `bs4.BeautifulSoup()` function returns is a BeautifulSoup object."
      ]
    },
    {
      "cell_type": "code",
      "metadata": {
        "colab": {
          "base_uri": "https://localhost:8080/"
        },
        "id": "R5RXIqz6fSTj",
        "outputId": "62770a1b-9439-435e-b8f1-70d056befc47"
      },
      "source": [
        "import requests, bs4\r\n",
        "\r\n",
        "res = requests.get('http://nostarch.com')\r\n",
        "res.raise_for_status()\r\n",
        "noStarchSoup = bs4.BeautifulSoup(res.text)\r\n",
        "type(noStarchSoup)"
      ],
      "execution_count": 1,
      "outputs": [
        {
          "output_type": "execute_result",
          "data": {
            "text/plain": [
              "bs4.BeautifulSoup"
            ]
          },
          "metadata": {
            "tags": []
          },
          "execution_count": 1
        }
      ]
    },
    {
      "cell_type": "markdown",
      "metadata": {
        "id": "ZWm5Iya8gEqi"
      },
      "source": [
        "You can also load an HTML file from your hard drive by passing a File object to `bs4.BeautifulSoup()`"
      ]
    },
    {
      "cell_type": "code",
      "metadata": {
        "colab": {
          "base_uri": "https://localhost:8080/"
        },
        "id": "UBjLbsnBf-YB",
        "outputId": "42f025de-aa39-4caf-b0d6-d1467cfbeae9"
      },
      "source": [
        "exampleFile = open('htmlFile.html')\r\n",
        "exampleSoup = bs4.BeautifulSoup(exampleFile)\r\n",
        "print(type(exampleSoup))"
      ],
      "execution_count": 3,
      "outputs": [
        {
          "output_type": "stream",
          "text": [
            "<class 'bs4.BeautifulSoup'>\n"
          ],
          "name": "stdout"
        }
      ]
    },
    {
      "cell_type": "markdown",
      "metadata": {
        "id": "0nz3VaiviOBa"
      },
      "source": [
        "## Finding an Element with the `select()` Method\r\n",
        "You can retrieve a web page element from a BeautifulSoup object by calling the `select() `method and passing a string of a CSS selector for the element you are looking for. Selectors are like regular expressions: They specify a pattern to look for, in this case, in HTML pages instead of general text strings.\r\n",
        "\r\n",
        "Here's a short introduction to selectors.\r\n",
        "\r\n",
        "| Selector passed to the `select()` method        |  Will match...                                                |\r\n",
        "|-----------------|-------------------------------------------------------------|\r\n",
        "| soup.select('div')        | All elements named <div>               |\r\n",
        "| soup.select('#author')    | The element with an id attribute of author |\r\n",
        "| soup.select('.notice')    | All elements that use a CSS class attribute named notice |\r\n",
        "| soup.select('div span') |   All elements named <span> that are within an element named <div>      |\r\n",
        "| soup.select('div > span') | All elements named <span> that are directly within an element named <div> , with no other element in between                        |\r\n",
        "| soup.select('input[name]') | All elements named \\<input> that have a `name` attribute with any value                      |\r\n",
        "| soup.select('input[type=\"button\"]')| All elements named \\<input> that have an attribute named `type` with value button |\r\n",
        "\r\n",
        "The various selector patterns can be combined to make sophisticated matches. For example, `soup.select('p #author')` will match any element that has an id attribute of author , as long as it is also inside a \\<p> element.\r\n",
        "\r\n",
        "The `select()` method will return a list of Tag objects, which is how Beautiful Soup represents an HTML element. The list will contain one Tag object for every match in the BeautifulSoup object’s HTML. Tag values can be passed to the `str()` function to show the HTML tags they represent. Tag values also have an attrs attribute that shows all the HTML attributes of the tag as a dictionary."
      ]
    },
    {
      "cell_type": "code",
      "metadata": {
        "id": "pA878gT0o63O"
      },
      "source": [
        "# Create html manually\r\n",
        "exampleFile = open('example.html','w')\r\n",
        "exampleFile.write('<!-- This is the example.html example file. --> <html><head><title>The Website Title</title></head> <body> <p>Download my <strong>Python</strong> book from <a href=\"http:// inventwithpython.com\">my website</a>. </p> <p class=\"slogan\">Learn Python the easy way!</p> <p>By <span id=\"author\">Al Sweigart</span></p> </body></html>')\r\n",
        "exampleFile.close()"
      ],
      "execution_count": 28,
      "outputs": []
    },
    {
      "cell_type": "code",
      "metadata": {
        "colab": {
          "base_uri": "https://localhost:8080/"
        },
        "id": "K80Ibu17gTBZ",
        "outputId": "282137c6-6767-4fab-9620-83202ddde4ba"
      },
      "source": [
        "import bs4\r\n",
        "exampleFile = open('example.html')\r\n",
        "exampleFile.read()\r\n",
        "print(type(exampleFile.read()))"
      ],
      "execution_count": 29,
      "outputs": [
        {
          "output_type": "stream",
          "text": [
            "<class 'str'>\n"
          ],
          "name": "stdout"
        }
      ]
    },
    {
      "cell_type": "code",
      "metadata": {
        "colab": {
          "base_uri": "https://localhost:8080/"
        },
        "id": "HdNu1CHTnXwG",
        "outputId": "9f98fedb-f4cd-4135-e1eb-27aa0f85ccea"
      },
      "source": [
        "exampleSoup = bs4.BeautifulSoup('<!-- This is the example.html example file. --> <html><head><title>The Website Title</title></head> <body> <p>Download my <strong>Python</strong> book from <a href=\"http:// inventwithpython.com\">my website</a>. </p> <p class=\"slogan\">Learn Python the easy way!</p> <p>By <span id=\"author\">Al Sweigart</span></p> </body></html>')\r\n",
        "elems = exampleSoup.select('#author')\r\n",
        "print(type(elems))\r\n",
        "print(len(elems))"
      ],
      "execution_count": 31,
      "outputs": [
        {
          "output_type": "stream",
          "text": [
            "<class 'list'>\n",
            "1\n"
          ],
          "name": "stdout"
        }
      ]
    },
    {
      "cell_type": "code",
      "metadata": {
        "colab": {
          "base_uri": "https://localhost:8080/"
        },
        "id": "QuZf6Mx9nNWZ",
        "outputId": "5a773e70-2cdd-4a6f-bb9d-d79b9f2155d1"
      },
      "source": [
        "type(elems[0])"
      ],
      "execution_count": 32,
      "outputs": [
        {
          "output_type": "execute_result",
          "data": {
            "text/plain": [
              "bs4.element.Tag"
            ]
          },
          "metadata": {
            "tags": []
          },
          "execution_count": 32
        }
      ]
    },
    {
      "cell_type": "code",
      "metadata": {
        "colab": {
          "base_uri": "https://localhost:8080/",
          "height": 35
        },
        "id": "hqx0Ka0pnRze",
        "outputId": "d63ccaff-ff55-4d5f-c540-09c8b621084b"
      },
      "source": [
        "elems[0].getText()"
      ],
      "execution_count": 34,
      "outputs": [
        {
          "output_type": "execute_result",
          "data": {
            "application/vnd.google.colaboratory.intrinsic+json": {
              "type": "string"
            },
            "text/plain": [
              "'Al Sweigart'"
            ]
          },
          "metadata": {
            "tags": []
          },
          "execution_count": 34
        }
      ]
    },
    {
      "cell_type": "code",
      "metadata": {
        "colab": {
          "base_uri": "https://localhost:8080/",
          "height": 35
        },
        "id": "35lJv6D6oRzt",
        "outputId": "2f6006c7-f326-498b-eea5-7ec70e0764db"
      },
      "source": [
        "str(elems[0])"
      ],
      "execution_count": 35,
      "outputs": [
        {
          "output_type": "execute_result",
          "data": {
            "application/vnd.google.colaboratory.intrinsic+json": {
              "type": "string"
            },
            "text/plain": [
              "'<span id=\"author\">Al Sweigart</span>'"
            ]
          },
          "metadata": {
            "tags": []
          },
          "execution_count": 35
        }
      ]
    },
    {
      "cell_type": "code",
      "metadata": {
        "id": "hvpwlCpns8R8",
        "outputId": "873c482d-c79e-4734-c419-1df45ee359a7",
        "colab": {
          "base_uri": "https://localhost:8080/"
        }
      },
      "source": [
        "elems[0].attrs"
      ],
      "execution_count": 36,
      "outputs": [
        {
          "output_type": "execute_result",
          "data": {
            "text/plain": [
              "{'id': 'author'}"
            ]
          },
          "metadata": {
            "tags": []
          },
          "execution_count": 36
        }
      ]
    },
    {
      "cell_type": "code",
      "metadata": {
        "id": "XJJpGATItDp7"
      },
      "source": [
        ""
      ],
      "execution_count": null,
      "outputs": []
    }
  ]
}