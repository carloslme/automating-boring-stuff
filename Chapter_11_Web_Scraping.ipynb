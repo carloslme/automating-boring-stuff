{
  "nbformat": 4,
  "nbformat_minor": 0,
  "metadata": {
    "colab": {
      "name": "Chapter_11_Web_Scraping.ipynb",
      "provenance": [],
      "authorship_tag": "ABX9TyOihBFF6M8eK0zA/Pc/iydF",
      "include_colab_link": true
    },
    "kernelspec": {
      "name": "python3",
      "display_name": "Python 3"
    }
  },
  "cells": [
    {
      "cell_type": "markdown",
      "metadata": {
        "id": "view-in-github",
        "colab_type": "text"
      },
      "source": [
        "<a href=\"https://colab.research.google.com/github/carloslme/automating-boring-stuff/blob/main/Chapter_11_Web_Scraping.ipynb\" target=\"_parent\"><img src=\"https://colab.research.google.com/assets/colab-badge.svg\" alt=\"Open In Colab\"/></a>"
      ]
    },
    {
      "cell_type": "markdown",
      "metadata": {
        "id": "HGQKlzPYr9CL"
      },
      "source": [
        "Web scraping is the term for using a program to download and process content from the Web.\r\n",
        "\r\n",
        "In this chapter, you will learn about several modules that make it easy to scrape web pages in Python. \r\n",
        "* webbrowser . Comes with Python and opens a browser to a specific page. \r\n",
        "* Requests . Downloads files and web pages from the Internet. \r\n",
        "* Beautiful Soup . Parses HTML, the format that web pages are written in. \r\n",
        "* Selenium . Launches and controls a web browser. Selenium is able to fill in forms and simulate mouse clicks in this browser."
      ]
    },
    {
      "cell_type": "code",
      "metadata": {
        "colab": {
          "base_uri": "https://localhost:8080/"
        },
        "id": "6Fu76hpEr0aK",
        "outputId": "3de7e34a-2bf5-47f3-f3b3-bb0cfe5f6528"
      },
      "source": [
        "!pip install requests"
      ],
      "execution_count": 1,
      "outputs": [
        {
          "output_type": "stream",
          "text": [
            "Requirement already satisfied: requests in /usr/local/lib/python3.6/dist-packages (2.23.0)\n",
            "Requirement already satisfied: chardet<4,>=3.0.2 in /usr/local/lib/python3.6/dist-packages (from requests) (3.0.4)\n",
            "Requirement already satisfied: urllib3!=1.25.0,!=1.25.1,<1.26,>=1.21.1 in /usr/local/lib/python3.6/dist-packages (from requests) (1.24.3)\n",
            "Requirement already satisfied: certifi>=2017.4.17 in /usr/local/lib/python3.6/dist-packages (from requests) (2020.12.5)\n",
            "Requirement already satisfied: idna<3,>=2.5 in /usr/local/lib/python3.6/dist-packages (from requests) (2.10)\n"
          ],
          "name": "stdout"
        }
      ]
    },
    {
      "cell_type": "code",
      "metadata": {
        "id": "_RdY5bZosLuL"
      },
      "source": [
        "import requests"
      ],
      "execution_count": 2,
      "outputs": []
    },
    {
      "cell_type": "code",
      "metadata": {
        "id": "VAm-C9NCsNyC"
      },
      "source": [
        "res = requests.get('https://automatetheboringstuff.com/files/rj.txt')"
      ],
      "execution_count": 3,
      "outputs": []
    },
    {
      "cell_type": "code",
      "metadata": {
        "colab": {
          "base_uri": "https://localhost:8080/"
        },
        "id": "sy7VuBpGsTXD",
        "outputId": "23eee086-e961-49b7-dcf9-3f41ab7221f3"
      },
      "source": [
        "type(res)"
      ],
      "execution_count": 4,
      "outputs": [
        {
          "output_type": "execute_result",
          "data": {
            "text/plain": [
              "requests.models.Response"
            ]
          },
          "metadata": {
            "tags": []
          },
          "execution_count": 4
        }
      ]
    },
    {
      "cell_type": "code",
      "metadata": {
        "colab": {
          "base_uri": "https://localhost:8080/"
        },
        "id": "1e7bsYussVAi",
        "outputId": "3bdf4531-bf8c-4500-b619-659845214953"
      },
      "source": [
        "res.status_code == requests.codes.ok"
      ],
      "execution_count": 5,
      "outputs": [
        {
          "output_type": "execute_result",
          "data": {
            "text/plain": [
              "True"
            ]
          },
          "metadata": {
            "tags": []
          },
          "execution_count": 5
        }
      ]
    },
    {
      "cell_type": "code",
      "metadata": {
        "colab": {
          "base_uri": "https://localhost:8080/"
        },
        "id": "fR80kOQnsZqU",
        "outputId": "6575b1f9-b9a7-4396-caae-7a96450e3942"
      },
      "source": [
        "len(res.text)"
      ],
      "execution_count": 6,
      "outputs": [
        {
          "output_type": "execute_result",
          "data": {
            "text/plain": [
              "178978"
            ]
          },
          "metadata": {
            "tags": []
          },
          "execution_count": 6
        }
      ]
    },
    {
      "cell_type": "code",
      "metadata": {
        "colab": {
          "base_uri": "https://localhost:8080/"
        },
        "id": "9RdijKaXsboa",
        "outputId": "2b66af13-5b3b-4a3b-8eaa-d4bcafbe7f83"
      },
      "source": [
        "print(res.text[:250])"
      ],
      "execution_count": 7,
      "outputs": [
        {
          "output_type": "stream",
          "text": [
            "The Project Gutenberg EBook of Romeo and Juliet, by William Shakespeare\r\n",
            "\r\n",
            "This eBook is for the use of anyone anywhere at no cost and with\r\n",
            "almost no restrictions whatsoever.  You may copy it, give it away or\r\n",
            "re-use it under the terms of the Projec\n"
          ],
          "name": "stdout"
        }
      ]
    },
    {
      "cell_type": "code",
      "metadata": {
        "id": "zr-w-fnvsgDw"
      },
      "source": [
        ""
      ],
      "execution_count": null,
      "outputs": []
    }
  ]
}