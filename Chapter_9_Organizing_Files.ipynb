{
  "nbformat": 4,
  "nbformat_minor": 0,
  "metadata": {
    "colab": {
      "name": "Chapter_9_Organizing_Files",
      "provenance": [],
      "toc_visible": true,
      "authorship_tag": "ABX9TyNzZ95YVfSHl3IeHag6rTPi",
      "include_colab_link": true
    },
    "kernelspec": {
      "name": "python3",
      "display_name": "Python 3"
    }
  },
  "cells": [
    {
      "cell_type": "markdown",
      "metadata": {
        "id": "view-in-github",
        "colab_type": "text"
      },
      "source": [
        "<a href=\"https://colab.research.google.com/github/carloslme/automating-boring-stuff/blob/main/Chapter_9_Organizing_Files.ipynb\" target=\"_parent\"><img src=\"https://colab.research.google.com/assets/colab-badge.svg\" alt=\"Open In Colab\"/></a>"
      ]
    },
    {
      "cell_type": "markdown",
      "metadata": {
        "id": "xYHBM-T2NLvl"
      },
      "source": [
        "# The shutil Module (Copying Files and Folders)\r\n",
        "The shutil module provides functions for copying files, as well as entire folders. Calling `shutil.copy(source, destination)` will copy the file at the path source to the folder at the path destination. (Both source and destination are strings.) If destination is a filename, it will be used as the new name of the copied file. This function returns a string of the path of the copied file."
      ]
    },
    {
      "cell_type": "code",
      "metadata": {
        "id": "wofUd1BtM49C"
      },
      "source": [
        "import shutil, os"
      ],
      "execution_count": null,
      "outputs": []
    },
    {
      "cell_type": "code",
      "metadata": {
        "id": "dcL4WNBpNoTy"
      },
      "source": [
        "os.chdir('/content')"
      ],
      "execution_count": null,
      "outputs": []
    },
    {
      "cell_type": "code",
      "metadata": {
        "colab": {
          "base_uri": "https://localhost:8080/",
          "height": 35
        },
        "id": "ItrGo-ssOC9q",
        "outputId": "80fd46cf-6ba6-4247-cf53-cda0650a7175"
      },
      "source": [
        "shutil.copy('/content/sample_data/anscombe.json','/content')"
      ],
      "execution_count": null,
      "outputs": [
        {
          "output_type": "execute_result",
          "data": {
            "application/vnd.google.colaboratory.intrinsic+json": {
              "type": "string"
            },
            "text/plain": [
              "'/content/anscombe.json'"
            ]
          },
          "metadata": {
            "tags": []
          },
          "execution_count": 3
        }
      ]
    },
    {
      "cell_type": "code",
      "metadata": {
        "colab": {
          "base_uri": "https://localhost:8080/",
          "height": 35
        },
        "id": "9xKR8w3aOPqi",
        "outputId": "4af7a95d-c558-4788-e181-372077e7b935"
      },
      "source": [
        "shutil.copy('/content/sample_data/california_housing_test.csv','/content')"
      ],
      "execution_count": null,
      "outputs": [
        {
          "output_type": "execute_result",
          "data": {
            "application/vnd.google.colaboratory.intrinsic+json": {
              "type": "string"
            },
            "text/plain": [
              "'/content/california_housing_test.csv'"
            ]
          },
          "metadata": {
            "tags": []
          },
          "execution_count": 4
        }
      ]
    },
    {
      "cell_type": "code",
      "metadata": {
        "colab": {
          "base_uri": "https://localhost:8080/",
          "height": 35
        },
        "id": "fC28V73OOXfq",
        "outputId": "2297e639-d125-4eac-e212-f3cda5bc940c"
      },
      "source": [
        "shutil.copy('/content/sample_data/california_housing_test.csv','/content/customized_text.csv')"
      ],
      "execution_count": null,
      "outputs": [
        {
          "output_type": "execute_result",
          "data": {
            "application/vnd.google.colaboratory.intrinsic+json": {
              "type": "string"
            },
            "text/plain": [
              "'/content/customized_text.csv'"
            ]
          },
          "metadata": {
            "tags": []
          },
          "execution_count": 5
        }
      ]
    },
    {
      "cell_type": "markdown",
      "metadata": {
        "id": "ntePmPyzQVSZ"
      },
      "source": [
        "While `shutil.copy()` will copy a single file, shutil.copytree() will copy an entire folder and every folder and file contained in it. Calling `shutil.copytree(source, destination)` will copy the folder at the path source , along with all of its files and subfolders, to the folder at the path destination . The source and destination parameters are both strings. The function returns a string of the path of the copied folder."
      ]
    },
    {
      "cell_type": "code",
      "metadata": {
        "colab": {
          "base_uri": "https://localhost:8080/",
          "height": 35
        },
        "id": "tJLBSvPoPhOz",
        "outputId": "cb9e958f-cb2a-4aff-86af-be9307bf5400"
      },
      "source": [
        "import shutil, os\r\n",
        "os.chdir('/content')\r\n",
        "shutil.copytree('/content/sample_data','/content/backup')"
      ],
      "execution_count": null,
      "outputs": [
        {
          "output_type": "execute_result",
          "data": {
            "application/vnd.google.colaboratory.intrinsic+json": {
              "type": "string"
            },
            "text/plain": [
              "'/content/backup'"
            ]
          },
          "metadata": {
            "tags": []
          },
          "execution_count": 8
        }
      ]
    },
    {
      "cell_type": "markdown",
      "metadata": {
        "id": "EAYhJXW4RfqN"
      },
      "source": [
        "# Moving and Renaming Files and Folders\r\n",
        "Calling `shutil.move(source, destination)` will move the file or folder at the path source to the path destination and will return a string of the absolute path of the new location.\r\n",
        "\r\n",
        "If `destination` points to a folder, the `source` file gets moved into destination and keeps its current filename."
      ]
    },
    {
      "cell_type": "code",
      "metadata": {
        "colab": {
          "base_uri": "https://localhost:8080/",
          "height": 35
        },
        "id": "ipAhyF3nQ1NL",
        "outputId": "a238b4a6-74a9-4351-a932-2647930dd9b2"
      },
      "source": [
        "import shutil\r\n",
        "shutil.move('/content/customized_text.csv','/content/backup/')"
      ],
      "execution_count": null,
      "outputs": [
        {
          "output_type": "execute_result",
          "data": {
            "application/vnd.google.colaboratory.intrinsic+json": {
              "type": "string"
            },
            "text/plain": [
              "'/content/backup/customized_text.csv'"
            ]
          },
          "metadata": {
            "tags": []
          },
          "execution_count": 11
        }
      ]
    },
    {
      "cell_type": "markdown",
      "metadata": {
        "id": "43bxVycwSZ4v"
      },
      "source": [
        "The `destination` path can also specify a filename. In the following example, the `source` file is moved and renamed."
      ]
    },
    {
      "cell_type": "code",
      "metadata": {
        "colab": {
          "base_uri": "https://localhost:8080/",
          "height": 35
        },
        "id": "mquWqhHdSGQH",
        "outputId": "2f3a40ef-2508-4a33-b7e0-da7a6f79e53d"
      },
      "source": [
        "shutil.move('/content/anscombe.json', '/content/backup/new_anscombe.json')"
      ],
      "execution_count": null,
      "outputs": [
        {
          "output_type": "execute_result",
          "data": {
            "application/vnd.google.colaboratory.intrinsic+json": {
              "type": "string"
            },
            "text/plain": [
              "'/content/backup/new_anscombe.json'"
            ]
          },
          "metadata": {
            "tags": []
          },
          "execution_count": 14
        }
      ]
    },
    {
      "cell_type": "code",
      "metadata": {
        "colab": {
          "base_uri": "https://localhost:8080/",
          "height": 35
        },
        "id": "cGYbqiAMSxDR",
        "outputId": "3d9d0985-3594-4556-e237-e76e04875ff6"
      },
      "source": [
        "shutil.move('/content/california_housing_test.csv','/content/folder')"
      ],
      "execution_count": null,
      "outputs": [
        {
          "output_type": "execute_result",
          "data": {
            "application/vnd.google.colaboratory.intrinsic+json": {
              "type": "string"
            },
            "text/plain": [
              "'/content/folder'"
            ]
          },
          "metadata": {
            "tags": []
          },
          "execution_count": 15
        }
      ]
    },
    {
      "cell_type": "markdown",
      "metadata": {
        "id": "C0Lgd-36TeJt"
      },
      "source": [
        "So the california_housing_test.csv csv file is renamed to folder (a csv file without the .csv file extension)—probably not what you wanted! This can be a tough-to-spot bug in your programs since the `move()` call can happily do something that might be quite different from what you were expecting. This is yet another reason to be careful when using `move()` ."
      ]
    },
    {
      "cell_type": "markdown",
      "metadata": {
        "id": "VviG0hRvTxuR"
      },
      "source": [
        "Finally, the folders that make up the destination must already exist, or else Python will throw an exception."
      ]
    },
    {
      "cell_type": "code",
      "metadata": {
        "colab": {
          "base_uri": "https://localhost:8080/",
          "height": 454
        },
        "id": "htcUydf8TSkQ",
        "outputId": "95c1d1b7-cd22-4337-843c-298e3504fa4b"
      },
      "source": [
        "shutil.move('/content/backup/README.md','/content/does_not_exist/other')"
      ],
      "execution_count": null,
      "outputs": [
        {
          "output_type": "error",
          "ename": "FileNotFoundError",
          "evalue": "ignored",
          "traceback": [
            "\u001b[0;31m---------------------------------------------------------------------------\u001b[0m",
            "\u001b[0;31mFileNotFoundError\u001b[0m                         Traceback (most recent call last)",
            "\u001b[0;32m/usr/lib/python3.6/shutil.py\u001b[0m in \u001b[0;36mmove\u001b[0;34m(src, dst, copy_function)\u001b[0m\n\u001b[1;32m    549\u001b[0m     \u001b[0;32mtry\u001b[0m\u001b[0;34m:\u001b[0m\u001b[0;34m\u001b[0m\u001b[0;34m\u001b[0m\u001b[0m\n\u001b[0;32m--> 550\u001b[0;31m         \u001b[0mos\u001b[0m\u001b[0;34m.\u001b[0m\u001b[0mrename\u001b[0m\u001b[0;34m(\u001b[0m\u001b[0msrc\u001b[0m\u001b[0;34m,\u001b[0m \u001b[0mreal_dst\u001b[0m\u001b[0;34m)\u001b[0m\u001b[0;34m\u001b[0m\u001b[0;34m\u001b[0m\u001b[0m\n\u001b[0m\u001b[1;32m    551\u001b[0m     \u001b[0;32mexcept\u001b[0m \u001b[0mOSError\u001b[0m\u001b[0;34m:\u001b[0m\u001b[0;34m\u001b[0m\u001b[0;34m\u001b[0m\u001b[0m\n",
            "\u001b[0;31mFileNotFoundError\u001b[0m: [Errno 2] No such file or directory: '/content/backup/README.md' -> '/content/does_not_exist/other'",
            "\nDuring handling of the above exception, another exception occurred:\n",
            "\u001b[0;31mFileNotFoundError\u001b[0m                         Traceback (most recent call last)",
            "\u001b[0;32m<ipython-input-16-a274a2cfc7da>\u001b[0m in \u001b[0;36m<module>\u001b[0;34m()\u001b[0m\n\u001b[0;32m----> 1\u001b[0;31m \u001b[0mshutil\u001b[0m\u001b[0;34m.\u001b[0m\u001b[0mmove\u001b[0m\u001b[0;34m(\u001b[0m\u001b[0;34m'/content/backup/README.md'\u001b[0m\u001b[0;34m,\u001b[0m\u001b[0;34m'/content/does_not_exist/other'\u001b[0m\u001b[0;34m)\u001b[0m\u001b[0;34m\u001b[0m\u001b[0;34m\u001b[0m\u001b[0m\n\u001b[0m",
            "\u001b[0;32m/usr/lib/python3.6/shutil.py\u001b[0m in \u001b[0;36mmove\u001b[0;34m(src, dst, copy_function)\u001b[0m\n\u001b[1;32m    562\u001b[0m             \u001b[0mrmtree\u001b[0m\u001b[0;34m(\u001b[0m\u001b[0msrc\u001b[0m\u001b[0;34m)\u001b[0m\u001b[0;34m\u001b[0m\u001b[0;34m\u001b[0m\u001b[0m\n\u001b[1;32m    563\u001b[0m         \u001b[0;32melse\u001b[0m\u001b[0;34m:\u001b[0m\u001b[0;34m\u001b[0m\u001b[0;34m\u001b[0m\u001b[0m\n\u001b[0;32m--> 564\u001b[0;31m             \u001b[0mcopy_function\u001b[0m\u001b[0;34m(\u001b[0m\u001b[0msrc\u001b[0m\u001b[0;34m,\u001b[0m \u001b[0mreal_dst\u001b[0m\u001b[0;34m)\u001b[0m\u001b[0;34m\u001b[0m\u001b[0;34m\u001b[0m\u001b[0m\n\u001b[0m\u001b[1;32m    565\u001b[0m             \u001b[0mos\u001b[0m\u001b[0;34m.\u001b[0m\u001b[0munlink\u001b[0m\u001b[0;34m(\u001b[0m\u001b[0msrc\u001b[0m\u001b[0;34m)\u001b[0m\u001b[0;34m\u001b[0m\u001b[0;34m\u001b[0m\u001b[0m\n\u001b[1;32m    566\u001b[0m     \u001b[0;32mreturn\u001b[0m \u001b[0mreal_dst\u001b[0m\u001b[0;34m\u001b[0m\u001b[0;34m\u001b[0m\u001b[0m\n",
            "\u001b[0;32m/usr/lib/python3.6/shutil.py\u001b[0m in \u001b[0;36mcopy2\u001b[0;34m(src, dst, follow_symlinks)\u001b[0m\n\u001b[1;32m    261\u001b[0m     \u001b[0;32mif\u001b[0m \u001b[0mos\u001b[0m\u001b[0;34m.\u001b[0m\u001b[0mpath\u001b[0m\u001b[0;34m.\u001b[0m\u001b[0misdir\u001b[0m\u001b[0;34m(\u001b[0m\u001b[0mdst\u001b[0m\u001b[0;34m)\u001b[0m\u001b[0;34m:\u001b[0m\u001b[0;34m\u001b[0m\u001b[0;34m\u001b[0m\u001b[0m\n\u001b[1;32m    262\u001b[0m         \u001b[0mdst\u001b[0m \u001b[0;34m=\u001b[0m \u001b[0mos\u001b[0m\u001b[0;34m.\u001b[0m\u001b[0mpath\u001b[0m\u001b[0;34m.\u001b[0m\u001b[0mjoin\u001b[0m\u001b[0;34m(\u001b[0m\u001b[0mdst\u001b[0m\u001b[0;34m,\u001b[0m \u001b[0mos\u001b[0m\u001b[0;34m.\u001b[0m\u001b[0mpath\u001b[0m\u001b[0;34m.\u001b[0m\u001b[0mbasename\u001b[0m\u001b[0;34m(\u001b[0m\u001b[0msrc\u001b[0m\u001b[0;34m)\u001b[0m\u001b[0;34m)\u001b[0m\u001b[0;34m\u001b[0m\u001b[0;34m\u001b[0m\u001b[0m\n\u001b[0;32m--> 263\u001b[0;31m     \u001b[0mcopyfile\u001b[0m\u001b[0;34m(\u001b[0m\u001b[0msrc\u001b[0m\u001b[0;34m,\u001b[0m \u001b[0mdst\u001b[0m\u001b[0;34m,\u001b[0m \u001b[0mfollow_symlinks\u001b[0m\u001b[0;34m=\u001b[0m\u001b[0mfollow_symlinks\u001b[0m\u001b[0;34m)\u001b[0m\u001b[0;34m\u001b[0m\u001b[0;34m\u001b[0m\u001b[0m\n\u001b[0m\u001b[1;32m    264\u001b[0m     \u001b[0mcopystat\u001b[0m\u001b[0;34m(\u001b[0m\u001b[0msrc\u001b[0m\u001b[0;34m,\u001b[0m \u001b[0mdst\u001b[0m\u001b[0;34m,\u001b[0m \u001b[0mfollow_symlinks\u001b[0m\u001b[0;34m=\u001b[0m\u001b[0mfollow_symlinks\u001b[0m\u001b[0;34m)\u001b[0m\u001b[0;34m\u001b[0m\u001b[0;34m\u001b[0m\u001b[0m\n\u001b[1;32m    265\u001b[0m     \u001b[0;32mreturn\u001b[0m \u001b[0mdst\u001b[0m\u001b[0;34m\u001b[0m\u001b[0;34m\u001b[0m\u001b[0m\n",
            "\u001b[0;32m/usr/lib/python3.6/shutil.py\u001b[0m in \u001b[0;36mcopyfile\u001b[0;34m(src, dst, follow_symlinks)\u001b[0m\n\u001b[1;32m    119\u001b[0m     \u001b[0;32melse\u001b[0m\u001b[0;34m:\u001b[0m\u001b[0;34m\u001b[0m\u001b[0;34m\u001b[0m\u001b[0m\n\u001b[1;32m    120\u001b[0m         \u001b[0;32mwith\u001b[0m \u001b[0mopen\u001b[0m\u001b[0;34m(\u001b[0m\u001b[0msrc\u001b[0m\u001b[0;34m,\u001b[0m \u001b[0;34m'rb'\u001b[0m\u001b[0;34m)\u001b[0m \u001b[0;32mas\u001b[0m \u001b[0mfsrc\u001b[0m\u001b[0;34m:\u001b[0m\u001b[0;34m\u001b[0m\u001b[0;34m\u001b[0m\u001b[0m\n\u001b[0;32m--> 121\u001b[0;31m             \u001b[0;32mwith\u001b[0m \u001b[0mopen\u001b[0m\u001b[0;34m(\u001b[0m\u001b[0mdst\u001b[0m\u001b[0;34m,\u001b[0m \u001b[0;34m'wb'\u001b[0m\u001b[0;34m)\u001b[0m \u001b[0;32mas\u001b[0m \u001b[0mfdst\u001b[0m\u001b[0;34m:\u001b[0m\u001b[0;34m\u001b[0m\u001b[0;34m\u001b[0m\u001b[0m\n\u001b[0m\u001b[1;32m    122\u001b[0m                 \u001b[0mcopyfileobj\u001b[0m\u001b[0;34m(\u001b[0m\u001b[0mfsrc\u001b[0m\u001b[0;34m,\u001b[0m \u001b[0mfdst\u001b[0m\u001b[0;34m)\u001b[0m\u001b[0;34m\u001b[0m\u001b[0;34m\u001b[0m\u001b[0m\n\u001b[1;32m    123\u001b[0m     \u001b[0;32mreturn\u001b[0m \u001b[0mdst\u001b[0m\u001b[0;34m\u001b[0m\u001b[0;34m\u001b[0m\u001b[0m\n",
            "\u001b[0;31mFileNotFoundError\u001b[0m: [Errno 2] No such file or directory: '/content/does_not_exist/other'"
          ]
        }
      ]
    },
    {
      "cell_type": "markdown",
      "metadata": {
        "id": "7ijrxZv2UYL0"
      },
      "source": [
        "# Permanently Deleting Files and Folders\r\n",
        "You can delete a single file or a single empty folder with functions in the os module, whereas to delete a folder and all of its contents, you use the shutil module. \r\n",
        "\r\n",
        "* Calling `os.unlink(path)` will delete the file at path. \r\n",
        "* Calling `os.rmdir(path)` will delete the folder at path . This folder must be empty of any files or folders.\r\n",
        "* Calling `shutil.rmtree(path)` will remove the folder at path, and all files and folders it contains will also be deleted."
      ]
    },
    {
      "cell_type": "markdown",
      "metadata": {
        "id": "XXCGji0qU7OW"
      },
      "source": [
        "Be careful when using these functions in your programs! It’s often a good idea to first run your program with these calls commented out and with `print()` calls added to show the files that would be deleted."
      ]
    },
    {
      "cell_type": "code",
      "metadata": {
        "id": "JHBIH915V6jf"
      },
      "source": [
        "%cd backup/"
      ],
      "execution_count": null,
      "outputs": []
    },
    {
      "cell_type": "code",
      "metadata": {
        "colab": {
          "base_uri": "https://localhost:8080/"
        },
        "id": "noUe3UpcUI-z",
        "outputId": "76560492-4662-4ee9-b28b-1443d2565f51"
      },
      "source": [
        "import os\r\n",
        "\r\n",
        "for filename in os.listdir():\r\n",
        "  #print(filename)\r\n",
        "  if filename.endswith('.csv'):\r\n",
        "    os.unlink(filename)\r\n",
        "    print(filename + ' file deleted')"
      ],
      "execution_count": null,
      "outputs": [
        {
          "output_type": "stream",
          "text": [
            "california_housing_test.csv file deleted\n",
            "customized_text.csv file deleted\n",
            "mnist_test.csv file deleted\n",
            "california_housing_train.csv file deleted\n",
            "mnist_train_small.csv file deleted\n"
          ],
          "name": "stdout"
        }
      ]
    },
    {
      "cell_type": "markdown",
      "metadata": {
        "id": "JeBQMzRhmnVP"
      },
      "source": [
        "# Safe Deletes with the send2trash Module\r\n",
        "Using `send2trash` is much safer than Python’s regular delete functions, because it will send folders and files to your computer’s trash or recycle bin instead of permanently deleting them. If a bug in your program deletes something with `send2trash` you didn’t intend to delete, you can later restore it from the recycle bin."
      ]
    },
    {
      "cell_type": "code",
      "metadata": {
        "id": "gm6DIn39VSUW",
        "colab": {
          "base_uri": "https://localhost:8080/"
        },
        "outputId": "a49996f8-987f-407f-ba98-1aff69b985cd"
      },
      "source": [
        "!pip install send2trash"
      ],
      "execution_count": null,
      "outputs": [
        {
          "output_type": "stream",
          "text": [
            "Requirement already satisfied: send2trash in /usr/local/lib/python3.6/dist-packages (1.5.0)\n"
          ],
          "name": "stdout"
        }
      ]
    },
    {
      "cell_type": "code",
      "metadata": {
        "id": "-umesCIJm_hW"
      },
      "source": [
        "import send2trash\r\n",
        "baconFile = open('bacon.txt','a') # Create the fike\r\n",
        "baconFile.write('Bacon is not a vegetable.')\r\n",
        "baconFile.close()"
      ],
      "execution_count": null,
      "outputs": []
    },
    {
      "cell_type": "code",
      "metadata": {
        "id": "rfW-gcvxn04x"
      },
      "source": [
        "send2trash.send2trash('bacon.txt')"
      ],
      "execution_count": null,
      "outputs": []
    },
    {
      "cell_type": "markdown",
      "metadata": {
        "id": "QaPK4tFfoFgJ"
      },
      "source": [
        "Note that the send2trash() function can only send files to the recycle bin; it cannot pull files out of it."
      ]
    },
    {
      "cell_type": "markdown",
      "metadata": {
        "id": "XyHg0b6WoW2Y"
      },
      "source": [
        "# Walking a Directory Tree\r\n",
        "The `os.walk()` function is passed a single string value: the path of a folder. You can use `os.walk()` in a for loop statement to walk a directory tree, much like how you can use the `range()` function to walk over a range of numbers. Unlike `range()` , the `os.walk()` function will return three values on each iteration through the loop: \r\n",
        "1. A string of the current folder’s name \r\n",
        "2. A list of strings of the folders in the current folder \r\n",
        "3. A list of strings of the files in the current folder"
      ]
    },
    {
      "cell_type": "code",
      "metadata": {
        "colab": {
          "base_uri": "https://localhost:8080/"
        },
        "id": "davF1Y9bn8Nn",
        "outputId": "f8877983-9cf2-42da-ee03-2c6e99f56de7"
      },
      "source": [
        "import os\r\n",
        "for foldername, subfolders, filenames in os.walk('/content/'):\r\n",
        "  print('The current folder is' + foldername)\r\n",
        "  for subfolder in subfolders:\r\n",
        "    print('\\t Subfolder of' + foldername + ': ' + subfolder)\r\n",
        "    for filename in filenames:\r\n",
        "      print('\\t\\t File inside ' + foldername + ': '+ filename)\r\n",
        "    print('')"
      ],
      "execution_count": null,
      "outputs": [
        {
          "output_type": "stream",
          "text": [
            "The current folder is/content/\n",
            "\t Subfolder of/content/: .config\n",
            "\n",
            "\t Subfolder of/content/: sample_data\n",
            "\n",
            "The current folder is/content/.config\n",
            "\t Subfolder of/content/.config: configurations\n",
            "\t\t File inside /content/.config: .last_update_check.json\n",
            "\t\t File inside /content/.config: config_sentinel\n",
            "\t\t File inside /content/.config: .last_survey_prompt.yaml\n",
            "\t\t File inside /content/.config: .last_opt_in_prompt.yaml\n",
            "\t\t File inside /content/.config: active_config\n",
            "\t\t File inside /content/.config: gce\n",
            "\t\t File inside /content/.config: .metricsUUID\n",
            "\n",
            "\t Subfolder of/content/.config: logs\n",
            "\t\t File inside /content/.config: .last_update_check.json\n",
            "\t\t File inside /content/.config: config_sentinel\n",
            "\t\t File inside /content/.config: .last_survey_prompt.yaml\n",
            "\t\t File inside /content/.config: .last_opt_in_prompt.yaml\n",
            "\t\t File inside /content/.config: active_config\n",
            "\t\t File inside /content/.config: gce\n",
            "\t\t File inside /content/.config: .metricsUUID\n",
            "\n",
            "The current folder is/content/.config/configurations\n",
            "The current folder is/content/.config/logs\n",
            "\t Subfolder of/content/.config/logs: 2021.02.04\n",
            "\n",
            "The current folder is/content/.config/logs/2021.02.04\n",
            "The current folder is/content/sample_data\n"
          ],
          "name": "stdout"
        }
      ]
    },
    {
      "cell_type": "markdown",
      "metadata": {
        "id": "2yiq3eveqBLt"
      },
      "source": [
        "# Compressing Files with the zipfile Module\r\n",
        "Compressing a file reduces its size, which is useful when transferring it over the Internet. And since a ZIP file can also contain multiple files and subfolders, it’s a handy way to package several files into one. This single file, called an archive file , can then be, say, attached to an email.\r\n",
        "\r\n",
        "Your Python programs can both create and open (or extract ) ZIP files using functions in the zipfile module.\r\n"
      ]
    },
    {
      "cell_type": "code",
      "metadata": {
        "id": "hmaM_1AypFNw",
        "colab": {
          "base_uri": "https://localhost:8080/"
        },
        "outputId": "9eb4d699-0162-41c8-8446-ef4023d6723c"
      },
      "source": [
        "!wget 'https://nostarch.com/download/Automate_the_Boring_Stuff_onlinematerials_v.2.zip' -P '/content/'"
      ],
      "execution_count": null,
      "outputs": [
        {
          "output_type": "stream",
          "text": [
            "--2021-02-11 06:16:04--  https://nostarch.com/download/Automate_the_Boring_Stuff_onlinematerials_v.2.zip\n",
            "Resolving nostarch.com (nostarch.com)... 104.20.208.3, 172.67.17.195, 104.20.209.3, ...\n",
            "Connecting to nostarch.com (nostarch.com)|104.20.208.3|:443... connected.\n",
            "HTTP request sent, awaiting response... 200 OK\n",
            "Length: 8802488 (8.4M) [application/zip]\n",
            "Saving to: ‘/content/Automate_the_Boring_Stuff_onlinematerials_v.2.zip’\n",
            "\n",
            "Automate_the_Boring 100%[===================>]   8.39M  6.39MB/s    in 1.3s    \n",
            "\n",
            "2021-02-11 06:16:05 (6.39 MB/s) - ‘/content/Automate_the_Boring_Stuff_onlinematerials_v.2.zip’ saved [8802488/8802488]\n",
            "\n"
          ],
          "name": "stdout"
        }
      ]
    },
    {
      "cell_type": "markdown",
      "metadata": {
        "id": "oNJAFo46u7me"
      },
      "source": [
        "# Reading ZIP Files\r\n",
        "To read the contents of a ZIP file, first you must create a ZipFile object (note the capital letters Z and F).\r\n",
        "\r\n",
        "To create a ZipFile object, call the zipfile.`ZipFile()` function, passing it a string of the .zip file’s filename. Note that zipfile is the name of the Python module, and `ZipFile()` is the name of the function.\r\n"
      ]
    },
    {
      "cell_type": "code",
      "metadata": {
        "id": "hNxQLsQ9uxz0"
      },
      "source": [
        "import zipfile, os\r\n",
        "os.chdir('/content/') # move ot directory with .zip\r\n",
        "exampleZip = zipfile.ZipFile('Automate_the_Boring_Stuff_onlinematerials_v.2.zip')"
      ],
      "execution_count": null,
      "outputs": []
    },
    {
      "cell_type": "code",
      "metadata": {
        "id": "MboBvfUWvql3",
        "colab": {
          "base_uri": "https://localhost:8080/"
        },
        "outputId": "58c04bc2-2711-4beb-f439-c521e35005ae"
      },
      "source": [
        "exampleZip.namelist()"
      ],
      "execution_count": null,
      "outputs": [
        {
          "output_type": "execute_result",
          "data": {
            "text/plain": [
              "['automate_online-materials/',\n",
              " 'automate_online-materials/alarm.wav',\n",
              " 'automate_online-materials/allMyCats1.py',\n",
              " 'automate_online-materials/allMyCats2.py',\n",
              " 'automate_online-materials/backupToZip.py',\n",
              " 'automate_online-materials/birthdays.py',\n",
              " 'automate_online-materials/boxPrint.py',\n",
              " 'automate_online-materials/buggyAddingProgram.py',\n",
              " 'automate_online-materials/bulletPointAdder.py',\n",
              " 'automate_online-materials/calcProd.py',\n",
              " 'automate_online-materials/catlogo.png',\n",
              " 'automate_online-materials/catnapping.py',\n",
              " 'automate_online-materials/census2010.py',\n",
              " 'automate_online-materials/censuspopdata.xlsx',\n",
              " 'automate_online-materials/characterCount.py',\n",
              " 'automate_online-materials/coinFlip.py',\n",
              " 'automate_online-materials/combinedminutes.pdf',\n",
              " 'automate_online-materials/combinePdfs.py',\n",
              " 'automate_online-materials/countdown.py',\n",
              " 'automate_online-materials/demo.docx',\n",
              " 'automate_online-materials/dictionary.txt',\n",
              " 'automate_online-materials/dimensions.xlsx',\n",
              " 'automate_online-materials/downloadXkcd.py',\n",
              " 'automate_online-materials/duesRecords.xlsx',\n",
              " 'automate_online-materials/encrypted.pdf',\n",
              " 'automate_online-materials/encryptedminutes.pdf',\n",
              " 'automate_online-materials/errorExample.py',\n",
              " 'automate_online-materials/example.csv',\n",
              " 'automate_online-materials/example.html',\n",
              " 'automate_online-materials/example.xlsx',\n",
              " 'automate_online-materials/example.zip',\n",
              " 'automate_online-materials/excelSpreadsheets.zip',\n",
              " 'automate_online-materials/exitExample.py',\n",
              " 'automate_online-materials/factorialLog.py',\n",
              " 'automate_online-materials/fiveTimes.py',\n",
              " 'automate_online-materials/formFiller.py',\n",
              " 'automate_online-materials/freezeExample.xlsx',\n",
              " 'automate_online-materials/getDocxText.py',\n",
              " 'automate_online-materials/guessTheNumber.py',\n",
              " 'automate_online-materials/guests.txt',\n",
              " 'automate_online-materials/headings.docx',\n",
              " 'automate_online-materials/hello.py',\n",
              " 'automate_online-materials/helloFunc.py',\n",
              " 'automate_online-materials/helloFunc2.py',\n",
              " 'automate_online-materials/helloworld.docx',\n",
              " 'automate_online-materials/inventory.py',\n",
              " 'automate_online-materials/isPhoneNumber.py',\n",
              " 'automate_online-materials/littleKid.py',\n",
              " 'automate_online-materials/lucky.py',\n",
              " 'automate_online-materials/magic8Ball.py',\n",
              " 'automate_online-materials/magic8Ball2.py',\n",
              " 'automate_online-materials/mapIt.py',\n",
              " 'automate_online-materials/mcb.pyw',\n",
              " 'automate_online-materials/meetingminutes.pdf',\n",
              " 'automate_online-materials/meetingminutes2.pdf',\n",
              " 'automate_online-materials/merged.xlsx',\n",
              " 'automate_online-materials/mouseNow.py',\n",
              " 'automate_online-materials/mouseNow2.py',\n",
              " 'automate_online-materials/multidownloadXkcd.py',\n",
              " 'automate_online-materials/multipleParagraphs.docx',\n",
              " 'automate_online-materials/myPets.py',\n",
              " 'automate_online-materials/passingReference.py',\n",
              " 'automate_online-materials/phoneAndEmail.py',\n",
              " 'automate_online-materials/picnicTable.py',\n",
              " 'automate_online-materials/prettyCharacterCount.py',\n",
              " 'automate_online-materials/printRandom.py',\n",
              " 'automate_online-materials/produceSales.xlsx',\n",
              " 'automate_online-materials/pw.py',\n",
              " 'automate_online-materials/quickWeather.py',\n",
              " 'automate_online-materials/randomQuizGenerator.py',\n",
              " 'automate_online-materials/readCensusExcel.py',\n",
              " 'automate_online-materials/readDocx.py',\n",
              " 'automate_online-materials/removeCsvHeader.py',\n",
              " 'automate_online-materials/removeCsvHeader.zip',\n",
              " 'automate_online-materials/renameDates.py',\n",
              " 'automate_online-materials/resizeAndAddLogo.py',\n",
              " 'automate_online-materials/restyled.docx',\n",
              " 'automate_online-materials/sameName.py',\n",
              " 'automate_online-materials/sameName2.py',\n",
              " 'automate_online-materials/sameName3.py',\n",
              " 'automate_online-materials/sameName4.py',\n",
              " 'automate_online-materials/sampleChart.xlsx',\n",
              " 'automate_online-materials/sendDuesReminders.py',\n",
              " 'automate_online-materials/stopwatch.py',\n",
              " 'automate_online-materials/styled.xlsx',\n",
              " 'automate_online-materials/styles.xlsx',\n",
              " 'automate_online-materials/swordfish.py',\n",
              " 'automate_online-materials/textMyself.py',\n",
              " 'automate_online-materials/threadDemo.py',\n",
              " 'automate_online-materials/ticTacToe.py',\n",
              " 'automate_online-materials/torrentStarter.py',\n",
              " 'automate_online-materials/twoPage.docx',\n",
              " 'automate_online-materials/updatedProduceSales.xlsx',\n",
              " 'automate_online-materials/updateProduce.py',\n",
              " 'automate_online-materials/validateInput.py',\n",
              " 'automate_online-materials/vampire.py',\n",
              " 'automate_online-materials/vampire2.py',\n",
              " 'automate_online-materials/watermark.pdf',\n",
              " 'automate_online-materials/zeroDivide.py',\n",
              " 'automate_online-materials/zophie.png']"
            ]
          },
          "metadata": {
            "tags": []
          },
          "execution_count": 13
        }
      ]
    },
    {
      "cell_type": "code",
      "metadata": {
        "id": "P1ThgZ9-vtW5"
      },
      "source": [
        "docInfo = exampleZip.getinfo('automate_online-materials/readDocx.py')"
      ],
      "execution_count": null,
      "outputs": []
    },
    {
      "cell_type": "code",
      "metadata": {
        "id": "X3bjrTXZwGy1",
        "colab": {
          "base_uri": "https://localhost:8080/"
        },
        "outputId": "3510289a-4a7e-4238-97b5-d3bb66b3b49c"
      },
      "source": [
        "docInfo.file_size"
      ],
      "execution_count": null,
      "outputs": [
        {
          "output_type": "execute_result",
          "data": {
            "text/plain": [
              "210"
            ]
          },
          "metadata": {
            "tags": []
          },
          "execution_count": 19
        }
      ]
    },
    {
      "cell_type": "code",
      "metadata": {
        "id": "AYbrgAHqwXy8",
        "colab": {
          "base_uri": "https://localhost:8080/"
        },
        "outputId": "916e4b3f-a940-4576-e3a4-4d0c45369cd5"
      },
      "source": [
        "docInfo.compress_size"
      ],
      "execution_count": null,
      "outputs": [
        {
          "output_type": "execute_result",
          "data": {
            "text/plain": [
              "141"
            ]
          },
          "metadata": {
            "tags": []
          },
          "execution_count": 20
        }
      ]
    },
    {
      "cell_type": "code",
      "metadata": {
        "id": "M4Dh7549wfyN",
        "colab": {
          "base_uri": "https://localhost:8080/",
          "height": 35
        },
        "outputId": "2a366be3-ddd1-45b2-cd57-e46bd31ebd86"
      },
      "source": [
        "'Compressed fil is %sx smaller!' % (round(docInfo.file_size / docInfo.compress_size, 2))"
      ],
      "execution_count": null,
      "outputs": [
        {
          "output_type": "execute_result",
          "data": {
            "application/vnd.google.colaboratory.intrinsic+json": {
              "type": "string"
            },
            "text/plain": [
              "'Compressed fil is 1.49x smaller!'"
            ]
          },
          "metadata": {
            "tags": []
          },
          "execution_count": 21
        }
      ]
    },
    {
      "cell_type": "code",
      "metadata": {
        "id": "HxNXOj_fwr37"
      },
      "source": [
        "exampleZip.close()"
      ],
      "execution_count": null,
      "outputs": []
    },
    {
      "cell_type": "markdown",
      "metadata": {
        "id": "lSuohMhOjiaU"
      },
      "source": [
        "# Extracting from ZIP Files \r\n",
        "The `extractall()` method for ZipFile objects extracts all the files and folders from a ZIP file into the current working directory."
      ]
    },
    {
      "cell_type": "code",
      "metadata": {
        "colab": {
          "base_uri": "https://localhost:8080/"
        },
        "id": "mYJ9CIvZjlya",
        "outputId": "9d8c54fd-2255-4c97-ba1f-328a29cda86c"
      },
      "source": [
        "!wget 'https://nostarch.com/download/Automate_the_Boring_Stuff_onlinematerials_v.2.zip' -P '/content/'"
      ],
      "execution_count": 1,
      "outputs": [
        {
          "output_type": "stream",
          "text": [
            "--2021-02-12 04:45:35--  https://nostarch.com/download/Automate_the_Boring_Stuff_onlinematerials_v.2.zip\n",
            "Resolving nostarch.com (nostarch.com)... 104.20.209.3, 104.20.208.3, 172.67.17.195, ...\n",
            "Connecting to nostarch.com (nostarch.com)|104.20.209.3|:443... connected.\n",
            "HTTP request sent, awaiting response... 200 OK\n",
            "Length: 8802488 (8.4M) [application/zip]\n",
            "Saving to: ‘/content/Automate_the_Boring_Stuff_onlinematerials_v.2.zip’\n",
            "\n",
            "Automate_the_Boring 100%[===================>]   8.39M  6.68MB/s    in 1.3s    \n",
            "\n",
            "2021-02-12 04:45:36 (6.68 MB/s) - ‘/content/Automate_the_Boring_Stuff_onlinematerials_v.2.zip’ saved [8802488/8802488]\n",
            "\n"
          ],
          "name": "stdout"
        }
      ]
    },
    {
      "cell_type": "code",
      "metadata": {
        "id": "Y-jqrjlMjp4X"
      },
      "source": [
        "import zipfile, os\r\n",
        "os.chdir('/content/') # move to folder with zip file\r\n",
        "exampleZip = zipfile.ZipFile('Automate_the_Boring_Stuff_onlinematerials_v.2.zip')\r\n",
        "exampleZip.extractall()\r\n",
        "exampleZip.close()"
      ],
      "execution_count": 4,
      "outputs": []
    },
    {
      "cell_type": "markdown",
      "metadata": {
        "id": "wK7RCftHlKX_"
      },
      "source": [
        "The `extract()` method for ZipFile objects will extract a single file from the ZIP file."
      ]
    },
    {
      "cell_type": "code",
      "metadata": {
        "colab": {
          "base_uri": "https://localhost:8080/",
          "height": 35
        },
        "id": "yP1qocxrlOSi",
        "outputId": "6fbe21a0-83f1-4a8f-88a7-d0aef206d550"
      },
      "source": [
        "exampleZip.extract('automate_online-materials/myPets.py', '/content/new_folder/')"
      ],
      "execution_count": 6,
      "outputs": [
        {
          "output_type": "execute_result",
          "data": {
            "application/vnd.google.colaboratory.intrinsic+json": {
              "type": "string"
            },
            "text/plain": [
              "'/content/new_folder/automate_online-materials/myPets.py'"
            ]
          },
          "metadata": {
            "tags": []
          },
          "execution_count": 6
        }
      ]
    },
    {
      "cell_type": "markdown",
      "metadata": {
        "id": "oKAMurGBl1si"
      },
      "source": [
        "If this second argument is a folder that doesn’t yet exist, Python will create the folder. The value that `extract()` returns is the absolute path to which the file was extracted."
      ]
    },
    {
      "cell_type": "markdown",
      "metadata": {
        "id": "iTk0-QOVmHN7"
      },
      "source": [
        "# Creating and Adding to ZIP Files\r\n",
        "To create your own compressed ZIP files, you must open the ZipFile object in write mode by passing 'w' as the second argument. (This is similar to opening a text file in write mode by passing 'w' to the `open()` function.) \r\n",
        "\r\n",
        "When you pass a path to the `write()` method of a ZipFile object, Python will compress the file at that path and add it into the ZIP file. The `write()` method’s first argument is a string of the filename to add. The second argument is the compression type parameter, which tells the computer what algorithm it should use to compress the files; you can always just set this value to `zipfile.ZIP_DEFLATED` . (This specifies the deflate compression algorithm, which works well on all types of data.)"
      ]
    },
    {
      "cell_type": "code",
      "metadata": {
        "id": "k0f0meoAmeXx"
      },
      "source": [
        "import zipfile\r\n",
        "newZip = zipfile.ZipFile('new.zip', 'w')"
      ],
      "execution_count": 8,
      "outputs": []
    },
    {
      "cell_type": "code",
      "metadata": {
        "id": "8U_AxLfsmn9H"
      },
      "source": [
        "newZip.write('/content/new_folder/automate_online-materials/myPets.py', compress_type=zipfile.ZIP_DEFLATED)\r\n",
        "newZip.close()"
      ],
      "execution_count": 9,
      "outputs": []
    },
    {
      "cell_type": "markdown",
      "metadata": {
        "id": "l8hJgU3anChH"
      },
      "source": [
        "Keep in mind that, just as with writing to files, write mode will erase all existing contents of a ZIP file. If you want to simply add files to an existing ZIP file, pass 'a' as the second argument to `zipfile.ZipFile()` to open the ZIP file in append mode ."
      ]
    },
    {
      "cell_type": "code",
      "metadata": {
        "id": "hOU7idgXnXYf"
      },
      "source": [
        "# Adding to ZIP file\r\n",
        "newZip = zipfile.ZipFile('new.zip','a')"
      ],
      "execution_count": 10,
      "outputs": []
    },
    {
      "cell_type": "code",
      "metadata": {
        "id": "-pSBF_68oVDB"
      },
      "source": [
        "newZip.write('/content/sample_data/anscombe.json', compress_type=zipfile.ZIP_DEFLATED)\r\n",
        "newZip.close()"
      ],
      "execution_count": 12,
      "outputs": []
    },
    {
      "cell_type": "markdown",
      "metadata": {
        "id": "hRcsZpr-o1ZM"
      },
      "source": [
        "Checking the new data added by reading the zip file"
      ]
    },
    {
      "cell_type": "code",
      "metadata": {
        "id": "2sqPWNxjollq"
      },
      "source": [
        "newZip = zipfile.ZipFile('new.zip')"
      ],
      "execution_count": 13,
      "outputs": []
    },
    {
      "cell_type": "code",
      "metadata": {
        "id": "eEfAlFwnpNJR",
        "outputId": "86860960-2c90-435f-d2ce-d0a619f7108f",
        "colab": {
          "base_uri": "https://localhost:8080/"
        }
      },
      "source": [
        "newZip.infolist()"
      ],
      "execution_count": 14,
      "outputs": [
        {
          "output_type": "execute_result",
          "data": {
            "text/plain": [
              "[<ZipInfo filename='content/new_folder/automate_online-materials/myPets.py' compress_type=deflate filemode='-rw-r--r--' file_size=198 compress_size=137>,\n",
              " <ZipInfo filename='content/sample_data/anscombe.json' compress_type=deflate filemode='-rwxr-xr-x' file_size=1697 compress_size=295>]"
            ]
          },
          "metadata": {
            "tags": []
          },
          "execution_count": 14
        }
      ]
    },
    {
      "cell_type": "code",
      "metadata": {
        "id": "U6BabNvXpP8Y"
      },
      "source": [
        ""
      ],
      "execution_count": null,
      "outputs": []
    }
  ]
}