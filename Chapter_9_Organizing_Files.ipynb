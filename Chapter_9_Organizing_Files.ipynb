{
  "nbformat": 4,
  "nbformat_minor": 0,
  "metadata": {
    "colab": {
      "name": "Chapter_9_Organizing_Files",
      "provenance": [],
      "toc_visible": true,
      "authorship_tag": "ABX9TyPyIFMXXEl/bFRd9XkULPER",
      "include_colab_link": true
    },
    "kernelspec": {
      "name": "python3",
      "display_name": "Python 3"
    }
  },
  "cells": [
    {
      "cell_type": "markdown",
      "metadata": {
        "id": "view-in-github",
        "colab_type": "text"
      },
      "source": [
        "<a href=\"https://colab.research.google.com/github/carloslme/automating-boring-stuff/blob/main/Chapter_9_Organizing_Files.ipynb\" target=\"_parent\"><img src=\"https://colab.research.google.com/assets/colab-badge.svg\" alt=\"Open In Colab\"/></a>"
      ]
    },
    {
      "cell_type": "markdown",
      "metadata": {
        "id": "xYHBM-T2NLvl"
      },
      "source": [
        "# The shutil Module (Copying Files and Folders)\r\n",
        "The shutil module provides functions for copying files, as well as entire folders. Calling `shutil.copy(source, destination)` will copy the file at the path source to the folder at the path destination. (Both source and destination are strings.) If destination is a filename, it will be used as the new name of the copied file. This function returns a string of the path of the copied file."
      ]
    },
    {
      "cell_type": "code",
      "metadata": {
        "id": "wofUd1BtM49C"
      },
      "source": [
        "import shutil, os"
      ],
      "execution_count": 1,
      "outputs": []
    },
    {
      "cell_type": "code",
      "metadata": {
        "id": "dcL4WNBpNoTy"
      },
      "source": [
        "os.chdir('/content')"
      ],
      "execution_count": 2,
      "outputs": []
    },
    {
      "cell_type": "code",
      "metadata": {
        "colab": {
          "base_uri": "https://localhost:8080/",
          "height": 35
        },
        "id": "ItrGo-ssOC9q",
        "outputId": "80fd46cf-6ba6-4247-cf53-cda0650a7175"
      },
      "source": [
        "shutil.copy('/content/sample_data/anscombe.json','/content')"
      ],
      "execution_count": 3,
      "outputs": [
        {
          "output_type": "execute_result",
          "data": {
            "application/vnd.google.colaboratory.intrinsic+json": {
              "type": "string"
            },
            "text/plain": [
              "'/content/anscombe.json'"
            ]
          },
          "metadata": {
            "tags": []
          },
          "execution_count": 3
        }
      ]
    },
    {
      "cell_type": "code",
      "metadata": {
        "colab": {
          "base_uri": "https://localhost:8080/",
          "height": 35
        },
        "id": "9xKR8w3aOPqi",
        "outputId": "4af7a95d-c558-4788-e181-372077e7b935"
      },
      "source": [
        "shutil.copy('/content/sample_data/california_housing_test.csv','/content')"
      ],
      "execution_count": 4,
      "outputs": [
        {
          "output_type": "execute_result",
          "data": {
            "application/vnd.google.colaboratory.intrinsic+json": {
              "type": "string"
            },
            "text/plain": [
              "'/content/california_housing_test.csv'"
            ]
          },
          "metadata": {
            "tags": []
          },
          "execution_count": 4
        }
      ]
    },
    {
      "cell_type": "code",
      "metadata": {
        "colab": {
          "base_uri": "https://localhost:8080/",
          "height": 35
        },
        "id": "fC28V73OOXfq",
        "outputId": "2297e639-d125-4eac-e212-f3cda5bc940c"
      },
      "source": [
        "shutil.copy('/content/sample_data/california_housing_test.csv','/content/customized_text.csv')"
      ],
      "execution_count": 5,
      "outputs": [
        {
          "output_type": "execute_result",
          "data": {
            "application/vnd.google.colaboratory.intrinsic+json": {
              "type": "string"
            },
            "text/plain": [
              "'/content/customized_text.csv'"
            ]
          },
          "metadata": {
            "tags": []
          },
          "execution_count": 5
        }
      ]
    },
    {
      "cell_type": "markdown",
      "metadata": {
        "id": "ntePmPyzQVSZ"
      },
      "source": [
        "While `shutil.copy()` will copy a single file, shutil.copytree() will copy an entire folder and every folder and file contained in it. Calling `shutil.copytree(source, destination)` will copy the folder at the path source , along with all of its files and subfolders, to the folder at the path destination . The source and destination parameters are both strings. The function returns a string of the path of the copied folder."
      ]
    },
    {
      "cell_type": "code",
      "metadata": {
        "colab": {
          "base_uri": "https://localhost:8080/",
          "height": 35
        },
        "id": "tJLBSvPoPhOz",
        "outputId": "cb9e958f-cb2a-4aff-86af-be9307bf5400"
      },
      "source": [
        "import shutil, os\r\n",
        "os.chdir('/content')\r\n",
        "shutil.copytree('/content/sample_data','/content/backup')"
      ],
      "execution_count": 8,
      "outputs": [
        {
          "output_type": "execute_result",
          "data": {
            "application/vnd.google.colaboratory.intrinsic+json": {
              "type": "string"
            },
            "text/plain": [
              "'/content/backup'"
            ]
          },
          "metadata": {
            "tags": []
          },
          "execution_count": 8
        }
      ]
    },
    {
      "cell_type": "code",
      "metadata": {
        "id": "ipAhyF3nQ1NL"
      },
      "source": [
        ""
      ],
      "execution_count": null,
      "outputs": []
    }
  ]
}