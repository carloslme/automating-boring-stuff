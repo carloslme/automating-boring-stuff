{
  "nbformat": 4,
  "nbformat_minor": 0,
  "metadata": {
    "colab": {
      "name": "Chapter_8_Reading_and_Writing_Files",
      "provenance": [],
      "collapsed_sections": [],
      "toc_visible": true,
      "mount_file_id": "1YfUeGCQ0w2uFt1NPYsMINYGy6UL-CPxS",
      "authorship_tag": "ABX9TyNBj8BL3XwFV7xaH/0HtXc7",
      "include_colab_link": true
    },
    "kernelspec": {
      "name": "python3",
      "display_name": "Python 3"
    }
  },
  "cells": [
    {
      "cell_type": "markdown",
      "metadata": {
        "id": "view-in-github",
        "colab_type": "text"
      },
      "source": [
        "<a href=\"https://colab.research.google.com/github/carloslme/automating-boring-stuff/blob/main/Chapter_8_Reading_and_Writing_Files.ipynb\" target=\"_parent\"><img src=\"https://colab.research.google.com/assets/colab-badge.svg\" alt=\"Open In Colab\"/></a>"
      ]
    },
    {
      "cell_type": "markdown",
      "metadata": {
        "id": "v3Um_vc9M1VZ"
      },
      "source": [
        "# Backslash on Windows and Forward Slash on OS X and Linux\r\n",
        "On Windows, paths are written using backslashes ( \\ ) as the separator between folder names. OS X and Linux, however, use the forward slash ( / ) as their path separator. If you want your programs to work on all operating systems, you will have to write your Python scripts to handle both cases.\r\n",
        "\r\n",
        "Fortunately, this is simple to do with the `os.path.join()` function. If you pass it the string values of individual file and folder names in your path, `os.path.join()` will return a string with a file path using the correct path separators. Enter"
      ]
    },
    {
      "cell_type": "code",
      "metadata": {
        "colab": {
          "base_uri": "https://localhost:8080/",
          "height": 35
        },
        "id": "M29H_-_7MZd7",
        "outputId": "fe78e816-d0bd-4c63-a8d8-65d16ecafb3b"
      },
      "source": [
        "import os\r\n",
        "os.path.join('user','bin','spam')"
      ],
      "execution_count": 2,
      "outputs": [
        {
          "output_type": "execute_result",
          "data": {
            "application/vnd.google.colaboratory.intrinsic+json": {
              "type": "string"
            },
            "text/plain": [
              "'user/bin/spam'"
            ]
          },
          "metadata": {
            "tags": []
          },
          "execution_count": 2
        }
      ]
    },
    {
      "cell_type": "markdown",
      "metadata": {
        "id": "HudTW1t8N9m1"
      },
      "source": [
        "The `os.path.join()` function is helpful if you need to create strings for filenames."
      ]
    },
    {
      "cell_type": "code",
      "metadata": {
        "id": "v1cc9XSqNJMJ"
      },
      "source": [
        "myFiles = ['accounts.txt','details.csv','invite.docx']"
      ],
      "execution_count": 3,
      "outputs": []
    },
    {
      "cell_type": "code",
      "metadata": {
        "colab": {
          "base_uri": "https://localhost:8080/"
        },
        "id": "IpzFGN-6OK7v",
        "outputId": "c114cd08-81c6-401d-bd5f-9542b833f8a5"
      },
      "source": [
        "for filename in myFiles:\r\n",
        "  print(os.path.join('C:/user/bin/',filename))"
      ],
      "execution_count": 4,
      "outputs": [
        {
          "output_type": "stream",
          "text": [
            "C:/user/bin/accounts.txt\n",
            "C:/user/bin/details.csv\n",
            "C:/user/bin/invite.docx\n"
          ],
          "name": "stdout"
        }
      ]
    },
    {
      "cell_type": "markdown",
      "metadata": {
        "id": "M69UJtcWO13J"
      },
      "source": [
        "# The Current Working Directory\r\n",
        "You can get the current working directory as a string value with the `os.getcwd()` function and change it with `os.chdir()`"
      ]
    },
    {
      "cell_type": "code",
      "metadata": {
        "colab": {
          "base_uri": "https://localhost:8080/",
          "height": 35
        },
        "id": "DDVfuEEbOqW3",
        "outputId": "1edbd69c-c6ab-4db9-dcd0-aedab01d8a5e"
      },
      "source": [
        "import os\r\n",
        "os.getcwd()"
      ],
      "execution_count": 5,
      "outputs": [
        {
          "output_type": "execute_result",
          "data": {
            "application/vnd.google.colaboratory.intrinsic+json": {
              "type": "string"
            },
            "text/plain": [
              "'/content'"
            ]
          },
          "metadata": {
            "tags": []
          },
          "execution_count": 5
        }
      ]
    },
    {
      "cell_type": "code",
      "metadata": {
        "id": "cwhNzWHoPYDO"
      },
      "source": [
        "os.chdir('/content/sample_data')"
      ],
      "execution_count": 6,
      "outputs": []
    },
    {
      "cell_type": "code",
      "metadata": {
        "colab": {
          "base_uri": "https://localhost:8080/",
          "height": 35
        },
        "id": "f19hZpG-P0cf",
        "outputId": "5a4c155d-ae52-4a3b-a236-e688afbda66a"
      },
      "source": [
        "os.getcwd()"
      ],
      "execution_count": 7,
      "outputs": [
        {
          "output_type": "execute_result",
          "data": {
            "application/vnd.google.colaboratory.intrinsic+json": {
              "type": "string"
            },
            "text/plain": [
              "'/content/sample_data'"
            ]
          },
          "metadata": {
            "tags": []
          },
          "execution_count": 7
        }
      ]
    },
    {
      "cell_type": "code",
      "metadata": {
        "colab": {
          "base_uri": "https://localhost:8080/",
          "height": 166
        },
        "id": "kX8xS_6dP25H",
        "outputId": "394079a4-9228-4f0f-918b-748aa02bada1"
      },
      "source": [
        "os.chdir('/ThisFolderDoesNotExist')"
      ],
      "execution_count": 8,
      "outputs": [
        {
          "output_type": "error",
          "ename": "FileNotFoundError",
          "evalue": "ignored",
          "traceback": [
            "\u001b[0;31m---------------------------------------------------------------------------\u001b[0m",
            "\u001b[0;31mFileNotFoundError\u001b[0m                         Traceback (most recent call last)",
            "\u001b[0;32m<ipython-input-8-269f565bec6a>\u001b[0m in \u001b[0;36m<module>\u001b[0;34m()\u001b[0m\n\u001b[0;32m----> 1\u001b[0;31m \u001b[0mos\u001b[0m\u001b[0;34m.\u001b[0m\u001b[0mchdir\u001b[0m\u001b[0;34m(\u001b[0m\u001b[0;34m'/ThisFolderDoesNotExist'\u001b[0m\u001b[0;34m)\u001b[0m\u001b[0;34m\u001b[0m\u001b[0;34m\u001b[0m\u001b[0m\n\u001b[0m",
            "\u001b[0;31mFileNotFoundError\u001b[0m: [Errno 2] No such file or directory: '/ThisFolderDoesNotExist'"
          ]
        }
      ]
    },
    {
      "cell_type": "markdown",
      "metadata": {
        "id": "jtPDRNdEQU3Z"
      },
      "source": [
        "# Absolute vs. Relative Paths\r\n",
        "There are two ways to specify a file path. \r\n",
        "* An absolute path , which always begins with the root folder \r\n",
        "* A relative path , which is relative to the program’s current working directory\r\n",
        "\r\n",
        "\r\n",
        "There are also the dot (.) and dot-dot(..) folders. \r\n",
        "* A single period for a folder name is shorthand for \"this directory\".\r\n",
        "* Two periods means \"the parent folder\"."
      ]
    },
    {
      "cell_type": "markdown",
      "metadata": {
        "id": "hshyqfubRMZj"
      },
      "source": [
        "# Creating New Folders with `os.makedirs()`\r\n",
        "os.makedirs() will create any neccesary intermediate folders in order to ensure that the full path exists.\r\n"
      ]
    },
    {
      "cell_type": "code",
      "metadata": {
        "id": "OXALpka4QGxG"
      },
      "source": [
        "import os\r\n",
        "os.makedirs('/content/parent/son/grandson')"
      ],
      "execution_count": 9,
      "outputs": []
    },
    {
      "cell_type": "code",
      "metadata": {
        "colab": {
          "base_uri": "https://localhost:8080/"
        },
        "id": "udQx4ZyXRtMA",
        "outputId": "17025ed1-6ea3-4017-f0e2-7e928277a6cd"
      },
      "source": [
        "!ls /content"
      ],
      "execution_count": 12,
      "outputs": [
        {
          "output_type": "stream",
          "text": [
            "drive  parent  sample_data\n"
          ],
          "name": "stdout"
        }
      ]
    },
    {
      "cell_type": "code",
      "metadata": {
        "colab": {
          "base_uri": "https://localhost:8080/"
        },
        "id": "fS5oEf58SD-u",
        "outputId": "13ac98be-4256-4b99-a031-79e11720b45b"
      },
      "source": [
        "!ls /content/parent"
      ],
      "execution_count": 13,
      "outputs": [
        {
          "output_type": "stream",
          "text": [
            "son\n"
          ],
          "name": "stdout"
        }
      ]
    },
    {
      "cell_type": "code",
      "metadata": {
        "colab": {
          "base_uri": "https://localhost:8080/"
        },
        "id": "THIBmY1zSJ6W",
        "outputId": "24633b77-8dd6-474c-eb03-121f0e40e2e8"
      },
      "source": [
        "!ls /content/parent/son/"
      ],
      "execution_count": 14,
      "outputs": [
        {
          "output_type": "stream",
          "text": [
            "grandson\n"
          ],
          "name": "stdout"
        }
      ]
    },
    {
      "cell_type": "markdown",
      "metadata": {
        "id": "kZQLBVkmS_N2"
      },
      "source": [
        "# The `os.path` Module\r\n",
        "The `os.path` module contains many helpful functions related to filenames and file paths.\r\n",
        "\r\n"
      ]
    },
    {
      "cell_type": "markdown",
      "metadata": {
        "id": "vt4bDYB-TTC8"
      },
      "source": [
        "## Handling Absolute and Relative Paths\r\n",
        "* Calling `os.path.abspath(path)` will return a string of the absolute path of the argument. This is an easy way to convert a relative path into an absolute one. \r\n",
        "* Calling `os.path.isabs(path)` will return True if the argument is an absolute path and False if it is a relative path. \r\n",
        "* Calling `os.path.relpath(path,start)` will return a string of a relative path from the start path to path . If start is not provided, the current working directory is used as the start path."
      ]
    },
    {
      "cell_type": "code",
      "metadata": {
        "colab": {
          "base_uri": "https://localhost:8080/",
          "height": 35
        },
        "id": "idJEYdT4SMKH",
        "outputId": "01dc86fa-b97d-4173-ea34-2cdb04d44069"
      },
      "source": [
        "os.path.abspath('.')"
      ],
      "execution_count": 15,
      "outputs": [
        {
          "output_type": "execute_result",
          "data": {
            "application/vnd.google.colaboratory.intrinsic+json": {
              "type": "string"
            },
            "text/plain": [
              "'/content/sample_data'"
            ]
          },
          "metadata": {
            "tags": []
          },
          "execution_count": 15
        }
      ]
    },
    {
      "cell_type": "code",
      "metadata": {
        "colab": {
          "base_uri": "https://localhost:8080/"
        },
        "id": "QZRpZnX0UJQh",
        "outputId": "9ba57406-a24d-4905-8b9d-4b07310b8ca5"
      },
      "source": [
        "os.path.isabs('.')"
      ],
      "execution_count": 17,
      "outputs": [
        {
          "output_type": "execute_result",
          "data": {
            "text/plain": [
              "False"
            ]
          },
          "metadata": {
            "tags": []
          },
          "execution_count": 17
        }
      ]
    },
    {
      "cell_type": "code",
      "metadata": {
        "colab": {
          "base_uri": "https://localhost:8080/"
        },
        "id": "v9TBt9XdUQXp",
        "outputId": "a7313ab7-38d4-486b-a2c5-c466c1005e3a"
      },
      "source": [
        "os.path.isabs(os.path.abspath('.'))"
      ],
      "execution_count": 18,
      "outputs": [
        {
          "output_type": "execute_result",
          "data": {
            "text/plain": [
              "True"
            ]
          },
          "metadata": {
            "tags": []
          },
          "execution_count": 18
        }
      ]
    },
    {
      "cell_type": "code",
      "metadata": {
        "colab": {
          "base_uri": "https://localhost:8080/",
          "height": 35
        },
        "id": "U42O4kAlUmEo",
        "outputId": "d8af5128-4465-4ae4-b1d8-5e53191a4b70"
      },
      "source": [
        "os.path.relpath('/content/parent','/content/')"
      ],
      "execution_count": 19,
      "outputs": [
        {
          "output_type": "execute_result",
          "data": {
            "application/vnd.google.colaboratory.intrinsic+json": {
              "type": "string"
            },
            "text/plain": [
              "'parent'"
            ]
          },
          "metadata": {
            "tags": []
          },
          "execution_count": 19
        }
      ]
    },
    {
      "cell_type": "code",
      "metadata": {
        "colab": {
          "base_uri": "https://localhost:8080/",
          "height": 35
        },
        "id": "kIyvh1BiVYLT",
        "outputId": "ac0f5c90-fb61-47c6-80a1-91e2646adf03"
      },
      "source": [
        "os.path.relpath('/content/','/content/parent/son/grandson/')"
      ],
      "execution_count": 21,
      "outputs": [
        {
          "output_type": "execute_result",
          "data": {
            "application/vnd.google.colaboratory.intrinsic+json": {
              "type": "string"
            },
            "text/plain": [
              "'../../..'"
            ]
          },
          "metadata": {
            "tags": []
          },
          "execution_count": 21
        }
      ]
    },
    {
      "cell_type": "code",
      "metadata": {
        "colab": {
          "base_uri": "https://localhost:8080/",
          "height": 35
        },
        "id": "bmeLAEylVq1x",
        "outputId": "f6a00ce1-4806-44c1-80ba-41f7de59d1fd"
      },
      "source": [
        "os.getcwd()"
      ],
      "execution_count": 22,
      "outputs": [
        {
          "output_type": "execute_result",
          "data": {
            "application/vnd.google.colaboratory.intrinsic+json": {
              "type": "string"
            },
            "text/plain": [
              "'/content/sample_data'"
            ]
          },
          "metadata": {
            "tags": []
          },
          "execution_count": 22
        }
      ]
    },
    {
      "cell_type": "markdown",
      "metadata": {
        "id": "60IZykviWFo_"
      },
      "source": [
        "* Calling `os.path.dirname(path)` will return a string of everything that comes before the last slash in the path argument. \r\n",
        "* Calling `os.path.basename(path)` will return a string of everything that comes after the last slash in the path argument."
      ]
    },
    {
      "cell_type": "code",
      "metadata": {
        "colab": {
          "base_uri": "https://localhost:8080/",
          "height": 35
        },
        "id": "os1ZQ-c8V7z9",
        "outputId": "fd89c16f-dace-49ca-9310-a07473803b1d"
      },
      "source": [
        "path = '/content/sample_data/README.md'\r\n",
        "os.path.basename(path)"
      ],
      "execution_count": 23,
      "outputs": [
        {
          "output_type": "execute_result",
          "data": {
            "application/vnd.google.colaboratory.intrinsic+json": {
              "type": "string"
            },
            "text/plain": [
              "'README.md'"
            ]
          },
          "metadata": {
            "tags": []
          },
          "execution_count": 23
        }
      ]
    },
    {
      "cell_type": "code",
      "metadata": {
        "colab": {
          "base_uri": "https://localhost:8080/",
          "height": 35
        },
        "id": "cqJs5ALJWFF3",
        "outputId": "1a9cde39-c660-4290-9989-f799940b3321"
      },
      "source": [
        "os.path.dirname(path)"
      ],
      "execution_count": 24,
      "outputs": [
        {
          "output_type": "execute_result",
          "data": {
            "application/vnd.google.colaboratory.intrinsic+json": {
              "type": "string"
            },
            "text/plain": [
              "'/content/sample_data'"
            ]
          },
          "metadata": {
            "tags": []
          },
          "execution_count": 24
        }
      ]
    },
    {
      "cell_type": "markdown",
      "metadata": {
        "id": "yx5UytYKXT2E"
      },
      "source": [
        "`os.path.split()` is a nice shortcut if you need both values."
      ]
    },
    {
      "cell_type": "code",
      "metadata": {
        "colab": {
          "base_uri": "https://localhost:8080/"
        },
        "id": "090cQX1kWtYI",
        "outputId": "e1b74f8c-103e-4359-c9e0-f4356b3a142a"
      },
      "source": [
        "californiaFilePath = '/content/sample_data/california_housing_test.csv'\r\n",
        "os.path.split(californiaFilePath)"
      ],
      "execution_count": 25,
      "outputs": [
        {
          "output_type": "execute_result",
          "data": {
            "text/plain": [
              "('/content/sample_data', 'california_housing_test.csv')"
            ]
          },
          "metadata": {
            "tags": []
          },
          "execution_count": 25
        }
      ]
    },
    {
      "cell_type": "markdown",
      "metadata": {
        "id": "aeu0J65qXeUX"
      },
      "source": [
        "`os.path.sep()` take a file path and return a list of strings of each folder."
      ]
    },
    {
      "cell_type": "code",
      "metadata": {
        "colab": {
          "base_uri": "https://localhost:8080/"
        },
        "id": "FWgdYQ_VXLDv",
        "outputId": "62a4c324-afa3-4446-bc1b-62a63e6c480f"
      },
      "source": [
        "californiaFilePath.split(os.path.sep)"
      ],
      "execution_count": 28,
      "outputs": [
        {
          "output_type": "execute_result",
          "data": {
            "text/plain": [
              "['', 'content', 'sample_data', 'california_housing_test.csv']"
            ]
          },
          "metadata": {
            "tags": []
          },
          "execution_count": 28
        }
      ]
    },
    {
      "cell_type": "code",
      "metadata": {
        "id": "9TATZdKlXte2"
      },
      "source": [
        ""
      ],
      "execution_count": null,
      "outputs": []
    }
  ]
}