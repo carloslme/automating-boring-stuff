{
  "nbformat": 4,
  "nbformat_minor": 0,
  "metadata": {
    "colab": {
      "name": "Chapter_8_Reading_and_Writing_Files",
      "provenance": [],
      "collapsed_sections": [],
      "toc_visible": true,
      "mount_file_id": "1YfUeGCQ0w2uFt1NPYsMINYGy6UL-CPxS",
      "authorship_tag": "ABX9TyMJSO3XaK1KJGVfpbv0Kb/N",
      "include_colab_link": true
    },
    "kernelspec": {
      "name": "python3",
      "display_name": "Python 3"
    }
  },
  "cells": [
    {
      "cell_type": "markdown",
      "metadata": {
        "id": "view-in-github",
        "colab_type": "text"
      },
      "source": [
        "<a href=\"https://colab.research.google.com/github/carloslme/automating-boring-stuff/blob/main/Chapter_8_Reading_and_Writing_Files.ipynb\" target=\"_parent\"><img src=\"https://colab.research.google.com/assets/colab-badge.svg\" alt=\"Open In Colab\"/></a>"
      ]
    },
    {
      "cell_type": "markdown",
      "metadata": {
        "id": "v3Um_vc9M1VZ"
      },
      "source": [
        "# Backslash on Windows and Forward Slash on OS X and Linux\r\n",
        "On Windows, paths are written using backslashes ( \\ ) as the separator between folder names. OS X and Linux, however, use the forward slash ( / ) as their path separator. If you want your programs to work on all operating systems, you will have to write your Python scripts to handle both cases.\r\n",
        "\r\n",
        "Fortunately, this is simple to do with the `os.path.join()` function. If you pass it the string values of individual file and folder names in your path, `os.path.join()` will return a string with a file path using the correct path separators. Enter"
      ]
    },
    {
      "cell_type": "code",
      "metadata": {
        "colab": {
          "base_uri": "https://localhost:8080/",
          "height": 35
        },
        "id": "M29H_-_7MZd7",
        "outputId": "fe78e816-d0bd-4c63-a8d8-65d16ecafb3b"
      },
      "source": [
        "import os\r\n",
        "os.path.join('user','bin','spam')"
      ],
      "execution_count": null,
      "outputs": [
        {
          "output_type": "execute_result",
          "data": {
            "application/vnd.google.colaboratory.intrinsic+json": {
              "type": "string"
            },
            "text/plain": [
              "'user/bin/spam'"
            ]
          },
          "metadata": {
            "tags": []
          },
          "execution_count": 2
        }
      ]
    },
    {
      "cell_type": "markdown",
      "metadata": {
        "id": "HudTW1t8N9m1"
      },
      "source": [
        "The `os.path.join()` function is helpful if you need to create strings for filenames."
      ]
    },
    {
      "cell_type": "code",
      "metadata": {
        "id": "v1cc9XSqNJMJ"
      },
      "source": [
        "myFiles = ['accounts.txt','details.csv','invite.docx']"
      ],
      "execution_count": null,
      "outputs": []
    },
    {
      "cell_type": "code",
      "metadata": {
        "colab": {
          "base_uri": "https://localhost:8080/"
        },
        "id": "IpzFGN-6OK7v",
        "outputId": "c114cd08-81c6-401d-bd5f-9542b833f8a5"
      },
      "source": [
        "for filename in myFiles:\r\n",
        "  print(os.path.join('C:/user/bin/',filename))"
      ],
      "execution_count": null,
      "outputs": [
        {
          "output_type": "stream",
          "text": [
            "C:/user/bin/accounts.txt\n",
            "C:/user/bin/details.csv\n",
            "C:/user/bin/invite.docx\n"
          ],
          "name": "stdout"
        }
      ]
    },
    {
      "cell_type": "markdown",
      "metadata": {
        "id": "M69UJtcWO13J"
      },
      "source": [
        "# The Current Working Directory\r\n",
        "You can get the current working directory as a string value with the `os.getcwd()` function and change it with `os.chdir()`"
      ]
    },
    {
      "cell_type": "code",
      "metadata": {
        "colab": {
          "base_uri": "https://localhost:8080/",
          "height": 35
        },
        "id": "DDVfuEEbOqW3",
        "outputId": "1edbd69c-c6ab-4db9-dcd0-aedab01d8a5e"
      },
      "source": [
        "import os\r\n",
        "os.getcwd()"
      ],
      "execution_count": null,
      "outputs": [
        {
          "output_type": "execute_result",
          "data": {
            "application/vnd.google.colaboratory.intrinsic+json": {
              "type": "string"
            },
            "text/plain": [
              "'/content'"
            ]
          },
          "metadata": {
            "tags": []
          },
          "execution_count": 5
        }
      ]
    },
    {
      "cell_type": "code",
      "metadata": {
        "id": "cwhNzWHoPYDO"
      },
      "source": [
        "os.chdir('/content/sample_data')"
      ],
      "execution_count": null,
      "outputs": []
    },
    {
      "cell_type": "code",
      "metadata": {
        "colab": {
          "base_uri": "https://localhost:8080/",
          "height": 35
        },
        "id": "f19hZpG-P0cf",
        "outputId": "5a4c155d-ae52-4a3b-a236-e688afbda66a"
      },
      "source": [
        "os.getcwd()"
      ],
      "execution_count": null,
      "outputs": [
        {
          "output_type": "execute_result",
          "data": {
            "application/vnd.google.colaboratory.intrinsic+json": {
              "type": "string"
            },
            "text/plain": [
              "'/content/sample_data'"
            ]
          },
          "metadata": {
            "tags": []
          },
          "execution_count": 7
        }
      ]
    },
    {
      "cell_type": "code",
      "metadata": {
        "colab": {
          "base_uri": "https://localhost:8080/",
          "height": 166
        },
        "id": "kX8xS_6dP25H",
        "outputId": "394079a4-9228-4f0f-918b-748aa02bada1"
      },
      "source": [
        "os.chdir('/ThisFolderDoesNotExist')"
      ],
      "execution_count": null,
      "outputs": [
        {
          "output_type": "error",
          "ename": "FileNotFoundError",
          "evalue": "ignored",
          "traceback": [
            "\u001b[0;31m---------------------------------------------------------------------------\u001b[0m",
            "\u001b[0;31mFileNotFoundError\u001b[0m                         Traceback (most recent call last)",
            "\u001b[0;32m<ipython-input-8-269f565bec6a>\u001b[0m in \u001b[0;36m<module>\u001b[0;34m()\u001b[0m\n\u001b[0;32m----> 1\u001b[0;31m \u001b[0mos\u001b[0m\u001b[0;34m.\u001b[0m\u001b[0mchdir\u001b[0m\u001b[0;34m(\u001b[0m\u001b[0;34m'/ThisFolderDoesNotExist'\u001b[0m\u001b[0;34m)\u001b[0m\u001b[0;34m\u001b[0m\u001b[0;34m\u001b[0m\u001b[0m\n\u001b[0m",
            "\u001b[0;31mFileNotFoundError\u001b[0m: [Errno 2] No such file or directory: '/ThisFolderDoesNotExist'"
          ]
        }
      ]
    },
    {
      "cell_type": "markdown",
      "metadata": {
        "id": "jtPDRNdEQU3Z"
      },
      "source": [
        "# Absolute vs. Relative Paths\r\n",
        "There are two ways to specify a file path. \r\n",
        "* An absolute path , which always begins with the root folder \r\n",
        "* A relative path , which is relative to the program’s current working directory\r\n",
        "\r\n",
        "\r\n",
        "There are also the dot (.) and dot-dot(..) folders. \r\n",
        "* A single period for a folder name is shorthand for \"this directory\".\r\n",
        "* Two periods means \"the parent folder\"."
      ]
    },
    {
      "cell_type": "markdown",
      "metadata": {
        "id": "hshyqfubRMZj"
      },
      "source": [
        "# Creating New Folders with `os.makedirs()`\r\n",
        "os.makedirs() will create any neccesary intermediate folders in order to ensure that the full path exists.\r\n"
      ]
    },
    {
      "cell_type": "code",
      "metadata": {
        "id": "OXALpka4QGxG"
      },
      "source": [
        "import os\r\n",
        "os.makedirs('/content/parent/son/grandson')"
      ],
      "execution_count": null,
      "outputs": []
    },
    {
      "cell_type": "code",
      "metadata": {
        "colab": {
          "base_uri": "https://localhost:8080/"
        },
        "id": "udQx4ZyXRtMA",
        "outputId": "17025ed1-6ea3-4017-f0e2-7e928277a6cd"
      },
      "source": [
        "!ls /content"
      ],
      "execution_count": null,
      "outputs": [
        {
          "output_type": "stream",
          "text": [
            "drive  parent  sample_data\n"
          ],
          "name": "stdout"
        }
      ]
    },
    {
      "cell_type": "code",
      "metadata": {
        "colab": {
          "base_uri": "https://localhost:8080/"
        },
        "id": "fS5oEf58SD-u",
        "outputId": "13ac98be-4256-4b99-a031-79e11720b45b"
      },
      "source": [
        "!ls /content/parent"
      ],
      "execution_count": null,
      "outputs": [
        {
          "output_type": "stream",
          "text": [
            "son\n"
          ],
          "name": "stdout"
        }
      ]
    },
    {
      "cell_type": "code",
      "metadata": {
        "colab": {
          "base_uri": "https://localhost:8080/"
        },
        "id": "THIBmY1zSJ6W",
        "outputId": "24633b77-8dd6-474c-eb03-121f0e40e2e8"
      },
      "source": [
        "!ls /content/parent/son/"
      ],
      "execution_count": null,
      "outputs": [
        {
          "output_type": "stream",
          "text": [
            "grandson\n"
          ],
          "name": "stdout"
        }
      ]
    },
    {
      "cell_type": "markdown",
      "metadata": {
        "id": "kZQLBVkmS_N2"
      },
      "source": [
        "# The `os.path` Module\r\n",
        "The `os.path` module contains many helpful functions related to filenames and file paths.\r\n",
        "\r\n"
      ]
    },
    {
      "cell_type": "markdown",
      "metadata": {
        "id": "vt4bDYB-TTC8"
      },
      "source": [
        "## Handling Absolute and Relative Paths\r\n",
        "* Calling `os.path.abspath(path)` will return a string of the absolute path of the argument. This is an easy way to convert a relative path into an absolute one. \r\n",
        "* Calling `os.path.isabs(path)` will return True if the argument is an absolute path and False if it is a relative path. \r\n",
        "* Calling `os.path.relpath(path,start)` will return a string of a relative path from the start path to path . If start is not provided, the current working directory is used as the start path."
      ]
    },
    {
      "cell_type": "code",
      "metadata": {
        "colab": {
          "base_uri": "https://localhost:8080/",
          "height": 35
        },
        "id": "idJEYdT4SMKH",
        "outputId": "01dc86fa-b97d-4173-ea34-2cdb04d44069"
      },
      "source": [
        "os.path.abspath('.')"
      ],
      "execution_count": null,
      "outputs": [
        {
          "output_type": "execute_result",
          "data": {
            "application/vnd.google.colaboratory.intrinsic+json": {
              "type": "string"
            },
            "text/plain": [
              "'/content/sample_data'"
            ]
          },
          "metadata": {
            "tags": []
          },
          "execution_count": 15
        }
      ]
    },
    {
      "cell_type": "code",
      "metadata": {
        "colab": {
          "base_uri": "https://localhost:8080/"
        },
        "id": "QZRpZnX0UJQh",
        "outputId": "9ba57406-a24d-4905-8b9d-4b07310b8ca5"
      },
      "source": [
        "os.path.isabs('.')"
      ],
      "execution_count": null,
      "outputs": [
        {
          "output_type": "execute_result",
          "data": {
            "text/plain": [
              "False"
            ]
          },
          "metadata": {
            "tags": []
          },
          "execution_count": 17
        }
      ]
    },
    {
      "cell_type": "code",
      "metadata": {
        "colab": {
          "base_uri": "https://localhost:8080/"
        },
        "id": "v9TBt9XdUQXp",
        "outputId": "a7313ab7-38d4-486b-a2c5-c466c1005e3a"
      },
      "source": [
        "os.path.isabs(os.path.abspath('.'))"
      ],
      "execution_count": null,
      "outputs": [
        {
          "output_type": "execute_result",
          "data": {
            "text/plain": [
              "True"
            ]
          },
          "metadata": {
            "tags": []
          },
          "execution_count": 18
        }
      ]
    },
    {
      "cell_type": "code",
      "metadata": {
        "colab": {
          "base_uri": "https://localhost:8080/",
          "height": 35
        },
        "id": "U42O4kAlUmEo",
        "outputId": "d8af5128-4465-4ae4-b1d8-5e53191a4b70"
      },
      "source": [
        "os.path.relpath('/content/parent','/content/')"
      ],
      "execution_count": null,
      "outputs": [
        {
          "output_type": "execute_result",
          "data": {
            "application/vnd.google.colaboratory.intrinsic+json": {
              "type": "string"
            },
            "text/plain": [
              "'parent'"
            ]
          },
          "metadata": {
            "tags": []
          },
          "execution_count": 19
        }
      ]
    },
    {
      "cell_type": "code",
      "metadata": {
        "colab": {
          "base_uri": "https://localhost:8080/",
          "height": 35
        },
        "id": "kIyvh1BiVYLT",
        "outputId": "ac0f5c90-fb61-47c6-80a1-91e2646adf03"
      },
      "source": [
        "os.path.relpath('/content/','/content/parent/son/grandson/')"
      ],
      "execution_count": null,
      "outputs": [
        {
          "output_type": "execute_result",
          "data": {
            "application/vnd.google.colaboratory.intrinsic+json": {
              "type": "string"
            },
            "text/plain": [
              "'../../..'"
            ]
          },
          "metadata": {
            "tags": []
          },
          "execution_count": 21
        }
      ]
    },
    {
      "cell_type": "code",
      "metadata": {
        "colab": {
          "base_uri": "https://localhost:8080/",
          "height": 35
        },
        "id": "bmeLAEylVq1x",
        "outputId": "f6a00ce1-4806-44c1-80ba-41f7de59d1fd"
      },
      "source": [
        "os.getcwd()"
      ],
      "execution_count": null,
      "outputs": [
        {
          "output_type": "execute_result",
          "data": {
            "application/vnd.google.colaboratory.intrinsic+json": {
              "type": "string"
            },
            "text/plain": [
              "'/content/sample_data'"
            ]
          },
          "metadata": {
            "tags": []
          },
          "execution_count": 22
        }
      ]
    },
    {
      "cell_type": "markdown",
      "metadata": {
        "id": "60IZykviWFo_"
      },
      "source": [
        "* Calling `os.path.dirname(path)` will return a string of everything that comes before the last slash in the path argument. \r\n",
        "* Calling `os.path.basename(path)` will return a string of everything that comes after the last slash in the path argument."
      ]
    },
    {
      "cell_type": "code",
      "metadata": {
        "colab": {
          "base_uri": "https://localhost:8080/",
          "height": 35
        },
        "id": "os1ZQ-c8V7z9",
        "outputId": "fd89c16f-dace-49ca-9310-a07473803b1d"
      },
      "source": [
        "path = '/content/sample_data/README.md'\r\n",
        "os.path.basename(path)"
      ],
      "execution_count": null,
      "outputs": [
        {
          "output_type": "execute_result",
          "data": {
            "application/vnd.google.colaboratory.intrinsic+json": {
              "type": "string"
            },
            "text/plain": [
              "'README.md'"
            ]
          },
          "metadata": {
            "tags": []
          },
          "execution_count": 23
        }
      ]
    },
    {
      "cell_type": "code",
      "metadata": {
        "colab": {
          "base_uri": "https://localhost:8080/",
          "height": 35
        },
        "id": "cqJs5ALJWFF3",
        "outputId": "1a9cde39-c660-4290-9989-f799940b3321"
      },
      "source": [
        "os.path.dirname(path)"
      ],
      "execution_count": null,
      "outputs": [
        {
          "output_type": "execute_result",
          "data": {
            "application/vnd.google.colaboratory.intrinsic+json": {
              "type": "string"
            },
            "text/plain": [
              "'/content/sample_data'"
            ]
          },
          "metadata": {
            "tags": []
          },
          "execution_count": 24
        }
      ]
    },
    {
      "cell_type": "markdown",
      "metadata": {
        "id": "yx5UytYKXT2E"
      },
      "source": [
        "`os.path.split()` is a nice shortcut if you need both values."
      ]
    },
    {
      "cell_type": "code",
      "metadata": {
        "colab": {
          "base_uri": "https://localhost:8080/"
        },
        "id": "090cQX1kWtYI",
        "outputId": "e1b74f8c-103e-4359-c9e0-f4356b3a142a"
      },
      "source": [
        "californiaFilePath = '/content/sample_data/california_housing_test.csv'\r\n",
        "os.path.split(californiaFilePath)"
      ],
      "execution_count": null,
      "outputs": [
        {
          "output_type": "execute_result",
          "data": {
            "text/plain": [
              "('/content/sample_data', 'california_housing_test.csv')"
            ]
          },
          "metadata": {
            "tags": []
          },
          "execution_count": 25
        }
      ]
    },
    {
      "cell_type": "markdown",
      "metadata": {
        "id": "aeu0J65qXeUX"
      },
      "source": [
        "`os.path.sep()` take a file path and return a list of strings of each folder."
      ]
    },
    {
      "cell_type": "code",
      "metadata": {
        "colab": {
          "base_uri": "https://localhost:8080/"
        },
        "id": "FWgdYQ_VXLDv",
        "outputId": "62a4c324-afa3-4446-bc1b-62a63e6c480f"
      },
      "source": [
        "californiaFilePath.split(os.path.sep)"
      ],
      "execution_count": null,
      "outputs": [
        {
          "output_type": "execute_result",
          "data": {
            "text/plain": [
              "['', 'content', 'sample_data', 'california_housing_test.csv']"
            ]
          },
          "metadata": {
            "tags": []
          },
          "execution_count": 28
        }
      ]
    },
    {
      "cell_type": "markdown",
      "metadata": {
        "id": "YsFGF0DAhNiY"
      },
      "source": [
        "# Finding File Sizes and Folders Contents\r\n",
        "The os.path module provides functions for finding the size of a file in bytes and the files and folders inside a given folder. \r\n",
        "* Calling `os.path.getsize(path)` will return the size in bytes of the file in the path argument. \r\n",
        "* Calling `os.listdir(path)` will return a list of filename strings for each file in the path argument. (Note that this function is in the os module, not `os.path` .)"
      ]
    },
    {
      "cell_type": "code",
      "metadata": {
        "id": "9TATZdKlXte2",
        "colab": {
          "base_uri": "https://localhost:8080/"
        },
        "outputId": "73d36ce0-f108-4ca5-cb4f-b394e1bd779f"
      },
      "source": [
        "import os\r\n",
        "\r\n",
        "os.path.getsize('/content/sample_data/california_housing_test.csv')"
      ],
      "execution_count": null,
      "outputs": [
        {
          "output_type": "execute_result",
          "data": {
            "text/plain": [
              "301141"
            ]
          },
          "metadata": {
            "tags": []
          },
          "execution_count": 1
        }
      ]
    },
    {
      "cell_type": "code",
      "metadata": {
        "colab": {
          "base_uri": "https://localhost:8080/"
        },
        "id": "PvmhmEYzhqd1",
        "outputId": "f49bf832-7ca8-43a5-99fc-833fc590db0b"
      },
      "source": [
        "os.listdir('/content/sample_data/')"
      ],
      "execution_count": null,
      "outputs": [
        {
          "output_type": "execute_result",
          "data": {
            "text/plain": [
              "['README.md',\n",
              " 'anscombe.json',\n",
              " 'california_housing_test.csv',\n",
              " 'mnist_test.csv',\n",
              " 'california_housing_train.csv',\n",
              " 'mnist_train_small.csv']"
            ]
          },
          "metadata": {
            "tags": []
          },
          "execution_count": 2
        }
      ]
    },
    {
      "cell_type": "code",
      "metadata": {
        "colab": {
          "base_uri": "https://localhost:8080/"
        },
        "id": "0KHW99_hiC7M",
        "outputId": "22cbdcd1-73a0-4a8e-f206-c09ba531b12a"
      },
      "source": [
        "# Getting total size of all the files in the directory\r\n",
        "totalSize = 0\r\n",
        "for filename in os.listdir('/content/sample_data'):\r\n",
        "  totalSize = totalSize + os.path.getsize(os.path.join('/content/sample_data/', filename))\r\n",
        "print(totalSize)"
      ],
      "execution_count": null,
      "outputs": [
        {
          "output_type": "stream",
          "text": [
            "56823521\n"
          ],
          "name": "stdout"
        }
      ]
    },
    {
      "cell_type": "markdown",
      "metadata": {
        "id": "XtfBT8G7kglH"
      },
      "source": [
        "# Checking Path Validity\r\n",
        "The os.path module provides functions to check whether a given path exists and whether it is a file or folder. \r\n",
        "* Calling `os.path.exists(path)` will return True if the file or folder referred to in the argument exists and will return False if it does not exist.\r\n",
        "* Calling `os.path.isfile(path)` will return True if the path argument exists and is a file and will return False otherwise. \r\n",
        "* Calling `os.path.isdir(path)` will return True if the path argument exists and is a folder and will return False otherwise.\r\n"
      ]
    },
    {
      "cell_type": "code",
      "metadata": {
        "colab": {
          "base_uri": "https://localhost:8080/"
        },
        "id": "h98dk8qdi0Ju",
        "outputId": "e49c83bb-6003-43f6-edd9-4ee9414cbfa2"
      },
      "source": [
        "import os\r\n",
        "\r\n",
        "os.path.exists('/content/sample_data')"
      ],
      "execution_count": null,
      "outputs": [
        {
          "output_type": "execute_result",
          "data": {
            "text/plain": [
              "True"
            ]
          },
          "metadata": {
            "tags": []
          },
          "execution_count": 5
        }
      ]
    },
    {
      "cell_type": "code",
      "metadata": {
        "colab": {
          "base_uri": "https://localhost:8080/"
        },
        "id": "s5iBkcYUk-ij",
        "outputId": "ad958729-2900-430f-9914-4367951c3cf6"
      },
      "source": [
        "os.path.exists('/content/test')"
      ],
      "execution_count": null,
      "outputs": [
        {
          "output_type": "execute_result",
          "data": {
            "text/plain": [
              "False"
            ]
          },
          "metadata": {
            "tags": []
          },
          "execution_count": 6
        }
      ]
    },
    {
      "cell_type": "code",
      "metadata": {
        "colab": {
          "base_uri": "https://localhost:8080/"
        },
        "id": "hF3IjGGNlDO4",
        "outputId": "64732820-fa59-4d6e-ff36-1146933015e3"
      },
      "source": [
        "os.path.isdir('/content/')"
      ],
      "execution_count": null,
      "outputs": [
        {
          "output_type": "execute_result",
          "data": {
            "text/plain": [
              "True"
            ]
          },
          "metadata": {
            "tags": []
          },
          "execution_count": 7
        }
      ]
    },
    {
      "cell_type": "code",
      "metadata": {
        "colab": {
          "base_uri": "https://localhost:8080/"
        },
        "id": "VEVfFBuJlKH2",
        "outputId": "d2433aff-4c1a-4001-da6c-d79ae1da2f5d"
      },
      "source": [
        "os.path.isfile('/content')"
      ],
      "execution_count": null,
      "outputs": [
        {
          "output_type": "execute_result",
          "data": {
            "text/plain": [
              "False"
            ]
          },
          "metadata": {
            "tags": []
          },
          "execution_count": 8
        }
      ]
    },
    {
      "cell_type": "code",
      "metadata": {
        "colab": {
          "base_uri": "https://localhost:8080/"
        },
        "id": "PxOZKmyYlPRF",
        "outputId": "e34fd8cd-5e2f-4c99-a70d-cbdd8f49eb4b"
      },
      "source": [
        "os.path.isdir('/content/sample_data/california_housing_test.csv')"
      ],
      "execution_count": null,
      "outputs": [
        {
          "output_type": "execute_result",
          "data": {
            "text/plain": [
              "False"
            ]
          },
          "metadata": {
            "tags": []
          },
          "execution_count": 9
        }
      ]
    },
    {
      "cell_type": "code",
      "metadata": {
        "colab": {
          "base_uri": "https://localhost:8080/"
        },
        "id": "eVtkUYgNla0J",
        "outputId": "ecabd6e2-2a3b-4b95-ded5-194cafb7a09a"
      },
      "source": [
        "os.path.isfile('/content/sample_data/california_housing_test.csv')"
      ],
      "execution_count": null,
      "outputs": [
        {
          "output_type": "execute_result",
          "data": {
            "text/plain": [
              "True"
            ]
          },
          "metadata": {
            "tags": []
          },
          "execution_count": 11
        }
      ]
    },
    {
      "cell_type": "markdown",
      "metadata": {
        "id": "mDvtBHCRlufM"
      },
      "source": [
        "# The File Reading/Writing Process\r\n",
        "There are three steps to reading or writing files in Python. \r\n",
        "\r\n",
        "1.   Call the `open()` function to return a File object. \r\n",
        "2.   Call the `read(`) or `write()` method on the File object. \r\n",
        "3.   Close the file by calling the `close()` method on the File object."
      ]
    },
    {
      "cell_type": "markdown",
      "metadata": {
        "id": "9d6xoZ4lopId"
      },
      "source": [
        "## Opening Files with the `open()` Function\r\n",
        "The `open()` function returns a File object.\r\n",
        "\r\n",
        "---\r\n",
        "\r\n"
      ]
    },
    {
      "cell_type": "code",
      "metadata": {
        "id": "7vJJRc_Rldxy"
      },
      "source": [
        "'''filename = 'hello.txt'\r\n",
        "dirname = os.path.dirname(filename)\r\n",
        "if not os.path.exists(dirname):\r\n",
        "  os.makedirs(dirname)'''\r\n",
        "nameFile = '/content/sample_data/hello.txt'\r\n",
        "helloFile = open(nameFile,'w')"
      ],
      "execution_count": null,
      "outputs": []
    },
    {
      "cell_type": "code",
      "metadata": {
        "id": "KkXUABbH8EKK"
      },
      "source": [
        "with open(nameFile,'a') as f:\r\n",
        "  f.write('Hello World!')\r\n",
        "  f.close()"
      ],
      "execution_count": null,
      "outputs": []
    },
    {
      "cell_type": "markdown",
      "metadata": {
        "id": "ohfdPzZ97wbJ"
      },
      "source": [
        "# Reading the Contents of Files\r\n",
        "If you want to read the entire contents of a file as a string value, use the File object’s `read()` method."
      ]
    },
    {
      "cell_type": "code",
      "metadata": {
        "colab": {
          "base_uri": "https://localhost:8080/",
          "height": 35
        },
        "id": "2fu-9QJotpPo",
        "outputId": "0360c677-ec32-4295-af66-596fdd8cca18"
      },
      "source": [
        "helloFile = open(nameFile,'r')\r\n",
        "helloContent = helloFile.read()\r\n",
        "helloContent"
      ],
      "execution_count": null,
      "outputs": [
        {
          "output_type": "execute_result",
          "data": {
            "application/vnd.google.colaboratory.intrinsic+json": {
              "type": "string"
            },
            "text/plain": [
              "'Hello World!'"
            ]
          },
          "metadata": {
            "tags": []
          },
          "execution_count": 25
        }
      ]
    },
    {
      "cell_type": "markdown",
      "metadata": {
        "id": "EFJGmXtB9cPP"
      },
      "source": [
        "Alternatively, you can use the `readlines()` method to get a list of string values from the file, one string for each line of text."
      ]
    },
    {
      "cell_type": "code",
      "metadata": {
        "id": "WQEy1TCs8jGo"
      },
      "source": [
        "with open('/content/sample_data/connet29.txt','w') as s:\r\n",
        "  s.write('When, in disgrace with fortune and men\\'s eyes, \\n I all alone beweep my outcast state, \\n And trouble deaf heaven with my bootless cries, \\n And look upon myself and curse my fate,')\r\n",
        "  s.close()"
      ],
      "execution_count": null,
      "outputs": []
    },
    {
      "cell_type": "code",
      "metadata": {
        "colab": {
          "base_uri": "https://localhost:8080/"
        },
        "id": "rvssdj1m95O-",
        "outputId": "cffc3d77-fa57-4fea-ea3e-add663f43194"
      },
      "source": [
        "sonnetFile = open('/content/sample_data/connet29.txt')\r\n",
        "sonnetFile.readlines()"
      ],
      "execution_count": null,
      "outputs": [
        {
          "output_type": "execute_result",
          "data": {
            "text/plain": [
              "[\"When, in disgrace with fortune and men's eyes, \\n\",\n",
              " ' I all alone beweep my outcast state, \\n',\n",
              " ' And trouble deaf heaven with my bootless cries, \\n',\n",
              " ' And look upon myself and curse my fate,']"
            ]
          },
          "metadata": {
            "tags": []
          },
          "execution_count": 27
        }
      ]
    },
    {
      "cell_type": "markdown",
      "metadata": {
        "id": "HoehOCeX-cRb"
      },
      "source": [
        "# Writing to Files\r\n",
        "Python allows you to write content to a file in a way similar to how the `print()` function “writes” strings to the screen. You can’t write to a file you’ve opened in read mode, though. Instead, you need to open it in “write plaintext” mode or “append plaintext” mode, or write mode and append mode for short.\r\n",
        "\r\n",
        "* Pass `'a'` as the second argument to `open()` the file in append mode. Append mode will append text to the end of the existing file.\r\n",
        "* Pass `'w'` as the second argument to `open()` to open the file in write mode. Write mode will overwrite the existing file and start from scratch.\r\n",
        "\r\n",
        "If the finename passed to `open()` does not exist, both write and append mode will create a new, blank file.\r\n",
        "\r\n",
        "Call the `close()` method before opening the file again."
      ]
    },
    {
      "cell_type": "code",
      "metadata": {
        "id": "OWbKD6K6-IFN"
      },
      "source": [
        "# Example 1\r\n",
        "baconFile = open('bacon.txt','w')\r\n",
        "baconFile.write('Hello world!\\n')\r\n",
        "baconFile.close()"
      ],
      "execution_count": null,
      "outputs": []
    },
    {
      "cell_type": "code",
      "metadata": {
        "id": "e94ehbLj_16t"
      },
      "source": [
        "baconFile = open('bacon.txt','a')\r\n",
        "baconFile.write('Bacon is not a vegetable.')\r\n",
        "baconFile.close()"
      ],
      "execution_count": null,
      "outputs": []
    },
    {
      "cell_type": "code",
      "metadata": {
        "id": "hOSe5WylANVD",
        "colab": {
          "base_uri": "https://localhost:8080/"
        },
        "outputId": "c0894fdb-d23a-4263-e66d-adb6305c2088"
      },
      "source": [
        "baconFile = open('bacon.txt')\r\n",
        "content = baconFile.read()\r\n",
        "baconFile.close()\r\n",
        "print(content)"
      ],
      "execution_count": null,
      "outputs": [
        {
          "output_type": "stream",
          "text": [
            "Hello world!\n",
            "Bacon is not a vegetable.\n"
          ],
          "name": "stdout"
        }
      ]
    },
    {
      "cell_type": "markdown",
      "metadata": {
        "id": "1d7_oVkD-sI4"
      },
      "source": [
        "# Saving Variables with the shelve Module\r\n",
        "You can save variables in your Python programs to binary shelf files using the shelve module. This way, your program can restore data to variables from the hard drive. The shelve module will let you add Save and Open features to your program."
      ]
    },
    {
      "cell_type": "code",
      "metadata": {
        "id": "rcz3jn2aAgjA"
      },
      "source": [
        "import shelve"
      ],
      "execution_count": null,
      "outputs": []
    },
    {
      "cell_type": "code",
      "metadata": {
        "id": "_HcAZId4-1Vz"
      },
      "source": [
        "shelfFile = shelve.open('mydata') \r\n",
        "cats = ['Zophie', 'Pooka', 'Simon']\r\n",
        "shelfFile['cats'] = cats "
      ],
      "execution_count": 8,
      "outputs": []
    },
    {
      "cell_type": "code",
      "metadata": {
        "id": "YFCHw5gpIDxY"
      },
      "source": [
        "shelfFile.close()"
      ],
      "execution_count": 9,
      "outputs": []
    },
    {
      "cell_type": "markdown",
      "metadata": {
        "id": "0xNSqwSD_guJ"
      },
      "source": [
        "Shelf values don’t have to be opened in read or write mode—they"
      ]
    },
    {
      "cell_type": "code",
      "metadata": {
        "colab": {
          "base_uri": "https://localhost:8080/"
        },
        "id": "NdsAil6z_GbU",
        "outputId": "10dc3905-c78e-4c84-a9ea-b917673fc72f"
      },
      "source": [
        "shelfFile = shelve.open('mydata') \r\n",
        "type(shelfFile) "
      ],
      "execution_count": 10,
      "outputs": [
        {
          "output_type": "execute_result",
          "data": {
            "text/plain": [
              "shelve.DbfilenameShelf"
            ]
          },
          "metadata": {
            "tags": []
          },
          "execution_count": 10
        }
      ]
    },
    {
      "cell_type": "code",
      "metadata": {
        "id": "YOcnODgIIdQF",
        "outputId": "162c3e26-bba2-4972-8506-9c4e4c20c8f5",
        "colab": {
          "base_uri": "https://localhost:8080/"
        }
      },
      "source": [
        "shelfFile['cats'] "
      ],
      "execution_count": 11,
      "outputs": [
        {
          "output_type": "execute_result",
          "data": {
            "text/plain": [
              "['Zophie', 'Pooka', 'Simon']"
            ]
          },
          "metadata": {
            "tags": []
          },
          "execution_count": 11
        }
      ]
    },
    {
      "cell_type": "code",
      "metadata": {
        "id": "BtzlwwDa_tiQ"
      },
      "source": [
        "shelfFile.close()"
      ],
      "execution_count": 12,
      "outputs": []
    },
    {
      "cell_type": "markdown",
      "metadata": {
        "id": "d8QlTzOaJIW-"
      },
      "source": [
        "Plaintext is useful for creating files that you’ll read in a text editor such as Notepad or TextEdit, but if you want to save data from your Python programs, use the shelve module."
      ]
    },
    {
      "cell_type": "markdown",
      "metadata": {
        "id": "lK1Ph6vMJN3Z"
      },
      "source": [
        "# Saving Variables with the pprint.pformat() Function\r\n",
        "Say you have a dictionary stored in a variable and you want to save this variable and its contents for future use. Using pprint.pformat() will give you a string that you can write to .py file. This file will be your very own module that you can import whenever you want to use the variable stored in it."
      ]
    },
    {
      "cell_type": "code",
      "metadata": {
        "id": "mvBUDFUV_nk2"
      },
      "source": [
        "import pprint\r\n",
        "cats = [{'name':'Laura', 'desc':'chubby'},{'name':'Carlos','desc':'ugly'}]"
      ],
      "execution_count": 13,
      "outputs": []
    },
    {
      "cell_type": "code",
      "metadata": {
        "id": "INcjiWYpJ-Z3",
        "outputId": "348ff8f9-48a6-4256-e308-5e3026a57f05",
        "colab": {
          "base_uri": "https://localhost:8080/",
          "height": 35
        }
      },
      "source": [
        "pprint.pformat(cats)"
      ],
      "execution_count": 14,
      "outputs": [
        {
          "output_type": "execute_result",
          "data": {
            "application/vnd.google.colaboratory.intrinsic+json": {
              "type": "string"
            },
            "text/plain": [
              "\"[{'desc': 'chubby', 'name': 'Laura'}, {'desc': 'ugly', 'name': 'Carlos'}]\""
            ]
          },
          "metadata": {
            "tags": []
          },
          "execution_count": 14
        }
      ]
    },
    {
      "cell_type": "code",
      "metadata": {
        "id": "WmyWJaKLKF_Q"
      },
      "source": [
        "fileObj = open('myCats.py','w')"
      ],
      "execution_count": 16,
      "outputs": []
    },
    {
      "cell_type": "code",
      "metadata": {
        "id": "6LvoU10PKO3n",
        "outputId": "eb635604-9e60-43c7-87ea-f9c29efc5449",
        "colab": {
          "base_uri": "https://localhost:8080/"
        }
      },
      "source": [
        "fileObj.write('cats = ' + pprint.pformat(cats)+'\\n')"
      ],
      "execution_count": 17,
      "outputs": [
        {
          "output_type": "execute_result",
          "data": {
            "text/plain": [
              "81"
            ]
          },
          "metadata": {
            "tags": []
          },
          "execution_count": 17
        }
      ]
    },
    {
      "cell_type": "code",
      "metadata": {
        "id": "x8BGlUisKYzF"
      },
      "source": [
        "fileObj.close()"
      ],
      "execution_count": 18,
      "outputs": []
    },
    {
      "cell_type": "markdown",
      "metadata": {
        "id": "89cfQ9j4NV3h"
      },
      "source": [
        "Since Python scripts are themselves just text files with the .py file extension, your Python programs can even generate other Python programs. You can then import these files into scripts."
      ]
    },
    {
      "cell_type": "code",
      "metadata": {
        "id": "IDSXEXiuKaya",
        "outputId": "068eff93-5174-45fe-8ff9-e8b6e2f2df76",
        "colab": {
          "base_uri": "https://localhost:8080/"
        }
      },
      "source": [
        "import myCats\r\n",
        "myCats.cats"
      ],
      "execution_count": 19,
      "outputs": [
        {
          "output_type": "execute_result",
          "data": {
            "text/plain": [
              "[{'desc': 'chubby', 'name': 'Laura'}, {'desc': 'ugly', 'name': 'Carlos'}]"
            ]
          },
          "metadata": {
            "tags": []
          },
          "execution_count": 19
        }
      ]
    },
    {
      "cell_type": "code",
      "metadata": {
        "id": "0_WTplX9Nc0B",
        "outputId": "a9f34bd8-153e-47c9-a92a-55cdafb37c36",
        "colab": {
          "base_uri": "https://localhost:8080/"
        }
      },
      "source": [
        "myCats.cats[0]"
      ],
      "execution_count": 20,
      "outputs": [
        {
          "output_type": "execute_result",
          "data": {
            "text/plain": [
              "{'desc': 'chubby', 'name': 'Laura'}"
            ]
          },
          "metadata": {
            "tags": []
          },
          "execution_count": 20
        }
      ]
    },
    {
      "cell_type": "markdown",
      "metadata": {
        "id": "Hrpt6tG4OVb2"
      },
      "source": [
        "For most applications, however, saving data using the shelve module is the preferred way to save variables to a file. Only basic data types such as integers, floats, strings, lists, and dictionaries can be written to a file as simple text. File objects, for example, cannot be encoded as text."
      ]
    },
    {
      "cell_type": "code",
      "metadata": {
        "id": "xuEluVxqN_yE"
      },
      "source": [
        ""
      ],
      "execution_count": null,
      "outputs": []
    }
  ]
}