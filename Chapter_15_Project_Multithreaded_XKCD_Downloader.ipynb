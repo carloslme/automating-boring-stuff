{
  "nbformat": 4,
  "nbformat_minor": 0,
  "metadata": {
    "colab": {
      "name": "Chapter_15_Project_Multithreaded_XKCD_Downloader.ipynb",
      "provenance": [],
      "collapsed_sections": [],
      "authorship_tag": "ABX9TyPKs4eTb3lA6o2WVq1ySJoG",
      "include_colab_link": true
    },
    "kernelspec": {
      "name": "python3",
      "display_name": "Python 3"
    }
  },
  "cells": [
    {
      "cell_type": "markdown",
      "metadata": {
        "id": "view-in-github",
        "colab_type": "text"
      },
      "source": [
        "<a href=\"https://colab.research.google.com/github/carloslme/automating-boring-stuff/blob/main/Chapter_15_Project_Multithreaded_XKCD_Downloader.ipynb\" target=\"_parent\"><img src=\"https://colab.research.google.com/assets/colab-badge.svg\" alt=\"Open In Colab\"/></a>"
      ]
    },
    {
      "cell_type": "markdown",
      "metadata": {
        "id": "splPOobOrAfH"
      },
      "source": [
        "# Step 1: Modify the Program to Use a Function"
      ]
    },
    {
      "cell_type": "code",
      "metadata": {
        "id": "x3aLAJEjqykr"
      },
      "source": [
        "#! python3 \r\n",
        "# multidownloadXkcd.py - Downloads XKCD comics using multiple threads. \r\n",
        "import requests, os, bs4, threading \r\n",
        "os.makedirs('xkcd', exist_ok=True) # store comics in ./xkcd\r\n",
        "\r\n",
        "def downloadXkcd(startComic, endComic): \r\n",
        "  for urlNumber in range(startComic, endComic): \r\n",
        "    # Download the page. \r\n",
        "    print('Downloading page http://xkcd.com/%s...' % (urlNumber)) \r\n",
        "    res = requests.get('http://xkcd.com/%s' % (urlNumber)) \r\n",
        "    res.raise_for_status()\r\n",
        "    soup = bs4.BeautifulSoup(res.text)\r\n",
        "\r\n",
        "    # Find the URL of the comic image. \r\n",
        "    comicElem = soup.select('#comic img') \r\n",
        "    if comicElem == []: \r\n",
        "      print('Could not find comic image.') \r\n",
        "    else: \r\n",
        "      comicUrl = comicElem[0].get('src') # Download the image. \r\n",
        "      print('Downloading image %s...' % (comicUrl)) \r\n",
        "      res = requests.get(comicUrl) \r\n",
        "      res.raise_for_status()\r\n",
        "  \r\n",
        "    # Save the image to ./xkcd. \r\n",
        "    imageFile = open(os.path.join('xkcd', os.path.basename(comicUrl)), 'wb') \r\n",
        "    for chunk in res.iter_content(100000): \r\n",
        "      imageFile.write(chunk) \r\n",
        "      imageFile.close() \r\n",
        "\r\n",
        "# TODO: Create and start the Thread objects. \r\n",
        "# TODO: Wait for all threads to end."
      ],
      "execution_count": null,
      "outputs": []
    }
  ]
}