{
  "nbformat": 4,
  "nbformat_minor": 0,
  "metadata": {
    "colab": {
      "name": "Chapter_15_Keeping_Time,_Scheduling_Tasks,_and_Launching_Programs.ipynb",
      "provenance": [],
      "authorship_tag": "ABX9TyPonGpw8lpjm43ZJrYX+gYV",
      "include_colab_link": true
    },
    "kernelspec": {
      "name": "python3",
      "display_name": "Python 3"
    }
  },
  "cells": [
    {
      "cell_type": "markdown",
      "metadata": {
        "id": "view-in-github",
        "colab_type": "text"
      },
      "source": [
        "<a href=\"https://colab.research.google.com/github/carloslme/automating-boring-stuff/blob/main/Chapter_15_Keeping_Time%2C_Scheduling_Tasks%2C_and_Launching_Programs.ipynb\" target=\"_parent\"><img src=\"https://colab.research.google.com/assets/colab-badge.svg\" alt=\"Open In Colab\"/></a>"
      ]
    },
    {
      "cell_type": "markdown",
      "metadata": {
        "id": "0n3nWfAZSi67"
      },
      "source": [
        "# The time Module\r\n",
        "Your computer’s system clock is set to a specific date, time, and time zone. The built-in time module allows your Python programs to read the system clock for the current time. The `time.time()` and `time.sleep()` functions are the most useful in the time module."
      ]
    },
    {
      "cell_type": "markdown",
      "metadata": {
        "id": "MbU_ZYGYSyNz"
      },
      "source": [
        "## The time.time() Function\r\n",
        "The `time.time()` function returns the number of seconds since that moment as a float value. (Recall that a float is just a number with a decimal point.) This number is called an epoch timestamp"
      ]
    },
    {
      "cell_type": "code",
      "metadata": {
        "colab": {
          "base_uri": "https://localhost:8080/"
        },
        "id": "J59yEpLeSQVe",
        "outputId": "76d11ebb-3c3f-440c-bd26-ae53a195c72f"
      },
      "source": [
        "import time\r\n",
        "time.time()"
      ],
      "execution_count": null,
      "outputs": [
        {
          "output_type": "execute_result",
          "data": {
            "text/plain": [
              "1614057054.3615217"
            ]
          },
          "metadata": {
            "tags": []
          },
          "execution_count": 1
        }
      ]
    },
    {
      "cell_type": "markdown",
      "metadata": {
        "id": "DVktEJsbTHau"
      },
      "source": [
        "The return value is how many seconds have passed between the Unix epoch and the moment `time.time()` was called.\r\n",
        "\r\n",
        "Epoch timestamps can be used to profile code, that is, measure how long a piece of code takes to run. If you call `time.time()` at the beginning of the code block you want to measure and again at the end, you can subtract the first timestamp from the second to find the elapsed time between those two calls."
      ]
    },
    {
      "cell_type": "code",
      "metadata": {
        "colab": {
          "base_uri": "https://localhost:8080/"
        },
        "id": "GIytqfwbTBT8",
        "outputId": "55525d16-afbc-4a33-c6dd-09fa816b78d0"
      },
      "source": [
        "import time\r\n",
        "def calcProd():\r\n",
        "  # Calculate the product of the first 100,000 numbers.\r\n",
        "  product = 1\r\n",
        "  for i in range(1, 100000):\r\n",
        "    product = product * i\r\n",
        "  return product\r\n",
        "\r\n",
        "startTime = time.time()\r\n",
        "prod = calcProd()\r\n",
        "endTime = time.time()\r\n",
        "print('The result is %s digits long.' % (len(str(prod))))\r\n",
        "print('Took %s seconds to calculate.' % (endTime - startTime))"
      ],
      "execution_count": null,
      "outputs": [
        {
          "output_type": "stream",
          "text": [
            "The result is 456569 digits long.\n",
            "Took 2.726442813873291 seconds to calculate.\n"
          ],
          "name": "stdout"
        }
      ]
    },
    {
      "cell_type": "markdown",
      "metadata": {
        "id": "9kNldaFqWqj8"
      },
      "source": [
        "##The time.sleep() Function \r\n",
        "If you need to pause your program for a while, call the `time.sleep()` function and pass it the number of seconds you want your program to stay paused."
      ]
    },
    {
      "cell_type": "code",
      "metadata": {
        "colab": {
          "base_uri": "https://localhost:8080/"
        },
        "id": "jWmhBpg2U6y4",
        "outputId": "3d266f6f-a875-46bc-e929-9aa062030b89"
      },
      "source": [
        "import time\r\n",
        "for i in range(3):\r\n",
        "  print('Tick')\r\n",
        "  time.sleep(1)\r\n",
        "  print('Tock')\r\n",
        "  time.sleep(1)\r\n"
      ],
      "execution_count": null,
      "outputs": [
        {
          "output_type": "stream",
          "text": [
            "Tick\n",
            "Tock\n",
            "Tick\n",
            "Tock\n",
            "Tick\n",
            "Tock\n"
          ],
          "name": "stdout"
        }
      ]
    },
    {
      "cell_type": "code",
      "metadata": {
        "id": "84okim3gW43_"
      },
      "source": [
        "time.sleep(5)"
      ],
      "execution_count": null,
      "outputs": []
    },
    {
      "cell_type": "markdown",
      "metadata": {
        "id": "IgHhg9CgXBBy"
      },
      "source": [
        "The `time.sleep()` function will block —that is, it will not return and release your program to execute other code—until after the number of seconds you passed to `time.sleep()` has elapsed.\r\n",
        "\r\n",
        "Be aware that pressing CTRL -C will not interrupt `time.sleep()` calls in IDLE. IDLE waits until the entire pause is over before raising the KeyboardInterrupt exception. To work around this problem, instead of having a single `time.sleep(30) `call to pause for 30 seconds, use a for loop to make 30 calls to `time.sleep(1)`"
      ]
    },
    {
      "cell_type": "code",
      "metadata": {
        "colab": {
          "base_uri": "https://localhost:8080/",
          "height": 180
        },
        "id": "u8OvW16jXAB-",
        "outputId": "efe35e8f-22c1-4c4b-c024-5c4960175461"
      },
      "source": [
        "for i in range(30):\r\n",
        "  time.sleep(1)"
      ],
      "execution_count": null,
      "outputs": [
        {
          "output_type": "error",
          "ename": "KeyboardInterrupt",
          "evalue": "ignored",
          "traceback": [
            "\u001b[0;31m---------------------------------------------------------------------------\u001b[0m",
            "\u001b[0;31mKeyboardInterrupt\u001b[0m                         Traceback (most recent call last)",
            "\u001b[0;32m<ipython-input-10-082a9991a74d>\u001b[0m in \u001b[0;36m<module>\u001b[0;34m()\u001b[0m\n\u001b[1;32m      1\u001b[0m \u001b[0;32mfor\u001b[0m \u001b[0mi\u001b[0m \u001b[0;32min\u001b[0m \u001b[0mrange\u001b[0m\u001b[0;34m(\u001b[0m\u001b[0;36m30\u001b[0m\u001b[0;34m)\u001b[0m\u001b[0;34m:\u001b[0m\u001b[0;34m\u001b[0m\u001b[0;34m\u001b[0m\u001b[0m\n\u001b[0;32m----> 2\u001b[0;31m   \u001b[0mtime\u001b[0m\u001b[0;34m.\u001b[0m\u001b[0msleep\u001b[0m\u001b[0;34m(\u001b[0m\u001b[0;36m1\u001b[0m\u001b[0;34m)\u001b[0m\u001b[0;34m\u001b[0m\u001b[0;34m\u001b[0m\u001b[0m\n\u001b[0m",
            "\u001b[0;31mKeyboardInterrupt\u001b[0m: "
          ]
        }
      ]
    },
    {
      "cell_type": "markdown",
      "metadata": {
        "id": "FymooTSAXXuv"
      },
      "source": [
        "If you press CTRL -C sometime during these 30 seconds, you should see the KeyboardInterrupt exception thrown right away."
      ]
    },
    {
      "cell_type": "markdown",
      "metadata": {
        "id": "ximAFXmAXmQX"
      },
      "source": [
        "# Rounding Numbers\r\n",
        "When working with times, you’ll often encounter float values with many digits after the decimal. To make these values easier to work with, you can shorten them with Python’s built-in `round()` function, which rounds a float to the precision you specify. Just pass in the number you want to round, plus an optional second argument representing how many digits after the decimal point you want to round it to. If you omit the second argument, `round()` rounds your number to the nearest whole integer."
      ]
    },
    {
      "cell_type": "code",
      "metadata": {
        "colab": {
          "base_uri": "https://localhost:8080/"
        },
        "id": "OlhgFFzyXUYt",
        "outputId": "d3f1e1f0-229b-4893-b271-9d54d85565bb"
      },
      "source": [
        "import time\r\n",
        "now = time.time()\r\n",
        "now"
      ],
      "execution_count": null,
      "outputs": [
        {
          "output_type": "execute_result",
          "data": {
            "text/plain": [
              "1614058327.3336103"
            ]
          },
          "metadata": {
            "tags": []
          },
          "execution_count": 11
        }
      ]
    },
    {
      "cell_type": "code",
      "metadata": {
        "colab": {
          "base_uri": "https://localhost:8080/"
        },
        "id": "1iIvgR61X482",
        "outputId": "1e613a3e-9968-4c4e-d947-45da155d5d8b"
      },
      "source": [
        "round(now, 4)"
      ],
      "execution_count": null,
      "outputs": [
        {
          "output_type": "execute_result",
          "data": {
            "text/plain": [
              "1614058327.3336"
            ]
          },
          "metadata": {
            "tags": []
          },
          "execution_count": 14
        }
      ]
    },
    {
      "cell_type": "code",
      "metadata": {
        "colab": {
          "base_uri": "https://localhost:8080/"
        },
        "id": "R5g4zZpaX7q9",
        "outputId": "ae55cadd-837a-4089-ae60-7c3ace877186"
      },
      "source": [
        "round(now)"
      ],
      "execution_count": null,
      "outputs": [
        {
          "output_type": "execute_result",
          "data": {
            "text/plain": [
              "1614058327"
            ]
          },
          "metadata": {
            "tags": []
          },
          "execution_count": 15
        }
      ]
    },
    {
      "cell_type": "markdown",
      "metadata": {
        "id": "iM4Pmhcxdpak"
      },
      "source": [
        "# The datetime Module\r\n",
        "The time module is useful for getting a Unix epoch timestamp to work with. But if you want to display a date in a more convenient format, or do arithmetic with dates (for example, figuring out what date was 205 days ago or what date is 123 days from now), you should use the datetime module.\r\n",
        "\r\n",
        "The `datetime` module has its own `datetime` data type. datetime values represent a specific moment in time."
      ]
    },
    {
      "cell_type": "code",
      "metadata": {
        "id": "p4hG8MwgX_n_"
      },
      "source": [
        "import datetime"
      ],
      "execution_count": 1,
      "outputs": []
    },
    {
      "cell_type": "code",
      "metadata": {
        "id": "whvolyMLdtRa",
        "outputId": "ae01ed20-7515-4f0a-efaf-1f8b3edd34ad",
        "colab": {
          "base_uri": "https://localhost:8080/"
        }
      },
      "source": [
        "datetime.datetime.now()"
      ],
      "execution_count": 2,
      "outputs": [
        {
          "output_type": "execute_result",
          "data": {
            "text/plain": [
              "datetime.datetime(2021, 2, 24, 5, 15, 55, 644137)"
            ]
          },
          "metadata": {
            "tags": []
          },
          "execution_count": 2
        }
      ]
    },
    {
      "cell_type": "code",
      "metadata": {
        "id": "M6k5R6b0dxcF"
      },
      "source": [
        "dt = datetime.datetime(2021,2,23,23,17,0)"
      ],
      "execution_count": 4,
      "outputs": []
    },
    {
      "cell_type": "code",
      "metadata": {
        "id": "M4m8vMiCd8J5",
        "outputId": "4f1a4976-4f5c-4b80-b28a-4cabf9b9f4bf",
        "colab": {
          "base_uri": "https://localhost:8080/"
        }
      },
      "source": [
        "dt.year, dt.month, dt.day"
      ],
      "execution_count": 5,
      "outputs": [
        {
          "output_type": "execute_result",
          "data": {
            "text/plain": [
              "(2021, 2, 23)"
            ]
          },
          "metadata": {
            "tags": []
          },
          "execution_count": 5
        }
      ]
    },
    {
      "cell_type": "code",
      "metadata": {
        "id": "8QmskB_-eEGY",
        "outputId": "07139703-3851-4e77-8f96-527c49e6d298",
        "colab": {
          "base_uri": "https://localhost:8080/"
        }
      },
      "source": [
        "dt.hour, dt.minute, dt.second"
      ],
      "execution_count": 6,
      "outputs": [
        {
          "output_type": "execute_result",
          "data": {
            "text/plain": [
              "(23, 17, 0)"
            ]
          },
          "metadata": {
            "tags": []
          },
          "execution_count": 6
        }
      ]
    },
    {
      "cell_type": "markdown",
      "metadata": {
        "id": "KF7yzOkueMrl"
      },
      "source": [
        "A Unix epoch timestamp can be converted to a `datetime` object with `datetime.datetime.fromtimestamp()` function. The date and time of the datetime object will be converted for the local time zone."
      ]
    },
    {
      "cell_type": "code",
      "metadata": {
        "id": "yqJP6AiIeIR7",
        "outputId": "958147a5-0779-445b-c276-54afe970de51",
        "colab": {
          "base_uri": "https://localhost:8080/"
        }
      },
      "source": [
        "datetime.datetime.fromtimestamp(1000000)"
      ],
      "execution_count": 7,
      "outputs": [
        {
          "output_type": "execute_result",
          "data": {
            "text/plain": [
              "datetime.datetime(1970, 1, 12, 13, 46, 40)"
            ]
          },
          "metadata": {
            "tags": []
          },
          "execution_count": 7
        }
      ]
    },
    {
      "cell_type": "code",
      "metadata": {
        "id": "SJMXmk1mez2C",
        "outputId": "c17ac1a9-7492-445e-b0de-ca637300cf74",
        "colab": {
          "base_uri": "https://localhost:8080/"
        }
      },
      "source": [
        "import time\r\n",
        "datetime.datetime.fromtimestamp(time.time())"
      ],
      "execution_count": 9,
      "outputs": [
        {
          "output_type": "execute_result",
          "data": {
            "text/plain": [
              "datetime.datetime(2021, 2, 24, 5, 21, 7, 911720)"
            ]
          },
          "metadata": {
            "tags": []
          },
          "execution_count": 9
        }
      ]
    },
    {
      "cell_type": "code",
      "metadata": {
        "id": "S6syTksxe7Gx"
      },
      "source": [
        ""
      ],
      "execution_count": null,
      "outputs": []
    }
  ]
}