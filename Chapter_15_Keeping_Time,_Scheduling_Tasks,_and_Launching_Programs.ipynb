{
  "nbformat": 4,
  "nbformat_minor": 0,
  "metadata": {
    "colab": {
      "name": "Chapter_15_Keeping_Time,_Scheduling_Tasks,_and_Launching_Programs.ipynb",
      "provenance": [],
      "toc_visible": true,
      "authorship_tag": "ABX9TyP55UiL2cWOj2zj+RDVGECk",
      "include_colab_link": true
    },
    "kernelspec": {
      "name": "python3",
      "display_name": "Python 3"
    }
  },
  "cells": [
    {
      "cell_type": "markdown",
      "metadata": {
        "id": "view-in-github",
        "colab_type": "text"
      },
      "source": [
        "<a href=\"https://colab.research.google.com/github/carloslme/automating-boring-stuff/blob/main/Chapter_15_Keeping_Time%2C_Scheduling_Tasks%2C_and_Launching_Programs.ipynb\" target=\"_parent\"><img src=\"https://colab.research.google.com/assets/colab-badge.svg\" alt=\"Open In Colab\"/></a>"
      ]
    },
    {
      "cell_type": "markdown",
      "metadata": {
        "id": "0n3nWfAZSi67"
      },
      "source": [
        "# The time Module\r\n",
        "Your computer’s system clock is set to a specific date, time, and time zone. The built-in time module allows your Python programs to read the system clock for the current time. The `time.time()` and `time.sleep()` functions are the most useful in the time module."
      ]
    },
    {
      "cell_type": "markdown",
      "metadata": {
        "id": "MbU_ZYGYSyNz"
      },
      "source": [
        "## The time.time() Function\r\n",
        "The `time.time()` function returns the number of seconds since that moment as a float value. (Recall that a float is just a number with a decimal point.) This number is called an epoch timestamp"
      ]
    },
    {
      "cell_type": "code",
      "metadata": {
        "colab": {
          "base_uri": "https://localhost:8080/"
        },
        "id": "J59yEpLeSQVe",
        "outputId": "76d11ebb-3c3f-440c-bd26-ae53a195c72f"
      },
      "source": [
        "import time\r\n",
        "time.time()"
      ],
      "execution_count": null,
      "outputs": [
        {
          "output_type": "execute_result",
          "data": {
            "text/plain": [
              "1614057054.3615217"
            ]
          },
          "metadata": {
            "tags": []
          },
          "execution_count": 1
        }
      ]
    },
    {
      "cell_type": "markdown",
      "metadata": {
        "id": "DVktEJsbTHau"
      },
      "source": [
        "The return value is how many seconds have passed between the Unix epoch and the moment `time.time()` was called.\r\n",
        "\r\n",
        "Epoch timestamps can be used to profile code, that is, measure how long a piece of code takes to run. If you call `time.time()` at the beginning of the code block you want to measure and again at the end, you can subtract the first timestamp from the second to find the elapsed time between those two calls."
      ]
    },
    {
      "cell_type": "code",
      "metadata": {
        "colab": {
          "base_uri": "https://localhost:8080/"
        },
        "id": "GIytqfwbTBT8",
        "outputId": "55525d16-afbc-4a33-c6dd-09fa816b78d0"
      },
      "source": [
        "import time\r\n",
        "def calcProd():\r\n",
        "  # Calculate the product of the first 100,000 numbers.\r\n",
        "  product = 1\r\n",
        "  for i in range(1, 100000):\r\n",
        "    product = product * i\r\n",
        "  return product\r\n",
        "\r\n",
        "startTime = time.time()\r\n",
        "prod = calcProd()\r\n",
        "endTime = time.time()\r\n",
        "print('The result is %s digits long.' % (len(str(prod))))\r\n",
        "print('Took %s seconds to calculate.' % (endTime - startTime))"
      ],
      "execution_count": null,
      "outputs": [
        {
          "output_type": "stream",
          "text": [
            "The result is 456569 digits long.\n",
            "Took 2.726442813873291 seconds to calculate.\n"
          ],
          "name": "stdout"
        }
      ]
    },
    {
      "cell_type": "markdown",
      "metadata": {
        "id": "9kNldaFqWqj8"
      },
      "source": [
        "##The time.sleep() Function \r\n",
        "If you need to pause your program for a while, call the `time.sleep()` function and pass it the number of seconds you want your program to stay paused."
      ]
    },
    {
      "cell_type": "code",
      "metadata": {
        "colab": {
          "base_uri": "https://localhost:8080/"
        },
        "id": "jWmhBpg2U6y4",
        "outputId": "3d266f6f-a875-46bc-e929-9aa062030b89"
      },
      "source": [
        "import time\r\n",
        "for i in range(3):\r\n",
        "  print('Tick')\r\n",
        "  time.sleep(1)\r\n",
        "  print('Tock')\r\n",
        "  time.sleep(1)\r\n"
      ],
      "execution_count": null,
      "outputs": [
        {
          "output_type": "stream",
          "text": [
            "Tick\n",
            "Tock\n",
            "Tick\n",
            "Tock\n",
            "Tick\n",
            "Tock\n"
          ],
          "name": "stdout"
        }
      ]
    },
    {
      "cell_type": "code",
      "metadata": {
        "id": "84okim3gW43_"
      },
      "source": [
        "time.sleep(5)"
      ],
      "execution_count": null,
      "outputs": []
    },
    {
      "cell_type": "markdown",
      "metadata": {
        "id": "IgHhg9CgXBBy"
      },
      "source": [
        "The `time.sleep()` function will block —that is, it will not return and release your program to execute other code—until after the number of seconds you passed to `time.sleep()` has elapsed.\r\n",
        "\r\n",
        "Be aware that pressing CTRL -C will not interrupt `time.sleep()` calls in IDLE. IDLE waits until the entire pause is over before raising the KeyboardInterrupt exception. To work around this problem, instead of having a single `time.sleep(30) `call to pause for 30 seconds, use a for loop to make 30 calls to `time.sleep(1)`"
      ]
    },
    {
      "cell_type": "code",
      "metadata": {
        "colab": {
          "base_uri": "https://localhost:8080/",
          "height": 180
        },
        "id": "u8OvW16jXAB-",
        "outputId": "efe35e8f-22c1-4c4b-c024-5c4960175461"
      },
      "source": [
        "for i in range(30):\r\n",
        "  time.sleep(1)"
      ],
      "execution_count": null,
      "outputs": [
        {
          "output_type": "error",
          "ename": "KeyboardInterrupt",
          "evalue": "ignored",
          "traceback": [
            "\u001b[0;31m---------------------------------------------------------------------------\u001b[0m",
            "\u001b[0;31mKeyboardInterrupt\u001b[0m                         Traceback (most recent call last)",
            "\u001b[0;32m<ipython-input-10-082a9991a74d>\u001b[0m in \u001b[0;36m<module>\u001b[0;34m()\u001b[0m\n\u001b[1;32m      1\u001b[0m \u001b[0;32mfor\u001b[0m \u001b[0mi\u001b[0m \u001b[0;32min\u001b[0m \u001b[0mrange\u001b[0m\u001b[0;34m(\u001b[0m\u001b[0;36m30\u001b[0m\u001b[0;34m)\u001b[0m\u001b[0;34m:\u001b[0m\u001b[0;34m\u001b[0m\u001b[0;34m\u001b[0m\u001b[0m\n\u001b[0;32m----> 2\u001b[0;31m   \u001b[0mtime\u001b[0m\u001b[0;34m.\u001b[0m\u001b[0msleep\u001b[0m\u001b[0;34m(\u001b[0m\u001b[0;36m1\u001b[0m\u001b[0;34m)\u001b[0m\u001b[0;34m\u001b[0m\u001b[0;34m\u001b[0m\u001b[0m\n\u001b[0m",
            "\u001b[0;31mKeyboardInterrupt\u001b[0m: "
          ]
        }
      ]
    },
    {
      "cell_type": "markdown",
      "metadata": {
        "id": "FymooTSAXXuv"
      },
      "source": [
        "If you press CTRL -C sometime during these 30 seconds, you should see the KeyboardInterrupt exception thrown right away."
      ]
    },
    {
      "cell_type": "markdown",
      "metadata": {
        "id": "ximAFXmAXmQX"
      },
      "source": [
        "# Rounding Numbers\r\n",
        "When working with times, you’ll often encounter float values with many digits after the decimal. To make these values easier to work with, you can shorten them with Python’s built-in `round()` function, which rounds a float to the precision you specify. Just pass in the number you want to round, plus an optional second argument representing how many digits after the decimal point you want to round it to. If you omit the second argument, `round()` rounds your number to the nearest whole integer."
      ]
    },
    {
      "cell_type": "code",
      "metadata": {
        "colab": {
          "base_uri": "https://localhost:8080/"
        },
        "id": "OlhgFFzyXUYt",
        "outputId": "d3f1e1f0-229b-4893-b271-9d54d85565bb"
      },
      "source": [
        "import time\r\n",
        "now = time.time()\r\n",
        "now"
      ],
      "execution_count": null,
      "outputs": [
        {
          "output_type": "execute_result",
          "data": {
            "text/plain": [
              "1614058327.3336103"
            ]
          },
          "metadata": {
            "tags": []
          },
          "execution_count": 11
        }
      ]
    },
    {
      "cell_type": "code",
      "metadata": {
        "colab": {
          "base_uri": "https://localhost:8080/"
        },
        "id": "1iIvgR61X482",
        "outputId": "1e613a3e-9968-4c4e-d947-45da155d5d8b"
      },
      "source": [
        "round(now, 4)"
      ],
      "execution_count": null,
      "outputs": [
        {
          "output_type": "execute_result",
          "data": {
            "text/plain": [
              "1614058327.3336"
            ]
          },
          "metadata": {
            "tags": []
          },
          "execution_count": 14
        }
      ]
    },
    {
      "cell_type": "code",
      "metadata": {
        "colab": {
          "base_uri": "https://localhost:8080/"
        },
        "id": "R5g4zZpaX7q9",
        "outputId": "ae55cadd-837a-4089-ae60-7c3ace877186"
      },
      "source": [
        "round(now)"
      ],
      "execution_count": null,
      "outputs": [
        {
          "output_type": "execute_result",
          "data": {
            "text/plain": [
              "1614058327"
            ]
          },
          "metadata": {
            "tags": []
          },
          "execution_count": 15
        }
      ]
    },
    {
      "cell_type": "markdown",
      "metadata": {
        "id": "iM4Pmhcxdpak"
      },
      "source": [
        "# The datetime Module\r\n",
        "The time module is useful for getting a Unix epoch timestamp to work with. But if you want to display a date in a more convenient format, or do arithmetic with dates (for example, figuring out what date was 205 days ago or what date is 123 days from now), you should use the datetime module.\r\n",
        "\r\n",
        "The `datetime` module has its own `datetime` data type. datetime values represent a specific moment in time."
      ]
    },
    {
      "cell_type": "code",
      "metadata": {
        "id": "p4hG8MwgX_n_"
      },
      "source": [
        "import datetime"
      ],
      "execution_count": null,
      "outputs": []
    },
    {
      "cell_type": "code",
      "metadata": {
        "colab": {
          "base_uri": "https://localhost:8080/"
        },
        "id": "whvolyMLdtRa",
        "outputId": "ae01ed20-7515-4f0a-efaf-1f8b3edd34ad"
      },
      "source": [
        "datetime.datetime.now()"
      ],
      "execution_count": null,
      "outputs": [
        {
          "output_type": "execute_result",
          "data": {
            "text/plain": [
              "datetime.datetime(2021, 2, 24, 5, 15, 55, 644137)"
            ]
          },
          "metadata": {
            "tags": []
          },
          "execution_count": 2
        }
      ]
    },
    {
      "cell_type": "code",
      "metadata": {
        "id": "M6k5R6b0dxcF"
      },
      "source": [
        "dt = datetime.datetime(2021,2,23,23,17,0)"
      ],
      "execution_count": null,
      "outputs": []
    },
    {
      "cell_type": "code",
      "metadata": {
        "colab": {
          "base_uri": "https://localhost:8080/"
        },
        "id": "M4m8vMiCd8J5",
        "outputId": "4f1a4976-4f5c-4b80-b28a-4cabf9b9f4bf"
      },
      "source": [
        "dt.year, dt.month, dt.day"
      ],
      "execution_count": null,
      "outputs": [
        {
          "output_type": "execute_result",
          "data": {
            "text/plain": [
              "(2021, 2, 23)"
            ]
          },
          "metadata": {
            "tags": []
          },
          "execution_count": 5
        }
      ]
    },
    {
      "cell_type": "code",
      "metadata": {
        "colab": {
          "base_uri": "https://localhost:8080/"
        },
        "id": "8QmskB_-eEGY",
        "outputId": "07139703-3851-4e77-8f96-527c49e6d298"
      },
      "source": [
        "dt.hour, dt.minute, dt.second"
      ],
      "execution_count": null,
      "outputs": [
        {
          "output_type": "execute_result",
          "data": {
            "text/plain": [
              "(23, 17, 0)"
            ]
          },
          "metadata": {
            "tags": []
          },
          "execution_count": 6
        }
      ]
    },
    {
      "cell_type": "markdown",
      "metadata": {
        "id": "KF7yzOkueMrl"
      },
      "source": [
        "A Unix epoch timestamp can be converted to a `datetime` object with `datetime.datetime.fromtimestamp()` function. The date and time of the datetime object will be converted for the local time zone."
      ]
    },
    {
      "cell_type": "code",
      "metadata": {
        "colab": {
          "base_uri": "https://localhost:8080/"
        },
        "id": "yqJP6AiIeIR7",
        "outputId": "958147a5-0779-445b-c276-54afe970de51"
      },
      "source": [
        "datetime.datetime.fromtimestamp(1000000)"
      ],
      "execution_count": null,
      "outputs": [
        {
          "output_type": "execute_result",
          "data": {
            "text/plain": [
              "datetime.datetime(1970, 1, 12, 13, 46, 40)"
            ]
          },
          "metadata": {
            "tags": []
          },
          "execution_count": 7
        }
      ]
    },
    {
      "cell_type": "code",
      "metadata": {
        "colab": {
          "base_uri": "https://localhost:8080/"
        },
        "id": "SJMXmk1mez2C",
        "outputId": "c17ac1a9-7492-445e-b0de-ca637300cf74"
      },
      "source": [
        "import time\r\n",
        "datetime.datetime.fromtimestamp(time.time())"
      ],
      "execution_count": null,
      "outputs": [
        {
          "output_type": "execute_result",
          "data": {
            "text/plain": [
              "datetime.datetime(2021, 2, 24, 5, 21, 7, 911720)"
            ]
          },
          "metadata": {
            "tags": []
          },
          "execution_count": 9
        }
      ]
    },
    {
      "cell_type": "markdown",
      "metadata": {
        "id": "kyO67bx6fNwd"
      },
      "source": [
        "`datetime` objects can be compared with each other using comparison operators to find `datetime` object is the “greater” value."
      ]
    },
    {
      "cell_type": "code",
      "metadata": {
        "id": "S6syTksxe7Gx"
      },
      "source": [
        "halloween2015 = datetime.datetime(2015,10,31,0,0,0)"
      ],
      "execution_count": null,
      "outputs": []
    },
    {
      "cell_type": "code",
      "metadata": {
        "id": "AASIUDNzfktZ"
      },
      "source": [
        "newyear2016 = datetime.datetime(2016,1,1,0,0,0)"
      ],
      "execution_count": null,
      "outputs": []
    },
    {
      "cell_type": "code",
      "metadata": {
        "id": "3r8OdtK6fphj"
      },
      "source": [
        "oct31_2015 = datetime.datetime(2015,10,31,0,0,0)"
      ],
      "execution_count": null,
      "outputs": []
    },
    {
      "cell_type": "code",
      "metadata": {
        "colab": {
          "base_uri": "https://localhost:8080/"
        },
        "id": "5XJaQhUhfw_S",
        "outputId": "456eba91-7f16-4d1e-e09f-2ac9a83a4271"
      },
      "source": [
        "halloween2015 > newyear2016"
      ],
      "execution_count": null,
      "outputs": [
        {
          "output_type": "execute_result",
          "data": {
            "text/plain": [
              "False"
            ]
          },
          "metadata": {
            "tags": []
          },
          "execution_count": 13
        }
      ]
    },
    {
      "cell_type": "code",
      "metadata": {
        "colab": {
          "base_uri": "https://localhost:8080/"
        },
        "id": "9UDfXdsaf0ar",
        "outputId": "a2f2cc0e-51f6-4e06-c7a2-35e2d541b153"
      },
      "source": [
        "newyear2016 > halloween2015"
      ],
      "execution_count": null,
      "outputs": [
        {
          "output_type": "execute_result",
          "data": {
            "text/plain": [
              "True"
            ]
          },
          "metadata": {
            "tags": []
          },
          "execution_count": 14
        }
      ]
    },
    {
      "cell_type": "code",
      "metadata": {
        "colab": {
          "base_uri": "https://localhost:8080/"
        },
        "id": "Xa26nGunf3Xh",
        "outputId": "1ef7aabd-5f88-4e8c-98de-5f90b9dbd8de"
      },
      "source": [
        "halloween2015 == oct31_2015"
      ],
      "execution_count": null,
      "outputs": [
        {
          "output_type": "execute_result",
          "data": {
            "text/plain": [
              "True"
            ]
          },
          "metadata": {
            "tags": []
          },
          "execution_count": 15
        }
      ]
    },
    {
      "cell_type": "code",
      "metadata": {
        "colab": {
          "base_uri": "https://localhost:8080/"
        },
        "id": "UeAw4JQlf6d4",
        "outputId": "588e0367-dc82-4b96-f9bf-59ff47804a10"
      },
      "source": [
        "newyear2016 != oct31_2015"
      ],
      "execution_count": null,
      "outputs": [
        {
          "output_type": "execute_result",
          "data": {
            "text/plain": [
              "True"
            ]
          },
          "metadata": {
            "tags": []
          },
          "execution_count": 16
        }
      ]
    },
    {
      "cell_type": "markdown",
      "metadata": {
        "id": "DMv4rEgkgGJ6"
      },
      "source": [
        "# The timedelta Data Type\r\n",
        "The `datetime` module also provides a `timedelta` data type, which represents a duration of time rather than a moment in time."
      ]
    },
    {
      "cell_type": "code",
      "metadata": {
        "id": "fasBSAxDf9_o"
      },
      "source": [
        "delta = datetime.timedelta(days=11, hours=10, minutes=9, seconds=8)"
      ],
      "execution_count": null,
      "outputs": []
    },
    {
      "cell_type": "code",
      "metadata": {
        "colab": {
          "base_uri": "https://localhost:8080/"
        },
        "id": "0ir7cOtdgsTz",
        "outputId": "c523d513-1ad2-4574-e72b-1a6c3af27331"
      },
      "source": [
        "delta.days, delta.seconds, delta.microseconds"
      ],
      "execution_count": null,
      "outputs": [
        {
          "output_type": "execute_result",
          "data": {
            "text/plain": [
              "(11, 36548, 0)"
            ]
          },
          "metadata": {
            "tags": []
          },
          "execution_count": 18
        }
      ]
    },
    {
      "cell_type": "code",
      "metadata": {
        "colab": {
          "base_uri": "https://localhost:8080/"
        },
        "id": "26mZR_y9gxRz",
        "outputId": "cdceff7f-2dfa-4181-c8b3-28d3ece7e6c8"
      },
      "source": [
        "delta.total_seconds()"
      ],
      "execution_count": null,
      "outputs": [
        {
          "output_type": "execute_result",
          "data": {
            "text/plain": [
              "986948.0"
            ]
          },
          "metadata": {
            "tags": []
          },
          "execution_count": 19
        }
      ]
    },
    {
      "cell_type": "code",
      "metadata": {
        "colab": {
          "base_uri": "https://localhost:8080/",
          "height": 35
        },
        "id": "24a6crFqg6Ky",
        "outputId": "ba98537b-5a70-4b8a-9173-3bae847fa2b6"
      },
      "source": [
        "str(delta) # nicely formatted, human-readable string representation of the object."
      ],
      "execution_count": null,
      "outputs": [
        {
          "output_type": "execute_result",
          "data": {
            "application/vnd.google.colaboratory.intrinsic+json": {
              "type": "string"
            },
            "text/plain": [
              "'11 days, 10:09:08'"
            ]
          },
          "metadata": {
            "tags": []
          },
          "execution_count": 21
        }
      ]
    },
    {
      "cell_type": "markdown",
      "metadata": {
        "id": "g1nUu9OihRO_"
      },
      "source": [
        "A `timedelta` object has the total duration represented in days, seconds, and microseconds. These numbers are stored in the days , seconds , and microseconds attributes, respectively.\r\n",
        "\r\n",
        "The arithmetic operators can be used to perform date arithmetic on datetime values."
      ]
    },
    {
      "cell_type": "code",
      "metadata": {
        "colab": {
          "base_uri": "https://localhost:8080/"
        },
        "id": "etFSWl50g7qw",
        "outputId": "22fd48c9-ac39-4e9c-cfc1-05a659d2f422"
      },
      "source": [
        "dt = datetime.datetime.now()\r\n",
        "dt"
      ],
      "execution_count": null,
      "outputs": [
        {
          "output_type": "execute_result",
          "data": {
            "text/plain": [
              "datetime.datetime(2021, 2, 24, 5, 33, 25, 288751)"
            ]
          },
          "metadata": {
            "tags": []
          },
          "execution_count": 22
        }
      ]
    },
    {
      "cell_type": "code",
      "metadata": {
        "id": "I6KJt-OThxuL"
      },
      "source": [
        "thousandDays = datetime.timedelta(days=1000)"
      ],
      "execution_count": null,
      "outputs": []
    },
    {
      "cell_type": "code",
      "metadata": {
        "colab": {
          "base_uri": "https://localhost:8080/"
        },
        "id": "AYvFWWjjh3aZ",
        "outputId": "1740dcd7-dd5f-429b-92bc-27cb942cfcda"
      },
      "source": [
        "dt + thousandDays"
      ],
      "execution_count": null,
      "outputs": [
        {
          "output_type": "execute_result",
          "data": {
            "text/plain": [
              "datetime.datetime(2023, 11, 21, 5, 33, 25, 288751)"
            ]
          },
          "metadata": {
            "tags": []
          },
          "execution_count": 24
        }
      ]
    },
    {
      "cell_type": "markdown",
      "metadata": {
        "id": "LmDaV_5hh_8c"
      },
      "source": [
        "`timedelta` objects can be added or subtracted with `datetime` objects or other `timedelta` objects using the + and - operators. A `timedelta` object can be multiplied or divided by integer or float values with the * and / operators."
      ]
    },
    {
      "cell_type": "code",
      "metadata": {
        "id": "vAc56Fckh43G"
      },
      "source": [
        "oct21st = datetime.datetime(2015, 10, 21, 16, 29,0)"
      ],
      "execution_count": null,
      "outputs": []
    },
    {
      "cell_type": "code",
      "metadata": {
        "id": "ghOEKYNyiV8y"
      },
      "source": [
        "aboutThirtyYears = datetime.timedelta(days=365*30)"
      ],
      "execution_count": null,
      "outputs": []
    },
    {
      "cell_type": "code",
      "metadata": {
        "colab": {
          "base_uri": "https://localhost:8080/"
        },
        "id": "hP8nqEZlimSh",
        "outputId": "4b69cddd-4962-470f-f9fb-93ae9698d6bf"
      },
      "source": [
        "oct21st"
      ],
      "execution_count": null,
      "outputs": [
        {
          "output_type": "execute_result",
          "data": {
            "text/plain": [
              "datetime.datetime(2015, 10, 21, 16, 29)"
            ]
          },
          "metadata": {
            "tags": []
          },
          "execution_count": 33
        }
      ]
    },
    {
      "cell_type": "code",
      "metadata": {
        "colab": {
          "base_uri": "https://localhost:8080/"
        },
        "id": "v9EDPUNaink4",
        "outputId": "e65b7fcf-85c3-477b-c36f-b4d4d44403b1"
      },
      "source": [
        "oct21st - aboutThirtyYears"
      ],
      "execution_count": null,
      "outputs": [
        {
          "output_type": "execute_result",
          "data": {
            "text/plain": [
              "datetime.datetime(1985, 10, 28, 16, 29)"
            ]
          },
          "metadata": {
            "tags": []
          },
          "execution_count": 34
        }
      ]
    },
    {
      "cell_type": "code",
      "metadata": {
        "colab": {
          "base_uri": "https://localhost:8080/"
        },
        "id": "Ccbi8s63ip74",
        "outputId": "588f4e7d-b3f0-4efb-aa26-08493f65463b"
      },
      "source": [
        "oct21st - (2 * aboutThirtyYears)"
      ],
      "execution_count": null,
      "outputs": [
        {
          "output_type": "execute_result",
          "data": {
            "text/plain": [
              "datetime.datetime(1955, 11, 5, 16, 29)"
            ]
          },
          "metadata": {
            "tags": []
          },
          "execution_count": 35
        }
      ]
    },
    {
      "cell_type": "markdown",
      "metadata": {
        "id": "uiDKnzWnjGSX"
      },
      "source": [
        "# Pausing Until a Specific Date\r\n",
        "The `time.sleep()` method lets you pause a program for a certain number of seconds. By using a `while` loop, you can pause your programs until a specific date.\r\n"
      ]
    },
    {
      "cell_type": "code",
      "metadata": {
        "colab": {
          "base_uri": "https://localhost:8080/",
          "height": 197
        },
        "id": "8tB6jl8_i5lk",
        "outputId": "9c4747ca-b6ae-48d6-8707-f717e07e7a50"
      },
      "source": [
        "import datetime\r\n",
        "import time\r\n",
        "\r\n",
        "futureDate = datetime.datetime(2021, 2, 24, 23, 43, 0)\r\n",
        "\r\n",
        "while datetime.datetime.now() < futureDate:\r\n",
        "  time.sleep(1)"
      ],
      "execution_count": null,
      "outputs": [
        {
          "output_type": "error",
          "ename": "KeyboardInterrupt",
          "evalue": "ignored",
          "traceback": [
            "\u001b[0;31m---------------------------------------------------------------------------\u001b[0m",
            "\u001b[0;31mKeyboardInterrupt\u001b[0m                         Traceback (most recent call last)",
            "\u001b[0;32m<ipython-input-38-02dde5c39531>\u001b[0m in \u001b[0;36m<module>\u001b[0;34m()\u001b[0m\n\u001b[1;32m      5\u001b[0m \u001b[0;34m\u001b[0m\u001b[0m\n\u001b[1;32m      6\u001b[0m \u001b[0;32mwhile\u001b[0m \u001b[0mdatetime\u001b[0m\u001b[0;34m.\u001b[0m\u001b[0mdatetime\u001b[0m\u001b[0;34m.\u001b[0m\u001b[0mnow\u001b[0m\u001b[0;34m(\u001b[0m\u001b[0;34m)\u001b[0m \u001b[0;34m<\u001b[0m \u001b[0mfutureDate\u001b[0m\u001b[0;34m:\u001b[0m\u001b[0;34m\u001b[0m\u001b[0;34m\u001b[0m\u001b[0m\n\u001b[0;32m----> 7\u001b[0;31m   \u001b[0mtime\u001b[0m\u001b[0;34m.\u001b[0m\u001b[0msleep\u001b[0m\u001b[0;34m(\u001b[0m\u001b[0;36m1\u001b[0m\u001b[0;34m)\u001b[0m\u001b[0;34m\u001b[0m\u001b[0;34m\u001b[0m\u001b[0m\n\u001b[0m",
            "\u001b[0;31mKeyboardInterrupt\u001b[0m: "
          ]
        }
      ]
    },
    {
      "cell_type": "markdown",
      "metadata": {
        "id": "-dyETabnkCCF"
      },
      "source": [
        "# Converting datetime Objects into Strings\r\n",
        "Epoch timestamps and `datetime` objects aren’t very friendly to the human eye. Use the `strftime()` method to display a datetime object as a string. (The *f* in the name of the `strftime()` function stands for format.) \r\n",
        "\r\n",
        "`The strftime()` method uses directives similar to Python’s string formatting."
      ]
    },
    {
      "cell_type": "markdown",
      "metadata": {
        "id": "zqOunVRhkcON"
      },
      "source": [
        "Table 15-1. strftime() Directives\r\n",
        "\r\n",
        "|strftime directive | Meaning |\r\n",
        "|-------------------|---------|\r\n",
        "| %Y | Year with century, as in '2014' |\r\n",
        "| %y | Year without century, '00' to '99' (1970 to 2069) |\r\n",
        "| %m | Month as a decimal number, '01' to '12' |\r\n",
        "| %B | Full month name, as in 'November' |\r\n",
        "| %b | Abbreviated month name, as in 'Nov' |\r\n",
        "| %d | Day of the month, '01' to '31' |\r\n",
        "| %j | Day of the year, '001' to '366' |\r\n",
        "| %w | Day of the week, '0' (Sunday) to '6' (Saturday) |\r\n",
        "| %A | Full weekday name, as in 'Monday' |\r\n",
        "| %a | Abbreviated weekday name, as in 'Mon' |\r\n",
        "| %H | Hour (24-hour clock), '00' to '23' |\r\n",
        "| %I | Hour (12-hour clock), '01' to '12' |\r\n",
        "| %M | Minute, '00' to '59' |\r\n",
        "| %S | Second, '00' to '59' |\r\n",
        "| %p | 'AM' or 'PM' |\r\n",
        "| %% | Literal '%' character |\r\n",
        "\r\n",
        "Pass `strrftime()` a custom format string containing formatting directives (along with any desired slashes, colons, and so on), and `strftime()` will return the datetime object’s information as a formatted string."
      ]
    },
    {
      "cell_type": "code",
      "metadata": {
        "id": "F8d4RWqfjwiv"
      },
      "source": [
        "oct21st = datetime.datetime(2015,10,21,16,29,0)"
      ],
      "execution_count": null,
      "outputs": []
    },
    {
      "cell_type": "code",
      "metadata": {
        "id": "x08OXeS1l6ya",
        "colab": {
          "base_uri": "https://localhost:8080/",
          "height": 35
        },
        "outputId": "0122305d-9c05-4e07-c54e-c8292f19a163"
      },
      "source": [
        "oct21st.strftime('%Y/%m/%d %H:%M:%S')"
      ],
      "execution_count": null,
      "outputs": [
        {
          "output_type": "execute_result",
          "data": {
            "application/vnd.google.colaboratory.intrinsic+json": {
              "type": "string"
            },
            "text/plain": [
              "'2015/10/21 16:29:00'"
            ]
          },
          "metadata": {
            "tags": []
          },
          "execution_count": 41
        }
      ]
    },
    {
      "cell_type": "code",
      "metadata": {
        "id": "pSKlidS5mEKI",
        "colab": {
          "base_uri": "https://localhost:8080/",
          "height": 35
        },
        "outputId": "431d9725-b59d-46c1-dc80-04d48a5ddff0"
      },
      "source": [
        "oct21st.strftime('%I:%M %p')"
      ],
      "execution_count": null,
      "outputs": [
        {
          "output_type": "execute_result",
          "data": {
            "application/vnd.google.colaboratory.intrinsic+json": {
              "type": "string"
            },
            "text/plain": [
              "'04:29 PM'"
            ]
          },
          "metadata": {
            "tags": []
          },
          "execution_count": 42
        }
      ]
    },
    {
      "cell_type": "code",
      "metadata": {
        "id": "6gRXjH9CmJTJ",
        "colab": {
          "base_uri": "https://localhost:8080/",
          "height": 35
        },
        "outputId": "d1eb4371-da82-4e2f-dc3e-48ad622c74a2"
      },
      "source": [
        "oct21st.strftime(\"%B of '%y\")"
      ],
      "execution_count": null,
      "outputs": [
        {
          "output_type": "execute_result",
          "data": {
            "application/vnd.google.colaboratory.intrinsic+json": {
              "type": "string"
            },
            "text/plain": [
              "\"October of '15\""
            ]
          },
          "metadata": {
            "tags": []
          },
          "execution_count": 43
        }
      ]
    },
    {
      "cell_type": "markdown",
      "metadata": {
        "id": "fhW8KnnilHG2"
      },
      "source": [
        "# Converting Strings into datetime Objects\r\n",
        "The `strptime()` function is the inverse of the `strftime()` method. A custom format string using the same directives as `strftime()` must be passed so that `strptime()` knows how to parse and understand the string. (The p in the name of the `strptime()` function stands for parse.)"
      ]
    },
    {
      "cell_type": "code",
      "metadata": {
        "id": "kkEVmBeolJdU"
      },
      "source": [
        "import datetime"
      ],
      "execution_count": null,
      "outputs": []
    },
    {
      "cell_type": "code",
      "metadata": {
        "colab": {
          "base_uri": "https://localhost:8080/"
        },
        "id": "hfMHVkNOlKst",
        "outputId": "374f323d-34cd-4ed7-f8a0-a52c1c54c63f"
      },
      "source": [
        "datetime.datetime.strptime('October 21, 2015', '%B %d, %Y')"
      ],
      "execution_count": null,
      "outputs": [
        {
          "output_type": "execute_result",
          "data": {
            "text/plain": [
              "datetime.datetime(2015, 10, 21, 0, 0)"
            ]
          },
          "metadata": {
            "tags": []
          },
          "execution_count": 2
        }
      ]
    },
    {
      "cell_type": "code",
      "metadata": {
        "colab": {
          "base_uri": "https://localhost:8080/"
        },
        "id": "pQNuQbzblYRM",
        "outputId": "3cc48262-fa52-4fe0-c5b7-96873adbc684"
      },
      "source": [
        "datetime.datetime.strptime('2015/10/21 16:29:00', '%Y/%m/%d %H:%M:%S')"
      ],
      "execution_count": null,
      "outputs": [
        {
          "output_type": "execute_result",
          "data": {
            "text/plain": [
              "datetime.datetime(2015, 10, 21, 16, 29)"
            ]
          },
          "metadata": {
            "tags": []
          },
          "execution_count": 4
        }
      ]
    },
    {
      "cell_type": "code",
      "metadata": {
        "colab": {
          "base_uri": "https://localhost:8080/"
        },
        "id": "eJWCD4yTlqOv",
        "outputId": "9d2e36a9-b39c-4208-9b67-c9a2fc5457ed"
      },
      "source": [
        "datetime.datetime.strptime(\"October of '15\", \"%B of '%y\")"
      ],
      "execution_count": null,
      "outputs": [
        {
          "output_type": "execute_result",
          "data": {
            "text/plain": [
              "datetime.datetime(2015, 10, 1, 0, 0)"
            ]
          },
          "metadata": {
            "tags": []
          },
          "execution_count": 5
        }
      ]
    },
    {
      "cell_type": "code",
      "metadata": {
        "colab": {
          "base_uri": "https://localhost:8080/"
        },
        "id": "ILayjowbmFBU",
        "outputId": "1bac9763-007b-403f-be37-c60c22a37935"
      },
      "source": [
        "datetime.datetime.strptime(\"NOvember of '63\", \"%B of '%y\")"
      ],
      "execution_count": null,
      "outputs": [
        {
          "output_type": "execute_result",
          "data": {
            "text/plain": [
              "datetime.datetime(2063, 11, 1, 0, 0)"
            ]
          },
          "metadata": {
            "tags": []
          },
          "execution_count": 6
        }
      ]
    },
    {
      "cell_type": "markdown",
      "metadata": {
        "id": "DjlPRbfKnSA5"
      },
      "source": [
        "# Multithreading\r\n",
        "A single-threaded program has only one finger. But a multithreaded program has multiple fingers. Each finger still moves to the next line of code as defined by the flow control statements, but the fingers can be at different places in the program, executing different lines of code at the same time.\r\n",
        "\r\n",
        "To make a separate thread, you first need to make a `Thread` object by calling the `threading.Thread()` function."
      ]
    },
    {
      "cell_type": "code",
      "metadata": {
        "colab": {
          "base_uri": "https://localhost:8080/"
        },
        "id": "hCetFSrkmQ1c",
        "outputId": "b3eb3fc4-15d1-4878-aee1-7990cfac1c6d"
      },
      "source": [
        "import threading, time\r\n",
        "print('Start of program')\r\n",
        "\r\n",
        "def takeANap():\r\n",
        "  time.sleep(5)\r\n",
        "  print('Wake up!')\r\n",
        "\r\n",
        "threadObj = threading.Thread(target=takeANap)\r\n",
        "threadObj.start()\r\n",
        "\r\n",
        "print('End of program.')"
      ],
      "execution_count": null,
      "outputs": [
        {
          "output_type": "stream",
          "text": [
            "Start of program\n",
            "End of program.\n"
          ],
          "name": "stdout"
        }
      ]
    },
    {
      "cell_type": "markdown",
      "metadata": {
        "id": "lR_NA8__pTEn"
      },
      "source": [
        "## Passing Arguments to the Thread's Target Function\r\n",
        "If the target function you want to run in the new thread takes arguments, you can pass the target function’s arguments to `threading.Thread()`."
      ]
    },
    {
      "cell_type": "code",
      "metadata": {
        "colab": {
          "base_uri": "https://localhost:8080/"
        },
        "id": "RfjMaDfSoP3e",
        "outputId": "f477e19c-16d1-40df-efe8-769afeecf020"
      },
      "source": [
        "print('Cats','Dogs','Frogs', sep=' & ')"
      ],
      "execution_count": null,
      "outputs": [
        {
          "output_type": "stream",
          "text": [
            "Cats & Dogs & Frogs\n"
          ],
          "name": "stdout"
        }
      ]
    },
    {
      "cell_type": "markdown",
      "metadata": {
        "id": "BVK7sqfPpqv6"
      },
      "source": [
        "The regular arguments can be passed as a list to the `args` keyword argument in `threading.Thread()`. The keyword argument can be specified as a dictionary to the `kwargs` keyword argument in `threading.Thread()`"
      ]
    },
    {
      "cell_type": "code",
      "metadata": {
        "id": "gnRwYvNDpjjF",
        "colab": {
          "base_uri": "https://localhost:8080/"
        },
        "outputId": "59ab241c-8d3c-4b28-8bb7-9e6c3da17851"
      },
      "source": [
        "import threading\r\n",
        "threadObj = threading.Thread(target=print, args=['Cats','Dogs','Frogs'], kwargs={'sep': ' & '})\r\n",
        "threadObj.start()"
      ],
      "execution_count": null,
      "outputs": [
        {
          "output_type": "stream",
          "text": [
            "Cats & Dogs & Frogs\n"
          ],
          "name": "stdout"
        }
      ]
    },
    {
      "cell_type": "markdown",
      "metadata": {
        "id": "2RHniAV7poi0"
      },
      "source": [
        "# Launching other programs from Python\r\n",
        "Your Python program can start other programs on your computer with the `Popen()` function in the built-in subprocess module. (The P in the name of the `Popen()` function stands for process.) If you have multiple instances of an application open, each of those instances is a separate process of the same program.\r\n",
        "\r\n",
        "If you want to start an external program from your Python script, pass the program’s filename to `subprocess.Popen()` \r\n",
        "\r\n",
        "The Popen() function will then immediately return. Keep in mind that the launched program is not run in the same thread as your Python program."
      ]
    },
    {
      "cell_type": "code",
      "metadata": {
        "id": "J84fSBwNpqo0"
      },
      "source": [
        "# On Windows\r\n",
        "import subprocess\r\n",
        "subprocess.Popen('C:\\\\Windows\\\\System32\\\\calc.exe')"
      ],
      "execution_count": 1,
      "outputs": []
    },
    {
      "cell_type": "code",
      "metadata": {
        "id": "fKxwwhL6psPq"
      },
      "source": [
        "# On Ubuntu Linux\r\n",
        "import subprocess\r\n",
        "subprocess.Popen('/usr/bin/gnome-calculator')"
      ],
      "execution_count": null,
      "outputs": []
    },
    {
      "cell_type": "markdown",
      "metadata": {
        "id": "-vWv5Juxr6P7"
      },
      "source": [
        "The return value is a Popen object, which has two useful methods: `poll() `and `wait()` . You can think of the `poll()` method as asking your friend if she’s finished running the code you gave her. The `poll()` method will return None if the process is still running at the time `poll()` is called. If the program has terminated, it will return the process’s integer exit code . An exit code is used to indicate whether the process terminated without errors (an exit code of 0 ) or whether an error caused the process to terminate (a nonzero exit code—generally 1 , but it may vary depending on the program).\r\n",
        "\r\n",
        "The `wait()` method is like waiting for your friend to finish working on her code before you keep working on yours. The `wait()` method will block until the launched process has terminated. This is helpful if you want your program to pause until the user finishes with the other program. The return value of `wait() `is the process’s integer exit code."
      ]
    },
    {
      "cell_type": "code",
      "metadata": {
        "id": "aFvT3RsaqPD8"
      },
      "source": [
        "# On Windows\r\n",
        "calcProc = subprocess.Popen('C:\\\\Windows\\\\System32\\\\calc.exe')\r\n",
        "\r\n",
        "calcProc.poll() == None\r\n",
        "\r\n",
        "calcProc.wait()\r\n",
        "\r\n",
        "calcProc.poll()"
      ],
      "execution_count": null,
      "outputs": []
    },
    {
      "cell_type": "markdown",
      "metadata": {
        "id": "nWGn8rbNtqmC"
      },
      "source": [
        "## Passing Command Line Arguments to Popen()\r\n",
        "\r\n",
        "You can pass command line arguments to processes you create with `Popen()`. To do so, you pass a list as the sole argument to `Popen()` . The first string in this list will be the executable filename of the program you want to launch; all the subsequent strings will be the command line arguments to pass to the program when it starts. In effect, this list will be the value of sys.argv for the launched program."
      ]
    },
    {
      "cell_type": "code",
      "metadata": {
        "id": "579UKCQpuWFd"
      },
      "source": [
        "# Assuming a file called hello.txt is created\r\n",
        "subprocess.Popen(['C:\\\\Windows\\\\notepad.exe','C:\\\\hello.txt'])"
      ],
      "execution_count": null,
      "outputs": []
    }
  ]
}